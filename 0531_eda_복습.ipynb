{
  "nbformat": 4,
  "nbformat_minor": 0,
  "metadata": {
    "colab": {
      "provenance": []
    },
    "kernelspec": {
      "name": "python3",
      "display_name": "Python 3"
    },
    "language_info": {
      "name": "python"
    }
  },
  "cells": [
    {
      "cell_type": "code",
      "execution_count": 1,
      "metadata": {
        "colab": {
          "base_uri": "https://localhost:8080/"
        },
        "id": "ZeySHiHnwBZk",
        "outputId": "eb8a712b-be2e-45ae-b7de-26544dbaabd2"
      },
      "outputs": [
        {
          "output_type": "stream",
          "name": "stdout",
          "text": [
            "Looking in indexes: https://pypi.org/simple, https://us-python.pkg.dev/colab-wheels/public/simple/\n",
            "Collecting koreanize-matplotlib\n",
            "  Downloading koreanize_matplotlib-0.1.1-py3-none-any.whl (7.9 MB)\n",
            "\u001b[2K     \u001b[90m━━━━━━━━━━━━━━━━━━━━━━━━━━━━━━━━━━━━━━━━\u001b[0m \u001b[32m7.9/7.9 MB\u001b[0m \u001b[31m63.6 MB/s\u001b[0m eta \u001b[36m0:00:00\u001b[0m\n",
            "\u001b[?25hRequirement already satisfied: matplotlib in /usr/local/lib/python3.10/dist-packages (from koreanize-matplotlib) (3.7.1)\n",
            "Requirement already satisfied: contourpy>=1.0.1 in /usr/local/lib/python3.10/dist-packages (from matplotlib->koreanize-matplotlib) (1.0.7)\n",
            "Requirement already satisfied: cycler>=0.10 in /usr/local/lib/python3.10/dist-packages (from matplotlib->koreanize-matplotlib) (0.11.0)\n",
            "Requirement already satisfied: fonttools>=4.22.0 in /usr/local/lib/python3.10/dist-packages (from matplotlib->koreanize-matplotlib) (4.39.3)\n",
            "Requirement already satisfied: kiwisolver>=1.0.1 in /usr/local/lib/python3.10/dist-packages (from matplotlib->koreanize-matplotlib) (1.4.4)\n",
            "Requirement already satisfied: numpy>=1.20 in /usr/local/lib/python3.10/dist-packages (from matplotlib->koreanize-matplotlib) (1.22.4)\n",
            "Requirement already satisfied: packaging>=20.0 in /usr/local/lib/python3.10/dist-packages (from matplotlib->koreanize-matplotlib) (23.1)\n",
            "Requirement already satisfied: pillow>=6.2.0 in /usr/local/lib/python3.10/dist-packages (from matplotlib->koreanize-matplotlib) (8.4.0)\n",
            "Requirement already satisfied: pyparsing>=2.3.1 in /usr/local/lib/python3.10/dist-packages (from matplotlib->koreanize-matplotlib) (3.0.9)\n",
            "Requirement already satisfied: python-dateutil>=2.7 in /usr/local/lib/python3.10/dist-packages (from matplotlib->koreanize-matplotlib) (2.8.2)\n",
            "Requirement already satisfied: six>=1.5 in /usr/local/lib/python3.10/dist-packages (from python-dateutil>=2.7->matplotlib->koreanize-matplotlib) (1.16.0)\n",
            "Installing collected packages: koreanize-matplotlib\n",
            "Successfully installed koreanize-matplotlib-0.1.1\n"
          ]
        }
      ],
      "source": [
        "pip install koreanize-matplotlib\n"
      ]
    },
    {
      "cell_type": "code",
      "source": [
        "import pandas as pd\n",
        "import matplotlib.pyplot as plt\n",
        "import koreanize_matplotlib\n",
        "%matplotlib inline"
      ],
      "metadata": {
        "id": "Z3oMxXe2wkkY"
      },
      "execution_count": 2,
      "outputs": []
    },
    {
      "cell_type": "code",
      "source": [
        "place = pd.read_excel('jeju_place.xlsx')\n",
        "place.head()"
      ],
      "metadata": {
        "colab": {
          "base_uri": "https://localhost:8080/",
          "height": 354
        },
        "id": "3FdZTovLwtFz",
        "outputId": "c3ac2efb-86c9-4e02-b05e-ef40f7f9fcbc"
      },
      "execution_count": 3,
      "outputs": [
        {
          "output_type": "execute_result",
          "data": {
            "text/plain": [
              "   순위       관광지명    광역시/도 시/군/구                 도로명주소 중분류 카테고리     소분류 카테고리  \\\n",
              "0   1     제주국제공항  제주특별자치도   제주시        제주 제주시 공항로 2-0     기타관광         교통시설   \n",
              "1   2     동문재래시장  제주특별자치도   제주시    제주 제주시 관덕로14길 20-0       쇼핑           시장   \n",
              "2   3  서귀포매일올레시장  제주특별자치도  서귀포시  제주 서귀포시 중앙로62번길 18-0       쇼핑           시장   \n",
              "3   4     함덕해수욕장  제주특별자치도   제주시    제주 제주시 조함해안로 525-0     자연관광  자연경관(하천/해양)   \n",
              "4   5      성산일출봉  제주특별자치도  서귀포시    제주 서귀포시 일출로 284-12     자연관광      자연경관(산)   \n",
              "\n",
              "     검색건수  \n",
              "0  803524  \n",
              "1  301089  \n",
              "2  267930  \n",
              "3  195477  \n",
              "4  195037  "
            ],
            "text/html": [
              "\n",
              "  <div id=\"df-764f19f7-3cd2-49ee-9e26-e9cc6240cc4c\">\n",
              "    <div class=\"colab-df-container\">\n",
              "      <div>\n",
              "<style scoped>\n",
              "    .dataframe tbody tr th:only-of-type {\n",
              "        vertical-align: middle;\n",
              "    }\n",
              "\n",
              "    .dataframe tbody tr th {\n",
              "        vertical-align: top;\n",
              "    }\n",
              "\n",
              "    .dataframe thead th {\n",
              "        text-align: right;\n",
              "    }\n",
              "</style>\n",
              "<table border=\"1\" class=\"dataframe\">\n",
              "  <thead>\n",
              "    <tr style=\"text-align: right;\">\n",
              "      <th></th>\n",
              "      <th>순위</th>\n",
              "      <th>관광지명</th>\n",
              "      <th>광역시/도</th>\n",
              "      <th>시/군/구</th>\n",
              "      <th>도로명주소</th>\n",
              "      <th>중분류 카테고리</th>\n",
              "      <th>소분류 카테고리</th>\n",
              "      <th>검색건수</th>\n",
              "    </tr>\n",
              "  </thead>\n",
              "  <tbody>\n",
              "    <tr>\n",
              "      <th>0</th>\n",
              "      <td>1</td>\n",
              "      <td>제주국제공항</td>\n",
              "      <td>제주특별자치도</td>\n",
              "      <td>제주시</td>\n",
              "      <td>제주 제주시 공항로 2-0</td>\n",
              "      <td>기타관광</td>\n",
              "      <td>교통시설</td>\n",
              "      <td>803524</td>\n",
              "    </tr>\n",
              "    <tr>\n",
              "      <th>1</th>\n",
              "      <td>2</td>\n",
              "      <td>동문재래시장</td>\n",
              "      <td>제주특별자치도</td>\n",
              "      <td>제주시</td>\n",
              "      <td>제주 제주시 관덕로14길 20-0</td>\n",
              "      <td>쇼핑</td>\n",
              "      <td>시장</td>\n",
              "      <td>301089</td>\n",
              "    </tr>\n",
              "    <tr>\n",
              "      <th>2</th>\n",
              "      <td>3</td>\n",
              "      <td>서귀포매일올레시장</td>\n",
              "      <td>제주특별자치도</td>\n",
              "      <td>서귀포시</td>\n",
              "      <td>제주 서귀포시 중앙로62번길 18-0</td>\n",
              "      <td>쇼핑</td>\n",
              "      <td>시장</td>\n",
              "      <td>267930</td>\n",
              "    </tr>\n",
              "    <tr>\n",
              "      <th>3</th>\n",
              "      <td>4</td>\n",
              "      <td>함덕해수욕장</td>\n",
              "      <td>제주특별자치도</td>\n",
              "      <td>제주시</td>\n",
              "      <td>제주 제주시 조함해안로 525-0</td>\n",
              "      <td>자연관광</td>\n",
              "      <td>자연경관(하천/해양)</td>\n",
              "      <td>195477</td>\n",
              "    </tr>\n",
              "    <tr>\n",
              "      <th>4</th>\n",
              "      <td>5</td>\n",
              "      <td>성산일출봉</td>\n",
              "      <td>제주특별자치도</td>\n",
              "      <td>서귀포시</td>\n",
              "      <td>제주 서귀포시 일출로 284-12</td>\n",
              "      <td>자연관광</td>\n",
              "      <td>자연경관(산)</td>\n",
              "      <td>195037</td>\n",
              "    </tr>\n",
              "  </tbody>\n",
              "</table>\n",
              "</div>\n",
              "      <button class=\"colab-df-convert\" onclick=\"convertToInteractive('df-764f19f7-3cd2-49ee-9e26-e9cc6240cc4c')\"\n",
              "              title=\"Convert this dataframe to an interactive table.\"\n",
              "              style=\"display:none;\">\n",
              "        \n",
              "  <svg xmlns=\"http://www.w3.org/2000/svg\" height=\"24px\"viewBox=\"0 0 24 24\"\n",
              "       width=\"24px\">\n",
              "    <path d=\"M0 0h24v24H0V0z\" fill=\"none\"/>\n",
              "    <path d=\"M18.56 5.44l.94 2.06.94-2.06 2.06-.94-2.06-.94-.94-2.06-.94 2.06-2.06.94zm-11 1L8.5 8.5l.94-2.06 2.06-.94-2.06-.94L8.5 2.5l-.94 2.06-2.06.94zm10 10l.94 2.06.94-2.06 2.06-.94-2.06-.94-.94-2.06-.94 2.06-2.06.94z\"/><path d=\"M17.41 7.96l-1.37-1.37c-.4-.4-.92-.59-1.43-.59-.52 0-1.04.2-1.43.59L10.3 9.45l-7.72 7.72c-.78.78-.78 2.05 0 2.83L4 21.41c.39.39.9.59 1.41.59.51 0 1.02-.2 1.41-.59l7.78-7.78 2.81-2.81c.8-.78.8-2.07 0-2.86zM5.41 20L4 18.59l7.72-7.72 1.47 1.35L5.41 20z\"/>\n",
              "  </svg>\n",
              "      </button>\n",
              "      \n",
              "  <style>\n",
              "    .colab-df-container {\n",
              "      display:flex;\n",
              "      flex-wrap:wrap;\n",
              "      gap: 12px;\n",
              "    }\n",
              "\n",
              "    .colab-df-convert {\n",
              "      background-color: #E8F0FE;\n",
              "      border: none;\n",
              "      border-radius: 50%;\n",
              "      cursor: pointer;\n",
              "      display: none;\n",
              "      fill: #1967D2;\n",
              "      height: 32px;\n",
              "      padding: 0 0 0 0;\n",
              "      width: 32px;\n",
              "    }\n",
              "\n",
              "    .colab-df-convert:hover {\n",
              "      background-color: #E2EBFA;\n",
              "      box-shadow: 0px 1px 2px rgba(60, 64, 67, 0.3), 0px 1px 3px 1px rgba(60, 64, 67, 0.15);\n",
              "      fill: #174EA6;\n",
              "    }\n",
              "\n",
              "    [theme=dark] .colab-df-convert {\n",
              "      background-color: #3B4455;\n",
              "      fill: #D2E3FC;\n",
              "    }\n",
              "\n",
              "    [theme=dark] .colab-df-convert:hover {\n",
              "      background-color: #434B5C;\n",
              "      box-shadow: 0px 1px 3px 1px rgba(0, 0, 0, 0.15);\n",
              "      filter: drop-shadow(0px 1px 2px rgba(0, 0, 0, 0.3));\n",
              "      fill: #FFFFFF;\n",
              "    }\n",
              "  </style>\n",
              "\n",
              "      <script>\n",
              "        const buttonEl =\n",
              "          document.querySelector('#df-764f19f7-3cd2-49ee-9e26-e9cc6240cc4c button.colab-df-convert');\n",
              "        buttonEl.style.display =\n",
              "          google.colab.kernel.accessAllowed ? 'block' : 'none';\n",
              "\n",
              "        async function convertToInteractive(key) {\n",
              "          const element = document.querySelector('#df-764f19f7-3cd2-49ee-9e26-e9cc6240cc4c');\n",
              "          const dataTable =\n",
              "            await google.colab.kernel.invokeFunction('convertToInteractive',\n",
              "                                                     [key], {});\n",
              "          if (!dataTable) return;\n",
              "\n",
              "          const docLinkHtml = 'Like what you see? Visit the ' +\n",
              "            '<a target=\"_blank\" href=https://colab.research.google.com/notebooks/data_table.ipynb>data table notebook</a>'\n",
              "            + ' to learn more about interactive tables.';\n",
              "          element.innerHTML = '';\n",
              "          dataTable['output_type'] = 'display_data';\n",
              "          await google.colab.output.renderOutput(dataTable, element);\n",
              "          const docLink = document.createElement('div');\n",
              "          docLink.innerHTML = docLinkHtml;\n",
              "          element.appendChild(docLink);\n",
              "        }\n",
              "      </script>\n",
              "    </div>\n",
              "  </div>\n",
              "  "
            ]
          },
          "metadata": {},
          "execution_count": 3
        }
      ]
    },
    {
      "cell_type": "code",
      "source": [
        "place.info()"
      ],
      "metadata": {
        "colab": {
          "base_uri": "https://localhost:8080/"
        },
        "id": "Ko94IKFMw5Vl",
        "outputId": "cfc93e39-46a5-46a3-e43a-014acb6a47c2"
      },
      "execution_count": 4,
      "outputs": [
        {
          "output_type": "stream",
          "name": "stdout",
          "text": [
            "<class 'pandas.core.frame.DataFrame'>\n",
            "RangeIndex: 500 entries, 0 to 499\n",
            "Data columns (total 8 columns):\n",
            " #   Column    Non-Null Count  Dtype \n",
            "---  ------    --------------  ----- \n",
            " 0   순위        500 non-null    int64 \n",
            " 1   관광지명      500 non-null    object\n",
            " 2   광역시/도     500 non-null    object\n",
            " 3   시/군/구     500 non-null    object\n",
            " 4   도로명주소     500 non-null    object\n",
            " 5   중분류 카테고리  500 non-null    object\n",
            " 6   소분류 카테고리  500 non-null    object\n",
            " 7   검색건수      500 non-null    int64 \n",
            "dtypes: int64(2), object(6)\n",
            "memory usage: 31.4+ KB\n"
          ]
        }
      ]
    },
    {
      "cell_type": "code",
      "source": [
        "place = place.set_index('순위')"
      ],
      "metadata": {
        "id": "i7AXx-83w9GC"
      },
      "execution_count": 5,
      "outputs": []
    },
    {
      "cell_type": "code",
      "source": [
        "place = place.drop('광역시/도', axis=1)\n",
        "place"
      ],
      "metadata": {
        "colab": {
          "base_uri": "https://localhost:8080/",
          "height": 672
        },
        "id": "gTQqSKCCxBQC",
        "outputId": "aed8dbb4-67dc-4fba-b659-28cc50a30f3d"
      },
      "execution_count": 6,
      "outputs": [
        {
          "output_type": "execute_result",
          "data": {
            "text/plain": [
              "          관광지명 시/군/구                    도로명주소 중분류 카테고리     소분류 카테고리    검색건수\n",
              "순위                                                                         \n",
              "1       제주국제공항   제주시           제주 제주시 공항로 2-0     기타관광         교통시설  803524\n",
              "2       동문재래시장   제주시       제주 제주시 관덕로14길 20-0       쇼핑           시장  301089\n",
              "3    서귀포매일올레시장  서귀포시     제주 서귀포시 중앙로62번길 18-0       쇼핑           시장  267930\n",
              "4       함덕해수욕장   제주시       제주 제주시 조함해안로 525-0     자연관광  자연경관(하천/해양)  195477\n",
              "5        성산일출봉  서귀포시       제주 서귀포시 일출로 284-12     자연관광      자연경관(산)  195037\n",
              "..         ...   ...                      ...      ...          ...     ...\n",
              "495     퍼시픽마리나  서귀포시     제주 서귀포시 중문관광로 154-17    레저스포츠      수상레저스포츠    1913\n",
              "497      쉬리의언덕  서귀포시                  제주 서귀포시     기타관광         기타관광    1908\n",
              "498       선운정사   제주시         제주 제주시 구몰동길 65-0     역사관광         종교성지    1902\n",
              "499      난타공연장   제주시       제주 제주시 선돌목동길 56-26     문화관광         공연시설    1899\n",
              "500     쇠와꽃승마장  서귀포시  제주 서귀포시 섭지코지로25번길 88-17    레저스포츠      육상레저스포츠    1895\n",
              "\n",
              "[500 rows x 6 columns]"
            ],
            "text/html": [
              "\n",
              "  <div id=\"df-a9ca62b8-955a-43d4-937b-ed4463f4d343\">\n",
              "    <div class=\"colab-df-container\">\n",
              "      <div>\n",
              "<style scoped>\n",
              "    .dataframe tbody tr th:only-of-type {\n",
              "        vertical-align: middle;\n",
              "    }\n",
              "\n",
              "    .dataframe tbody tr th {\n",
              "        vertical-align: top;\n",
              "    }\n",
              "\n",
              "    .dataframe thead th {\n",
              "        text-align: right;\n",
              "    }\n",
              "</style>\n",
              "<table border=\"1\" class=\"dataframe\">\n",
              "  <thead>\n",
              "    <tr style=\"text-align: right;\">\n",
              "      <th></th>\n",
              "      <th>관광지명</th>\n",
              "      <th>시/군/구</th>\n",
              "      <th>도로명주소</th>\n",
              "      <th>중분류 카테고리</th>\n",
              "      <th>소분류 카테고리</th>\n",
              "      <th>검색건수</th>\n",
              "    </tr>\n",
              "    <tr>\n",
              "      <th>순위</th>\n",
              "      <th></th>\n",
              "      <th></th>\n",
              "      <th></th>\n",
              "      <th></th>\n",
              "      <th></th>\n",
              "      <th></th>\n",
              "    </tr>\n",
              "  </thead>\n",
              "  <tbody>\n",
              "    <tr>\n",
              "      <th>1</th>\n",
              "      <td>제주국제공항</td>\n",
              "      <td>제주시</td>\n",
              "      <td>제주 제주시 공항로 2-0</td>\n",
              "      <td>기타관광</td>\n",
              "      <td>교통시설</td>\n",
              "      <td>803524</td>\n",
              "    </tr>\n",
              "    <tr>\n",
              "      <th>2</th>\n",
              "      <td>동문재래시장</td>\n",
              "      <td>제주시</td>\n",
              "      <td>제주 제주시 관덕로14길 20-0</td>\n",
              "      <td>쇼핑</td>\n",
              "      <td>시장</td>\n",
              "      <td>301089</td>\n",
              "    </tr>\n",
              "    <tr>\n",
              "      <th>3</th>\n",
              "      <td>서귀포매일올레시장</td>\n",
              "      <td>서귀포시</td>\n",
              "      <td>제주 서귀포시 중앙로62번길 18-0</td>\n",
              "      <td>쇼핑</td>\n",
              "      <td>시장</td>\n",
              "      <td>267930</td>\n",
              "    </tr>\n",
              "    <tr>\n",
              "      <th>4</th>\n",
              "      <td>함덕해수욕장</td>\n",
              "      <td>제주시</td>\n",
              "      <td>제주 제주시 조함해안로 525-0</td>\n",
              "      <td>자연관광</td>\n",
              "      <td>자연경관(하천/해양)</td>\n",
              "      <td>195477</td>\n",
              "    </tr>\n",
              "    <tr>\n",
              "      <th>5</th>\n",
              "      <td>성산일출봉</td>\n",
              "      <td>서귀포시</td>\n",
              "      <td>제주 서귀포시 일출로 284-12</td>\n",
              "      <td>자연관광</td>\n",
              "      <td>자연경관(산)</td>\n",
              "      <td>195037</td>\n",
              "    </tr>\n",
              "    <tr>\n",
              "      <th>...</th>\n",
              "      <td>...</td>\n",
              "      <td>...</td>\n",
              "      <td>...</td>\n",
              "      <td>...</td>\n",
              "      <td>...</td>\n",
              "      <td>...</td>\n",
              "    </tr>\n",
              "    <tr>\n",
              "      <th>495</th>\n",
              "      <td>퍼시픽마리나</td>\n",
              "      <td>서귀포시</td>\n",
              "      <td>제주 서귀포시 중문관광로 154-17</td>\n",
              "      <td>레저스포츠</td>\n",
              "      <td>수상레저스포츠</td>\n",
              "      <td>1913</td>\n",
              "    </tr>\n",
              "    <tr>\n",
              "      <th>497</th>\n",
              "      <td>쉬리의언덕</td>\n",
              "      <td>서귀포시</td>\n",
              "      <td>제주 서귀포시</td>\n",
              "      <td>기타관광</td>\n",
              "      <td>기타관광</td>\n",
              "      <td>1908</td>\n",
              "    </tr>\n",
              "    <tr>\n",
              "      <th>498</th>\n",
              "      <td>선운정사</td>\n",
              "      <td>제주시</td>\n",
              "      <td>제주 제주시 구몰동길 65-0</td>\n",
              "      <td>역사관광</td>\n",
              "      <td>종교성지</td>\n",
              "      <td>1902</td>\n",
              "    </tr>\n",
              "    <tr>\n",
              "      <th>499</th>\n",
              "      <td>난타공연장</td>\n",
              "      <td>제주시</td>\n",
              "      <td>제주 제주시 선돌목동길 56-26</td>\n",
              "      <td>문화관광</td>\n",
              "      <td>공연시설</td>\n",
              "      <td>1899</td>\n",
              "    </tr>\n",
              "    <tr>\n",
              "      <th>500</th>\n",
              "      <td>쇠와꽃승마장</td>\n",
              "      <td>서귀포시</td>\n",
              "      <td>제주 서귀포시 섭지코지로25번길 88-17</td>\n",
              "      <td>레저스포츠</td>\n",
              "      <td>육상레저스포츠</td>\n",
              "      <td>1895</td>\n",
              "    </tr>\n",
              "  </tbody>\n",
              "</table>\n",
              "<p>500 rows × 6 columns</p>\n",
              "</div>\n",
              "      <button class=\"colab-df-convert\" onclick=\"convertToInteractive('df-a9ca62b8-955a-43d4-937b-ed4463f4d343')\"\n",
              "              title=\"Convert this dataframe to an interactive table.\"\n",
              "              style=\"display:none;\">\n",
              "        \n",
              "  <svg xmlns=\"http://www.w3.org/2000/svg\" height=\"24px\"viewBox=\"0 0 24 24\"\n",
              "       width=\"24px\">\n",
              "    <path d=\"M0 0h24v24H0V0z\" fill=\"none\"/>\n",
              "    <path d=\"M18.56 5.44l.94 2.06.94-2.06 2.06-.94-2.06-.94-.94-2.06-.94 2.06-2.06.94zm-11 1L8.5 8.5l.94-2.06 2.06-.94-2.06-.94L8.5 2.5l-.94 2.06-2.06.94zm10 10l.94 2.06.94-2.06 2.06-.94-2.06-.94-.94-2.06-.94 2.06-2.06.94z\"/><path d=\"M17.41 7.96l-1.37-1.37c-.4-.4-.92-.59-1.43-.59-.52 0-1.04.2-1.43.59L10.3 9.45l-7.72 7.72c-.78.78-.78 2.05 0 2.83L4 21.41c.39.39.9.59 1.41.59.51 0 1.02-.2 1.41-.59l7.78-7.78 2.81-2.81c.8-.78.8-2.07 0-2.86zM5.41 20L4 18.59l7.72-7.72 1.47 1.35L5.41 20z\"/>\n",
              "  </svg>\n",
              "      </button>\n",
              "      \n",
              "  <style>\n",
              "    .colab-df-container {\n",
              "      display:flex;\n",
              "      flex-wrap:wrap;\n",
              "      gap: 12px;\n",
              "    }\n",
              "\n",
              "    .colab-df-convert {\n",
              "      background-color: #E8F0FE;\n",
              "      border: none;\n",
              "      border-radius: 50%;\n",
              "      cursor: pointer;\n",
              "      display: none;\n",
              "      fill: #1967D2;\n",
              "      height: 32px;\n",
              "      padding: 0 0 0 0;\n",
              "      width: 32px;\n",
              "    }\n",
              "\n",
              "    .colab-df-convert:hover {\n",
              "      background-color: #E2EBFA;\n",
              "      box-shadow: 0px 1px 2px rgba(60, 64, 67, 0.3), 0px 1px 3px 1px rgba(60, 64, 67, 0.15);\n",
              "      fill: #174EA6;\n",
              "    }\n",
              "\n",
              "    [theme=dark] .colab-df-convert {\n",
              "      background-color: #3B4455;\n",
              "      fill: #D2E3FC;\n",
              "    }\n",
              "\n",
              "    [theme=dark] .colab-df-convert:hover {\n",
              "      background-color: #434B5C;\n",
              "      box-shadow: 0px 1px 3px 1px rgba(0, 0, 0, 0.15);\n",
              "      filter: drop-shadow(0px 1px 2px rgba(0, 0, 0, 0.3));\n",
              "      fill: #FFFFFF;\n",
              "    }\n",
              "  </style>\n",
              "\n",
              "      <script>\n",
              "        const buttonEl =\n",
              "          document.querySelector('#df-a9ca62b8-955a-43d4-937b-ed4463f4d343 button.colab-df-convert');\n",
              "        buttonEl.style.display =\n",
              "          google.colab.kernel.accessAllowed ? 'block' : 'none';\n",
              "\n",
              "        async function convertToInteractive(key) {\n",
              "          const element = document.querySelector('#df-a9ca62b8-955a-43d4-937b-ed4463f4d343');\n",
              "          const dataTable =\n",
              "            await google.colab.kernel.invokeFunction('convertToInteractive',\n",
              "                                                     [key], {});\n",
              "          if (!dataTable) return;\n",
              "\n",
              "          const docLinkHtml = 'Like what you see? Visit the ' +\n",
              "            '<a target=\"_blank\" href=https://colab.research.google.com/notebooks/data_table.ipynb>data table notebook</a>'\n",
              "            + ' to learn more about interactive tables.';\n",
              "          element.innerHTML = '';\n",
              "          dataTable['output_type'] = 'display_data';\n",
              "          await google.colab.output.renderOutput(dataTable, element);\n",
              "          const docLink = document.createElement('div');\n",
              "          docLink.innerHTML = docLinkHtml;\n",
              "          element.appendChild(docLink);\n",
              "        }\n",
              "      </script>\n",
              "    </div>\n",
              "  </div>\n",
              "  "
            ]
          },
          "metadata": {},
          "execution_count": 6
        }
      ]
    },
    {
      "cell_type": "code",
      "source": [
        "place['중분류 카테고리'].unique()"
      ],
      "metadata": {
        "colab": {
          "base_uri": "https://localhost:8080/"
        },
        "id": "0O8a3msGxGho",
        "outputId": "8d7bc7a1-add5-4f49-ca32-82cbc7c7cd9b"
      },
      "execution_count": 7,
      "outputs": [
        {
          "output_type": "execute_result",
          "data": {
            "text/plain": [
              "array(['기타관광', '쇼핑', '자연관광', '문화관광', '레저스포츠', '체험관광', '역사관광'],\n",
              "      dtype=object)"
            ]
          },
          "metadata": {},
          "execution_count": 7
        }
      ]
    },
    {
      "cell_type": "code",
      "source": [
        "place.isnull().sum()"
      ],
      "metadata": {
        "colab": {
          "base_uri": "https://localhost:8080/"
        },
        "id": "TBW-vNbtxM_F",
        "outputId": "31ce4c33-7a8c-4d31-ceac-f9f7c6c37cca"
      },
      "execution_count": 8,
      "outputs": [
        {
          "output_type": "execute_result",
          "data": {
            "text/plain": [
              "관광지명        0\n",
              "시/군/구       0\n",
              "도로명주소       0\n",
              "중분류 카테고리    0\n",
              "소분류 카테고리    0\n",
              "검색건수        0\n",
              "dtype: int64"
            ]
          },
          "metadata": {},
          "execution_count": 8
        }
      ]
    },
    {
      "cell_type": "code",
      "source": [
        "mid_cat = place['중분류 카테고리'].value_counts()"
      ],
      "metadata": {
        "id": "d90ThIGsx39H"
      },
      "execution_count": 9,
      "outputs": []
    },
    {
      "cell_type": "code",
      "source": [
        "plt.bar(mid_cat.index, mid_cat)\n",
        "plt.show()"
      ],
      "metadata": {
        "colab": {
          "base_uri": "https://localhost:8080/",
          "height": 429
        },
        "id": "e-TmS2Tqx-yc",
        "outputId": "ab2ff1e7-78d6-493d-eaba-946ed9803292"
      },
      "execution_count": 10,
      "outputs": [
        {
          "output_type": "display_data",
          "data": {
            "text/plain": [
              "<Figure size 640x480 with 1 Axes>"
            ],
            "image/png": "[encoded data removed]"
          },
          "metadata": {}
        }
      ]
    },
    {
      "cell_type": "code",
      "source": [
        "low_cat = place['소분류 카테고리'].value_counts()"
      ],
      "metadata": {
        "id": "RDwC3QCNyMxj"
      },
      "execution_count": 12,
      "outputs": []
    },
    {
      "cell_type": "code",
      "source": [],
      "metadata": {
        "id": "eILGuMdHyRUT"
      },
      "execution_count": null,
      "outputs": []
    },
    {
      "cell_type": "code",
      "source": [
        "plt.bar(low_cat.index, low_cat)\n",
        "plt.xticks(rotation=90)\n",
        "plt.show()"
      ],
      "metadata": {
        "colab": {
          "base_uri": "https://localhost:8080/",
          "height": 535
        },
        "id": "thTGLbzFyCsx",
        "outputId": "459d01aa-e0ea-4307-915a-d5ff7da44d7c"
      },
      "execution_count": 13,
      "outputs": [
        {
          "output_type": "display_data",
          "data": {
            "text/plain": [
              "<Figure size 640x480 with 1 Axes>"
            ],
            "image/png": "[encoded data removed]"
          },
          "metadata": {}
        }
      ]
    },
    {
      "cell_type": "code",
      "source": [
        "# pie chart: 전체에서 부분이 어느정도 차지하고 있느냐\n",
        "\n",
        "# 중분류\n",
        "plt.subplot(1, 2, 1)\n",
        "plt.pie(mid_cat, labels=mid_cat.index)\n",
        "\n",
        "# 소분류\n",
        "plt.subplot(1, 2, 2)\n",
        "plt.pie(low_cat, labels=low_cat.index)\n",
        "plt.show()"
      ],
      "metadata": {
        "colab": {
          "base_uri": "https://localhost:8080/",
          "height": 262
        },
        "id": "v_E33O_DyR9g",
        "outputId": "2940550f-343a-4c4e-ba64-9a9cac4583dd"
      },
      "execution_count": 14,
      "outputs": [
        {
          "output_type": "display_data",
          "data": {
            "text/plain": [
              "<Figure size 640x480 with 2 Axes>"
            ],
            "image/png": "[encoded data removed]"
          },
          "metadata": {}
        }
      ]
    },
    {
      "cell_type": "code",
      "source": [
        "# place 데이터프레임에서 소분류 상위 10개 값\n",
        "top_low = place['소분류 카테고리'].value_counts().head(10)"
      ],
      "metadata": {
        "id": "4KfBNJwvyWAV"
      },
      "execution_count": 15,
      "outputs": []
    },
    {
      "cell_type": "code",
      "source": [
        "place[place[\"소분류 카테고리\"].isin(place[\"소분류 카테고리\"].value_counts()[:10].index)] # 윤나요님 코드\n",
        "# top_low 값들 기준 -> 원래 데이터에서 해당하는 소분류 카테고리를 뽑아오기"
      ],
      "metadata": {
        "id": "vyKXlUC6yZGX"
      },
      "execution_count": null,
      "outputs": []
    },
    {
      "cell_type": "code",
      "source": [
        "place[place['소분류 카테고리'].isin(place['소분류 카테고리'].value_counts()[:10].index)]"
      ],
      "metadata": {
        "colab": {
          "base_uri": "https://localhost:8080/",
          "height": 672
        },
        "id": "g_KsTuLsyF_g",
        "outputId": "beadd920-a701-4947-c825-819d44cb76a9"
      },
      "execution_count": 16,
      "outputs": [
        {
          "output_type": "execute_result",
          "data": {
            "text/plain": [
              "          관광지명 시/군/구                    도로명주소 중분류 카테고리     소분류 카테고리    검색건수\n",
              "순위                                                                         \n",
              "2       동문재래시장   제주시       제주 제주시 관덕로14길 20-0       쇼핑           시장  301089\n",
              "3    서귀포매일올레시장  서귀포시     제주 서귀포시 중앙로62번길 18-0       쇼핑           시장  267930\n",
              "4       함덕해수욕장   제주시       제주 제주시 조함해안로 525-0     자연관광  자연경관(하천/해양)  195477\n",
              "5        성산일출봉  서귀포시       제주 서귀포시 일출로 284-12     자연관광      자연경관(산)  195037\n",
              "6       협재해수욕장   제주시                   제주 제주시     자연관광  자연경관(하천/해양)  186252\n",
              "..         ...   ...                      ...      ...          ...     ...\n",
              "491    새미은총의동산   제주시                   제주 제주시     문화관광         도시공원    1936\n",
              "492     금능해안도로   제주시                   제주 제주시     기타관광        데이트코스    1923\n",
              "495     조천만세동산   제주시                   제주 제주시     문화관광         도시공원    1913\n",
              "497      쉬리의언덕  서귀포시                  제주 서귀포시     기타관광         기타관광    1908\n",
              "500     쇠와꽃승마장  서귀포시  제주 서귀포시 섭지코지로25번길 88-17    레저스포츠      육상레저스포츠    1895\n",
              "\n",
              "[379 rows x 6 columns]"
            ],
            "text/html": [
              "\n",
              "  <div id=\"df-79228c22-3668-4bcf-ae3d-3b9d49e13c71\">\n",
              "    <div class=\"colab-df-container\">\n",
              "      <div>\n",
              "<style scoped>\n",
              "    .dataframe tbody tr th:only-of-type {\n",
              "        vertical-align: middle;\n",
              "    }\n",
              "\n",
              "    .dataframe tbody tr th {\n",
              "        vertical-align: top;\n",
              "    }\n",
              "\n",
              "    .dataframe thead th {\n",
              "        text-align: right;\n",
              "    }\n",
              "</style>\n",
              "<table border=\"1\" class=\"dataframe\">\n",
              "  <thead>\n",
              "    <tr style=\"text-align: right;\">\n",
              "      <th></th>\n",
              "      <th>관광지명</th>\n",
              "      <th>시/군/구</th>\n",
              "      <th>도로명주소</th>\n",
              "      <th>중분류 카테고리</th>\n",
              "      <th>소분류 카테고리</th>\n",
              "      <th>검색건수</th>\n",
              "    </tr>\n",
              "    <tr>\n",
              "      <th>순위</th>\n",
              "      <th></th>\n",
              "      <th></th>\n",
              "      <th></th>\n",
              "      <th></th>\n",
              "      <th></th>\n",
              "      <th></th>\n",
              "    </tr>\n",
              "  </thead>\n",
              "  <tbody>\n",
              "    <tr>\n",
              "      <th>2</th>\n",
              "      <td>동문재래시장</td>\n",
              "      <td>제주시</td>\n",
              "      <td>제주 제주시 관덕로14길 20-0</td>\n",
              "      <td>쇼핑</td>\n",
              "      <td>시장</td>\n",
              "      <td>301089</td>\n",
              "    </tr>\n",
              "    <tr>\n",
              "      <th>3</th>\n",
              "      <td>서귀포매일올레시장</td>\n",
              "      <td>서귀포시</td>\n",
              "      <td>제주 서귀포시 중앙로62번길 18-0</td>\n",
              "      <td>쇼핑</td>\n",
              "      <td>시장</td>\n",
              "      <td>267930</td>\n",
              "    </tr>\n",
              "    <tr>\n",
              "      <th>4</th>\n",
              "      <td>함덕해수욕장</td>\n",
              "      <td>제주시</td>\n",
              "      <td>제주 제주시 조함해안로 525-0</td>\n",
              "      <td>자연관광</td>\n",
              "      <td>자연경관(하천/해양)</td>\n",
              "      <td>195477</td>\n",
              "    </tr>\n",
              "    <tr>\n",
              "      <th>5</th>\n",
              "      <td>성산일출봉</td>\n",
              "      <td>서귀포시</td>\n",
              "      <td>제주 서귀포시 일출로 284-12</td>\n",
              "      <td>자연관광</td>\n",
              "      <td>자연경관(산)</td>\n",
              "      <td>195037</td>\n",
              "    </tr>\n",
              "    <tr>\n",
              "      <th>6</th>\n",
              "      <td>협재해수욕장</td>\n",
              "      <td>제주시</td>\n",
              "      <td>제주 제주시</td>\n",
              "      <td>자연관광</td>\n",
              "      <td>자연경관(하천/해양)</td>\n",
              "      <td>186252</td>\n",
              "    </tr>\n",
              "    <tr>\n",
              "      <th>...</th>\n",
              "      <td>...</td>\n",
              "      <td>...</td>\n",
              "      <td>...</td>\n",
              "      <td>...</td>\n",
              "      <td>...</td>\n",
              "      <td>...</td>\n",
              "    </tr>\n",
              "    <tr>\n",
              "      <th>491</th>\n",
              "      <td>새미은총의동산</td>\n",
              "      <td>제주시</td>\n",
              "      <td>제주 제주시</td>\n",
              "      <td>문화관광</td>\n",
              "      <td>도시공원</td>\n",
              "      <td>1936</td>\n",
              "    </tr>\n",
              "    <tr>\n",
              "      <th>492</th>\n",
              "      <td>금능해안도로</td>\n",
              "      <td>제주시</td>\n",
              "      <td>제주 제주시</td>\n",
              "      <td>기타관광</td>\n",
              "      <td>데이트코스</td>\n",
              "      <td>1923</td>\n",
              "    </tr>\n",
              "    <tr>\n",
              "      <th>495</th>\n",
              "      <td>조천만세동산</td>\n",
              "      <td>제주시</td>\n",
              "      <td>제주 제주시</td>\n",
              "      <td>문화관광</td>\n",
              "      <td>도시공원</td>\n",
              "      <td>1913</td>\n",
              "    </tr>\n",
              "    <tr>\n",
              "      <th>497</th>\n",
              "      <td>쉬리의언덕</td>\n",
              "      <td>서귀포시</td>\n",
              "      <td>제주 서귀포시</td>\n",
              "      <td>기타관광</td>\n",
              "      <td>기타관광</td>\n",
              "      <td>1908</td>\n",
              "    </tr>\n",
              "    <tr>\n",
              "      <th>500</th>\n",
              "      <td>쇠와꽃승마장</td>\n",
              "      <td>서귀포시</td>\n",
              "      <td>제주 서귀포시 섭지코지로25번길 88-17</td>\n",
              "      <td>레저스포츠</td>\n",
              "      <td>육상레저스포츠</td>\n",
              "      <td>1895</td>\n",
              "    </tr>\n",
              "  </tbody>\n",
              "</table>\n",
              "<p>379 rows × 6 columns</p>\n",
              "</div>\n",
              "      <button class=\"colab-df-convert\" onclick=\"convertToInteractive('df-79228c22-3668-4bcf-ae3d-3b9d49e13c71')\"\n",
              "              title=\"Convert this dataframe to an interactive table.\"\n",
              "              style=\"display:none;\">\n",
              "        \n",
              "  <svg xmlns=\"http://www.w3.org/2000/svg\" height=\"24px\"viewBox=\"0 0 24 24\"\n",
              "       width=\"24px\">\n",
              "    <path d=\"M0 0h24v24H0V0z\" fill=\"none\"/>\n",
              "    <path d=\"M18.56 5.44l.94 2.06.94-2.06 2.06-.94-2.06-.94-.94-2.06-.94 2.06-2.06.94zm-11 1L8.5 8.5l.94-2.06 2.06-.94-2.06-.94L8.5 2.5l-.94 2.06-2.06.94zm10 10l.94 2.06.94-2.06 2.06-.94-2.06-.94-.94-2.06-.94 2.06-2.06.94z\"/><path d=\"M17.41 7.96l-1.37-1.37c-.4-.4-.92-.59-1.43-.59-.52 0-1.04.2-1.43.59L10.3 9.45l-7.72 7.72c-.78.78-.78 2.05 0 2.83L4 21.41c.39.39.9.59 1.41.59.51 0 1.02-.2 1.41-.59l7.78-7.78 2.81-2.81c.8-.78.8-2.07 0-2.86zM5.41 20L4 18.59l7.72-7.72 1.47 1.35L5.41 20z\"/>\n",
              "  </svg>\n",
              "      </button>\n",
              "      \n",
              "  <style>\n",
              "    .colab-df-container {\n",
              "      display:flex;\n",
              "      flex-wrap:wrap;\n",
              "      gap: 12px;\n",
              "    }\n",
              "\n",
              "    .colab-df-convert {\n",
              "      background-color: #E8F0FE;\n",
              "      border: none;\n",
              "      border-radius: 50%;\n",
              "      cursor: pointer;\n",
              "      display: none;\n",
              "      fill: #1967D2;\n",
              "      height: 32px;\n",
              "      padding: 0 0 0 0;\n",
              "      width: 32px;\n",
              "    }\n",
              "\n",
              "    .colab-df-convert:hover {\n",
              "      background-color: #E2EBFA;\n",
              "      box-shadow: 0px 1px 2px rgba(60, 64, 67, 0.3), 0px 1px 3px 1px rgba(60, 64, 67, 0.15);\n",
              "      fill: #174EA6;\n",
              "    }\n",
              "\n",
              "    [theme=dark] .colab-df-convert {\n",
              "      background-color: #3B4455;\n",
              "      fill: #D2E3FC;\n",
              "    }\n",
              "\n",
              "    [theme=dark] .colab-df-convert:hover {\n",
              "      background-color: #434B5C;\n",
              "      box-shadow: 0px 1px 3px 1px rgba(0, 0, 0, 0.15);\n",
              "      filter: drop-shadow(0px 1px 2px rgba(0, 0, 0, 0.3));\n",
              "      fill: #FFFFFF;\n",
              "    }\n",
              "  </style>\n",
              "\n",
              "      <script>\n",
              "        const buttonEl =\n",
              "          document.querySelector('#df-79228c22-3668-4bcf-ae3d-3b9d49e13c71 button.colab-df-convert');\n",
              "        buttonEl.style.display =\n",
              "          google.colab.kernel.accessAllowed ? 'block' : 'none';\n",
              "\n",
              "        async function convertToInteractive(key) {\n",
              "          const element = document.querySelector('#df-79228c22-3668-4bcf-ae3d-3b9d49e13c71');\n",
              "          const dataTable =\n",
              "            await google.colab.kernel.invokeFunction('convertToInteractive',\n",
              "                                                     [key], {});\n",
              "          if (!dataTable) return;\n",
              "\n",
              "          const docLinkHtml = 'Like what you see? Visit the ' +\n",
              "            '<a target=\"_blank\" href=https://colab.research.google.com/notebooks/data_table.ipynb>data table notebook</a>'\n",
              "            + ' to learn more about interactive tables.';\n",
              "          element.innerHTML = '';\n",
              "          dataTable['output_type'] = 'display_data';\n",
              "          await google.colab.output.renderOutput(dataTable, element);\n",
              "          const docLink = document.createElement('div');\n",
              "          docLink.innerHTML = docLinkHtml;\n",
              "          element.appendChild(docLink);\n",
              "        }\n",
              "      </script>\n",
              "    </div>\n",
              "  </div>\n",
              "  "
            ]
          },
          "metadata": {},
          "execution_count": 16
        }
      ]
    },
    {
      "cell_type": "code",
      "source": [
        "nature = place[place['소분류 카테고리'] == '자연경관(하천/해양)']\n",
        "nature"
      ],
      "metadata": {
        "colab": {
          "base_uri": "https://localhost:8080/",
          "height": 707
        },
        "id": "Ij3OC5ZIylOH",
        "outputId": "e3f5d62d-ce6f-4e0e-98cc-9f9c2624f255"
      },
      "execution_count": 17,
      "outputs": [
        {
          "output_type": "execute_result",
          "data": {
            "text/plain": [
              "       관광지명 시/군/구               도로명주소 중분류 카테고리     소분류 카테고리    검색건수\n",
              "순위                                                                 \n",
              "4    함덕해수욕장   제주시  제주 제주시 조함해안로 525-0     자연관광  자연경관(하천/해양)  195477\n",
              "6    협재해수욕장   제주시              제주 제주시     자연관광  자연경관(하천/해양)  186252\n",
              "7    이호테우해변   제주시              제주 제주시     자연관광  자연경관(하천/해양)  134970\n",
              "10   곽지해수욕장   제주시              제주 제주시     자연관광  자연경관(하천/해양)  111702\n",
              "22   김녕해수욕장   제주시   제주 제주시 해맞이해안로 7-6     자연관광  자연경관(하천/해양)   78488\n",
              "..      ...   ...                 ...      ...          ...     ...\n",
              "455     하효항  서귀포시    제주 서귀포시 쇠소깍로 0-0     자연관광  자연경관(하천/해양)    2292\n",
              "474   구두미포구  서귀포시             제주 서귀포시     자연관광  자연경관(하천/해양)    2068\n",
              "483     제주항   제주시     제주 제주시 임항로 97-0     자연관광  자연경관(하천/해양)    1997\n",
              "485    김녕포구   제주시              제주 제주시     자연관광  자연경관(하천/해양)    1974\n",
              "489   동일리포구  서귀포시             제주 서귀포시     자연관광  자연경관(하천/해양)    1943\n",
              "\n",
              "[79 rows x 6 columns]"
            ],
            "text/html": [
              "\n",
              "  <div id=\"df-1a674f4f-4a42-41f5-8735-5634783f1f30\">\n",
              "    <div class=\"colab-df-container\">\n",
              "      <div>\n",
              "<style scoped>\n",
              "    .dataframe tbody tr th:only-of-type {\n",
              "        vertical-align: middle;\n",
              "    }\n",
              "\n",
              "    .dataframe tbody tr th {\n",
              "        vertical-align: top;\n",
              "    }\n",
              "\n",
              "    .dataframe thead th {\n",
              "        text-align: right;\n",
              "    }\n",
              "</style>\n",
              "<table border=\"1\" class=\"dataframe\">\n",
              "  <thead>\n",
              "    <tr style=\"text-align: right;\">\n",
              "      <th></th>\n",
              "      <th>관광지명</th>\n",
              "      <th>시/군/구</th>\n",
              "      <th>도로명주소</th>\n",
              "      <th>중분류 카테고리</th>\n",
              "      <th>소분류 카테고리</th>\n",
              "      <th>검색건수</th>\n",
              "    </tr>\n",
              "    <tr>\n",
              "      <th>순위</th>\n",
              "      <th></th>\n",
              "      <th></th>\n",
              "      <th></th>\n",
              "      <th></th>\n",
              "      <th></th>\n",
              "      <th></th>\n",
              "    </tr>\n",
              "  </thead>\n",
              "  <tbody>\n",
              "    <tr>\n",
              "      <th>4</th>\n",
              "      <td>함덕해수욕장</td>\n",
              "      <td>제주시</td>\n",
              "      <td>제주 제주시 조함해안로 525-0</td>\n",
              "      <td>자연관광</td>\n",
              "      <td>자연경관(하천/해양)</td>\n",
              "      <td>195477</td>\n",
              "    </tr>\n",
              "    <tr>\n",
              "      <th>6</th>\n",
              "      <td>협재해수욕장</td>\n",
              "      <td>제주시</td>\n",
              "      <td>제주 제주시</td>\n",
              "      <td>자연관광</td>\n",
              "      <td>자연경관(하천/해양)</td>\n",
              "      <td>186252</td>\n",
              "    </tr>\n",
              "    <tr>\n",
              "      <th>7</th>\n",
              "      <td>이호테우해변</td>\n",
              "      <td>제주시</td>\n",
              "      <td>제주 제주시</td>\n",
              "      <td>자연관광</td>\n",
              "      <td>자연경관(하천/해양)</td>\n",
              "      <td>134970</td>\n",
              "    </tr>\n",
              "    <tr>\n",
              "      <th>10</th>\n",
              "      <td>곽지해수욕장</td>\n",
              "      <td>제주시</td>\n",
              "      <td>제주 제주시</td>\n",
              "      <td>자연관광</td>\n",
              "      <td>자연경관(하천/해양)</td>\n",
              "      <td>111702</td>\n",
              "    </tr>\n",
              "    <tr>\n",
              "      <th>22</th>\n",
              "      <td>김녕해수욕장</td>\n",
              "      <td>제주시</td>\n",
              "      <td>제주 제주시 해맞이해안로 7-6</td>\n",
              "      <td>자연관광</td>\n",
              "      <td>자연경관(하천/해양)</td>\n",
              "      <td>78488</td>\n",
              "    </tr>\n",
              "    <tr>\n",
              "      <th>...</th>\n",
              "      <td>...</td>\n",
              "      <td>...</td>\n",
              "      <td>...</td>\n",
              "      <td>...</td>\n",
              "      <td>...</td>\n",
              "      <td>...</td>\n",
              "    </tr>\n",
              "    <tr>\n",
              "      <th>455</th>\n",
              "      <td>하효항</td>\n",
              "      <td>서귀포시</td>\n",
              "      <td>제주 서귀포시 쇠소깍로 0-0</td>\n",
              "      <td>자연관광</td>\n",
              "      <td>자연경관(하천/해양)</td>\n",
              "      <td>2292</td>\n",
              "    </tr>\n",
              "    <tr>\n",
              "      <th>474</th>\n",
              "      <td>구두미포구</td>\n",
              "      <td>서귀포시</td>\n",
              "      <td>제주 서귀포시</td>\n",
              "      <td>자연관광</td>\n",
              "      <td>자연경관(하천/해양)</td>\n",
              "      <td>2068</td>\n",
              "    </tr>\n",
              "    <tr>\n",
              "      <th>483</th>\n",
              "      <td>제주항</td>\n",
              "      <td>제주시</td>\n",
              "      <td>제주 제주시 임항로 97-0</td>\n",
              "      <td>자연관광</td>\n",
              "      <td>자연경관(하천/해양)</td>\n",
              "      <td>1997</td>\n",
              "    </tr>\n",
              "    <tr>\n",
              "      <th>485</th>\n",
              "      <td>김녕포구</td>\n",
              "      <td>제주시</td>\n",
              "      <td>제주 제주시</td>\n",
              "      <td>자연관광</td>\n",
              "      <td>자연경관(하천/해양)</td>\n",
              "      <td>1974</td>\n",
              "    </tr>\n",
              "    <tr>\n",
              "      <th>489</th>\n",
              "      <td>동일리포구</td>\n",
              "      <td>서귀포시</td>\n",
              "      <td>제주 서귀포시</td>\n",
              "      <td>자연관광</td>\n",
              "      <td>자연경관(하천/해양)</td>\n",
              "      <td>1943</td>\n",
              "    </tr>\n",
              "  </tbody>\n",
              "</table>\n",
              "<p>79 rows × 6 columns</p>\n",
              "</div>\n",
              "      <button class=\"colab-df-convert\" onclick=\"convertToInteractive('df-1a674f4f-4a42-41f5-8735-5634783f1f30')\"\n",
              "              title=\"Convert this dataframe to an interactive table.\"\n",
              "              style=\"display:none;\">\n",
              "        \n",
              "  <svg xmlns=\"http://www.w3.org/2000/svg\" height=\"24px\"viewBox=\"0 0 24 24\"\n",
              "       width=\"24px\">\n",
              "    <path d=\"M0 0h24v24H0V0z\" fill=\"none\"/>\n",
              "    <path d=\"M18.56 5.44l.94 2.06.94-2.06 2.06-.94-2.06-.94-.94-2.06-.94 2.06-2.06.94zm-11 1L8.5 8.5l.94-2.06 2.06-.94-2.06-.94L8.5 2.5l-.94 2.06-2.06.94zm10 10l.94 2.06.94-2.06 2.06-.94-2.06-.94-.94-2.06-.94 2.06-2.06.94z\"/><path d=\"M17.41 7.96l-1.37-1.37c-.4-.4-.92-.59-1.43-.59-.52 0-1.04.2-1.43.59L10.3 9.45l-7.72 7.72c-.78.78-.78 2.05 0 2.83L4 21.41c.39.39.9.59 1.41.59.51 0 1.02-.2 1.41-.59l7.78-7.78 2.81-2.81c.8-.78.8-2.07 0-2.86zM5.41 20L4 18.59l7.72-7.72 1.47 1.35L5.41 20z\"/>\n",
              "  </svg>\n",
              "      </button>\n",
              "      \n",
              "  <style>\n",
              "    .colab-df-container {\n",
              "      display:flex;\n",
              "      flex-wrap:wrap;\n",
              "      gap: 12px;\n",
              "    }\n",
              "\n",
              "    .colab-df-convert {\n",
              "      background-color: #E8F0FE;\n",
              "      border: none;\n",
              "      border-radius: 50%;\n",
              "      cursor: pointer;\n",
              "      display: none;\n",
              "      fill: #1967D2;\n",
              "      height: 32px;\n",
              "      padding: 0 0 0 0;\n",
              "      width: 32px;\n",
              "    }\n",
              "\n",
              "    .colab-df-convert:hover {\n",
              "      background-color: #E2EBFA;\n",
              "      box-shadow: 0px 1px 2px rgba(60, 64, 67, 0.3), 0px 1px 3px 1px rgba(60, 64, 67, 0.15);\n",
              "      fill: #174EA6;\n",
              "    }\n",
              "\n",
              "    [theme=dark] .colab-df-convert {\n",
              "      background-color: #3B4455;\n",
              "      fill: #D2E3FC;\n",
              "    }\n",
              "\n",
              "    [theme=dark] .colab-df-convert:hover {\n",
              "      background-color: #434B5C;\n",
              "      box-shadow: 0px 1px 3px 1px rgba(0, 0, 0, 0.15);\n",
              "      filter: drop-shadow(0px 1px 2px rgba(0, 0, 0, 0.3));\n",
              "      fill: #FFFFFF;\n",
              "    }\n",
              "  </style>\n",
              "\n",
              "      <script>\n",
              "        const buttonEl =\n",
              "          document.querySelector('#df-1a674f4f-4a42-41f5-8735-5634783f1f30 button.colab-df-convert');\n",
              "        buttonEl.style.display =\n",
              "          google.colab.kernel.accessAllowed ? 'block' : 'none';\n",
              "\n",
              "        async function convertToInteractive(key) {\n",
              "          const element = document.querySelector('#df-1a674f4f-4a42-41f5-8735-5634783f1f30');\n",
              "          const dataTable =\n",
              "            await google.colab.kernel.invokeFunction('convertToInteractive',\n",
              "                                                     [key], {});\n",
              "          if (!dataTable) return;\n",
              "\n",
              "          const docLinkHtml = 'Like what you see? Visit the ' +\n",
              "            '<a target=\"_blank\" href=https://colab.research.google.com/notebooks/data_table.ipynb>data table notebook</a>'\n",
              "            + ' to learn more about interactive tables.';\n",
              "          element.innerHTML = '';\n",
              "          dataTable['output_type'] = 'display_data';\n",
              "          await google.colab.output.renderOutput(dataTable, element);\n",
              "          const docLink = document.createElement('div');\n",
              "          docLink.innerHTML = docLinkHtml;\n",
              "          element.appendChild(docLink);\n",
              "        }\n",
              "      </script>\n",
              "    </div>\n",
              "  </div>\n",
              "  "
            ]
          },
          "metadata": {},
          "execution_count": 17
        }
      ]
    },
    {
      "cell_type": "code",
      "source": [
        "nature = nature.drop(labels=nature[nature['관광지명'].str[-1] == '항'].index, axis = 0)"
      ],
      "metadata": {
        "id": "CQmu8EOdysMb"
      },
      "execution_count": 18,
      "outputs": []
    },
    {
      "cell_type": "code",
      "source": [
        "nature = nature.drop(labels=nature[nature['관광지명'].str[-2:] == '포구'].index, axis = 0)\n",
        "nature = nature.drop(labels=nature[nature['관광지명'].str[-2:] == '부두'].index, axis = 0)\n",
        "nature = nature.drop(labels=nature[nature['관광지명'].str[-2:] == '염전'].index, axis = 0)\n",
        "nature = nature.drop(labels=nature[nature['관광지명'].str[-3:] == '저수지'].index, axis = 0)\n",
        "nature = nature.drop(labels=nature[nature['관광지명'].str[-3:] == '방파제'].index, axis = 0)"
      ],
      "metadata": {
        "id": "OR1qGRPWy3S3"
      },
      "execution_count": 19,
      "outputs": []
    },
    {
      "cell_type": "code",
      "source": [
        "plt.boxplot(nature['검색건수'])\n",
        "plt.show()"
      ],
      "metadata": {
        "colab": {
          "base_uri": "https://localhost:8080/",
          "height": 429
        },
        "id": "iosP7jDYzjSl",
        "outputId": "41be5a8f-4879-48c5-83da-8547df0c49a3"
      },
      "execution_count": 20,
      "outputs": [
        {
          "output_type": "display_data",
          "data": {
            "text/plain": [
              "<Figure size 640x480 with 1 Axes>"
            ],
            "image/png": "[encoded data removed]"
          },
          "metadata": {}
        }
      ]
    },
    {
      "cell_type": "code",
      "source": [
        "IQR = 53093 - 6737\n",
        "upper_IQR = (IQR * 1.5) + 53093\n",
        "upper_IQR"
      ],
      "metadata": {
        "colab": {
          "base_uri": "https://localhost:8080/"
        },
        "id": "HRD5ha3HzpyR",
        "outputId": "c6919ab2-f707-4640-d5cc-1a3747753c8b"
      },
      "execution_count": 21,
      "outputs": [
        {
          "output_type": "execute_result",
          "data": {
            "text/plain": [
              "122627.0"
            ]
          },
          "metadata": {},
          "execution_count": 21
        }
      ]
    },
    {
      "cell_type": "code",
      "source": [
        "import numpy as np\n"
      ],
      "metadata": {
        "id": "iwu8YX3Zzv8P"
      },
      "execution_count": 22,
      "outputs": []
    },
    {
      "cell_type": "code",
      "source": [
        "nature['혼잡도'] = np.where(nature['검색건수'] > upper_IQR, '혼잡','보통')\n",
        "nature"
      ],
      "metadata": {
        "colab": {
          "base_uri": "https://localhost:8080/",
          "height": 1000
        },
        "id": "6k_upHZvzxWd",
        "outputId": "834b203c-5dc0-4ecf-b764-6b2ef5134560"
      },
      "execution_count": 23,
      "outputs": [
        {
          "output_type": "execute_result",
          "data": {
            "text/plain": [
              "         관광지명 시/군/구                  도로명주소 중분류 카테고리     소분류 카테고리    검색건수 혼잡도\n",
              "순위                                                                          \n",
              "4      함덕해수욕장   제주시     제주 제주시 조함해안로 525-0     자연관광  자연경관(하천/해양)  195477  혼잡\n",
              "6      협재해수욕장   제주시                 제주 제주시     자연관광  자연경관(하천/해양)  186252  혼잡\n",
              "7      이호테우해변   제주시                 제주 제주시     자연관광  자연경관(하천/해양)  134970  혼잡\n",
              "10     곽지해수욕장   제주시                 제주 제주시     자연관광  자연경관(하천/해양)  111702  보통\n",
              "22     김녕해수욕장   제주시      제주 제주시 해맞이해안로 7-6     자연관광  자연경관(하천/해양)   78488  보통\n",
              "23     금능해수욕장   제주시      제주 제주시 금능길 119-10     자연관광  자연경관(하천/해양)   77609  보통\n",
              "29     중문색달해변  서귀포시  제주 서귀포시 중문관광로72번길 0-0     자연관광  자연경관(하천/해양)   61889  보통\n",
              "32      월정리해변   제주시                 제주 제주시     자연관광  자연경관(하천/해양)   58431  보통\n",
              "33     표선해수욕장  서귀포시                제주 서귀포시     자연관광  자연경관(하천/해양)   56866  보통\n",
              "40      광치기해변  서귀포시                제주 서귀포시     자연관광  자연경관(하천/해양)   49320  보통\n",
              "43     사계해수욕장  서귀포시                제주 서귀포시     자연관광  자연경관(하천/해양)   48751  보통\n",
              "58     세화해수욕장   제주시       제주 제주시 충렬로 141-1     자연관광  자연경관(하천/해양)   36179  보통\n",
              "71     삼양해수욕장   제주시                 제주 제주시     자연관광  자연경관(하천/해양)   28251  보통\n",
              "105     황우지해안  서귀포시                제주 서귀포시     자연관광  자연경관(하천/해양)   17177  보통\n",
              "108   화순금모래해변  서귀포시                제주 서귀포시     자연관광  자연경관(하천/해양)   16811  보통\n",
              "126      한담해변   제주시                 제주 제주시     자연관광  자연경관(하천/해양)   14499  보통\n",
              "144    홍조단괴해빈   제주시                 제주 제주시     자연관광  자연경관(하천/해양)   13253  보통\n",
              "145       논짓물  서귀포시                제주 서귀포시     자연관광  자연경관(하천/해양)   13206  보통\n",
              "148   검멀레해수욕장   제주시                 제주 제주시     자연관광  자연경관(하천/해양)   12947  보통\n",
              "207    하도해수욕장   제주시                 제주 제주시     자연관광  자연경관(하천/해양)    8812  보통\n",
              "215   평대리해수욕장   제주시                 제주 제주시     자연관광  자연경관(하천/해양)    8531  보통\n",
              "218  신양섭지해수욕장  서귀포시     제주 서귀포시 섭지코지로 88-0     자연관광  자연경관(하천/해양)    8364  보통\n",
              "221      코난비치   제주시                 제주 제주시     자연관광  자연경관(하천/해양)    8144  보통\n",
              "222       비양도   제주시                 제주 제주시     자연관광  자연경관(하천/해양)    8129  보통\n",
              "245    신창풍차해안   제주시                 제주 제주시     자연관광  자연경관(하천/해양)    7060  보통\n",
              "251       가파도  서귀포시                제주 서귀포시     자연관광  자연경관(하천/해양)    6890  보통\n",
              "263  하고수동해수욕장   제주시     제주 제주시 우도해안길 440-0     자연관광  자연경관(하천/해양)    6584  보통\n",
              "291       차귀도   제주시                 제주 제주시     자연관광  자연경관(하천/해양)    5465  보통\n",
              "309      코난해변   제주시                 제주 제주시     자연관광  자연경관(하천/해양)    4930  보통\n",
              "356     종달리해변   제주시                 제주 제주시     자연관광  자연경관(하천/해양)    3860  보통\n",
              "358    하모해수욕장  서귀포시                제주 서귀포시     자연관광  자연경관(하천/해양)    3807  보통\n",
              "365     세기알해변   제주시                 제주 제주시     자연관광  자연경관(하천/해양)    3713  보통\n",
              "391     쇠소깍해변  서귀포시                제주 서귀포시     자연관광  자연경관(하천/해양)    3311  보통\n",
              "416    신흥해수욕장   제주시       제주 제주시 조함해안로 0-0     자연관광  자연경관(하천/해양)    2837  보통\n",
              "425     소금막해변  서귀포시                제주 서귀포시     자연관광  자연경관(하천/해양)    2751  보통"
            ],
            "text/html": [
              "\n",
              "  <div id=\"df-c5b651f8-7574-412a-8e32-8a737944e002\">\n",
              "    <div class=\"colab-df-container\">\n",
              "      <div>\n",
              "<style scoped>\n",
              "    .dataframe tbody tr th:only-of-type {\n",
              "        vertical-align: middle;\n",
              "    }\n",
              "\n",
              "    .dataframe tbody tr th {\n",
              "        vertical-align: top;\n",
              "    }\n",
              "\n",
              "    .dataframe thead th {\n",
              "        text-align: right;\n",
              "    }\n",
              "</style>\n",
              "<table border=\"1\" class=\"dataframe\">\n",
              "  <thead>\n",
              "    <tr style=\"text-align: right;\">\n",
              "      <th></th>\n",
              "      <th>관광지명</th>\n",
              "      <th>시/군/구</th>\n",
              "      <th>도로명주소</th>\n",
              "      <th>중분류 카테고리</th>\n",
              "      <th>소분류 카테고리</th>\n",
              "      <th>검색건수</th>\n",
              "      <th>혼잡도</th>\n",
              "    </tr>\n",
              "    <tr>\n",
              "      <th>순위</th>\n",
              "      <th></th>\n",
              "      <th></th>\n",
              "      <th></th>\n",
              "      <th></th>\n",
              "      <th></th>\n",
              "      <th></th>\n",
              "      <th></th>\n",
              "    </tr>\n",
              "  </thead>\n",
              "  <tbody>\n",
              "    <tr>\n",
              "      <th>4</th>\n",
              "      <td>함덕해수욕장</td>\n",
              "      <td>제주시</td>\n",
              "      <td>제주 제주시 조함해안로 525-0</td>\n",
              "      <td>자연관광</td>\n",
              "      <td>자연경관(하천/해양)</td>\n",
              "      <td>195477</td>\n",
              "      <td>혼잡</td>\n",
              "    </tr>\n",
              "    <tr>\n",
              "      <th>6</th>\n",
              "      <td>협재해수욕장</td>\n",
              "      <td>제주시</td>\n",
              "      <td>제주 제주시</td>\n",
              "      <td>자연관광</td>\n",
              "      <td>자연경관(하천/해양)</td>\n",
              "      <td>186252</td>\n",
              "      <td>혼잡</td>\n",
              "    </tr>\n",
              "    <tr>\n",
              "      <th>7</th>\n",
              "      <td>이호테우해변</td>\n",
              "      <td>제주시</td>\n",
              "      <td>제주 제주시</td>\n",
              "      <td>자연관광</td>\n",
              "      <td>자연경관(하천/해양)</td>\n",
              "      <td>134970</td>\n",
              "      <td>혼잡</td>\n",
              "    </tr>\n",
              "    <tr>\n",
              "      <th>10</th>\n",
              "      <td>곽지해수욕장</td>\n",
              "      <td>제주시</td>\n",
              "      <td>제주 제주시</td>\n",
              "      <td>자연관광</td>\n",
              "      <td>자연경관(하천/해양)</td>\n",
              "      <td>111702</td>\n",
              "      <td>보통</td>\n",
              "    </tr>\n",
              "    <tr>\n",
              "      <th>22</th>\n",
              "      <td>김녕해수욕장</td>\n",
              "      <td>제주시</td>\n",
              "      <td>제주 제주시 해맞이해안로 7-6</td>\n",
              "      <td>자연관광</td>\n",
              "      <td>자연경관(하천/해양)</td>\n",
              "      <td>78488</td>\n",
              "      <td>보통</td>\n",
              "    </tr>\n",
              "    <tr>\n",
              "      <th>23</th>\n",
              "      <td>금능해수욕장</td>\n",
              "      <td>제주시</td>\n",
              "      <td>제주 제주시 금능길 119-10</td>\n",
              "      <td>자연관광</td>\n",
              "      <td>자연경관(하천/해양)</td>\n",
              "      <td>77609</td>\n",
              "      <td>보통</td>\n",
              "    </tr>\n",
              "    <tr>\n",
              "      <th>29</th>\n",
              "      <td>중문색달해변</td>\n",
              "      <td>서귀포시</td>\n",
              "      <td>제주 서귀포시 중문관광로72번길 0-0</td>\n",
              "      <td>자연관광</td>\n",
              "      <td>자연경관(하천/해양)</td>\n",
              "      <td>61889</td>\n",
              "      <td>보통</td>\n",
              "    </tr>\n",
              "    <tr>\n",
              "      <th>32</th>\n",
              "      <td>월정리해변</td>\n",
              "      <td>제주시</td>\n",
              "      <td>제주 제주시</td>\n",
              "      <td>자연관광</td>\n",
              "      <td>자연경관(하천/해양)</td>\n",
              "      <td>58431</td>\n",
              "      <td>보통</td>\n",
              "    </tr>\n",
              "    <tr>\n",
              "      <th>33</th>\n",
              "      <td>표선해수욕장</td>\n",
              "      <td>서귀포시</td>\n",
              "      <td>제주 서귀포시</td>\n",
              "      <td>자연관광</td>\n",
              "      <td>자연경관(하천/해양)</td>\n",
              "      <td>56866</td>\n",
              "      <td>보통</td>\n",
              "    </tr>\n",
              "    <tr>\n",
              "      <th>40</th>\n",
              "      <td>광치기해변</td>\n",
              "      <td>서귀포시</td>\n",
              "      <td>제주 서귀포시</td>\n",
              "      <td>자연관광</td>\n",
              "      <td>자연경관(하천/해양)</td>\n",
              "      <td>49320</td>\n",
              "      <td>보통</td>\n",
              "    </tr>\n",
              "    <tr>\n",
              "      <th>43</th>\n",
              "      <td>사계해수욕장</td>\n",
              "      <td>서귀포시</td>\n",
              "      <td>제주 서귀포시</td>\n",
              "      <td>자연관광</td>\n",
              "      <td>자연경관(하천/해양)</td>\n",
              "      <td>48751</td>\n",
              "      <td>보통</td>\n",
              "    </tr>\n",
              "    <tr>\n",
              "      <th>58</th>\n",
              "      <td>세화해수욕장</td>\n",
              "      <td>제주시</td>\n",
              "      <td>제주 제주시 충렬로 141-1</td>\n",
              "      <td>자연관광</td>\n",
              "      <td>자연경관(하천/해양)</td>\n",
              "      <td>36179</td>\n",
              "      <td>보통</td>\n",
              "    </tr>\n",
              "    <tr>\n",
              "      <th>71</th>\n",
              "      <td>삼양해수욕장</td>\n",
              "      <td>제주시</td>\n",
              "      <td>제주 제주시</td>\n",
              "      <td>자연관광</td>\n",
              "      <td>자연경관(하천/해양)</td>\n",
              "      <td>28251</td>\n",
              "      <td>보통</td>\n",
              "    </tr>\n",
              "    <tr>\n",
              "      <th>105</th>\n",
              "      <td>황우지해안</td>\n",
              "      <td>서귀포시</td>\n",
              "      <td>제주 서귀포시</td>\n",
              "      <td>자연관광</td>\n",
              "      <td>자연경관(하천/해양)</td>\n",
              "      <td>17177</td>\n",
              "      <td>보통</td>\n",
              "    </tr>\n",
              "    <tr>\n",
              "      <th>108</th>\n",
              "      <td>화순금모래해변</td>\n",
              "      <td>서귀포시</td>\n",
              "      <td>제주 서귀포시</td>\n",
              "      <td>자연관광</td>\n",
              "      <td>자연경관(하천/해양)</td>\n",
              "      <td>16811</td>\n",
              "      <td>보통</td>\n",
              "    </tr>\n",
              "    <tr>\n",
              "      <th>126</th>\n",
              "      <td>한담해변</td>\n",
              "      <td>제주시</td>\n",
              "      <td>제주 제주시</td>\n",
              "      <td>자연관광</td>\n",
              "      <td>자연경관(하천/해양)</td>\n",
              "      <td>14499</td>\n",
              "      <td>보통</td>\n",
              "    </tr>\n",
              "    <tr>\n",
              "      <th>144</th>\n",
              "      <td>홍조단괴해빈</td>\n",
              "      <td>제주시</td>\n",
              "      <td>제주 제주시</td>\n",
              "      <td>자연관광</td>\n",
              "      <td>자연경관(하천/해양)</td>\n",
              "      <td>13253</td>\n",
              "      <td>보통</td>\n",
              "    </tr>\n",
              "    <tr>\n",
              "      <th>145</th>\n",
              "      <td>논짓물</td>\n",
              "      <td>서귀포시</td>\n",
              "      <td>제주 서귀포시</td>\n",
              "      <td>자연관광</td>\n",
              "      <td>자연경관(하천/해양)</td>\n",
              "      <td>13206</td>\n",
              "      <td>보통</td>\n",
              "    </tr>\n",
              "    <tr>\n",
              "      <th>148</th>\n",
              "      <td>검멀레해수욕장</td>\n",
              "      <td>제주시</td>\n",
              "      <td>제주 제주시</td>\n",
              "      <td>자연관광</td>\n",
              "      <td>자연경관(하천/해양)</td>\n",
              "      <td>12947</td>\n",
              "      <td>보통</td>\n",
              "    </tr>\n",
              "    <tr>\n",
              "      <th>207</th>\n",
              "      <td>하도해수욕장</td>\n",
              "      <td>제주시</td>\n",
              "      <td>제주 제주시</td>\n",
              "      <td>자연관광</td>\n",
              "      <td>자연경관(하천/해양)</td>\n",
              "      <td>8812</td>\n",
              "      <td>보통</td>\n",
              "    </tr>\n",
              "    <tr>\n",
              "      <th>215</th>\n",
              "      <td>평대리해수욕장</td>\n",
              "      <td>제주시</td>\n",
              "      <td>제주 제주시</td>\n",
              "      <td>자연관광</td>\n",
              "      <td>자연경관(하천/해양)</td>\n",
              "      <td>8531</td>\n",
              "      <td>보통</td>\n",
              "    </tr>\n",
              "    <tr>\n",
              "      <th>218</th>\n",
              "      <td>신양섭지해수욕장</td>\n",
              "      <td>서귀포시</td>\n",
              "      <td>제주 서귀포시 섭지코지로 88-0</td>\n",
              "      <td>자연관광</td>\n",
              "      <td>자연경관(하천/해양)</td>\n",
              "      <td>8364</td>\n",
              "      <td>보통</td>\n",
              "    </tr>\n",
              "    <tr>\n",
              "      <th>221</th>\n",
              "      <td>코난비치</td>\n",
              "      <td>제주시</td>\n",
              "      <td>제주 제주시</td>\n",
              "      <td>자연관광</td>\n",
              "      <td>자연경관(하천/해양)</td>\n",
              "      <td>8144</td>\n",
              "      <td>보통</td>\n",
              "    </tr>\n",
              "    <tr>\n",
              "      <th>222</th>\n",
              "      <td>비양도</td>\n",
              "      <td>제주시</td>\n",
              "      <td>제주 제주시</td>\n",
              "      <td>자연관광</td>\n",
              "      <td>자연경관(하천/해양)</td>\n",
              "      <td>8129</td>\n",
              "      <td>보통</td>\n",
              "    </tr>\n",
              "    <tr>\n",
              "      <th>245</th>\n",
              "      <td>신창풍차해안</td>\n",
              "      <td>제주시</td>\n",
              "      <td>제주 제주시</td>\n",
              "      <td>자연관광</td>\n",
              "      <td>자연경관(하천/해양)</td>\n",
              "      <td>7060</td>\n",
              "      <td>보통</td>\n",
              "    </tr>\n",
              "    <tr>\n",
              "      <th>251</th>\n",
              "      <td>가파도</td>\n",
              "      <td>서귀포시</td>\n",
              "      <td>제주 서귀포시</td>\n",
              "      <td>자연관광</td>\n",
              "      <td>자연경관(하천/해양)</td>\n",
              "      <td>6890</td>\n",
              "      <td>보통</td>\n",
              "    </tr>\n",
              "    <tr>\n",
              "      <th>263</th>\n",
              "      <td>하고수동해수욕장</td>\n",
              "      <td>제주시</td>\n",
              "      <td>제주 제주시 우도해안길 440-0</td>\n",
              "      <td>자연관광</td>\n",
              "      <td>자연경관(하천/해양)</td>\n",
              "      <td>6584</td>\n",
              "      <td>보통</td>\n",
              "    </tr>\n",
              "    <tr>\n",
              "      <th>291</th>\n",
              "      <td>차귀도</td>\n",
              "      <td>제주시</td>\n",
              "      <td>제주 제주시</td>\n",
              "      <td>자연관광</td>\n",
              "      <td>자연경관(하천/해양)</td>\n",
              "      <td>5465</td>\n",
              "      <td>보통</td>\n",
              "    </tr>\n",
              "    <tr>\n",
              "      <th>309</th>\n",
              "      <td>코난해변</td>\n",
              "      <td>제주시</td>\n",
              "      <td>제주 제주시</td>\n",
              "      <td>자연관광</td>\n",
              "      <td>자연경관(하천/해양)</td>\n",
              "      <td>4930</td>\n",
              "      <td>보통</td>\n",
              "    </tr>\n",
              "    <tr>\n",
              "      <th>356</th>\n",
              "      <td>종달리해변</td>\n",
              "      <td>제주시</td>\n",
              "      <td>제주 제주시</td>\n",
              "      <td>자연관광</td>\n",
              "      <td>자연경관(하천/해양)</td>\n",
              "      <td>3860</td>\n",
              "      <td>보통</td>\n",
              "    </tr>\n",
              "    <tr>\n",
              "      <th>358</th>\n",
              "      <td>하모해수욕장</td>\n",
              "      <td>서귀포시</td>\n",
              "      <td>제주 서귀포시</td>\n",
              "      <td>자연관광</td>\n",
              "      <td>자연경관(하천/해양)</td>\n",
              "      <td>3807</td>\n",
              "      <td>보통</td>\n",
              "    </tr>\n",
              "    <tr>\n",
              "      <th>365</th>\n",
              "      <td>세기알해변</td>\n",
              "      <td>제주시</td>\n",
              "      <td>제주 제주시</td>\n",
              "      <td>자연관광</td>\n",
              "      <td>자연경관(하천/해양)</td>\n",
              "      <td>3713</td>\n",
              "      <td>보통</td>\n",
              "    </tr>\n",
              "    <tr>\n",
              "      <th>391</th>\n",
              "      <td>쇠소깍해변</td>\n",
              "      <td>서귀포시</td>\n",
              "      <td>제주 서귀포시</td>\n",
              "      <td>자연관광</td>\n",
              "      <td>자연경관(하천/해양)</td>\n",
              "      <td>3311</td>\n",
              "      <td>보통</td>\n",
              "    </tr>\n",
              "    <tr>\n",
              "      <th>416</th>\n",
              "      <td>신흥해수욕장</td>\n",
              "      <td>제주시</td>\n",
              "      <td>제주 제주시 조함해안로 0-0</td>\n",
              "      <td>자연관광</td>\n",
              "      <td>자연경관(하천/해양)</td>\n",
              "      <td>2837</td>\n",
              "      <td>보통</td>\n",
              "    </tr>\n",
              "    <tr>\n",
              "      <th>425</th>\n",
              "      <td>소금막해변</td>\n",
              "      <td>서귀포시</td>\n",
              "      <td>제주 서귀포시</td>\n",
              "      <td>자연관광</td>\n",
              "      <td>자연경관(하천/해양)</td>\n",
              "      <td>2751</td>\n",
              "      <td>보통</td>\n",
              "    </tr>\n",
              "  </tbody>\n",
              "</table>\n",
              "</div>\n",
              "      <button class=\"colab-df-convert\" onclick=\"convertToInteractive('df-c5b651f8-7574-412a-8e32-8a737944e002')\"\n",
              "              title=\"Convert this dataframe to an interactive table.\"\n",
              "              style=\"display:none;\">\n",
              "        \n",
              "  <svg xmlns=\"http://www.w3.org/2000/svg\" height=\"24px\"viewBox=\"0 0 24 24\"\n",
              "       width=\"24px\">\n",
              "    <path d=\"M0 0h24v24H0V0z\" fill=\"none\"/>\n",
              "    <path d=\"M18.56 5.44l.94 2.06.94-2.06 2.06-.94-2.06-.94-.94-2.06-.94 2.06-2.06.94zm-11 1L8.5 8.5l.94-2.06 2.06-.94-2.06-.94L8.5 2.5l-.94 2.06-2.06.94zm10 10l.94 2.06.94-2.06 2.06-.94-2.06-.94-.94-2.06-.94 2.06-2.06.94z\"/><path d=\"M17.41 7.96l-1.37-1.37c-.4-.4-.92-.59-1.43-.59-.52 0-1.04.2-1.43.59L10.3 9.45l-7.72 7.72c-.78.78-.78 2.05 0 2.83L4 21.41c.39.39.9.59 1.41.59.51 0 1.02-.2 1.41-.59l7.78-7.78 2.81-2.81c.8-.78.8-2.07 0-2.86zM5.41 20L4 18.59l7.72-7.72 1.47 1.35L5.41 20z\"/>\n",
              "  </svg>\n",
              "      </button>\n",
              "      \n",
              "  <style>\n",
              "    .colab-df-container {\n",
              "      display:flex;\n",
              "      flex-wrap:wrap;\n",
              "      gap: 12px;\n",
              "    }\n",
              "\n",
              "    .colab-df-convert {\n",
              "      background-color: #E8F0FE;\n",
              "      border: none;\n",
              "      border-radius: 50%;\n",
              "      cursor: pointer;\n",
              "      display: none;\n",
              "      fill: #1967D2;\n",
              "      height: 32px;\n",
              "      padding: 0 0 0 0;\n",
              "      width: 32px;\n",
              "    }\n",
              "\n",
              "    .colab-df-convert:hover {\n",
              "      background-color: #E2EBFA;\n",
              "      box-shadow: 0px 1px 2px rgba(60, 64, 67, 0.3), 0px 1px 3px 1px rgba(60, 64, 67, 0.15);\n",
              "      fill: #174EA6;\n",
              "    }\n",
              "\n",
              "    [theme=dark] .colab-df-convert {\n",
              "      background-color: #3B4455;\n",
              "      fill: #D2E3FC;\n",
              "    }\n",
              "\n",
              "    [theme=dark] .colab-df-convert:hover {\n",
              "      background-color: #434B5C;\n",
              "      box-shadow: 0px 1px 3px 1px rgba(0, 0, 0, 0.15);\n",
              "      filter: drop-shadow(0px 1px 2px rgba(0, 0, 0, 0.3));\n",
              "      fill: #FFFFFF;\n",
              "    }\n",
              "  </style>\n",
              "\n",
              "      <script>\n",
              "        const buttonEl =\n",
              "          document.querySelector('#df-c5b651f8-7574-412a-8e32-8a737944e002 button.colab-df-convert');\n",
              "        buttonEl.style.display =\n",
              "          google.colab.kernel.accessAllowed ? 'block' : 'none';\n",
              "\n",
              "        async function convertToInteractive(key) {\n",
              "          const element = document.querySelector('#df-c5b651f8-7574-412a-8e32-8a737944e002');\n",
              "          const dataTable =\n",
              "            await google.colab.kernel.invokeFunction('convertToInteractive',\n",
              "                                                     [key], {});\n",
              "          if (!dataTable) return;\n",
              "\n",
              "          const docLinkHtml = 'Like what you see? Visit the ' +\n",
              "            '<a target=\"_blank\" href=https://colab.research.google.com/notebooks/data_table.ipynb>data table notebook</a>'\n",
              "            + ' to learn more about interactive tables.';\n",
              "          element.innerHTML = '';\n",
              "          dataTable['output_type'] = 'display_data';\n",
              "          await google.colab.output.renderOutput(dataTable, element);\n",
              "          const docLink = document.createElement('div');\n",
              "          docLink.innerHTML = docLinkHtml;\n",
              "          element.appendChild(docLink);\n",
              "        }\n",
              "      </script>\n",
              "    </div>\n",
              "  </div>\n",
              "  "
            ]
          },
          "metadata": {},
          "execution_count": 23
        }
      ]
    },
    {
      "cell_type": "code",
      "source": [
        "j = nature[nature['시/군/구'] == '제주시']\n"
      ],
      "metadata": {
        "id": "Z3coisY9z3tV"
      },
      "execution_count": 25,
      "outputs": []
    },
    {
      "cell_type": "code",
      "source": [
        "groupby_city = nature.groupby('시/군/구')['검색건수'].sum()\n",
        "groupby_city"
      ],
      "metadata": {
        "colab": {
          "base_uri": "https://localhost:8080/"
        },
        "id": "DwUB3fpP0IyO",
        "outputId": "1a7f46dd-e57d-42f1-db9d-e020eecd59e1"
      },
      "execution_count": 26,
      "outputs": [
        {
          "output_type": "execute_result",
          "data": {
            "text/plain": [
              "시/군/구\n",
              "서귀포시     289143\n",
              "제주시     1016123\n",
              "Name: 검색건수, dtype: int64"
            ]
          },
          "metadata": {},
          "execution_count": 26
        }
      ]
    },
    {
      "cell_type": "code",
      "source": [
        "plt.pie(groupby_city,labels=groupby_city.index)"
      ],
      "metadata": {
        "colab": {
          "base_uri": "https://localhost:8080/",
          "height": 479
        },
        "id": "NWYHf7Oz0TO9",
        "outputId": "d60d5558-9776-4f7a-9afa-31273cd8b2cb"
      },
      "execution_count": 28,
      "outputs": [
        {
          "output_type": "execute_result",
          "data": {
            "text/plain": [
              "([<matplotlib.patches.Wedge at 0x7f0ef4635120>,\n",
              "  <matplotlib.patches.Wedge at 0x7f0ef4636950>],\n",
              " [Text(0.8442058849930477, 0.7052066532181225, '서귀포시'),\n",
              "  Text(-0.8442058849930479, -0.7052066532181224, '제주시')])"
            ]
          },
          "metadata": {},
          "execution_count": 28
        },
        {
          "output_type": "display_data",
          "data": {
            "text/plain": [
              "<Figure size 640x480 with 1 Axes>"
            ],
            "image/png": "[encoded data removed]"
          },
          "metadata": {}
        }
      ]
    },
    {
      "cell_type": "code",
      "source": [
        "region = pd.read_csv('region.csv')\n",
        "region.head()"
      ],
      "metadata": {
        "colab": {
          "base_uri": "https://localhost:8080/",
          "height": 371
        },
        "id": "x7FzNm4G0auN",
        "outputId": "0c077b60-fe38-43f0-abb6-a03cbdc1ab64"
      },
      "execution_count": 29,
      "outputs": [
        {
          "output_type": "execute_result",
          "data": {
            "text/plain": [
              "          day   서울  부산    대구  인천  광주  대전  울산  세종   경기  강원  충북  충남  전북  전남  \\\n",
              "0  2020-03-01   82  81  2569   6   9  13  17   1   84   7  11  60   5   3   \n",
              "1  2020-03-02   91  88  3081   7   9  14  20   1   92  19  11  78   6   5   \n",
              "2  2020-03-03   98  90  3601   7  11  14  20   1   94  20  11  81   7   5   \n",
              "3  2020-03-04   99  93  4006   9  13  15  23   1  101  21  11  82   7   5   \n",
              "4  2020-03-05  103  92  4326   9  14  16  23   1  110  23  12  86   7   5   \n",
              "\n",
              "    경북  경남  제주  검역  총확진자수  \n",
              "0  514  62   2   0   3526  \n",
              "1  624  64   2   0   4212  \n",
              "2  685  64   3   0   4812  \n",
              "3  774  65   3   0   5328  \n",
              "4  861  74   4   0   5766  "
            ],
            "text/html": [
              "\n",
              "  <div id=\"df-b56b3998-5b80-400b-b446-59b4191d9537\">\n",
              "    <div class=\"colab-df-container\">\n",
              "      <div>\n",
              "<style scoped>\n",
              "    .dataframe tbody tr th:only-of-type {\n",
              "        vertical-align: middle;\n",
              "    }\n",
              "\n",
              "    .dataframe tbody tr th {\n",
              "        vertical-align: top;\n",
              "    }\n",
              "\n",
              "    .dataframe thead th {\n",
              "        text-align: right;\n",
              "    }\n",
              "</style>\n",
              "<table border=\"1\" class=\"dataframe\">\n",
              "  <thead>\n",
              "    <tr style=\"text-align: right;\">\n",
              "      <th></th>\n",
              "      <th>day</th>\n",
              "      <th>서울</th>\n",
              "      <th>부산</th>\n",
              "      <th>대구</th>\n",
              "      <th>인천</th>\n",
              "      <th>광주</th>\n",
              "      <th>대전</th>\n",
              "      <th>울산</th>\n",
              "      <th>세종</th>\n",
              "      <th>경기</th>\n",
              "      <th>강원</th>\n",
              "      <th>충북</th>\n",
              "      <th>충남</th>\n",
              "      <th>전북</th>\n",
              "      <th>전남</th>\n",
              "      <th>경북</th>\n",
              "      <th>경남</th>\n",
              "      <th>제주</th>\n",
              "      <th>검역</th>\n",
              "      <th>총확진자수</th>\n",
              "    </tr>\n",
              "  </thead>\n",
              "  <tbody>\n",
              "    <tr>\n",
              "      <th>0</th>\n",
              "      <td>2020-03-01</td>\n",
              "      <td>82</td>\n",
              "      <td>81</td>\n",
              "      <td>2569</td>\n",
              "      <td>6</td>\n",
              "      <td>9</td>\n",
              "      <td>13</td>\n",
              "      <td>17</td>\n",
              "      <td>1</td>\n",
              "      <td>84</td>\n",
              "      <td>7</td>\n",
              "      <td>11</td>\n",
              "      <td>60</td>\n",
              "      <td>5</td>\n",
              "      <td>3</td>\n",
              "      <td>514</td>\n",
              "      <td>62</td>\n",
              "      <td>2</td>\n",
              "      <td>0</td>\n",
              "      <td>3526</td>\n",
              "    </tr>\n",
              "    <tr>\n",
              "      <th>1</th>\n",
              "      <td>2020-03-02</td>\n",
              "      <td>91</td>\n",
              "      <td>88</td>\n",
              "      <td>3081</td>\n",
              "      <td>7</td>\n",
              "      <td>9</td>\n",
              "      <td>14</td>\n",
              "      <td>20</td>\n",
              "      <td>1</td>\n",
              "      <td>92</td>\n",
              "      <td>19</td>\n",
              "      <td>11</td>\n",
              "      <td>78</td>\n",
              "      <td>6</td>\n",
              "      <td>5</td>\n",
              "      <td>624</td>\n",
              "      <td>64</td>\n",
              "      <td>2</td>\n",
              "      <td>0</td>\n",
              "      <td>4212</td>\n",
              "    </tr>\n",
              "    <tr>\n",
              "      <th>2</th>\n",
              "      <td>2020-03-03</td>\n",
              "      <td>98</td>\n",
              "      <td>90</td>\n",
              "      <td>3601</td>\n",
              "      <td>7</td>\n",
              "      <td>11</td>\n",
              "      <td>14</td>\n",
              "      <td>20</td>\n",
              "      <td>1</td>\n",
              "      <td>94</td>\n",
              "      <td>20</td>\n",
              "      <td>11</td>\n",
              "      <td>81</td>\n",
              "      <td>7</td>\n",
              "      <td>5</td>\n",
              "      <td>685</td>\n",
              "      <td>64</td>\n",
              "      <td>3</td>\n",
              "      <td>0</td>\n",
              "      <td>4812</td>\n",
              "    </tr>\n",
              "    <tr>\n",
              "      <th>3</th>\n",
              "      <td>2020-03-04</td>\n",
              "      <td>99</td>\n",
              "      <td>93</td>\n",
              "      <td>4006</td>\n",
              "      <td>9</td>\n",
              "      <td>13</td>\n",
              "      <td>15</td>\n",
              "      <td>23</td>\n",
              "      <td>1</td>\n",
              "      <td>101</td>\n",
              "      <td>21</td>\n",
              "      <td>11</td>\n",
              "      <td>82</td>\n",
              "      <td>7</td>\n",
              "      <td>5</td>\n",
              "      <td>774</td>\n",
              "      <td>65</td>\n",
              "      <td>3</td>\n",
              "      <td>0</td>\n",
              "      <td>5328</td>\n",
              "    </tr>\n",
              "    <tr>\n",
              "      <th>4</th>\n",
              "      <td>2020-03-05</td>\n",
              "      <td>103</td>\n",
              "      <td>92</td>\n",
              "      <td>4326</td>\n",
              "      <td>9</td>\n",
              "      <td>14</td>\n",
              "      <td>16</td>\n",
              "      <td>23</td>\n",
              "      <td>1</td>\n",
              "      <td>110</td>\n",
              "      <td>23</td>\n",
              "      <td>12</td>\n",
              "      <td>86</td>\n",
              "      <td>7</td>\n",
              "      <td>5</td>\n",
              "      <td>861</td>\n",
              "      <td>74</td>\n",
              "      <td>4</td>\n",
              "      <td>0</td>\n",
              "      <td>5766</td>\n",
              "    </tr>\n",
              "  </tbody>\n",
              "</table>\n",
              "</div>\n",
              "      <button class=\"colab-df-convert\" onclick=\"convertToInteractive('df-b56b3998-5b80-400b-b446-59b4191d9537')\"\n",
              "              title=\"Convert this dataframe to an interactive table.\"\n",
              "              style=\"display:none;\">\n",
              "        \n",
              "  <svg xmlns=\"http://www.w3.org/2000/svg\" height=\"24px\"viewBox=\"0 0 24 24\"\n",
              "       width=\"24px\">\n",
              "    <path d=\"M0 0h24v24H0V0z\" fill=\"none\"/>\n",
              "    <path d=\"M18.56 5.44l.94 2.06.94-2.06 2.06-.94-2.06-.94-.94-2.06-.94 2.06-2.06.94zm-11 1L8.5 8.5l.94-2.06 2.06-.94-2.06-.94L8.5 2.5l-.94 2.06-2.06.94zm10 10l.94 2.06.94-2.06 2.06-.94-2.06-.94-.94-2.06-.94 2.06-2.06.94z\"/><path d=\"M17.41 7.96l-1.37-1.37c-.4-.4-.92-.59-1.43-.59-.52 0-1.04.2-1.43.59L10.3 9.45l-7.72 7.72c-.78.78-.78 2.05 0 2.83L4 21.41c.39.39.9.59 1.41.59.51 0 1.02-.2 1.41-.59l7.78-7.78 2.81-2.81c.8-.78.8-2.07 0-2.86zM5.41 20L4 18.59l7.72-7.72 1.47 1.35L5.41 20z\"/>\n",
              "  </svg>\n",
              "      </button>\n",
              "      \n",
              "  <style>\n",
              "    .colab-df-container {\n",
              "      display:flex;\n",
              "      flex-wrap:wrap;\n",
              "      gap: 12px;\n",
              "    }\n",
              "\n",
              "    .colab-df-convert {\n",
              "      background-color: #E8F0FE;\n",
              "      border: none;\n",
              "      border-radius: 50%;\n",
              "      cursor: pointer;\n",
              "      display: none;\n",
              "      fill: #1967D2;\n",
              "      height: 32px;\n",
              "      padding: 0 0 0 0;\n",
              "      width: 32px;\n",
              "    }\n",
              "\n",
              "    .colab-df-convert:hover {\n",
              "      background-color: #E2EBFA;\n",
              "      box-shadow: 0px 1px 2px rgba(60, 64, 67, 0.3), 0px 1px 3px 1px rgba(60, 64, 67, 0.15);\n",
              "      fill: #174EA6;\n",
              "    }\n",
              "\n",
              "    [theme=dark] .colab-df-convert {\n",
              "      background-color: #3B4455;\n",
              "      fill: #D2E3FC;\n",
              "    }\n",
              "\n",
              "    [theme=dark] .colab-df-convert:hover {\n",
              "      background-color: #434B5C;\n",
              "      box-shadow: 0px 1px 3px 1px rgba(0, 0, 0, 0.15);\n",
              "      filter: drop-shadow(0px 1px 2px rgba(0, 0, 0, 0.3));\n",
              "      fill: #FFFFFF;\n",
              "    }\n",
              "  </style>\n",
              "\n",
              "      <script>\n",
              "        const buttonEl =\n",
              "          document.querySelector('#df-b56b3998-5b80-400b-b446-59b4191d9537 button.colab-df-convert');\n",
              "        buttonEl.style.display =\n",
              "          google.colab.kernel.accessAllowed ? 'block' : 'none';\n",
              "\n",
              "        async function convertToInteractive(key) {\n",
              "          const element = document.querySelector('#df-b56b3998-5b80-400b-b446-59b4191d9537');\n",
              "          const dataTable =\n",
              "            await google.colab.kernel.invokeFunction('convertToInteractive',\n",
              "                                                     [key], {});\n",
              "          if (!dataTable) return;\n",
              "\n",
              "          const docLinkHtml = 'Like what you see? Visit the ' +\n",
              "            '<a target=\"_blank\" href=https://colab.research.google.com/notebooks/data_table.ipynb>data table notebook</a>'\n",
              "            + ' to learn more about interactive tables.';\n",
              "          element.innerHTML = '';\n",
              "          dataTable['output_type'] = 'display_data';\n",
              "          await google.colab.output.renderOutput(dataTable, element);\n",
              "          const docLink = document.createElement('div');\n",
              "          docLink.innerHTML = docLinkHtml;\n",
              "          element.appendChild(docLink);\n",
              "        }\n",
              "      </script>\n",
              "    </div>\n",
              "  </div>\n",
              "  "
            ]
          },
          "metadata": {},
          "execution_count": 29
        }
      ]
    },
    {
      "cell_type": "code",
      "source": [
        "region = region.set_index('day')"
      ],
      "metadata": {
        "id": "rA1jKQt105yH"
      },
      "execution_count": 30,
      "outputs": []
    },
    {
      "cell_type": "code",
      "source": [
        "region.head()"
      ],
      "metadata": {
        "colab": {
          "base_uri": "https://localhost:8080/",
          "height": 403
        },
        "id": "6_kU00MY1UAw",
        "outputId": "f4d96307-f7ab-48fd-aa37-8c2dea90a0f3"
      },
      "execution_count": 31,
      "outputs": [
        {
          "output_type": "execute_result",
          "data": {
            "text/plain": [
              "             서울  부산    대구  인천  광주  대전  울산  세종   경기  강원  충북  충남  전북  전남   경북  \\\n",
              "day                                                                           \n",
              "2020-03-01   82  81  2569   6   9  13  17   1   84   7  11  60   5   3  514   \n",
              "2020-03-02   91  88  3081   7   9  14  20   1   92  19  11  78   6   5  624   \n",
              "2020-03-03   98  90  3601   7  11  14  20   1   94  20  11  81   7   5  685   \n",
              "2020-03-04   99  93  4006   9  13  15  23   1  101  21  11  82   7   5  774   \n",
              "2020-03-05  103  92  4326   9  14  16  23   1  110  23  12  86   7   5  861   \n",
              "\n",
              "            경남  제주  검역  총확진자수  \n",
              "day                            \n",
              "2020-03-01  62   2   0   3526  \n",
              "2020-03-02  64   2   0   4212  \n",
              "2020-03-03  64   3   0   4812  \n",
              "2020-03-04  65   3   0   5328  \n",
              "2020-03-05  74   4   0   5766  "
            ],
            "text/html": [
              "\n",
              "  <div id=\"df-899cba1f-0ed1-408b-85c9-aabc65828fa9\">\n",
              "    <div class=\"colab-df-container\">\n",
              "      <div>\n",
              "<style scoped>\n",
              "    .dataframe tbody tr th:only-of-type {\n",
              "        vertical-align: middle;\n",
              "    }\n",
              "\n",
              "    .dataframe tbody tr th {\n",
              "        vertical-align: top;\n",
              "    }\n",
              "\n",
              "    .dataframe thead th {\n",
              "        text-align: right;\n",
              "    }\n",
              "</style>\n",
              "<table border=\"1\" class=\"dataframe\">\n",
              "  <thead>\n",
              "    <tr style=\"text-align: right;\">\n",
              "      <th></th>\n",
              "      <th>서울</th>\n",
              "      <th>부산</th>\n",
              "      <th>대구</th>\n",
              "      <th>인천</th>\n",
              "      <th>광주</th>\n",
              "      <th>대전</th>\n",
              "      <th>울산</th>\n",
              "      <th>세종</th>\n",
              "      <th>경기</th>\n",
              "      <th>강원</th>\n",
              "      <th>충북</th>\n",
              "      <th>충남</th>\n",
              "      <th>전북</th>\n",
              "      <th>전남</th>\n",
              "      <th>경북</th>\n",
              "      <th>경남</th>\n",
              "      <th>제주</th>\n",
              "      <th>검역</th>\n",
              "      <th>총확진자수</th>\n",
              "    </tr>\n",
              "    <tr>\n",
              "      <th>day</th>\n",
              "      <th></th>\n",
              "      <th></th>\n",
              "      <th></th>\n",
              "      <th></th>\n",
              "      <th></th>\n",
              "      <th></th>\n",
              "      <th></th>\n",
              "      <th></th>\n",
              "      <th></th>\n",
              "      <th></th>\n",
              "      <th></th>\n",
              "      <th></th>\n",
              "      <th></th>\n",
              "      <th></th>\n",
              "      <th></th>\n",
              "      <th></th>\n",
              "      <th></th>\n",
              "      <th></th>\n",
              "      <th></th>\n",
              "    </tr>\n",
              "  </thead>\n",
              "  <tbody>\n",
              "    <tr>\n",
              "      <th>2020-03-01</th>\n",
              "      <td>82</td>\n",
              "      <td>81</td>\n",
              "      <td>2569</td>\n",
              "      <td>6</td>\n",
              "      <td>9</td>\n",
              "      <td>13</td>\n",
              "      <td>17</td>\n",
              "      <td>1</td>\n",
              "      <td>84</td>\n",
              "      <td>7</td>\n",
              "      <td>11</td>\n",
              "      <td>60</td>\n",
              "      <td>5</td>\n",
              "      <td>3</td>\n",
              "      <td>514</td>\n",
              "      <td>62</td>\n",
              "      <td>2</td>\n",
              "      <td>0</td>\n",
              "      <td>3526</td>\n",
              "    </tr>\n",
              "    <tr>\n",
              "      <th>2020-03-02</th>\n",
              "      <td>91</td>\n",
              "      <td>88</td>\n",
              "      <td>3081</td>\n",
              "      <td>7</td>\n",
              "      <td>9</td>\n",
              "      <td>14</td>\n",
              "      <td>20</td>\n",
              "      <td>1</td>\n",
              "      <td>92</td>\n",
              "      <td>19</td>\n",
              "      <td>11</td>\n",
              "      <td>78</td>\n",
              "      <td>6</td>\n",
              "      <td>5</td>\n",
              "      <td>624</td>\n",
              "      <td>64</td>\n",
              "      <td>2</td>\n",
              "      <td>0</td>\n",
              "      <td>4212</td>\n",
              "    </tr>\n",
              "    <tr>\n",
              "      <th>2020-03-03</th>\n",
              "      <td>98</td>\n",
              "      <td>90</td>\n",
              "      <td>3601</td>\n",
              "      <td>7</td>\n",
              "      <td>11</td>\n",
              "      <td>14</td>\n",
              "      <td>20</td>\n",
              "      <td>1</td>\n",
              "      <td>94</td>\n",
              "      <td>20</td>\n",
              "      <td>11</td>\n",
              "      <td>81</td>\n",
              "      <td>7</td>\n",
              "      <td>5</td>\n",
              "      <td>685</td>\n",
              "      <td>64</td>\n",
              "      <td>3</td>\n",
              "      <td>0</td>\n",
              "      <td>4812</td>\n",
              "    </tr>\n",
              "    <tr>\n",
              "      <th>2020-03-04</th>\n",
              "      <td>99</td>\n",
              "      <td>93</td>\n",
              "      <td>4006</td>\n",
              "      <td>9</td>\n",
              "      <td>13</td>\n",
              "      <td>15</td>\n",
              "      <td>23</td>\n",
              "      <td>1</td>\n",
              "      <td>101</td>\n",
              "      <td>21</td>\n",
              "      <td>11</td>\n",
              "      <td>82</td>\n",
              "      <td>7</td>\n",
              "      <td>5</td>\n",
              "      <td>774</td>\n",
              "      <td>65</td>\n",
              "      <td>3</td>\n",
              "      <td>0</td>\n",
              "      <td>5328</td>\n",
              "    </tr>\n",
              "    <tr>\n",
              "      <th>2020-03-05</th>\n",
              "      <td>103</td>\n",
              "      <td>92</td>\n",
              "      <td>4326</td>\n",
              "      <td>9</td>\n",
              "      <td>14</td>\n",
              "      <td>16</td>\n",
              "      <td>23</td>\n",
              "      <td>1</td>\n",
              "      <td>110</td>\n",
              "      <td>23</td>\n",
              "      <td>12</td>\n",
              "      <td>86</td>\n",
              "      <td>7</td>\n",
              "      <td>5</td>\n",
              "      <td>861</td>\n",
              "      <td>74</td>\n",
              "      <td>4</td>\n",
              "      <td>0</td>\n",
              "      <td>5766</td>\n",
              "    </tr>\n",
              "  </tbody>\n",
              "</table>\n",
              "</div>\n",
              "      <button class=\"colab-df-convert\" onclick=\"convertToInteractive('df-899cba1f-0ed1-408b-85c9-aabc65828fa9')\"\n",
              "              title=\"Convert this dataframe to an interactive table.\"\n",
              "              style=\"display:none;\">\n",
              "        \n",
              "  <svg xmlns=\"http://www.w3.org/2000/svg\" height=\"24px\"viewBox=\"0 0 24 24\"\n",
              "       width=\"24px\">\n",
              "    <path d=\"M0 0h24v24H0V0z\" fill=\"none\"/>\n",
              "    <path d=\"M18.56 5.44l.94 2.06.94-2.06 2.06-.94-2.06-.94-.94-2.06-.94 2.06-2.06.94zm-11 1L8.5 8.5l.94-2.06 2.06-.94-2.06-.94L8.5 2.5l-.94 2.06-2.06.94zm10 10l.94 2.06.94-2.06 2.06-.94-2.06-.94-.94-2.06-.94 2.06-2.06.94z\"/><path d=\"M17.41 7.96l-1.37-1.37c-.4-.4-.92-.59-1.43-.59-.52 0-1.04.2-1.43.59L10.3 9.45l-7.72 7.72c-.78.78-.78 2.05 0 2.83L4 21.41c.39.39.9.59 1.41.59.51 0 1.02-.2 1.41-.59l7.78-7.78 2.81-2.81c.8-.78.8-2.07 0-2.86zM5.41 20L4 18.59l7.72-7.72 1.47 1.35L5.41 20z\"/>\n",
              "  </svg>\n",
              "      </button>\n",
              "      \n",
              "  <style>\n",
              "    .colab-df-container {\n",
              "      display:flex;\n",
              "      flex-wrap:wrap;\n",
              "      gap: 12px;\n",
              "    }\n",
              "\n",
              "    .colab-df-convert {\n",
              "      background-color: #E8F0FE;\n",
              "      border: none;\n",
              "      border-radius: 50%;\n",
              "      cursor: pointer;\n",
              "      display: none;\n",
              "      fill: #1967D2;\n",
              "      height: 32px;\n",
              "      padding: 0 0 0 0;\n",
              "      width: 32px;\n",
              "    }\n",
              "\n",
              "    .colab-df-convert:hover {\n",
              "      background-color: #E2EBFA;\n",
              "      box-shadow: 0px 1px 2px rgba(60, 64, 67, 0.3), 0px 1px 3px 1px rgba(60, 64, 67, 0.15);\n",
              "      fill: #174EA6;\n",
              "    }\n",
              "\n",
              "    [theme=dark] .colab-df-convert {\n",
              "      background-color: #3B4455;\n",
              "      fill: #D2E3FC;\n",
              "    }\n",
              "\n",
              "    [theme=dark] .colab-df-convert:hover {\n",
              "      background-color: #434B5C;\n",
              "      box-shadow: 0px 1px 3px 1px rgba(0, 0, 0, 0.15);\n",
              "      filter: drop-shadow(0px 1px 2px rgba(0, 0, 0, 0.3));\n",
              "      fill: #FFFFFF;\n",
              "    }\n",
              "  </style>\n",
              "\n",
              "      <script>\n",
              "        const buttonEl =\n",
              "          document.querySelector('#df-899cba1f-0ed1-408b-85c9-aabc65828fa9 button.colab-df-convert');\n",
              "        buttonEl.style.display =\n",
              "          google.colab.kernel.accessAllowed ? 'block' : 'none';\n",
              "\n",
              "        async function convertToInteractive(key) {\n",
              "          const element = document.querySelector('#df-899cba1f-0ed1-408b-85c9-aabc65828fa9');\n",
              "          const dataTable =\n",
              "            await google.colab.kernel.invokeFunction('convertToInteractive',\n",
              "                                                     [key], {});\n",
              "          if (!dataTable) return;\n",
              "\n",
              "          const docLinkHtml = 'Like what you see? Visit the ' +\n",
              "            '<a target=\"_blank\" href=https://colab.research.google.com/notebooks/data_table.ipynb>data table notebook</a>'\n",
              "            + ' to learn more about interactive tables.';\n",
              "          element.innerHTML = '';\n",
              "          dataTable['output_type'] = 'display_data';\n",
              "          await google.colab.output.renderOutput(dataTable, element);\n",
              "          const docLink = document.createElement('div');\n",
              "          docLink.innerHTML = docLinkHtml;\n",
              "          element.appendChild(docLink);\n",
              "        }\n",
              "      </script>\n",
              "    </div>\n",
              "  </div>\n",
              "  "
            ]
          },
          "metadata": {},
          "execution_count": 31
        }
      ]
    },
    {
      "cell_type": "code",
      "source": [
        "region.index = pd.to_datetime(region.index, format = '%Y-%m-%d')"
      ],
      "metadata": {
        "id": "sNgiAqV51VGo"
      },
      "execution_count": 32,
      "outputs": []
    },
    {
      "cell_type": "code",
      "source": [
        "cities = region.loc[:, region.columns[:-1]]\n",
        "\n",
        "region.columns[:-1]"
      ],
      "metadata": {
        "colab": {
          "base_uri": "https://localhost:8080/"
        },
        "id": "n9YZnnUg1fWV",
        "outputId": "3d6a350e-a4ed-49b7-fb6d-624e48e89c04"
      },
      "execution_count": 34,
      "outputs": [
        {
          "output_type": "execute_result",
          "data": {
            "text/plain": [
              "Index(['서울', '부산', '대구', '인천', '광주', '대전', '울산', '세종', '경기', '강원', '충북', '충남',\n",
              "       '전북', '전남', '경북', '경남', '제주', '검역'],\n",
              "      dtype='object')"
            ]
          },
          "metadata": {},
          "execution_count": 34
        }
      ]
    },
    {
      "cell_type": "code",
      "source": [
        "total = region.loc[:, '총확진자수']\n",
        "total.head()"
      ],
      "metadata": {
        "colab": {
          "base_uri": "https://localhost:8080/"
        },
        "id": "awi-Kivv139l",
        "outputId": "9a789159-ccf5-4f17-f017-f0ddc7ef9f94"
      },
      "execution_count": 35,
      "outputs": [
        {
          "output_type": "execute_result",
          "data": {
            "text/plain": [
              "day\n",
              "2020-03-01    3526\n",
              "2020-03-02    4212\n",
              "2020-03-03    4812\n",
              "2020-03-04    5328\n",
              "2020-03-05    5766\n",
              "Name: 총확진자수, dtype: int64"
            ]
          },
          "metadata": {},
          "execution_count": 35
        }
      ]
    },
    {
      "cell_type": "code",
      "source": [
        "plt.bar(total.index, total)"
      ],
      "metadata": {
        "colab": {
          "base_uri": "https://localhost:8080/",
          "height": 447
        },
        "id": "w4AwWj_J2IGJ",
        "outputId": "014e0c8a-6536-4604-ddaa-7cdb61bae2b1"
      },
      "execution_count": 36,
      "outputs": [
        {
          "output_type": "execute_result",
          "data": {
            "text/plain": [
              "<BarContainer object of 32 artists>"
            ]
          },
          "metadata": {},
          "execution_count": 36
        },
        {
          "output_type": "display_data",
          "data": {
            "text/plain": [
              "<Figure size 640x480 with 1 Axes>"
            ],
            "image/png": "[encoded data removed]"
          },
          "metadata": {}
        }
      ]
    },
    {
      "cell_type": "code",
      "source": [
        "plt.show()"
      ],
      "metadata": {
        "id": "VNoO4CRf2NPt"
      },
      "execution_count": 37,
      "outputs": []
    },
    {
      "cell_type": "code",
      "source": [
        "# 시간 흐름에 따른 확진자 수 누적 그래프\n",
        "# plt.stackplot(x, y1, y2, y3 , ... , labels=)\n",
        "y1 = cities['서울']\n",
        "y2 = cities['대구']\n",
        "y3 = cities['부산']\n",
        "y4 = cities['인천']\n",
        "y5 = cities['광주']\n",
        "labels = ['서울', '대구', '부산', '인천', '광주']\n",
        "colors = ['red', 'black']\n",
        "\n",
        "# 누적 그래프 -> 어떤 게 누적될 것인지 -> 시간 순에 따라 정렬\n",
        "# 쌓이는 방향, 시간순에 따라 쌓이는 부분 -> 각 지역별 데이터마다 누적 확인\n",
        "plt.xticks(rotation=90)\n",
        "plt.stackplot(cities.index, y2)\n",
        "plt.stackplot(cities.index, y1)\n",
        "plt.stackplot(cities.index, y3)\n",
        "plt.stackplot(cities.index, y4)\n",
        "plt.stackplot(cities.index, y5)\n",
        "\n",
        "# 그래프 범위 설정\n",
        "# plt.xlim([])\n",
        "plt.ylim([0, 1000])\n",
        "# plt.axis([x최소, x최대, y최소, y최대])\n",
        "\n",
        "# plt.legend(loc='upper left')\n",
        "plt.show()\n",
        "\n",
        "'''\n",
        "축 범위: 최소값, 최대값\n",
        "'''"
      ],
      "metadata": {
        "colab": {
          "base_uri": "https://localhost:8080/",
          "height": 516
        },
        "id": "4Jt14uTj2Nza",
        "outputId": "07141124-76a4-4175-a6ff-fd1823fc9d3a"
      },
      "execution_count": 38,
      "outputs": [
        {
          "output_type": "display_data",
          "data": {
            "text/plain": [
              "<Figure size 640x480 with 1 Axes>"
            ],
            "image/png": "[encoded data removed]"
          },
          "metadata": {}
        },
        {
          "output_type": "execute_result",
          "data": {
            "text/plain": [
              "'\\n축 범위: 최소값, 최대값\\n'"
            ],
            "application/vnd.google.colaboratory.intrinsic+json": {
              "type": "string"
            }
          },
          "metadata": {},
          "execution_count": 38
        }
      ]
    },
    {
      "cell_type": "code",
      "source": [
        "jeju = region['제주']\n",
        "plt.plot(jeju)"
      ],
      "metadata": {
        "colab": {
          "base_uri": "https://localhost:8080/",
          "height": 447
        },
        "id": "fCVcJBsp2WmL",
        "outputId": "2e39b819-d7d1-4a9b-fe73-1743a51f08dc"
      },
      "execution_count": 39,
      "outputs": [
        {
          "output_type": "execute_result",
          "data": {
            "text/plain": [
              "[<matplotlib.lines.Line2D at 0x7f0ef3b34f10>]"
            ]
          },
          "metadata": {},
          "execution_count": 39
        },
        {
          "output_type": "display_data",
          "data": {
            "text/plain": [
              "<Figure size 640x480 with 1 Axes>"
            ],
            "image/png": "[encoded data removed]"
          },
          "metadata": {}
        }
      ]
    },
    {
      "cell_type": "code",
      "source": [
        "import matplotlib.dates as mdates"
      ],
      "metadata": {
        "id": "-mTMRw0A2mZD"
      },
      "execution_count": 40,
      "outputs": []
    },
    {
      "cell_type": "code",
      "source": [
        "# 코로나 지역별 데이터\n",
        "# 지역명 -> 실제 좌표의 위치\n",
        "# 좌표 데이터 -> 시청, 도청 -> 위도, 경도\n",
        "loc = {\n",
        "  '서울' : [37.566418, 126.977950],#서울시청\n",
        "  '부산' : [35.180152, 129.074980],#부산시청\n",
        "  '대구' : [35.871468, 128.601757],#대구시청\n",
        "  '인천' : [37.456445, 126.705873],#인천시청\n",
        "  '광주' : [35.160068, 126.851426],#광주광역시청\n",
        "  '대전' : [36.350664, 127.384819],#대전시청\n",
        "  '울산' : [35.539772, 129.311486],#울산시청\n",
        "  '세종' : [36.480838, 127.289181],#세종시청\n",
        "  '경기' : [37.275221, 127.009382],#경기도청\n",
        "  '강원' : [37.885300, 127.729835],#강원(강원도청)\n",
        "  '충북' : [36.635947, 127.491345],#충북도청\n",
        "  '충남' : [36.658826, 126.672849],#충남도청\n",
        "  '전북' : [35.820599, 127.108759],#전북도청\n",
        "  '전남' : [34.816351, 126.462924],#전남도청\n",
        "  '경북' : [36.574108, 128.509303],#경북도청\n",
        "  '경남' : [35.238398, 128.692371],#경남도청\n",
        "  '제주' : [33.3617007, 126.511657]#제주\n",
        "    }\n",
        "type(loc)"
      ],
      "metadata": {
        "colab": {
          "base_uri": "https://localhost:8080/"
        },
        "id": "qntWaT1c2s4b",
        "outputId": "32ea0175-5a5c-45d8-b058-95dc2e48ffdd"
      },
      "execution_count": 41,
      "outputs": [
        {
          "output_type": "execute_result",
          "data": {
            "text/plain": [
              "dict"
            ]
          },
          "metadata": {},
          "execution_count": 41
        }
      ]
    },
    {
      "cell_type": "code",
      "source": [
        "# 위도: latitude, 경도: longitude\n",
        "loc = pd.DataFrame(loc).T\n",
        "loc.columns = ['lat','lon']\n",
        "loc\n"
      ],
      "metadata": {
        "colab": {
          "base_uri": "https://localhost:8080/",
          "height": 582
        },
        "id": "bPGzseru3JMN",
        "outputId": "aa35efeb-7d4b-44b9-d379-575f5820a14e"
      },
      "execution_count": 42,
      "outputs": [
        {
          "output_type": "execute_result",
          "data": {
            "text/plain": [
              "          lat         lon\n",
              "서울  37.566418  126.977950\n",
              "부산  35.180152  129.074980\n",
              "대구  35.871468  128.601757\n",
              "인천  37.456445  126.705873\n",
              "광주  35.160068  126.851426\n",
              "대전  36.350664  127.384819\n",
              "울산  35.539772  129.311486\n",
              "세종  36.480838  127.289181\n",
              "경기  37.275221  127.009382\n",
              "강원  37.885300  127.729835\n",
              "충북  36.635947  127.491345\n",
              "충남  36.658826  126.672849\n",
              "전북  35.820599  127.108759\n",
              "전남  34.816351  126.462924\n",
              "경북  36.574108  128.509303\n",
              "경남  35.238398  128.692371\n",
              "제주  33.361701  126.511657"
            ],
            "text/html": [
              "\n",
              "  <div id=\"df-a78e0d4b-43f7-447a-8b9f-769f3ca20e67\">\n",
              "    <div class=\"colab-df-container\">\n",
              "      <div>\n",
              "<style scoped>\n",
              "    .dataframe tbody tr th:only-of-type {\n",
              "        vertical-align: middle;\n",
              "    }\n",
              "\n",
              "    .dataframe tbody tr th {\n",
              "        vertical-align: top;\n",
              "    }\n",
              "\n",
              "    .dataframe thead th {\n",
              "        text-align: right;\n",
              "    }\n",
              "</style>\n",
              "<table border=\"1\" class=\"dataframe\">\n",
              "  <thead>\n",
              "    <tr style=\"text-align: right;\">\n",
              "      <th></th>\n",
              "      <th>lat</th>\n",
              "      <th>lon</th>\n",
              "    </tr>\n",
              "  </thead>\n",
              "  <tbody>\n",
              "    <tr>\n",
              "      <th>서울</th>\n",
              "      <td>37.566418</td>\n",
              "      <td>126.977950</td>\n",
              "    </tr>\n",
              "    <tr>\n",
              "      <th>부산</th>\n",
              "      <td>35.180152</td>\n",
              "      <td>129.074980</td>\n",
              "    </tr>\n",
              "    <tr>\n",
              "      <th>대구</th>\n",
              "      <td>35.871468</td>\n",
              "      <td>128.601757</td>\n",
              "    </tr>\n",
              "    <tr>\n",
              "      <th>인천</th>\n",
              "      <td>37.456445</td>\n",
              "      <td>126.705873</td>\n",
              "    </tr>\n",
              "    <tr>\n",
              "      <th>광주</th>\n",
              "      <td>35.160068</td>\n",
              "      <td>126.851426</td>\n",
              "    </tr>\n",
              "    <tr>\n",
              "      <th>대전</th>\n",
              "      <td>36.350664</td>\n",
              "      <td>127.384819</td>\n",
              "    </tr>\n",
              "    <tr>\n",
              "      <th>울산</th>\n",
              "      <td>35.539772</td>\n",
              "      <td>129.311486</td>\n",
              "    </tr>\n",
              "    <tr>\n",
              "      <th>세종</th>\n",
              "      <td>36.480838</td>\n",
              "      <td>127.289181</td>\n",
              "    </tr>\n",
              "    <tr>\n",
              "      <th>경기</th>\n",
              "      <td>37.275221</td>\n",
              "      <td>127.009382</td>\n",
              "    </tr>\n",
              "    <tr>\n",
              "      <th>강원</th>\n",
              "      <td>37.885300</td>\n",
              "      <td>127.729835</td>\n",
              "    </tr>\n",
              "    <tr>\n",
              "      <th>충북</th>\n",
              "      <td>36.635947</td>\n",
              "      <td>127.491345</td>\n",
              "    </tr>\n",
              "    <tr>\n",
              "      <th>충남</th>\n",
              "      <td>36.658826</td>\n",
              "      <td>126.672849</td>\n",
              "    </tr>\n",
              "    <tr>\n",
              "      <th>전북</th>\n",
              "      <td>35.820599</td>\n",
              "      <td>127.108759</td>\n",
              "    </tr>\n",
              "    <tr>\n",
              "      <th>전남</th>\n",
              "      <td>34.816351</td>\n",
              "      <td>126.462924</td>\n",
              "    </tr>\n",
              "    <tr>\n",
              "      <th>경북</th>\n",
              "      <td>36.574108</td>\n",
              "      <td>128.509303</td>\n",
              "    </tr>\n",
              "    <tr>\n",
              "      <th>경남</th>\n",
              "      <td>35.238398</td>\n",
              "      <td>128.692371</td>\n",
              "    </tr>\n",
              "    <tr>\n",
              "      <th>제주</th>\n",
              "      <td>33.361701</td>\n",
              "      <td>126.511657</td>\n",
              "    </tr>\n",
              "  </tbody>\n",
              "</table>\n",
              "</div>\n",
              "      <button class=\"colab-df-convert\" onclick=\"convertToInteractive('df-a78e0d4b-43f7-447a-8b9f-769f3ca20e67')\"\n",
              "              title=\"Convert this dataframe to an interactive table.\"\n",
              "              style=\"display:none;\">\n",
              "        \n",
              "  <svg xmlns=\"http://www.w3.org/2000/svg\" height=\"24px\"viewBox=\"0 0 24 24\"\n",
              "       width=\"24px\">\n",
              "    <path d=\"M0 0h24v24H0V0z\" fill=\"none\"/>\n",
              "    <path d=\"M18.56 5.44l.94 2.06.94-2.06 2.06-.94-2.06-.94-.94-2.06-.94 2.06-2.06.94zm-11 1L8.5 8.5l.94-2.06 2.06-.94-2.06-.94L8.5 2.5l-.94 2.06-2.06.94zm10 10l.94 2.06.94-2.06 2.06-.94-2.06-.94-.94-2.06-.94 2.06-2.06.94z\"/><path d=\"M17.41 7.96l-1.37-1.37c-.4-.4-.92-.59-1.43-.59-.52 0-1.04.2-1.43.59L10.3 9.45l-7.72 7.72c-.78.78-.78 2.05 0 2.83L4 21.41c.39.39.9.59 1.41.59.51 0 1.02-.2 1.41-.59l7.78-7.78 2.81-2.81c.8-.78.8-2.07 0-2.86zM5.41 20L4 18.59l7.72-7.72 1.47 1.35L5.41 20z\"/>\n",
              "  </svg>\n",
              "      </button>\n",
              "      \n",
              "  <style>\n",
              "    .colab-df-container {\n",
              "      display:flex;\n",
              "      flex-wrap:wrap;\n",
              "      gap: 12px;\n",
              "    }\n",
              "\n",
              "    .colab-df-convert {\n",
              "      background-color: #E8F0FE;\n",
              "      border: none;\n",
              "      border-radius: 50%;\n",
              "      cursor: pointer;\n",
              "      display: none;\n",
              "      fill: #1967D2;\n",
              "      height: 32px;\n",
              "      padding: 0 0 0 0;\n",
              "      width: 32px;\n",
              "    }\n",
              "\n",
              "    .colab-df-convert:hover {\n",
              "      background-color: #E2EBFA;\n",
              "      box-shadow: 0px 1px 2px rgba(60, 64, 67, 0.3), 0px 1px 3px 1px rgba(60, 64, 67, 0.15);\n",
              "      fill: #174EA6;\n",
              "    }\n",
              "\n",
              "    [theme=dark] .colab-df-convert {\n",
              "      background-color: #3B4455;\n",
              "      fill: #D2E3FC;\n",
              "    }\n",
              "\n",
              "    [theme=dark] .colab-df-convert:hover {\n",
              "      background-color: #434B5C;\n",
              "      box-shadow: 0px 1px 3px 1px rgba(0, 0, 0, 0.15);\n",
              "      filter: drop-shadow(0px 1px 2px rgba(0, 0, 0, 0.3));\n",
              "      fill: #FFFFFF;\n",
              "    }\n",
              "  </style>\n",
              "\n",
              "      <script>\n",
              "        const buttonEl =\n",
              "          document.querySelector('#df-a78e0d4b-43f7-447a-8b9f-769f3ca20e67 button.colab-df-convert');\n",
              "        buttonEl.style.display =\n",
              "          google.colab.kernel.accessAllowed ? 'block' : 'none';\n",
              "\n",
              "        async function convertToInteractive(key) {\n",
              "          const element = document.querySelector('#df-a78e0d4b-43f7-447a-8b9f-769f3ca20e67');\n",
              "          const dataTable =\n",
              "            await google.colab.kernel.invokeFunction('convertToInteractive',\n",
              "                                                     [key], {});\n",
              "          if (!dataTable) return;\n",
              "\n",
              "          const docLinkHtml = 'Like what you see? Visit the ' +\n",
              "            '<a target=\"_blank\" href=https://colab.research.google.com/notebooks/data_table.ipynb>data table notebook</a>'\n",
              "            + ' to learn more about interactive tables.';\n",
              "          element.innerHTML = '';\n",
              "          dataTable['output_type'] = 'display_data';\n",
              "          await google.colab.output.renderOutput(dataTable, element);\n",
              "          const docLink = document.createElement('div');\n",
              "          docLink.innerHTML = docLinkHtml;\n",
              "          element.appendChild(docLink);\n",
              "        }\n",
              "      </script>\n",
              "    </div>\n",
              "  </div>\n",
              "  "
            ]
          },
          "metadata": {},
          "execution_count": 42
        }
      ]
    },
    {
      "cell_type": "code",
      "source": [
        "# 지도 관련 라이브러리\n",
        "!pip install folium"
      ],
      "metadata": {
        "colab": {
          "base_uri": "https://localhost:8080/"
        },
        "id": "JW4Hefz_3VnN",
        "outputId": "ccc5a516-f710-4413-cc0b-8b95644af62d"
      },
      "execution_count": 43,
      "outputs": [
        {
          "output_type": "stream",
          "name": "stdout",
          "text": [
            "Looking in indexes: https://pypi.org/simple, https://us-python.pkg.dev/colab-wheels/public/simple/\n",
            "Requirement already satisfied: folium in /usr/local/lib/python3.10/dist-packages (0.14.0)\n",
            "Requirement already satisfied: branca>=0.6.0 in /usr/local/lib/python3.10/dist-packages (from folium) (0.6.0)\n",
            "Requirement already satisfied: jinja2>=2.9 in /usr/local/lib/python3.10/dist-packages (from folium) (3.1.2)\n",
            "Requirement already satisfied: numpy in /usr/local/lib/python3.10/dist-packages (from folium) (1.22.4)\n",
            "Requirement already satisfied: requests in /usr/local/lib/python3.10/dist-packages (from folium) (2.27.1)\n",
            "Requirement already satisfied: MarkupSafe>=2.0 in /usr/local/lib/python3.10/dist-packages (from jinja2>=2.9->folium) (2.1.2)\n",
            "Requirement already satisfied: urllib3<1.27,>=1.21.1 in /usr/local/lib/python3.10/dist-packages (from requests->folium) (1.26.15)\n",
            "Requirement already satisfied: certifi>=2017.4.17 in /usr/local/lib/python3.10/dist-packages (from requests->folium) (2022.12.7)\n",
            "Requirement already satisfied: charset-normalizer~=2.0.0 in /usr/local/lib/python3.10/dist-packages (from requests->folium) (2.0.12)\n",
            "Requirement already satisfied: idna<4,>=2.5 in /usr/local/lib/python3.10/dist-packages (from requests->folium) (3.4)\n"
          ]
        }
      ]
    },
    {
      "cell_type": "code",
      "source": [
        "import folium"
      ],
      "metadata": {
        "id": "BMi2BgUg3XKL"
      },
      "execution_count": 44,
      "outputs": []
    },
    {
      "cell_type": "code",
      "source": [
        "map_osm = folium.Map(location=[33.361701, 126.511657], zoom_start=7)\n",
        "map_osm"
      ],
      "metadata": {
        "colab": {
          "base_uri": "https://localhost:8080/",
          "height": 425
        },
        "id": "n9elwm263ZNi",
        "outputId": "cf0513d6-fd58-46d2-f6bf-95769ae4e101"
      },
      "execution_count": 45,
      "outputs": [
        {
          "output_type": "execute_result",
          "data": {
            "text/plain": [
              "<folium.folium.Map at 0x7f0eefecf490>"
            ],
            "text/html": [
              "<div style=\"width:100%;\"><div style=\"position:relative;width:100%;height:0;padding-bottom:60%;\"><span style=\"color:#565656\">Make this Notebook Trusted to load map: File -> Trust Notebook</span><iframe srcdoc=\"&lt;!DOCTYPE html&gt;\n",
              "&lt;html&gt;\n",
              "&lt;head&gt;\n",
              "    \n",
              "    &lt;meta http-equiv=&quot;content-type&quot; content=&quot;text/html; charset=UTF-8&quot; /&gt;\n",
              "    \n",
              "        &lt;script&gt;\n",
              "            L_NO_TOUCH = false;\n",
              "            L_DISABLE_3D = false;\n",
              "        &lt;/script&gt;\n",
              "    \n",
              "    &lt;style&gt;html, body {width: 100%;height: 100%;margin: 0;padding: 0;}&lt;/style&gt;\n",
              "    &lt;style&gt;#map {position:absolute;top:0;bottom:0;right:0;left:0;}&lt;/style&gt;\n",
              "    &lt;script src=&quot;https://cdn.jsdelivr.net/npm/leaflet@1.9.3/dist/leaflet.js&quot;&gt;&lt;/script&gt;\n",
              "    &lt;script src=&quot;https://code.jquery.com/jquery-1.12.4.min.js&quot;&gt;&lt;/script&gt;\n",
              "    &lt;script src=&quot;https://cdn.jsdelivr.net/npm/bootstrap@5.2.2/dist/js/bootstrap.bundle.min.js&quot;&gt;&lt;/script&gt;\n",
              "    &lt;script src=&quot;https://cdnjs.cloudflare.com/ajax/libs/Leaflet.awesome-markers/2.0.2/leaflet.awesome-markers.js&quot;&gt;&lt;/script&gt;\n",
              "    &lt;link rel=&quot;stylesheet&quot; href=&quot;https://cdn.jsdelivr.net/npm/leaflet@1.9.3/dist/leaflet.css&quot;/&gt;\n",
              "    &lt;link rel=&quot;stylesheet&quot; href=&quot;https://cdn.jsdelivr.net/npm/bootstrap@5.2.2/dist/css/bootstrap.min.css&quot;/&gt;\n",
              "    &lt;link rel=&quot;stylesheet&quot; href=&quot;https://netdna.bootstrapcdn.com/bootstrap/3.0.0/css/bootstrap.min.css&quot;/&gt;\n",
              "    &lt;link rel=&quot;stylesheet&quot; href=&quot;https://cdn.jsdelivr.net/npm/@fortawesome/fontawesome-free@6.2.0/css/all.min.css&quot;/&gt;\n",
              "    &lt;link rel=&quot;stylesheet&quot; href=&quot;https://cdnjs.cloudflare.com/ajax/libs/Leaflet.awesome-markers/2.0.2/leaflet.awesome-markers.css&quot;/&gt;\n",
              "    &lt;link rel=&quot;stylesheet&quot; href=&quot;https://cdn.jsdelivr.net/gh/python-visualization/folium/folium/templates/leaflet.awesome.rotate.min.css&quot;/&gt;\n",
              "    \n",
              "            &lt;meta name=&quot;viewport&quot; content=&quot;width=device-width,\n",
              "                initial-scale=1.0, maximum-scale=1.0, user-scalable=no&quot; /&gt;\n",
              "            &lt;style&gt;\n",
              "                #map_eac6bc2b1eac4df6f34fcabfd2572af7 {\n",
              "                    position: relative;\n",
              "                    width: 100.0%;\n",
              "                    height: 100.0%;\n",
              "                    left: 0.0%;\n",
              "                    top: 0.0%;\n",
              "                }\n",
              "                .leaflet-container { font-size: 1rem; }\n",
              "            &lt;/style&gt;\n",
              "        \n",
              "&lt;/head&gt;\n",
              "&lt;body&gt;\n",
              "    \n",
              "    \n",
              "            &lt;div class=&quot;folium-map&quot; id=&quot;map_eac6bc2b1eac4df6f34fcabfd2572af7&quot; &gt;&lt;/div&gt;\n",
              "        \n",
              "&lt;/body&gt;\n",
              "&lt;script&gt;\n",
              "    \n",
              "    \n",
              "            var map_eac6bc2b1eac4df6f34fcabfd2572af7 = L.map(\n",
              "                &quot;map_eac6bc2b1eac4df6f34fcabfd2572af7&quot;,\n",
              "                {\n",
              "                    center: [33.361701, 126.511657],\n",
              "                    crs: L.CRS.EPSG3857,\n",
              "                    zoom: 7,\n",
              "                    zoomControl: true,\n",
              "                    preferCanvas: false,\n",
              "                }\n",
              "            );\n",
              "\n",
              "            \n",
              "\n",
              "        \n",
              "    \n",
              "            var tile_layer_649c7669e70ed30c699ebd8b398ba994 = L.tileLayer(\n",
              "                &quot;https://{s}.tile.openstreetmap.org/{z}/{x}/{y}.png&quot;,\n",
              "                {&quot;attribution&quot;: &quot;Data by \\u0026copy; \\u003ca target=\\&quot;_blank\\&quot; href=\\&quot;http://openstreetmap.org\\&quot;\\u003eOpenStreetMap\\u003c/a\\u003e, under \\u003ca target=\\&quot;_blank\\&quot; href=\\&quot;http://www.openstreetmap.org/copyright\\&quot;\\u003eODbL\\u003c/a\\u003e.&quot;, &quot;detectRetina&quot;: false, &quot;maxNativeZoom&quot;: 18, &quot;maxZoom&quot;: 18, &quot;minZoom&quot;: 0, &quot;noWrap&quot;: false, &quot;opacity&quot;: 1, &quot;subdomains&quot;: &quot;abc&quot;, &quot;tms&quot;: false}\n",
              "            ).addTo(map_eac6bc2b1eac4df6f34fcabfd2572af7);\n",
              "        \n",
              "&lt;/script&gt;\n",
              "&lt;/html&gt;\" style=\"position:absolute;width:100%;height:100%;left:0;top:0;border:none !important;\" allowfullscreen webkitallowfullscreen mozallowfullscreen></iframe></div></div>"
            ]
          },
          "metadata": {},
          "execution_count": 45
        }
      ]
    },
    {
      "cell_type": "code",
      "source": [
        "from folium.plugins import MarkerCluster\n",
        "\n",
        "marker_cluster = MarkerCluster().add_to(map_osm)\n",
        "\n",
        "folium.Marker(jeju, popup=jeju, icon=folium.Icon(color='red', icon='star')).add_to(marker_cluster)\n",
        "\n",
        "map_osm"
      ],
      "metadata": {
        "colab": {
          "base_uri": "https://localhost:8080/",
          "height": 1000
        },
        "id": "ZEMVHNWn3g-4",
        "outputId": "d6206675-7c65-4452-9c64-76a78c43f293"
      },
      "execution_count": 46,
      "outputs": [
        {
          "output_type": "error",
          "ename": "ValueError",
          "evalue": "ignored",
          "traceback": [
            "\u001b[0;31m---------------------------------------------------------------------------\u001b[0m",
            "\u001b[0;31mValueError\u001b[0m                                Traceback (most recent call last)",
            "\u001b[0;32m<ipython-input-46-d7b906c5847e>\u001b[0m in \u001b[0;36m<cell line: 5>\u001b[0;34m()\u001b[0m\n\u001b[1;32m      3\u001b[0m \u001b[0mmarker_cluster\u001b[0m \u001b[0;34m=\u001b[0m \u001b[0mMarkerCluster\u001b[0m\u001b[0;34m(\u001b[0m\u001b[0;34m)\u001b[0m\u001b[0;34m.\u001b[0m\u001b[0madd_to\u001b[0m\u001b[0;34m(\u001b[0m\u001b[0mmap_osm\u001b[0m\u001b[0;34m)\u001b[0m\u001b[0;34m\u001b[0m\u001b[0;34m\u001b[0m\u001b[0m\n\u001b[1;32m      4\u001b[0m \u001b[0;34m\u001b[0m\u001b[0m\n\u001b[0;32m----> 5\u001b[0;31m \u001b[0mfolium\u001b[0m\u001b[0;34m.\u001b[0m\u001b[0mMarker\u001b[0m\u001b[0;34m(\u001b[0m\u001b[0mjeju\u001b[0m\u001b[0;34m,\u001b[0m \u001b[0mpopup\u001b[0m\u001b[0;34m=\u001b[0m\u001b[0mjeju\u001b[0m\u001b[0;34m,\u001b[0m \u001b[0micon\u001b[0m\u001b[0;34m=\u001b[0m\u001b[0mfolium\u001b[0m\u001b[0;34m.\u001b[0m\u001b[0mIcon\u001b[0m\u001b[0;34m(\u001b[0m\u001b[0mcolor\u001b[0m\u001b[0;34m=\u001b[0m\u001b[0;34m'red'\u001b[0m\u001b[0;34m,\u001b[0m \u001b[0micon\u001b[0m\u001b[0;34m=\u001b[0m\u001b[0;34m'star'\u001b[0m\u001b[0;34m)\u001b[0m\u001b[0;34m)\u001b[0m\u001b[0;34m.\u001b[0m\u001b[0madd_to\u001b[0m\u001b[0;34m(\u001b[0m\u001b[0mmarker_cluster\u001b[0m\u001b[0;34m)\u001b[0m\u001b[0;34m\u001b[0m\u001b[0;34m\u001b[0m\u001b[0m\n\u001b[0m\u001b[1;32m      6\u001b[0m \u001b[0;34m\u001b[0m\u001b[0m\n\u001b[1;32m      7\u001b[0m \u001b[0mmap_osm\u001b[0m\u001b[0;34m\u001b[0m\u001b[0;34m\u001b[0m\u001b[0m\n",
            "\u001b[0;32m/usr/local/lib/python3.10/dist-packages/folium/map.py\u001b[0m in \u001b[0;36m__init__\u001b[0;34m(self, location, popup, tooltip, icon, draggable, **kwargs)\u001b[0m\n\u001b[1;32m    324\u001b[0m         \u001b[0msuper\u001b[0m\u001b[0;34m(\u001b[0m\u001b[0;34m)\u001b[0m\u001b[0;34m.\u001b[0m\u001b[0m__init__\u001b[0m\u001b[0;34m(\u001b[0m\u001b[0;34m)\u001b[0m\u001b[0;34m\u001b[0m\u001b[0;34m\u001b[0m\u001b[0m\n\u001b[1;32m    325\u001b[0m         \u001b[0mself\u001b[0m\u001b[0;34m.\u001b[0m\u001b[0m_name\u001b[0m \u001b[0;34m=\u001b[0m \u001b[0;34m\"Marker\"\u001b[0m\u001b[0;34m\u001b[0m\u001b[0;34m\u001b[0m\u001b[0m\n\u001b[0;32m--> 326\u001b[0;31m         \u001b[0mself\u001b[0m\u001b[0;34m.\u001b[0m\u001b[0mlocation\u001b[0m \u001b[0;34m=\u001b[0m \u001b[0mvalidate_location\u001b[0m\u001b[0;34m(\u001b[0m\u001b[0mlocation\u001b[0m\u001b[0;34m)\u001b[0m \u001b[0;32mif\u001b[0m \u001b[0mlocation\u001b[0m \u001b[0;32mis\u001b[0m \u001b[0;32mnot\u001b[0m \u001b[0;32mNone\u001b[0m \u001b[0;32melse\u001b[0m \u001b[0;32mNone\u001b[0m\u001b[0;34m\u001b[0m\u001b[0;34m\u001b[0m\u001b[0m\n\u001b[0m\u001b[1;32m    327\u001b[0m         self.options = parse_options(\n\u001b[1;32m    328\u001b[0m             \u001b[0mdraggable\u001b[0m\u001b[0;34m=\u001b[0m\u001b[0mdraggable\u001b[0m \u001b[0;32mor\u001b[0m \u001b[0;32mNone\u001b[0m\u001b[0;34m,\u001b[0m \u001b[0mautoPan\u001b[0m\u001b[0;34m=\u001b[0m\u001b[0mdraggable\u001b[0m \u001b[0;32mor\u001b[0m \u001b[0;32mNone\u001b[0m\u001b[0;34m,\u001b[0m \u001b[0;34m**\u001b[0m\u001b[0mkwargs\u001b[0m\u001b[0;34m\u001b[0m\u001b[0;34m\u001b[0m\u001b[0m\n",
            "\u001b[0;32m/usr/local/lib/python3.10/dist-packages/folium/utilities.py\u001b[0m in \u001b[0;36mvalidate_location\u001b[0;34m(location)\u001b[0m\n\u001b[1;32m     52\u001b[0m         )\n\u001b[1;32m     53\u001b[0m     \u001b[0;32mif\u001b[0m \u001b[0mlen\u001b[0m\u001b[0;34m(\u001b[0m\u001b[0mlocation\u001b[0m\u001b[0;34m)\u001b[0m \u001b[0;34m!=\u001b[0m \u001b[0;36m2\u001b[0m\u001b[0;34m:\u001b[0m\u001b[0;34m\u001b[0m\u001b[0;34m\u001b[0m\u001b[0m\n\u001b[0;32m---> 54\u001b[0;31m         raise ValueError(\n\u001b[0m\u001b[1;32m     55\u001b[0m             \u001b[0;34m\"Expected two (lat, lon) values for location, \"\u001b[0m\u001b[0;34m\u001b[0m\u001b[0;34m\u001b[0m\u001b[0m\n\u001b[1;32m     56\u001b[0m             \u001b[0;34m\"instead got: {!r}.\"\u001b[0m\u001b[0;34m.\u001b[0m\u001b[0mformat\u001b[0m\u001b[0;34m(\u001b[0m\u001b[0mlocation\u001b[0m\u001b[0;34m)\u001b[0m\u001b[0;34m\u001b[0m\u001b[0;34m\u001b[0m\u001b[0m\n",
            "\u001b[0;31mValueError\u001b[0m: Expected two (lat, lon) values for location, instead got: day\n2020-03-01    2\n2020-03-02    2\n2020-03-03    3\n2020-03-04    3\n2020-03-05    4\n2020-03-06    4\n2020-03-07    4\n2020-03-08    4\n2020-03-09    4\n2020-03-10    4\n2020-03-11    4\n2020-03-12    4\n2020-03-13    4\n2020-03-14    4\n2020-03-15    4\n2020-03-16    4\n2020-03-17    4\n2020-03-18    4\n2020-03-19    4\n2020-03-20    4\n2020-03-21    4\n2020-03-22    4\n2020-03-23    4\n2020-03-24    4\n2020-03-25    6\n2020-03-26    6\n2020-03-27    7\n2020-03-28    8\n2020-03-29    8\n2020-03-30    9\n2020-03-31    9\n2020-04-01    9\nName: 제주, dtype: int64."
          ]
        }
      ]
    },
    {
      "cell_type": "code",
      "source": [
        "# 각 지역별로 마커찍기 -> 자습시간\n",
        "# 지역별 확진자 합(데이터프레임)\n",
        "# folium.Marker([위도, 경도], popup=지역의 확진자 합, icon=folium.Icon(color='red', icon='start)).add_to(marker_cluster)\n",
        "# for문 순회"
      ],
      "metadata": {
        "id": "jdasHC0g3srS"
      },
      "execution_count": 47,
      "outputs": []
    },
    {
      "cell_type": "code",
      "source": [
        "kr = pd.read_csv('/content/total_.csv')\n",
        "kr.head()"
      ],
      "metadata": {
        "colab": {
          "base_uri": "https://localhost:8080/",
          "height": 206
        },
        "id": "bTG_Gbl63uwQ",
        "outputId": "45911f10-5b87-4a0f-d32a-1f938e8c17ab"
      },
      "execution_count": 49,
      "outputs": [
        {
          "output_type": "execute_result",
          "data": {
            "text/plain": [
              "         date      총계   확진자  격리해제   격리중  사망    검사중   결과 음성\n",
              "0  2020-03-01   96985  3526    30  3479  17  32422   61037\n",
              "1  2020-03-02  109591  4212    31  4159  22  33799   71580\n",
              "2  2020-03-03  125851  4812    34  4750  28  35555   85484\n",
              "3  2020-03-04  136707  5328    41  5255  32  28414  102965\n",
              "4  2020-03-05  146541  5766    88  5643  35  21810  118965"
            ],
            "text/html": [
              "\n",
              "  <div id=\"df-366b8f3e-25e4-47dd-9e39-6081bc6c3bab\">\n",
              "    <div class=\"colab-df-container\">\n",
              "      <div>\n",
              "<style scoped>\n",
              "    .dataframe tbody tr th:only-of-type {\n",
              "        vertical-align: middle;\n",
              "    }\n",
              "\n",
              "    .dataframe tbody tr th {\n",
              "        vertical-align: top;\n",
              "    }\n",
              "\n",
              "    .dataframe thead th {\n",
              "        text-align: right;\n",
              "    }\n",
              "</style>\n",
              "<table border=\"1\" class=\"dataframe\">\n",
              "  <thead>\n",
              "    <tr style=\"text-align: right;\">\n",
              "      <th></th>\n",
              "      <th>date</th>\n",
              "      <th>총계</th>\n",
              "      <th>확진자</th>\n",
              "      <th>격리해제</th>\n",
              "      <th>격리중</th>\n",
              "      <th>사망</th>\n",
              "      <th>검사중</th>\n",
              "      <th>결과 음성</th>\n",
              "    </tr>\n",
              "  </thead>\n",
              "  <tbody>\n",
              "    <tr>\n",
              "      <th>0</th>\n",
              "      <td>2020-03-01</td>\n",
              "      <td>96985</td>\n",
              "      <td>3526</td>\n",
              "      <td>30</td>\n",
              "      <td>3479</td>\n",
              "      <td>17</td>\n",
              "      <td>32422</td>\n",
              "      <td>61037</td>\n",
              "    </tr>\n",
              "    <tr>\n",
              "      <th>1</th>\n",
              "      <td>2020-03-02</td>\n",
              "      <td>109591</td>\n",
              "      <td>4212</td>\n",
              "      <td>31</td>\n",
              "      <td>4159</td>\n",
              "      <td>22</td>\n",
              "      <td>33799</td>\n",
              "      <td>71580</td>\n",
              "    </tr>\n",
              "    <tr>\n",
              "      <th>2</th>\n",
              "      <td>2020-03-03</td>\n",
              "      <td>125851</td>\n",
              "      <td>4812</td>\n",
              "      <td>34</td>\n",
              "      <td>4750</td>\n",
              "      <td>28</td>\n",
              "      <td>35555</td>\n",
              "      <td>85484</td>\n",
              "    </tr>\n",
              "    <tr>\n",
              "      <th>3</th>\n",
              "      <td>2020-03-04</td>\n",
              "      <td>136707</td>\n",
              "      <td>5328</td>\n",
              "      <td>41</td>\n",
              "      <td>5255</td>\n",
              "      <td>32</td>\n",
              "      <td>28414</td>\n",
              "      <td>102965</td>\n",
              "    </tr>\n",
              "    <tr>\n",
              "      <th>4</th>\n",
              "      <td>2020-03-05</td>\n",
              "      <td>146541</td>\n",
              "      <td>5766</td>\n",
              "      <td>88</td>\n",
              "      <td>5643</td>\n",
              "      <td>35</td>\n",
              "      <td>21810</td>\n",
              "      <td>118965</td>\n",
              "    </tr>\n",
              "  </tbody>\n",
              "</table>\n",
              "</div>\n",
              "      <button class=\"colab-df-convert\" onclick=\"convertToInteractive('df-366b8f3e-25e4-47dd-9e39-6081bc6c3bab')\"\n",
              "              title=\"Convert this dataframe to an interactive table.\"\n",
              "              style=\"display:none;\">\n",
              "        \n",
              "  <svg xmlns=\"http://www.w3.org/2000/svg\" height=\"24px\"viewBox=\"0 0 24 24\"\n",
              "       width=\"24px\">\n",
              "    <path d=\"M0 0h24v24H0V0z\" fill=\"none\"/>\n",
              "    <path d=\"M18.56 5.44l.94 2.06.94-2.06 2.06-.94-2.06-.94-.94-2.06-.94 2.06-2.06.94zm-11 1L8.5 8.5l.94-2.06 2.06-.94-2.06-.94L8.5 2.5l-.94 2.06-2.06.94zm10 10l.94 2.06.94-2.06 2.06-.94-2.06-.94-.94-2.06-.94 2.06-2.06.94z\"/><path d=\"M17.41 7.96l-1.37-1.37c-.4-.4-.92-.59-1.43-.59-.52 0-1.04.2-1.43.59L10.3 9.45l-7.72 7.72c-.78.78-.78 2.05 0 2.83L4 21.41c.39.39.9.59 1.41.59.51 0 1.02-.2 1.41-.59l7.78-7.78 2.81-2.81c.8-.78.8-2.07 0-2.86zM5.41 20L4 18.59l7.72-7.72 1.47 1.35L5.41 20z\"/>\n",
              "  </svg>\n",
              "      </button>\n",
              "      \n",
              "  <style>\n",
              "    .colab-df-container {\n",
              "      display:flex;\n",
              "      flex-wrap:wrap;\n",
              "      gap: 12px;\n",
              "    }\n",
              "\n",
              "    .colab-df-convert {\n",
              "      background-color: #E8F0FE;\n",
              "      border: none;\n",
              "      border-radius: 50%;\n",
              "      cursor: pointer;\n",
              "      display: none;\n",
              "      fill: #1967D2;\n",
              "      height: 32px;\n",
              "      padding: 0 0 0 0;\n",
              "      width: 32px;\n",
              "    }\n",
              "\n",
              "    .colab-df-convert:hover {\n",
              "      background-color: #E2EBFA;\n",
              "      box-shadow: 0px 1px 2px rgba(60, 64, 67, 0.3), 0px 1px 3px 1px rgba(60, 64, 67, 0.15);\n",
              "      fill: #174EA6;\n",
              "    }\n",
              "\n",
              "    [theme=dark] .colab-df-convert {\n",
              "      background-color: #3B4455;\n",
              "      fill: #D2E3FC;\n",
              "    }\n",
              "\n",
              "    [theme=dark] .colab-df-convert:hover {\n",
              "      background-color: #434B5C;\n",
              "      box-shadow: 0px 1px 3px 1px rgba(0, 0, 0, 0.15);\n",
              "      filter: drop-shadow(0px 1px 2px rgba(0, 0, 0, 0.3));\n",
              "      fill: #FFFFFF;\n",
              "    }\n",
              "  </style>\n",
              "\n",
              "      <script>\n",
              "        const buttonEl =\n",
              "          document.querySelector('#df-366b8f3e-25e4-47dd-9e39-6081bc6c3bab button.colab-df-convert');\n",
              "        buttonEl.style.display =\n",
              "          google.colab.kernel.accessAllowed ? 'block' : 'none';\n",
              "\n",
              "        async function convertToInteractive(key) {\n",
              "          const element = document.querySelector('#df-366b8f3e-25e4-47dd-9e39-6081bc6c3bab');\n",
              "          const dataTable =\n",
              "            await google.colab.kernel.invokeFunction('convertToInteractive',\n",
              "                                                     [key], {});\n",
              "          if (!dataTable) return;\n",
              "\n",
              "          const docLinkHtml = 'Like what you see? Visit the ' +\n",
              "            '<a target=\"_blank\" href=https://colab.research.google.com/notebooks/data_table.ipynb>data table notebook</a>'\n",
              "            + ' to learn more about interactive tables.';\n",
              "          element.innerHTML = '';\n",
              "          dataTable['output_type'] = 'display_data';\n",
              "          await google.colab.output.renderOutput(dataTable, element);\n",
              "          const docLink = document.createElement('div');\n",
              "          docLink.innerHTML = docLinkHtml;\n",
              "          element.appendChild(docLink);\n",
              "        }\n",
              "      </script>\n",
              "    </div>\n",
              "  </div>\n",
              "  "
            ]
          },
          "metadata": {},
          "execution_count": 49
        }
      ]
    },
    {
      "cell_type": "code",
      "source": [
        "kr = kr.set_index('date')"
      ],
      "metadata": {
        "id": "kIrmjczi4C9Z"
      },
      "execution_count": 50,
      "outputs": []
    },
    {
      "cell_type": "code",
      "source": [
        "kr.index = pd.to_datetime(kr.index, format='%Y-%m-%d')"
      ],
      "metadata": {
        "id": "QBh96JTx4FmI"
      },
      "execution_count": 51,
      "outputs": []
    },
    {
      "cell_type": "code",
      "source": [
        "# 데이터 타입들 중 컬럼들이 서로 상관성이 있거나 반대 성향(경향)이 있으면 서로 비교 -> 상관관계 , 상관계수\n",
        "pos = kr['확진자']\n",
        "neg = kr['결과 음성']"
      ],
      "metadata": {
        "id": "5ulG7sqh4OuZ"
      },
      "execution_count": 52,
      "outputs": []
    },
    {
      "cell_type": "code",
      "source": [
        "plt.plot(pos)\n",
        "plt.plot(neg, 'o')\n",
        "\n",
        "plt.show()"
      ],
      "metadata": {
        "colab": {
          "base_uri": "https://localhost:8080/",
          "height": 429
        },
        "id": "BTO_G2Q24Sc_",
        "outputId": "362d3b76-af22-47c2-e58d-009cf8a563c0"
      },
      "execution_count": 53,
      "outputs": [
        {
          "output_type": "display_data",
          "data": {
            "text/plain": [
              "<Figure size 640x480 with 1 Axes>"
            ],
            "image/png": "[encoded data removed]"
          },
          "metadata": {}
        }
      ]
    },
    {
      "cell_type": "code",
      "source": [
        "sum_p = pos.sum()\n",
        "sum_p\n",
        "sum_n = neg.sum()\n",
        "sum_n"
      ],
      "metadata": {
        "colab": {
          "base_uri": "https://localhost:8080/"
        },
        "id": "0ghSwdre4T5w",
        "outputId": "9659ff97-1a91-4e97-b833-7e598cc72320"
      },
      "execution_count": 54,
      "outputs": [
        {
          "output_type": "execute_result",
          "data": {
            "text/plain": [
              "7873877"
            ]
          },
          "metadata": {},
          "execution_count": 54
        }
      ]
    },
    {
      "cell_type": "code",
      "source": [
        "# 몇 명 -> 합\n",
        "plt.bar('postive', sum_p)\n",
        "plt.bar('negative', sum_n)\n",
        "plt.show() # 비교되는 두 가지는 딱 두 가지가 시각적으로 들어오게"
      ],
      "metadata": {
        "colab": {
          "base_uri": "https://localhost:8080/",
          "height": 443
        },
        "id": "3jeGfOtq4aaE",
        "outputId": "ef657a53-e7e6-4236-c8af-bafe9ce79af8"
      },
      "execution_count": 55,
      "outputs": [
        {
          "output_type": "display_data",
          "data": {
            "text/plain": [
              "<Figure size 640x480 with 1 Axes>"
            ],
            "image/png": "[encoded data removed]"
          },
          "metadata": {}
        }
      ]
    },
    {
      "cell_type": "code",
      "source": [
        "\n",
        "plt.figure(figsize=(15, 10))\n",
        "\n",
        "plt.subplot(1, 2, 1)\n",
        "plt.plot(d_p, 'or')\n",
        "\n",
        "plt.subplot(1, 2, 2)\n",
        "plt.bar(death.index, death)\n",
        "\n",
        "plt.show()\n",
        "# 내가 새롭게 만든 데이터가 같은 경향 -> 제대로 변환을 했다"
      ],
      "metadata": {
        "colab": {
          "base_uri": "https://localhost:8080/",
          "height": 1000
        },
        "id": "KdYFInRp4bjM",
        "outputId": "0248cb34-b4c2-4afe-cdb2-440ff2855228"
      },
      "execution_count": 56,
      "outputs": [
        {
          "output_type": "error",
          "ename": "NameError",
          "evalue": "ignored",
          "traceback": [
            "\u001b[0;31m---------------------------------------------------------------------------\u001b[0m",
            "\u001b[0;31mNameError\u001b[0m                                 Traceback (most recent call last)",
            "\u001b[0;32m<ipython-input-56-13550f10112f>\u001b[0m in \u001b[0;36m<cell line: 4>\u001b[0;34m()\u001b[0m\n\u001b[1;32m      2\u001b[0m \u001b[0;34m\u001b[0m\u001b[0m\n\u001b[1;32m      3\u001b[0m \u001b[0mplt\u001b[0m\u001b[0;34m.\u001b[0m\u001b[0msubplot\u001b[0m\u001b[0;34m(\u001b[0m\u001b[0;36m1\u001b[0m\u001b[0;34m,\u001b[0m \u001b[0;36m2\u001b[0m\u001b[0;34m,\u001b[0m \u001b[0;36m1\u001b[0m\u001b[0;34m)\u001b[0m\u001b[0;34m\u001b[0m\u001b[0;34m\u001b[0m\u001b[0m\n\u001b[0;32m----> 4\u001b[0;31m \u001b[0mplt\u001b[0m\u001b[0;34m.\u001b[0m\u001b[0mplot\u001b[0m\u001b[0;34m(\u001b[0m\u001b[0md_p\u001b[0m\u001b[0;34m,\u001b[0m \u001b[0;34m'or'\u001b[0m\u001b[0;34m)\u001b[0m\u001b[0;34m\u001b[0m\u001b[0;34m\u001b[0m\u001b[0m\n\u001b[0m\u001b[1;32m      5\u001b[0m \u001b[0;34m\u001b[0m\u001b[0m\n\u001b[1;32m      6\u001b[0m \u001b[0mplt\u001b[0m\u001b[0;34m.\u001b[0m\u001b[0msubplot\u001b[0m\u001b[0;34m(\u001b[0m\u001b[0;36m1\u001b[0m\u001b[0;34m,\u001b[0m \u001b[0;36m2\u001b[0m\u001b[0;34m,\u001b[0m \u001b[0;36m2\u001b[0m\u001b[0;34m)\u001b[0m\u001b[0;34m\u001b[0m\u001b[0;34m\u001b[0m\u001b[0m\n",
            "\u001b[0;31mNameError\u001b[0m: name 'd_p' is not defined"
          ]
        },
        {
          "output_type": "display_data",
          "data": {
            "text/plain": [
              "<Figure size 1500x1000 with 1 Axes>"
            ],
            "image/png": "[encoded data removed]"
          },
          "metadata": {}
        }
      ]
    },
    {
      "cell_type": "code",
      "source": [
        "plt.figure(figsize=(15, 8))\n",
        "plt.subplot(1, 2, 1)\n",
        "plt.bar(death.index, death)\n",
        "# d_p\n",
        "\n",
        "plt.subplot(1, 2, 2)\n",
        "plt.bar(rec.index, rec)\n",
        "# r_p\n",
        "plt.show()"
      ],
      "metadata": {
        "colab": {
          "base_uri": "https://localhost:8080/",
          "height": 908
        },
        "id": "DJCqlgWK4dZM",
        "outputId": "fece726c-631a-48de-c568-887fe7977749"
      },
      "execution_count": 57,
      "outputs": [
        {
          "output_type": "error",
          "ename": "NameError",
          "evalue": "ignored",
          "traceback": [
            "\u001b[0;31m---------------------------------------------------------------------------\u001b[0m",
            "\u001b[0;31mNameError\u001b[0m                                 Traceback (most recent call last)",
            "\u001b[0;32m<ipython-input-57-61f899fd3928>\u001b[0m in \u001b[0;36m<cell line: 3>\u001b[0;34m()\u001b[0m\n\u001b[1;32m      1\u001b[0m \u001b[0mplt\u001b[0m\u001b[0;34m.\u001b[0m\u001b[0mfigure\u001b[0m\u001b[0;34m(\u001b[0m\u001b[0mfigsize\u001b[0m\u001b[0;34m=\u001b[0m\u001b[0;34m(\u001b[0m\u001b[0;36m15\u001b[0m\u001b[0;34m,\u001b[0m \u001b[0;36m8\u001b[0m\u001b[0;34m)\u001b[0m\u001b[0;34m)\u001b[0m\u001b[0;34m\u001b[0m\u001b[0;34m\u001b[0m\u001b[0m\n\u001b[1;32m      2\u001b[0m \u001b[0mplt\u001b[0m\u001b[0;34m.\u001b[0m\u001b[0msubplot\u001b[0m\u001b[0;34m(\u001b[0m\u001b[0;36m1\u001b[0m\u001b[0;34m,\u001b[0m \u001b[0;36m2\u001b[0m\u001b[0;34m,\u001b[0m \u001b[0;36m1\u001b[0m\u001b[0;34m)\u001b[0m\u001b[0;34m\u001b[0m\u001b[0;34m\u001b[0m\u001b[0m\n\u001b[0;32m----> 3\u001b[0;31m \u001b[0mplt\u001b[0m\u001b[0;34m.\u001b[0m\u001b[0mbar\u001b[0m\u001b[0;34m(\u001b[0m\u001b[0mdeath\u001b[0m\u001b[0;34m.\u001b[0m\u001b[0mindex\u001b[0m\u001b[0;34m,\u001b[0m \u001b[0mdeath\u001b[0m\u001b[0;34m)\u001b[0m\u001b[0;34m\u001b[0m\u001b[0;34m\u001b[0m\u001b[0m\n\u001b[0m\u001b[1;32m      4\u001b[0m \u001b[0;31m# d_p\u001b[0m\u001b[0;34m\u001b[0m\u001b[0;34m\u001b[0m\u001b[0m\n\u001b[1;32m      5\u001b[0m \u001b[0;34m\u001b[0m\u001b[0m\n",
            "\u001b[0;31mNameError\u001b[0m: name 'death' is not defined"
          ]
        },
        {
          "output_type": "display_data",
          "data": {
            "text/plain": [
              "<Figure size 1500x800 with 1 Axes>"
            ],
            "image/png": "[encoded data removed]"
          },
          "metadata": {}
        }
      ]
    },
    {
      "cell_type": "code",
      "source": [],
      "metadata": {
        "id": "VqqUy1bJ4gNF"
      },
      "execution_count": null,
      "outputs": []
    },
    {
      "cell_type": "code",
      "source": [],
      "metadata": {
        "id": "jdEkEA_K30Il"
      },
      "execution_count": null,
      "outputs": []
    },
    {
      "cell_type": "code",
      "source": [],
      "metadata": {
        "id": "iVEi0xfQ1nhd"
      },
      "execution_count": null,
      "outputs": []
    },
    {
      "cell_type": "code",
      "source": [],
      "metadata": {
        "id": "fx3RrqvS0YE-"
      },
      "execution_count": null,
      "outputs": []
    },
    {
      "cell_type": "code",
      "source": [],
      "metadata": {
        "id": "M-epoC1u0Hpg"
      },
      "execution_count": null,
      "outputs": []
    },
    {
      "cell_type": "code",
      "source": [],
      "metadata": {
        "id": "LoyiDKUox5U9"
      },
      "execution_count": null,
      "outputs": []
    },
    {
      "cell_type": "code",
      "source": [],
      "metadata": {
        "id": "NsSqhgRcx5XD"
      },
      "execution_count": null,
      "outputs": []
    },
    {
      "cell_type": "code",
      "source": [],
      "metadata": {
        "id": "Jp48yDPrx5Y-"
      },
      "execution_count": null,
      "outputs": []
    },
    {
      "cell_type": "code",
      "source": [],
      "metadata": {
        "id": "VlKnnddhx5bQ"
      },
      "execution_count": null,
      "outputs": []
    },
    {
      "cell_type": "code",
      "source": [],
      "metadata": {
        "id": "9QPhripNx5dM"
      },
      "execution_count": null,
      "outputs": []
    },
    {
      "cell_type": "code",
      "source": [],
      "metadata": {
        "id": "MasZopHGx5fP"
      },
      "execution_count": null,
      "outputs": []
    },
    {
      "cell_type": "code",
      "source": [],
      "metadata": {
        "id": "wgCMi55rwk8Y"
      },
      "execution_count": null,
      "outputs": []
    },
    {
      "cell_type": "code",
      "source": [],
      "metadata": {
        "id": "O8TvvvOlwk-S"
      },
      "execution_count": null,
      "outputs": []
    },
    {
      "cell_type": "code",
      "source": [],
      "metadata": {
        "id": "YPsKtqKqwlAa"
      },
      "execution_count": null,
      "outputs": []
    },
    {
      "cell_type": "code",
      "source": [],
      "metadata": {
        "id": "qlOICHgJwlCT"
      },
      "execution_count": null,
      "outputs": []
    }
  ]
}