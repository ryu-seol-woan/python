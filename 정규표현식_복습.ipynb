{
  "nbformat": 4,
  "nbformat_minor": 0,
  "metadata": {
    "colab": {
      "provenance": []
    },
    "kernelspec": {
      "name": "python3",
      "display_name": "Python 3"
    },
    "language_info": {
      "name": "python"
    }
  },
  "cells": [
    {
      "cell_type": "code",
      "execution_count": 1,
      "metadata": {
        "colab": {
          "base_uri": "https://localhost:8080/",
          "height": 35
        },
        "id": "585UNDCFrTSQ",
        "outputId": "bf31db13-7b91-4f9a-8e21-f478ad8373c1"
      },
      "outputs": [
        {
          "output_type": "execute_result",
          "data": {
            "text/plain": [
              "'/content'"
            ],
            "application/vnd.google.colaboratory.intrinsic+json": {
              "type": "string"
            }
          },
          "metadata": {},
          "execution_count": 1
        }
      ],
      "source": [
        "# 파일의 현재 위치 확인\n",
        "# 작업을 하다보면 input / output\n",
        "\n",
        "import os\n",
        "os.getcwd()"
      ]
    },
    {
      "cell_type": "code",
      "source": [
        "os.chdir('/content')"
      ],
      "metadata": {
        "id": "f505TnaDrnSG"
      },
      "execution_count": 2,
      "outputs": []
    },
    {
      "cell_type": "code",
      "source": [
        "os.listdir()"
      ],
      "metadata": {
        "colab": {
          "base_uri": "https://localhost:8080/"
        },
        "id": "UFProkH2r9zo",
        "outputId": "d1e4a52d-9a08-466c-9ee4-bace17a56c70"
      },
      "execution_count": 3,
      "outputs": [
        {
          "output_type": "execute_result",
          "data": {
            "text/plain": [
              "['.config', 'sample_data']"
            ]
          },
          "metadata": {},
          "execution_count": 3
        }
      ]
    },
    {
      "cell_type": "code",
      "source": [
        "list_dir = os.listdir()\n",
        "print(list_dir)"
      ],
      "metadata": {
        "colab": {
          "base_uri": "https://localhost:8080/"
        },
        "id": "IyrCAsAzr_R6",
        "outputId": "562fccdd-ae5d-425a-d5b3-49b006da83c1"
      },
      "execution_count": 4,
      "outputs": [
        {
          "output_type": "stream",
          "name": "stdout",
          "text": [
            "['.config', 'sample_data']\n"
          ]
        }
      ]
    },
    {
      "cell_type": "code",
      "source": [
        "f = open('a.txt', 'w')\n",
        "f.write('안녕하세요')"
      ],
      "metadata": {
        "colab": {
          "base_uri": "https://localhost:8080/"
        },
        "id": "gBFNKwl6sD6k",
        "outputId": "3b51c279-6c06-4e76-f713-2b229cf0a148"
      },
      "execution_count": 10,
      "outputs": [
        {
          "output_type": "execute_result",
          "data": {
            "text/plain": [
              "5"
            ]
          },
          "metadata": {},
          "execution_count": 10
        }
      ]
    },
    {
      "cell_type": "code",
      "source": [],
      "metadata": {
        "id": "rxTuvAphsRj9"
      },
      "execution_count": null,
      "outputs": []
    },
    {
      "cell_type": "code",
      "source": [
        "f.close()"
      ],
      "metadata": {
        "id": "fmo_ZTlcsHPc"
      },
      "execution_count": 6,
      "outputs": []
    },
    {
      "cell_type": "code",
      "source": [
        "f = open('a.txt', 'r')\n",
        "f.read()"
      ],
      "metadata": {
        "colab": {
          "base_uri": "https://localhost:8080/",
          "height": 35
        },
        "id": "2ONHCGxKsINF",
        "outputId": "8f1381a4-d799-44cb-fd0f-ea0f44743985"
      },
      "execution_count": 13,
      "outputs": [
        {
          "output_type": "execute_result",
          "data": {
            "text/plain": [
              "'안녕하세요'"
            ],
            "application/vnd.google.colaboratory.intrinsic+json": {
              "type": "string"
            }
          },
          "metadata": {},
          "execution_count": 13
        }
      ]
    },
    {
      "cell_type": "code",
      "source": [],
      "metadata": {
        "id": "RmxsHWHusTX2"
      },
      "execution_count": null,
      "outputs": []
    },
    {
      "cell_type": "code",
      "source": [],
      "metadata": {
        "id": "isbTlgi4sSPO"
      },
      "execution_count": null,
      "outputs": []
    },
    {
      "cell_type": "code",
      "source": [],
      "metadata": {
        "id": "kg5jBTVRsOUV"
      },
      "execution_count": null,
      "outputs": []
    },
    {
      "cell_type": "code",
      "source": [
        "f.seek(0)"
      ],
      "metadata": {
        "colab": {
          "base_uri": "https://localhost:8080/"
        },
        "id": "lRiTI4JQsMDH",
        "outputId": "862cfcf4-1709-4141-d5d5-d876f4c992db"
      },
      "execution_count": 12,
      "outputs": [
        {
          "output_type": "execute_result",
          "data": {
            "text/plain": [
              "0"
            ]
          },
          "metadata": {},
          "execution_count": 12
        }
      ]
    },
    {
      "cell_type": "code",
      "source": [
        "f = open('a.txt', 'a')\n",
        "f.write('추가되는 문장이에요')"
      ],
      "metadata": {
        "colab": {
          "base_uri": "https://localhost:8080/"
        },
        "id": "1oAr20SqsS-l",
        "outputId": "309028f4-c1f5-4853-b060-ef9e1c5087d3"
      },
      "execution_count": 14,
      "outputs": [
        {
          "output_type": "execute_result",
          "data": {
            "text/plain": [
              "10"
            ]
          },
          "metadata": {},
          "execution_count": 14
        }
      ]
    },
    {
      "cell_type": "code",
      "source": [
        "f.close()"
      ],
      "metadata": {
        "id": "usbkkC0fsblJ"
      },
      "execution_count": 15,
      "outputs": []
    },
    {
      "cell_type": "code",
      "source": [
        "f = open('a.txt','r')\n",
        "f.read()"
      ],
      "metadata": {
        "colab": {
          "base_uri": "https://localhost:8080/",
          "height": 35
        },
        "id": "vNux6ecqscsq",
        "outputId": "d4618b6c-bb25-4955-90e5-06cbb8286243"
      },
      "execution_count": 16,
      "outputs": [
        {
          "output_type": "execute_result",
          "data": {
            "text/plain": [
              "'안녕하세요추가되는 문장이에요'"
            ],
            "application/vnd.google.colaboratory.intrinsic+json": {
              "type": "string"
            }
          },
          "metadata": {},
          "execution_count": 16
        }
      ]
    },
    {
      "cell_type": "code",
      "source": [
        "# with문으로 객체를 만들지 않고 파일 출력하기\n",
        "\n",
        "f = open('abcde.txt', 'w')\n",
        "f.write('abcde')\n",
        "\n",
        "# 파일을 지우려고 하면 파일이 열려있어 꼭 close로 닫은 후에 지워야함\n",
        "# 계속 열고닫고 하면 번거로울수 있음\n",
        "\n",
        "f.close()"
      ],
      "metadata": {
        "id": "DxARhP0ssgPC"
      },
      "execution_count": 17,
      "outputs": []
    },
    {
      "cell_type": "code",
      "source": [
        "# 그래서 사용하는 방법이 with문의 사용\n",
        "\n",
        "with open(파일이름, 파일열기모드) as f:\n",
        "  f에 수행할 명령"
      ],
      "metadata": {
        "id": "cOC0XsQjslp0"
      },
      "execution_count": null,
      "outputs": []
    },
    {
      "cell_type": "code",
      "source": [
        "with open('text.txt','w') as f:\n",
        "  f.write('테스트 중입니다')"
      ],
      "metadata": {
        "id": "IfhSpiiKsNzm"
      },
      "execution_count": 18,
      "outputs": []
    },
    {
      "cell_type": "code",
      "source": [
        "# 만약 한글 파일로 된 오류가 떳을때나 인코딩오류가 났을때\n",
        "\n",
        "import codecs \n",
        "f = codecs.open('한글파일.txt', 'r', 'utf-8')\n",
        "f.read()"
      ],
      "metadata": {
        "id": "GZ7JYUIXsuAy"
      },
      "execution_count": null,
      "outputs": []
    },
    {
      "cell_type": "markdown",
      "source": [
        "# 2. 문자열 복습/처리\n",
        "\n",
        "# 문자열 연결 - join\n",
        "* 구분문자.join([문자열1, 문자열2, 문자열3])\n",
        "* 공백으로 연결하거나 쉼표로 연결할 수 있음"
      ],
      "metadata": {
        "id": "-tgzk40ss_Pq"
      }
    },
    {
      "cell_type": "code",
      "source": [
        "#join 예제\n",
        "text_list = ['Heloo', 'World', 'Python']\n",
        "test1 = ''.join(text_list)\n",
        "print(test1)"
      ],
      "metadata": {
        "colab": {
          "base_uri": "https://localhost:8080/"
        },
        "id": "EJnKYRAZtRv9",
        "outputId": "2dda8bd4-81f9-453c-d041-605b3ee7227d"
      },
      "execution_count": 19,
      "outputs": [
        {
          "output_type": "stream",
          "name": "stdout",
          "text": [
            "HelooWorldPython\n"
          ]
        }
      ]
    },
    {
      "cell_type": "code",
      "source": [
        "#join 예제\n",
        "text_list = ['Heloo', 'World', 'Python']\n",
        "test1 = '_'.join(text_list)\n",
        "print(test1)"
      ],
      "metadata": {
        "colab": {
          "base_uri": "https://localhost:8080/"
        },
        "id": "2gVYpW94tbEf",
        "outputId": "2bbc28b1-1481-43ec-e9ff-0e367fd41628"
      },
      "execution_count": 20,
      "outputs": [
        {
          "output_type": "stream",
          "name": "stdout",
          "text": [
            "Heloo_World_Python\n"
          ]
        }
      ]
    },
    {
      "cell_type": "markdown",
      "source": [
        "# 문자열 치환하기 -replace"
      ],
      "metadata": {
        "id": "aVV2NfumthjD"
      }
    },
    {
      "cell_type": "code",
      "source": [
        "text1 = 'Simple is Best'\n",
        "text2 = text1.replace(' ', '') #제거하럯 / 변경할것\n",
        "print(text1)\n",
        "print(text2)"
      ],
      "metadata": {
        "colab": {
          "base_uri": "https://localhost:8080/"
        },
        "id": "p-uWkTHjuG4F",
        "outputId": "fdd9ff61-73bc-40d3-b9ec-83148a6efb61"
      },
      "execution_count": 22,
      "outputs": [
        {
          "output_type": "stream",
          "name": "stdout",
          "text": [
            "Simple is Best\n",
            "SimpleisBest\n"
          ]
        }
      ]
    },
    {
      "cell_type": "code",
      "source": [
        "text1 = 'Simple is Best'\n",
        "text2 = text1.replace(' ', '__',1) #제거하럯 / 변경할것\n",
        "print(text1)\n",
        "print(text2)"
      ],
      "metadata": {
        "colab": {
          "base_uri": "https://localhost:8080/"
        },
        "id": "ns8axAAAuZzM",
        "outputId": "8adb6e90-bd4f-4e71-c278-f50ad580974d"
      },
      "execution_count": 23,
      "outputs": [
        {
          "output_type": "stream",
          "name": "stdout",
          "text": [
            "Simple is Best\n",
            "Simple__is Best\n"
          ]
        }
      ]
    },
    {
      "cell_type": "markdown",
      "source": [
        "# 문자열 포함 여부 확인\n",
        "\n",
        "* in 은 리스트나 set에 특정 요소가 포함됐는지 판정"
      ],
      "metadata": {
        "id": "P1Iw-1C1ug6B"
      }
    },
    {
      "cell_type": "code",
      "source": [
        "text = \"Simple is Best\"\n",
        "contains = \"book\" in text\n",
        "print(contains)"
      ],
      "metadata": {
        "colab": {
          "base_uri": "https://localhost:8080/"
        },
        "id": "TGLWhNXxufPf",
        "outputId": "a126ef45-2381-4e1d-87d3-285585955daa"
      },
      "execution_count": 24,
      "outputs": [
        {
          "output_type": "stream",
          "name": "stdout",
          "text": [
            "False\n"
          ]
        }
      ]
    },
    {
      "cell_type": "code",
      "source": [
        "text = \"Simple is Best\"\n",
        "contains = \"I\" in text\n",
        "print(contains)"
      ],
      "metadata": {
        "colab": {
          "base_uri": "https://localhost:8080/"
        },
        "id": "swZivgBuvD-p",
        "outputId": "63ae74bd-cf70-4fa6-cd24-97fa9f86e027"
      },
      "execution_count": 26,
      "outputs": [
        {
          "output_type": "stream",
          "name": "stdout",
          "text": [
            "False\n"
          ]
        }
      ]
    },
    {
      "cell_type": "code",
      "source": [
        "# 공백은 텍스트일까? 포함되는건가?\n",
        "text = \"Simple is Best\"\n",
        "contains = \" \" in text\n",
        "print(contains)"
      ],
      "metadata": {
        "colab": {
          "base_uri": "https://localhost:8080/"
        },
        "id": "oCg52DqOvIwI",
        "outputId": "56441499-d1f1-4128-bc90-6c43ab409fda"
      },
      "execution_count": 27,
      "outputs": [
        {
          "output_type": "stream",
          "name": "stdout",
          "text": [
            "True\n"
          ]
        }
      ]
    },
    {
      "cell_type": "code",
      "source": [
        "# 영문 Kim Korea\n",
        "text = \"Simple is Best\"\n",
        "#lower() -> 대문자 -> 소문자\n",
        "contains = \"SIMPLE\".lower() in text.lower()"
      ],
      "metadata": {
        "id": "hJlKQKWLvKiX"
      },
      "execution_count": 28,
      "outputs": []
    },
    {
      "cell_type": "code",
      "source": [
        "print(contains)\n",
        "#simple"
      ],
      "metadata": {
        "colab": {
          "base_uri": "https://localhost:8080/"
        },
        "id": "VIwocuGhvLm8",
        "outputId": "94057c84-b36e-4af5-94e1-0b6af7d9bf35"
      },
      "execution_count": 29,
      "outputs": [
        {
          "output_type": "stream",
          "name": "stdout",
          "text": [
            "True\n"
          ]
        }
      ]
    },
    {
      "cell_type": "markdown",
      "source": [
        "# 문자열 일부 추출\n",
        "\n",
        "* 문자열 시퀸스 이므로 인덱스를 지정해 문자 추출 가능\n",
        "* 가장 마지막 문자는 -1 로 가능"
      ],
      "metadata": {
        "id": "Ri0xHY52vOYq"
      }
    },
    {
      "cell_type": "code",
      "source": [
        "text = 'abcdegf'\n",
        "x1 = text[0]"
      ],
      "metadata": {
        "id": "P_uX30CDvTve"
      },
      "execution_count": null,
      "outputs": []
    },
    {
      "cell_type": "markdown",
      "source": [
        "# 문자열 공백 처리\n",
        "* strip 함수"
      ],
      "metadata": {
        "id": "cco-nKzZwJMW"
      }
    },
    {
      "cell_type": "code",
      "source": [
        "text = '  abcdefds'\n",
        "stripped = text.strip()\n",
        "print( '*' + stripped + '*')"
      ],
      "metadata": {
        "colab": {
          "base_uri": "https://localhost:8080/"
        },
        "id": "9znusGSywMZh",
        "outputId": "8c9ebe5d-8585-4bc0-828a-1e31a874cdfa"
      },
      "execution_count": 30,
      "outputs": [
        {
          "output_type": "stream",
          "name": "stdout",
          "text": [
            "*abcdefds*\n"
          ]
        }
      ]
    },
    {
      "cell_type": "code",
      "source": [
        "text = ' abcdefg '\n",
        "\n",
        "#오른쪽 공백 제거 \n",
        "r_stripped = text.rstrip()\n",
        "print(r_stripped)\n",
        "\n",
        "#왼쪽 공백 제거 \n",
        "l_stripped = text.lstrip()\n",
        "print(l_stripped)"
      ],
      "metadata": {
        "colab": {
          "base_uri": "https://localhost:8080/"
        },
        "id": "1BTLaHUYwVFn",
        "outputId": "d3b4a77b-eda9-4582-ae07-cace2e41f874"
      },
      "execution_count": 31,
      "outputs": [
        {
          "output_type": "stream",
          "name": "stdout",
          "text": [
            " abcdefg\n",
            "abcdefg \n"
          ]
        }
      ]
    },
    {
      "cell_type": "code",
      "source": [
        "text.upper()"
      ],
      "metadata": {
        "colab": {
          "base_uri": "https://localhost:8080/",
          "height": 35
        },
        "id": "pO2CPFSdwXIn",
        "outputId": "8bab7de1-142e-479f-dc10-c39a23fed691"
      },
      "execution_count": 32,
      "outputs": [
        {
          "output_type": "execute_result",
          "data": {
            "text/plain": [
              "' ABCDEFG '"
            ],
            "application/vnd.google.colaboratory.intrinsic+json": {
              "type": "string"
            }
          },
          "metadata": {},
          "execution_count": 32
        }
      ]
    },
    {
      "cell_type": "code",
      "source": [
        "text.lower()"
      ],
      "metadata": {
        "colab": {
          "base_uri": "https://localhost:8080/",
          "height": 35
        },
        "id": "rerkiJ2Xwcid",
        "outputId": "6ad682fd-985c-4d17-f54b-7e98858893c4"
      },
      "execution_count": 33,
      "outputs": [
        {
          "output_type": "execute_result",
          "data": {
            "text/plain": [
              "' abcdefg '"
            ],
            "application/vnd.google.colaboratory.intrinsic+json": {
              "type": "string"
            }
          },
          "metadata": {},
          "execution_count": 33
        }
      ]
    },
    {
      "cell_type": "code",
      "source": [
        "text = \"Time is Zero. Simple is Best\"\n",
        "l = text.split(\" \")\n",
        "print(l)"
      ],
      "metadata": {
        "colab": {
          "base_uri": "https://localhost:8080/"
        },
        "id": "ecuuJqN_weDJ",
        "outputId": "641e0c53-4910-48ec-a32f-a6e941b0fd13"
      },
      "execution_count": 34,
      "outputs": [
        {
          "output_type": "stream",
          "name": "stdout",
          "text": [
            "['Time', 'is', 'Zero.', 'Simple', 'is', 'Best']\n"
          ]
        }
      ]
    },
    {
      "cell_type": "markdown",
      "source": [
        "# 문자열 0 으로 채우기"
      ],
      "metadata": {
        "id": "xY-v1lgew4r5"
      }
    },
    {
      "cell_type": "code",
      "source": [
        "# CSV 데이터를 읽어들일때;; 문자 -> 숫자 -> 문자로 받을때의 문제점\n",
        "\n",
        "# 고객식별자 / 고객정보 / Key\n",
        "# '00000092' -> 92 김진환 - '00000092' 데이터 분석가\n",
        "\n",
        "# SQL / Python -> CSV"
      ],
      "metadata": {
        "id": "x8rCM_KAw6CF"
      },
      "execution_count": null,
      "outputs": []
    },
    {
      "cell_type": "code",
      "source": [
        "# num = 00000092\n",
        "num_str = \"92\"\n",
        "zfilled = num_str.zfill(8)\n",
        "print(zfilled, type(zfilled))"
      ],
      "metadata": {
        "colab": {
          "base_uri": "https://localhost:8080/"
        },
        "id": "tKR0182swvR2",
        "outputId": "705b21fb-7a37-413d-9284-c18648b4790d"
      },
      "execution_count": 39,
      "outputs": [
        {
          "output_type": "stream",
          "name": "stdout",
          "text": [
            "00000092 <class 'str'>\n"
          ]
        }
      ]
    },
    {
      "cell_type": "code",
      "source": [
        "num = 92 \n",
        "\n",
        "# DUP -> 키값이 중복된다.\n",
        "\n",
        "# 150만 ~200만\n",
        "\n",
        "# A table      B table            -> 구매데이터 \n",
        "# 92 김진환      92 김진환 기저귀          92 김진환 기저귀 \n",
        "#                                    92 김진환 맥주\n",
        "#             92 김진환 맥주"
      ],
      "metadata": {
        "id": "0r5dI9qKxNAS"
      },
      "execution_count": null,
      "outputs": []
    },
    {
      "cell_type": "code",
      "source": [
        "#          기저귀 구매.  맥주 구매\n",
        "# 92 김진환       1         1"
      ],
      "metadata": {
        "id": "7F3NfRuaxMEI"
      },
      "execution_count": null,
      "outputs": []
    },
    {
      "cell_type": "markdown",
      "source": [
        "# 특정 문자열 포함 행만 추출하기\n",
        "\n",
        "문자열의 split과 리스트 컴프리핸션을 사용하면 특정 문자열을 포함하는 행만 추출 가능\n",
        "\n",
        "1. split을 사용하여 텍스트를 줄바꿈, 1행씩 리스트로 얻을 수 있음\n",
        "2. 리스트 컴프리핸션을 사용하여 특정 문자열을 포함하는 행 추출\n",
        "3. 원래 텍스트로부터 특정한 문자열을 포함하는 행만 추출한 텍스트를 만들 수 있다."
      ],
      "metadata": {
        "id": "dlsIRAPzxqLG"
      }
    },
    {
      "cell_type": "code",
      "source": [
        "# 미션 - 데이터가 있는 행을 찾고 싶다.\n",
        "\n",
        "text = \"\"\"저는 김철수 입니다.\n",
        "        반갑습니다. 저는 데이터 분석가 입니다.\n",
        "        데이터로 일하는 것은 즐거운 일인데\n",
        "        더 열심히 배우겟습니다. 감사합니다. \"\"\"\n",
        "\n",
        "lines = text.split('\\n')"
      ],
      "metadata": {
        "id": "d2z2e9ilxLeQ"
      },
      "execution_count": 40,
      "outputs": []
    },
    {
      "cell_type": "code",
      "source": [
        "lines"
      ],
      "metadata": {
        "colab": {
          "base_uri": "https://localhost:8080/"
        },
        "id": "GeMgNbytyKe3",
        "outputId": "e2a12331-71f0-4f53-ac89-f491cf42b0bd"
      },
      "execution_count": 41,
      "outputs": [
        {
          "output_type": "execute_result",
          "data": {
            "text/plain": [
              "['저는 김철수 입니다.',\n",
              " '        반갑습니다. 저는 데이터 분석가 입니다.',\n",
              " '        데이터로 일하는 것은 즐거운 일인데',\n",
              " '        더 열심히 배우겟습니다. 감사합니다. ']"
            ]
          },
          "metadata": {},
          "execution_count": 41
        }
      ]
    },
    {
      "cell_type": "code",
      "source": [
        "line_list = [line for line in lines if '데이터' in line]"
      ],
      "metadata": {
        "id": "FMfufUNwyLJQ"
      },
      "execution_count": 42,
      "outputs": []
    },
    {
      "cell_type": "code",
      "source": [
        "line_list"
      ],
      "metadata": {
        "colab": {
          "base_uri": "https://localhost:8080/"
        },
        "id": "j7Mb7ibwyPQJ",
        "outputId": "693f1f43-b303-4f42-fd83-92a411c7407f"
      },
      "execution_count": 43,
      "outputs": [
        {
          "output_type": "execute_result",
          "data": {
            "text/plain": [
              "['        반갑습니다. 저는 데이터 분석가 입니다.', '        데이터로 일하는 것은 즐거운 일인데']"
            ]
          },
          "metadata": {},
          "execution_count": 43
        }
      ]
    },
    {
      "cell_type": "code",
      "source": [
        "new_text = '\\n'.join(line_list)\n",
        "print(new_text)"
      ],
      "metadata": {
        "colab": {
          "base_uri": "https://localhost:8080/"
        },
        "id": "_miqeidSyYEG",
        "outputId": "db6053cf-2b44-4f73-9c94-f62bf50276e1"
      },
      "execution_count": 44,
      "outputs": [
        {
          "output_type": "stream",
          "name": "stdout",
          "text": [
            "        반갑습니다. 저는 데이터 분석가 입니다.\n",
            "        데이터로 일하는 것은 즐거운 일인데\n"
          ]
        }
      ]
    },
    {
      "cell_type": "markdown",
      "source": [
        "# 텍스트의 빈 행 삭제하"
      ],
      "metadata": {
        "id": "7Iu-mOFRyiJM"
      }
    },
    {
      "cell_type": "code",
      "source": [
        "text = \"\"\"저는 김철수 입니다.\n",
        "\n",
        "        반갑습니다. 저는 데이터 분석가 입니다.\n",
        "\n",
        "        데이터로 일하는 것은 즐거운 일인데\n",
        "        \n",
        "        더 열심히 배우겟습니다. 감사합니다. \"\"\""
      ],
      "metadata": {
        "id": "AfGhioeZyfFF"
      },
      "execution_count": 45,
      "outputs": []
    },
    {
      "cell_type": "code",
      "source": [
        "lines = text.split('\\n')"
      ],
      "metadata": {
        "id": "XqxSjokQy_vg"
      },
      "execution_count": 46,
      "outputs": []
    },
    {
      "cell_type": "code",
      "source": [
        "line_list = [line for line in lines if line.strip() != \"\" ]"
      ],
      "metadata": {
        "id": "2-3EhT2CzCjr"
      },
      "execution_count": 47,
      "outputs": []
    },
    {
      "cell_type": "code",
      "source": [
        "line_list"
      ],
      "metadata": {
        "colab": {
          "base_uri": "https://localhost:8080/"
        },
        "id": "zofmRdtg0FwE",
        "outputId": "8b1d3b6b-8546-43d1-d828-7ebc87757322"
      },
      "execution_count": 48,
      "outputs": [
        {
          "output_type": "execute_result",
          "data": {
            "text/plain": [
              "['저는 김철수 입니다.',\n",
              " '        반갑습니다. 저는 데이터 분석가 입니다.',\n",
              " '        데이터로 일하는 것은 즐거운 일인데',\n",
              " '        더 열심히 배우겟습니다. 감사합니다. ']"
            ]
          },
          "metadata": {},
          "execution_count": 48
        }
      ]
    },
    {
      "cell_type": "code",
      "source": [
        "new_text = '\\n'.join(line_list)"
      ],
      "metadata": {
        "id": "auX6JGRJ0GxY"
      },
      "execution_count": 49,
      "outputs": []
    },
    {
      "cell_type": "code",
      "source": [
        "new_text"
      ],
      "metadata": {
        "colab": {
          "base_uri": "https://localhost:8080/",
          "height": 35
        },
        "id": "_J1jIGPX0LcC",
        "outputId": "f2bbfc0d-b592-478d-ef04-bd9bf37bdf76"
      },
      "execution_count": 50,
      "outputs": [
        {
          "output_type": "execute_result",
          "data": {
            "text/plain": [
              "'저는 김철수 입니다.\\n        반갑습니다. 저는 데이터 분석가 입니다.\\n        데이터로 일하는 것은 즐거운 일인데\\n        더 열심히 배우겟습니다. 감사합니다. '"
            ],
            "application/vnd.google.colaboratory.intrinsic+json": {
              "type": "string"
            }
          },
          "metadata": {},
          "execution_count": 50
        }
      ]
    },
    {
      "cell_type": "code",
      "source": [
        "new_text.replace(\" \", \"\")"
      ],
      "metadata": {
        "colab": {
          "base_uri": "https://localhost:8080/",
          "height": 35
        },
        "id": "vw9Th-Uv0O-U",
        "outputId": "21bba8a1-20fb-4cd7-abb4-436005a6dbfd"
      },
      "execution_count": 51,
      "outputs": [
        {
          "output_type": "execute_result",
          "data": {
            "text/plain": [
              "'저는김철수입니다.\\n반갑습니다.저는데이터분석가입니다.\\n데이터로일하는것은즐거운일인데\\n더열심히배우겟습니다.감사합니다.'"
            ],
            "application/vnd.google.colaboratory.intrinsic+json": {
              "type": "string"
            }
          },
          "metadata": {},
          "execution_count": 51
        }
      ]
    },
    {
      "cell_type": "code",
      "source": [
        "print(new_text)"
      ],
      "metadata": {
        "colab": {
          "base_uri": "https://localhost:8080/"
        },
        "id": "t3BIfhG30Vrl",
        "outputId": "be5c24e9-974b-4fb1-bdb5-387333b315fa"
      },
      "execution_count": 52,
      "outputs": [
        {
          "output_type": "stream",
          "name": "stdout",
          "text": [
            "저는 김철수 입니다.\n",
            "        반갑습니다. 저는 데이터 분석가 입니다.\n",
            "        데이터로 일하는 것은 즐거운 일인데\n",
            "        더 열심히 배우겟습니다. 감사합니다. \n"
          ]
        }
      ]
    },
    {
      "cell_type": "code",
      "source": [
        "import random\n",
        "letters = 'abcdefg'\n",
        "\n",
        "rl = random.choices(letters, k=4)"
      ],
      "metadata": {
        "id": "RbVCO_d-0Xx-"
      },
      "execution_count": 53,
      "outputs": []
    },
    {
      "cell_type": "code",
      "source": [
        "rl"
      ],
      "metadata": {
        "colab": {
          "base_uri": "https://localhost:8080/"
        },
        "id": "Phjm-Tqm0hn_",
        "outputId": "413e0200-c571-4ad2-af73-1967aa4fcc9f"
      },
      "execution_count": 54,
      "outputs": [
        {
          "output_type": "execute_result",
          "data": {
            "text/plain": [
              "['c', 'd', 'e', 'g']"
            ]
          },
          "metadata": {},
          "execution_count": 54
        }
      ]
    },
    {
      "cell_type": "markdown",
      "source": [
        "# 정규표현식"
      ],
      "metadata": {
        "id": "b7MBKnOr0od4"
      }
    },
    {
      "cell_type": "markdown",
      "source": [
        "# 정규표현식 사용하기\n",
        "\n",
        "import re\n",
        "\n",
        "# 정규표현식 함수\n",
        "findall : 일치하는 문자열을 리스트로 반환\n",
        "split : 일치하는 문자열로 원래 문자열을 분할한 리스트로 반환\n",
        "sub : 일치하는 문자열을 치환한 문자열을 반환\n",
        "search : 일치하는 문자열이 있으면 Match 객체를 반환\n",
        "\n",
        "# 정규표현식\n",
        "# Chapter1\n",
        ". 줄바꿈 이외의 임의의 모든 문자\n",
        "... 줄바꿈 이외의 임의의 3문자 \n",
        "^ 문자열의 시작\n",
        "^... 문자열 시작에서 3문자 \n",
        "$ 문자열의 끝\n",
        "...$ 문자열 끝에서 3문자 \n",
        "* 직전 정규표현식을 0회이상 반복\n",
        "ab*c abc또는 ac에 일치\n",
        "+ 직전 정규표현식을 1회이상 반복\n",
        "ab+c abc에 일치\n",
        "? 직전 정규표현식이 0~1회 존재\n",
        "abcd? abc또는 abcd에 일치\n",
        "| 둘중 하나\n",
        "ab|cd ab또는 cd에 일치\n",
        "\n",
        "# Chapter2\n",
        "(...) 소괄호 안을 그루핑\n",
        "\n",
        "[...] 대괄호 안의 문자 중 하나\n",
        "[^...] 대괄호 안의 문자 중 하나도 없음\n",
        "\n",
        "x(ab|cd) x로 시작해 ab또는 cd에 일치 (ab|cd 그룹)\n",
        "\n",
        "\\ 직후 정규표션식 기호 무시\n",
        "\\\\ \\에 일치\n",
        "\n",
        "{n} 직전 정규표현식의 반복 횟수\n",
        "{n,} 직전 정규표현식의 최소 반복 횟수\n",
        "{n,m} 직전 정규표현식의 반복 횟수 범위\n",
        "\n",
        "A{3} A가 3회 반복되면 일치\n",
        "A{3, }A가 3회 이상 반복되면 일치\n",
        "A{3, 6}A가 3~6회 이상 반복되면 일치"
      ],
      "metadata": {
        "id": "7rsqKNLz0yin"
      }
    },
    {
      "cell_type": "code",
      "source": [
        "# findall 함수를 사용하면 지정한 조건에 일치하는 문자열을 리스트로 얻을 수 있다.\n",
        "\n",
        "# re.함수(r) -> raw문자열이라고 \n",
        "# 이스케이프가 필요한 메타 문자를 무시하는 효과가 있음\n",
        "# 사용할때는 앞에 r을 붙이는것이 좋음"
      ],
      "metadata": {
        "id": "k0a1bXUu0pn7"
      },
      "execution_count": null,
      "outputs": []
    },
    {
      "cell_type": "code",
      "source": [
        "import re\n",
        "\n",
        "text1 = \"In the face of ambiguity, refuse the temptation to guess\"\n",
        "text2 = \"tx ti tp te t1 t2\"\n",
        "\n",
        "match_list = re.findall(r't.', text1)\n"
      ],
      "metadata": {
        "id": "-HKSsftd0iNt"
      },
      "execution_count": 55,
      "outputs": []
    },
    {
      "cell_type": "code",
      "source": [
        "print(match_list)"
      ],
      "metadata": {
        "colab": {
          "base_uri": "https://localhost:8080/"
        },
        "id": "-AGq8eg01o5K",
        "outputId": "a69b228e-d972-4eca-9692-2948b0ddedd2"
      },
      "execution_count": 56,
      "outputs": [
        {
          "output_type": "stream",
          "name": "stdout",
          "text": [
            "['th', 'ty', 'th', 'te', 'ta', 'ti', 'to']\n"
          ]
        }
      ]
    },
    {
      "cell_type": "code",
      "source": [
        "text2 = \"tx ti tp te t1 t2 t# t- t~\"\n",
        "match_list = re.findall(r\"t.\", text2)\n",
        "print(match_list)"
      ],
      "metadata": {
        "colab": {
          "base_uri": "https://localhost:8080/"
        },
        "id": "Oa3QvQdJ1rhT",
        "outputId": "b59ae38b-5feb-419b-80a9-c19dc8f27bac"
      },
      "execution_count": 57,
      "outputs": [
        {
          "output_type": "stream",
          "name": "stdout",
          "text": [
            "['tx', 'ti', 'tp', 'te', 't1', 't2', 't#', 't-', 't~']\n"
          ]
        }
      ]
    },
    {
      "cell_type": "markdown",
      "source": [
        "# sub 함"
      ],
      "metadata": {
        "id": "FXUwMhxM15Y9"
      }
    },
    {
      "cell_type": "code",
      "source": [
        "# 정규표현식으로 치환하기\n",
        "\n",
        "# sub함수를 사용하면 정규표현식으로 치환할 수 있습니다.\n",
        "\n",
        "text = \"Beautiful is better than ugly\"\n",
        "#sub(대체 해야할 문자 / 대체 할 문자 / 데이터)\n",
        "\n",
        "replaced = re.sub(r'\\s',\"_\", text)\n",
        "print(replaced)"
      ],
      "metadata": {
        "colab": {
          "base_uri": "https://localhost:8080/"
        },
        "id": "OwsJo0lO12lb",
        "outputId": "4dfedc24-59aa-496e-90c7-6085ff50c855"
      },
      "execution_count": 62,
      "outputs": [
        {
          "output_type": "stream",
          "name": "stdout",
          "text": [
            "Beautiful_is_better_than_ugly\n"
          ]
        }
      ]
    },
    {
      "cell_type": "code",
      "source": [],
      "metadata": {
        "id": "j9zqmEWp2Zrc"
      },
      "execution_count": null,
      "outputs": []
    },
    {
      "cell_type": "code",
      "source": [],
      "metadata": {
        "id": "rUSO7KU92T3I"
      },
      "execution_count": null,
      "outputs": []
    },
    {
      "cell_type": "code",
      "source": [],
      "metadata": {
        "id": "xvYyvg3c2SbW"
      },
      "execution_count": null,
      "outputs": []
    },
    {
      "cell_type": "code",
      "source": [
        "# 정규표현식으로 치환하기\n",
        "\n",
        "# sub함수를 사용하면 정규표현식으로 치환할 수 있습니다.\n",
        "\n",
        "import re\n",
        "\n",
        "text = \"Beautiful is better than ugly\"\n",
        "#sub(대체 해야할 문자 / 대체 할 문자 / 데이터)\n",
        "replaced = re.sub(r\" a-zA-Z\", \"_\", text) #공백문자는 \\s로도 쓰입니다.\n",
        "print(replaced)"
      ],
      "metadata": {
        "colab": {
          "base_uri": "https://localhost:8080/"
        },
        "id": "vqZ5ZaDT2H5a",
        "outputId": "e96bee4e-9227-4582-b968-fb528cec016d"
      },
      "execution_count": 59,
      "outputs": [
        {
          "output_type": "stream",
          "name": "stdout",
          "text": [
            "Beautiful is better than ugly\n"
          ]
        }
      ]
    },
    {
      "cell_type": "markdown",
      "source": [
        "# 정규표현식 그룹"
      ],
      "metadata": {
        "id": "MhMFR-3l2nYV"
      }
    },
    {
      "cell_type": "code",
      "source": [
        "# 정규표현식의 그룹은 데이터 분석 할때 자주 사용하는 기능으로\n",
        "# 원하는 객체를 그루핑할 수 있다라는 장점이 있습니다.\n",
        "\n",
        "# 제품 -> [0-9]+\n",
        "# 카탈로그 코드 [0-9A-Z]+\n",
        "# 제품명 .*\n",
        "# 구분 문자 공백\n",
        "\n",
        "# ([0-9]+) +([ 0-9 A-Z]+) +(.*)\n",
        "\n",
        "#홈쇼핑#\n",
        "text = \"\"\"\n",
        "101 CF001 커피 \n",
        "102 CF002 커피(대용량)\n",
        "201 TE01 홍차\n",
        "202 TE02 홍차(대용량)\n",
        "\"\"\"\n",
        "#group 1 \n",
        "#group 2\n",
        "#group 3\n",
        "items = re.findall(r'([0-9]+) +([ 0-9 A-Z]+) +(.*)', text)\n",
        "print(items)"
      ],
      "metadata": {
        "colab": {
          "base_uri": "https://localhost:8080/"
        },
        "id": "Fx-wr7hJ2QZ7",
        "outputId": "30421294-a485-4144-ee29-dedf63008715"
      },
      "execution_count": 63,
      "outputs": [
        {
          "output_type": "stream",
          "name": "stdout",
          "text": [
            "[('101', 'CF001', '커피 '), ('102', 'CF002', '커피(대용량)'), ('201', 'TE01', '홍차'), ('202', 'TE02', '홍차(대용량)')]\n"
          ]
        }
      ]
    },
    {
      "cell_type": "code",
      "source": [
        "# 정규표현식과 일치하는 부분 확인\n",
        "\n",
        "# re 모듈의 serach함수는 정규표현식과 일치하는 첫 번째 위치 정보가 저장된 Match 객체를 반환\n",
        "# Match 객체를 사용하면 일치하는 위치의 문자열과 함께 시작 및 종료 위치 정보 확보 가능\n",
        "\n",
        "# match객체\n",
        "# start , end , group, groups 튜플 그룹\n",
        "\n",
        "import re\n",
        "\n",
        "text = 'Error should never pass silently'\n",
        "\n",
        "m_obj = re.search(r'p...', text)\n",
        "\n",
        "print(m_obj.group())\n",
        "print(m_obj.start())\n",
        "print(m_obj.end())"
      ],
      "metadata": {
        "colab": {
          "base_uri": "https://localhost:8080/"
        },
        "id": "ZI4abviW27E-",
        "outputId": "23c2d8ee-213d-4079-b18d-8909c7da70a4"
      },
      "execution_count": 64,
      "outputs": [
        {
          "output_type": "stream",
          "name": "stdout",
          "text": [
            "pass\n",
            "19\n",
            "23\n"
          ]
        }
      ]
    },
    {
      "cell_type": "code",
      "source": [
        "import re\n",
        "\n",
        "text = 'Errors should never pass silently'\n",
        "# 1번 그룹 - n.... n다음에 4글자가 아무거나\n",
        "# 2번 그룹 - P... n다음에 3글자가 아무거나\n",
        "\n",
        "m_obj = re.search(r\"(n....) (p...)\", text)\n",
        "print(m_obj.group())\n",
        "print(m_obj.groups())"
      ],
      "metadata": {
        "colab": {
          "base_uri": "https://localhost:8080/"
        },
        "id": "TZXtXmb23Liu",
        "outputId": "cbde80ed-4469-448a-a9c4-09c83a92e364"
      },
      "execution_count": 65,
      "outputs": [
        {
          "output_type": "stream",
          "name": "stdout",
          "text": [
            "never pass\n",
            "('never', 'pass')\n"
          ]
        }
      ]
    },
    {
      "cell_type": "code",
      "source": [
        "print(m_obj.start()) # 시작 인덱스\n",
        "print(m_obj.end()) # 끝 인덱스"
      ],
      "metadata": {
        "colab": {
          "base_uri": "https://localhost:8080/"
        },
        "id": "YbZbDq7m3PBH",
        "outputId": "0bb5af17-4542-4f8b-bf22-c2e81f059af5"
      },
      "execution_count": 66,
      "outputs": [
        {
          "output_type": "stream",
          "name": "stdout",
          "text": [
            "14\n",
            "24\n"
          ]
        }
      ]
    },
    {
      "cell_type": "code",
      "source": [
        "# Greedy, Lazy 사용하기\n",
        "# 정규표현식이 패턴에 일치하는 문자열을 추출할때\n",
        "# 일치하는 최대한의 범위를 추출하는 상태를 greedy(탐욕)이라고 한다.\n",
        "\n",
        "# 최소한은  Lazy라고 하는데 파이썬은 기본적으로 greedy하지만\n",
        "# ?를 붙이는 순간 Lazy해진다. \n",
        "\n",
        "import re\n",
        "\n",
        "text = 'In the face of ambiguity, refuse the temptation to guess'\n",
        "\n",
        "match_list = re.findall(r't.*\\s', text)\n",
        "print(match_list)"
      ],
      "metadata": {
        "colab": {
          "base_uri": "https://localhost:8080/"
        },
        "id": "FDzTbzEJ3QtT",
        "outputId": "b0370494-0035-4d44-ccb0-b9190a2e1bc3"
      },
      "execution_count": 67,
      "outputs": [
        {
          "output_type": "stream",
          "name": "stdout",
          "text": [
            "['the face of ambiguity, refuse the temptation to ']\n"
          ]
        }
      ]
    },
    {
      "cell_type": "code",
      "source": [
        "match_list = re.findall(r't.*?\\s', text)\n",
        "print(match_list)"
      ],
      "metadata": {
        "colab": {
          "base_uri": "https://localhost:8080/"
        },
        "id": "YPaJTe8J3m6m",
        "outputId": "d6c9719a-93a5-415f-b850-429e810a3362"
      },
      "execution_count": 68,
      "outputs": [
        {
          "output_type": "stream",
          "name": "stdout",
          "text": [
            "['the ', 'ty, ', 'the ', 'temptation ', 'to ']\n"
          ]
        }
      ]
    },
    {
      "cell_type": "markdown",
      "source": [
        "# 정규표현식 실습\n",
        "\n",
        "[우리가 자주 사용할 함수]\n",
        "\n",
        "* findall - 일치하는 문자열을 리스트로 반환\n",
        "* split - 일치하는 문자열로 원래 문자열을 분할한 리스트로 반환\n",
        "* sub - 일치하는 문자열을 치환한 문자열을 반환\n",
        "* search - 일치하는 문자열이 있으면 match 객체를 반환\n",
        "\n",
        "[대표적인 정규표현식]\n",
        "\n",
        "* . 줄바꿈 이외의 임의의 문자\n",
        "* ^ 문자열 시작\n",
        "* $ 문자열의 끝, 또는 문자열 끝 줄바꿈 직전\n",
        "* * 직전 정규표현식은 0회 이상 반복\n",
        "* + 직전 정규표현식을 1회 이상 반복\n",
        "* ? 직전 정규표현식이 0회 또는 1회 존재\n",
        "\n",
        "[자주 사용하는 문자 클래스]\n",
        "# 꼭 기억해야할 정규표현식\n",
        "* \\d 숫자와 매치 [0-9]와 같다.\n",
        "* \\D 숫자가 아닌것과 매치 [^0-9]와 같다.\n",
        "\n",
        "* \\s whitespace문자와 매치 [ \\t\\n\\r\\f\\v]와 같음. 맨앞의 빈칸은 공백을 의미\n",
        "* \\S whitespace문자가 아닌것과 매치 [^ \\t\\n\\r\\f\\v]와 같음.\n",
        "\n",
        "* \\w 문자+숫자와 매치 [a-zA-Z0-9_]와 같습니다.\n",
        "* \\W 문자+숫자가 아닌 문자와 매치 [^a-zA-Z0-9_]와 같습니다.\n",
        "\n",
        "* \\\\ 메타 문자가 아닌 일반 문자 역슬래시와 매치. 매타 문자 앞에 W를 붙이면 일반문자를 위미"
      ],
      "metadata": {
        "id": "HH3wOWnG3vjH"
      }
    },
    {
      "cell_type": "code",
      "source": [
        "# 주소록입니다. 이후 강의에서 모두 이 search_target을 사용합니다.\n",
        "search_target = '''\n",
        "hello world\n",
        "hello  world\n",
        "hello, world\n",
        "Hello World\n",
        "\n",
        "hello world hello\n",
        "\n",
        "hello\n",
        "hallo\n",
        "hollo\n",
        "heallo\n",
        "yellow\n",
        "\n",
        "Monday Tuesday Wednesday Thursday Friday Saturday Sunday\n",
        "\n",
        "abcdefghijklmnopqrstuvwxyzABCDEFGHIJKLMNOPQRSTUVWXYZ01234567891011121314151617181920\n",
        "aaabbcaaabbcabcabc\n",
        "aaa bb c aaa bb c a b c a b c\n",
        "aaa1bb2c3aaa4bb5c6\n",
        "\n",
        "[123456]\n",
        "123[456]789\n",
        "abc[def]ghij\n",
        "\n",
        "010-9091-5491\n",
        "010-5043-2901\n",
        "010-5050-40409\n",
        "010-49492-3131\n",
        "010 2913 3132\n",
        "01019133829\n",
        "064-721-3213\n",
        "010.1913.3829\n",
        "\n",
        "\n",
        "paul-korea@naver.com\n",
        "paul@naver.com\n",
        "leehojun@gmail.com\n",
        "hojun.lee@gmail.com\n",
        "test.test@go.go.go\n",
        "\n",
        "\n",
        "https://github.com/LiveCoronaDetector/livecod\n",
        "github.com/LiveCoronaDetector/livecod\n",
        "https://github.com/LiveCoronaDetector\n",
        "\n",
        "I never dreamed about success, I worked for it.\n",
        "Do not be afraid to give up the good to go for the great.\n",
        "\n",
        "hello (hello world) hello\n",
        "hello \\\\hello world// hello\n",
        "^^\n",
        ":)\n",
        "\n",
        "[(name, leehojun), (age, 10), (height, 180), (email, paul-lab@naver.com)]\n",
        "{name : leehojun, age : 10, height : 180, email : paul-lab@naver.com}\n",
        "\n",
        "가나다라마바사아자차카타파하\n",
        "ㄱㄴㄷㄹㅁㅂㅅㅇㅈㅊㅋㅌㅍㅎ\n",
        "안녕_하세요\n",
        "안녕-하세요\n",
        "수사\n",
        "수박\n",
        "수상\n",
        "동해 물과 백두산이 마르고 닳도록 하느님이 보호하사 우리나라 만세\n",
        "'''"
      ],
      "metadata": {
        "id": "QJteeyhh3xMA"
      },
      "execution_count": 69,
      "outputs": []
    },
    {
      "cell_type": "code",
      "source": [
        "#숫자 대표 정규표현식\n",
        "\n",
        "regex1 = r'\\d'\n",
        "\n",
        "#글자 /숫자 대표 정규표현식\n",
        "\n",
        "regex = r'\\w'\n",
        "\n",
        "import re\n",
        "result = re.findall(regex1, search_target)\n",
        "print('\\n'.join(result))"
      ],
      "metadata": {
        "colab": {
          "base_uri": "https://localhost:8080/"
        },
        "id": "vxU7u9YN3-Xw",
        "outputId": "5818ccc2-d822-4794-ba4f-84cccaac6da7"
      },
      "execution_count": 70,
      "outputs": [
        {
          "output_type": "stream",
          "name": "stdout",
          "text": [
            "0\n",
            "1\n",
            "2\n",
            "3\n",
            "4\n",
            "5\n",
            "6\n",
            "7\n",
            "8\n",
            "9\n",
            "1\n",
            "0\n",
            "1\n",
            "1\n",
            "1\n",
            "2\n",
            "1\n",
            "3\n",
            "1\n",
            "4\n",
            "1\n",
            "5\n",
            "1\n",
            "6\n",
            "1\n",
            "7\n",
            "1\n",
            "8\n",
            "1\n",
            "9\n",
            "2\n",
            "0\n",
            "1\n",
            "2\n",
            "3\n",
            "4\n",
            "5\n",
            "6\n",
            "1\n",
            "2\n",
            "3\n",
            "4\n",
            "5\n",
            "6\n",
            "1\n",
            "2\n",
            "3\n",
            "4\n",
            "5\n",
            "6\n",
            "7\n",
            "8\n",
            "9\n",
            "0\n",
            "1\n",
            "0\n",
            "9\n",
            "0\n",
            "9\n",
            "1\n",
            "5\n",
            "4\n",
            "9\n",
            "1\n",
            "0\n",
            "1\n",
            "0\n",
            "5\n",
            "0\n",
            "4\n",
            "3\n",
            "2\n",
            "9\n",
            "0\n",
            "1\n",
            "0\n",
            "1\n",
            "0\n",
            "5\n",
            "0\n",
            "5\n",
            "0\n",
            "4\n",
            "0\n",
            "4\n",
            "0\n",
            "9\n",
            "0\n",
            "1\n",
            "0\n",
            "4\n",
            "9\n",
            "4\n",
            "9\n",
            "2\n",
            "3\n",
            "1\n",
            "3\n",
            "1\n",
            "0\n",
            "1\n",
            "0\n",
            "2\n",
            "9\n",
            "1\n",
            "3\n",
            "3\n",
            "1\n",
            "3\n",
            "2\n",
            "0\n",
            "1\n",
            "0\n",
            "1\n",
            "9\n",
            "1\n",
            "3\n",
            "3\n",
            "8\n",
            "2\n",
            "9\n",
            "0\n",
            "6\n",
            "4\n",
            "7\n",
            "2\n",
            "1\n",
            "3\n",
            "2\n",
            "1\n",
            "3\n",
            "0\n",
            "1\n",
            "0\n",
            "1\n",
            "9\n",
            "1\n",
            "3\n",
            "3\n",
            "8\n",
            "2\n",
            "9\n",
            "1\n",
            "0\n",
            "1\n",
            "8\n",
            "0\n",
            "1\n",
            "0\n",
            "1\n",
            "8\n",
            "0\n"
          ]
        }
      ]
    },
    {
      "cell_type": "code",
      "source": [
        "# Hello 단어를 검색봅시다.\n",
        "regex = r'hello'\n",
        "\n",
        "# 정규표현식과 일치하는 부분을 모두 찾아주는 파이썬 코드입니다.\n",
        "import re\n",
        "result = re.findall(regex, search_target)\n",
        "print(\"\\n\".join(result))"
      ],
      "metadata": {
        "id": "HjL6pqh94RJc"
      },
      "execution_count": null,
      "outputs": []
    },
    {
      "cell_type": "code",
      "source": [
        "# ^ 맨처음\n",
        "m1 = re.findall('^Life', 'Life is too short')\n",
        "print('m1 결과 :' , m1)"
      ],
      "metadata": {
        "colab": {
          "base_uri": "https://localhost:8080/"
        },
        "id": "lFIkIlwT3qSh",
        "outputId": "74b93810-9af0-4326-a6f6-07552fc34929"
      },
      "execution_count": 71,
      "outputs": [
        {
          "output_type": "stream",
          "name": "stdout",
          "text": [
            "m1 결과 : ['Life']\n"
          ]
        }
      ]
    },
    {
      "cell_type": "code",
      "source": [
        "# 맨처음에 와야하는 것 ^\n",
        "m2 = re.findall(\"^is\", \"Life is too short\")\n",
        "print(\"m2 결과 : \", m2)"
      ],
      "metadata": {
        "colab": {
          "base_uri": "https://localhost:8080/"
        },
        "id": "p_bLImbs4f1E",
        "outputId": "5e581a26-6893-4bd1-90fb-78cfab89f362"
      },
      "execution_count": 72,
      "outputs": [
        {
          "output_type": "stream",
          "name": "stdout",
          "text": [
            "m2 결과 :  []\n"
          ]
        }
      ]
    },
    {
      "cell_type": "code",
      "source": [
        "# 맨 마지막에 와야하는 것\n",
        "m1 = re.findall(\"short$\", \"Life is too short\")\n",
        "m2 = re.findall(\"short$\", \"Life is too short. So what?\")\n",
        " \n",
        "print(\"m1 결과 : \", m1)\n",
        "print(\"m2 결과 : \", m2)"
      ],
      "metadata": {
        "colab": {
          "base_uri": "https://localhost:8080/"
        },
        "id": "l6TE5MAW4jDC",
        "outputId": "dac69c10-00f0-4733-fd60-22da28bc77cc"
      },
      "execution_count": 73,
      "outputs": [
        {
          "output_type": "stream",
          "name": "stdout",
          "text": [
            "m1 결과 :  ['short']\n",
            "m2 결과 :  []\n"
          ]
        }
      ]
    },
    {
      "cell_type": "code",
      "source": [
        "import re\n",
        "regex = re.compile('ema.l')\n",
        "\n",
        "result = re.findall(regex, search_target)\n",
        "print('\\n'.join(result))"
      ],
      "metadata": {
        "colab": {
          "base_uri": "https://localhost:8080/"
        },
        "id": "_YQ7_EGZ4mX-",
        "outputId": "83ca8c31-0af8-44e7-99e0-26e4d7bc2f21"
      },
      "execution_count": 75,
      "outputs": [
        {
          "output_type": "stream",
          "name": "stdout",
          "text": [
            "email\n",
            "email\n"
          ]
        }
      ]
    },
    {
      "cell_type": "code",
      "source": [
        "# 특정문자 6개 .(공백포함) \n",
        "import re\n",
        "regex = re.compile('......')\n",
        "\n",
        "# 정규표현식과 일치하는 부분을 모두 찾아주는 파이썬 코드입니다.\n",
        "import re\n",
        "result = re.findall(regex, search_target)\n",
        "print(\"\\n\".join(result))"
      ],
      "metadata": {
        "colab": {
          "base_uri": "https://localhost:8080/"
        },
        "id": "Pb7kQBFP5AFD",
        "outputId": "28d1f80a-456b-495e-dfc6-d00d00bd3b61"
      },
      "execution_count": 76,
      "outputs": [
        {
          "output_type": "stream",
          "name": "stdout",
          "text": [
            "hello \n",
            "hello \n",
            " world\n",
            "hello,\n",
            " world\n",
            "Hello \n",
            "hello \n",
            "world \n",
            "heallo\n",
            "yellow\n",
            "Monday\n",
            " Tuesd\n",
            "ay Wed\n",
            "nesday\n",
            " Thurs\n",
            "day Fr\n",
            "iday S\n",
            "aturda\n",
            "y Sund\n",
            "abcdef\n",
            "ghijkl\n",
            "mnopqr\n",
            "stuvwx\n",
            "yzABCD\n",
            "EFGHIJ\n",
            "KLMNOP\n",
            "QRSTUV\n",
            "WXYZ01\n",
            "234567\n",
            "891011\n",
            "121314\n",
            "151617\n",
            "181920\n",
            "aaabbc\n",
            "aaabbc\n",
            "abcabc\n",
            "aaa bb\n",
            " c aaa\n",
            " bb c \n",
            "a b c \n",
            "aaa1bb\n",
            "2c3aaa\n",
            "4bb5c6\n",
            "[12345\n",
            "123[45\n",
            "abc[de\n",
            "f]ghij\n",
            "010-90\n",
            "91-549\n",
            "010-50\n",
            "43-290\n",
            "010-50\n",
            "50-404\n",
            "010-49\n",
            "492-31\n",
            "010 29\n",
            "13 313\n",
            "010191\n",
            "064-72\n",
            "1-3213\n",
            "010.19\n",
            "13.382\n",
            "paul-k\n",
            "orea@n\n",
            "aver.c\n",
            "paul@n\n",
            "aver.c\n",
            "leehoj\n",
            "un@gma\n",
            "il.com\n",
            "hojun.\n",
            "lee@gm\n",
            "ail.co\n",
            "test.t\n",
            "est@go\n",
            ".go.go\n",
            "https:\n",
            "//gith\n",
            "ub.com\n",
            "/LiveC\n",
            "oronaD\n",
            "etecto\n",
            "r/live\n",
            "github\n",
            ".com/L\n",
            "iveCor\n",
            "onaDet\n",
            "ector/\n",
            "liveco\n",
            "https:\n",
            "//gith\n",
            "ub.com\n",
            "/LiveC\n",
            "oronaD\n",
            "etecto\n",
            "I neve\n",
            "r drea\n",
            "med ab\n",
            "out su\n",
            "ccess,\n",
            " I wor\n",
            "ked fo\n",
            "Do not\n",
            " be af\n",
            "raid t\n",
            "o give\n",
            " up th\n",
            "e good\n",
            " to go\n",
            " for t\n",
            "he gre\n",
            "hello \n",
            "(hello\n",
            " world\n",
            ") hell\n",
            "hello \n",
            "\\hello\n",
            " world\n",
            "// hel\n",
            "[(name\n",
            ", leeh\n",
            "ojun),\n",
            " (age,\n",
            " 10), \n",
            "(heigh\n",
            "t, 180\n",
            "), (em\n",
            "ail, p\n",
            "aul-la\n",
            "b@nave\n",
            "r.com)\n",
            "{name \n",
            ": leeh\n",
            "ojun, \n",
            "age : \n",
            "10, he\n",
            "ight :\n",
            " 180, \n",
            "email \n",
            ": paul\n",
            "-lab@n\n",
            "aver.c\n",
            "가나다라마바\n",
            "사아자차카타\n",
            "ㄱㄴㄷㄹㅁㅂ\n",
            "ㅅㅇㅈㅊㅋㅌ\n",
            "안녕_하세요\n",
            "안녕-하세요\n",
            "동해 물과 \n",
            "백두산이 마\n",
            "르고 닳도록\n",
            " 하느님이 \n",
            "보호하사 우\n",
            "리나라 만세\n"
          ]
        }
      ]
    },
    {
      "cell_type": "code",
      "source": [
        "# 여러가지 중에 택 1해서 찾기\n",
        "\n",
        "regex = re.compile(r'h[aeyo]llo')\n",
        "\n",
        "# 정규표현식과 일치하는 부분을 모두 찾아주는 파이썬 코드입니다.\n",
        "import re\n",
        "result = re.findall(regex, search_target)\n",
        "print(\"\\n\".join(result))"
      ],
      "metadata": {
        "id": "krCUIMSJ5IqX"
      },
      "execution_count": null,
      "outputs": []
    },
    {
      "cell_type": "code",
      "source": [
        "# 여러가지 중에 택 1해서 찾기 - 대문자\n",
        "\n",
        "regex = re.compile(r'h[a-f]l..') # a-f사이 중에 1개\n",
        "\n",
        "# 정규표현식과 일치하는 부분을 모두 찾아주는 파이썬 코드입니다.\n",
        "import re\n",
        "result = re.findall(regex, search_target)\n",
        "print(\"\\n\".join(result))"
      ],
      "metadata": {
        "id": "CqTIoxSK49at"
      },
      "execution_count": null,
      "outputs": []
    },
    {
      "cell_type": "code",
      "source": [
        "# 여러가지 중에 택 1해서 찾기 - 대문자\n",
        "\n",
        "regex = re.compile(r'[a-zA-Z0-9가-힣]') # a-f사이 중에 1개\n",
        "\n",
        "# 정규표현식과 일치하는 부분을 모두 찾아주는 파이썬 코드입니다.\n",
        "import re\n",
        "result = re.findall(regex, search_target)\n",
        "print(\"\\n\".join(result))"
      ],
      "metadata": {
        "id": "BANF_id4xFxj"
      },
      "execution_count": null,
      "outputs": []
    },
    {
      "cell_type": "code",
      "source": [
        "# 서브패턴\n",
        "\n",
        "# 소괄호를 사용하면 정규식 일부 패턴을 그룹화 할 수 있습니다.\n",
        "# 이 정규식 그룹은 그룹 캡처기능이라고 불리는데\n",
        "# 정규식 그룹은 번호가 매겨진 캡처그룹을 생성하고, 괄호안에 정규식 부분과\n",
        "# 일치하는 문자열을 찾고, 저장합니다.\n",
        "# 그 캡처 번호를 사용하여 문자열 부분을 불러와 사용할 수 있습니다.\n",
        "\n",
        "# 주의할점은 캡처에 정규식 패턴이 저장된다고 착각할 수 잇지만\n",
        "# 캡처는 패턴으로 찾은 문자열을 저장한다.\n",
        " \n",
        "# ?:는 그룹이지만 캡처를 저장하지 않음 \n",
        "\n",
        "# 빈칸에 정규표현식을 적습니다.\n",
        "regex = re.compile('(on|ues|rida)') #그룹 1로 3개 중 1개 매칭되는 패턴\n",
        "\n",
        "# 그룹 안에 매칭이 된 것만 출력이 되는 형태\n",
        "\n",
        "# 정규표현식과 일치하는 부분을 모두 찾아주는 파이썬 코드입니다.\n",
        "import re\n",
        "result = re.findall(regex, search_target)\n",
        "print(\"\\n\".join(result))"
      ],
      "metadata": {
        "id": "NJooRXzBvNlt"
      },
      "execution_count": null,
      "outputs": []
    },
    {
      "cell_type": "code",
      "source": [
        "# 서브패턴\n",
        "\n",
        "# 빈칸에 정규표현식을 적습니다.\n",
        "regex = re.compile('(Mon|Tues|Fri)day') #그룹 1로 3개 중 매칭되는 패턴\n",
        "\n",
        "# 정규표현식과 일치하는 부분을 모두 찾아주는 파이썬 코드입니다.\n",
        "import re\n",
        "result = re.findall(regex, search_target)\n",
        "print(\"\\n\".join(result))"
      ],
      "metadata": {
        "id": "JjofJZsMvFde"
      },
      "execution_count": null,
      "outputs": []
    },
    {
      "cell_type": "code",
      "source": [
        "# 서브패턴\n",
        "\n",
        "# 빈칸에 정규표현식을 적습니다.\n",
        "regex = re.compile('(?:Mon|Tues|Fri)day') #그룹 1로 3개 중 매칭되는 패턴\n",
        "\n",
        "# 정규표현식과 일치하는 부분을 모두 찾아주는 파이썬 코드입니다.\n",
        "import re\n",
        "result = re.findall(regex, search_target)\n",
        "print(\"\\n\".join(result))"
      ],
      "metadata": {
        "id": "j7DLLAcMuWIE"
      },
      "execution_count": null,
      "outputs": []
    },
    {
      "cell_type": "code",
      "source": [
        "# 서브패턴 \n",
        "\n",
        "import re\n",
        "\n",
        "text = \"tomato potato\"\n",
        "\n",
        "p1 = \"(tom|pot)ato\"    # 그룹으로 묶인건 그 단어 (tom|pot)을 출력\n",
        "p2 = \"(?:tom|pot)ato\"  # 그룹으로 묶이지 않은것은 캡처하지 않겠다고 매칭 tomato와 potato가 출력\n",
        "\n",
        "m1 = re.findall(p1, text)\n",
        "m2 = re.findall(p2, text)\n",
        "\n",
        "print(\"m1 결과 : \", m1)\n",
        "print(\"m2 결과 : \", m2)"
      ],
      "metadata": {
        "id": "DzcDqGb9td1o"
      },
      "execution_count": null,
      "outputs": []
    },
    {
      "cell_type": "code",
      "source": [
        "# 수량자 휴대폰 번호 입력하기\n",
        "\n",
        "# 빈칸에 정규표현식을 적습니다.\n",
        "regex = re.compile('[0-9]{2,3}[-.* ][0-9]{3,4}[-.* ][0-9]{4,5}') \n",
        "#hello 뒤에 world가 오는 것\n",
        "\n",
        "# 1. [0에서 9까지]{2,3개}[- 나 . 앞에 있는 문자 0~N개]\n",
        "# 2. [0에서 9까지]{4개}[- 나 . 앞에 있는 문자 0~N개]\n",
        "# 3. [0에서 9까지]{4개}[- 나 .]\n",
        "\n",
        "# 정규표현식과 일치하는 부분을 모두 찾아주는 파이썬 코드입니다.\n",
        "import re\n",
        "result = re.findall(regex, search_target)\n",
        "print(\"\\n\".join(result))"
      ],
      "metadata": {
        "id": "mMS-zJ5R6A-Q"
      },
      "execution_count": null,
      "outputs": []
    },
    {
      "cell_type": "code",
      "source": [
        "# 수량자\n",
        "\n",
        "# 빈칸에 정규표현식을 적습니다.\n",
        "regex = re.compile('[0-9a-zA-Z]{2,3}[-. *][0-9]{3,4}[-. *][0-9]{4}') #\bhello 뒤에 world가 오는 것\n",
        "\n",
        "# 1. [0에서 9까지]{2~3개}[- 나 . 앞에 있는 문자 0~N개]\n",
        "# 2. [0에서 9까지]{3~4개}[- 나 . 앞에 있는 문자 0~N개]\n",
        "# 3. [0에서 9까지]{4개}\n",
        "\n",
        "# 정규표현식과 일치하는 부분을 모두 찾아주는 파이썬 코드입니다.\n",
        "import re\n",
        "result = re.findall(regex, search_target)"
      ],
      "metadata": {
        "id": "Ol5bliXY6A4T"
      },
      "execution_count": null,
      "outputs": []
    },
    {
      "cell_type": "code",
      "source": [
        "# 캐릭터 클래스\n",
        "\n",
        "# 빈칸에 정규표현식을 적습니다.\n",
        "regex = re.compile('\\W') # 글자가 아닌것 \n",
        "regex = re.compile('\\D') # 숫자가 아닌것 \n",
        "regex = re.compile('\\S') # 공백이 아닌것 \n",
        "\n",
        "# 1. [0에서 9까지 + 영문자]{+@}\n",
        "# 2. [0에서 9까지 + 영문자].\n",
        "# 3. [영문자_ 1개 이상]\n",
        "\n",
        "# 정규표현식과 일치하는 부분을 모두 찾아주는 파이썬 코드입니다.\n",
        "import re\n",
        "result = re.findall(regex, search_target)\n",
        "print(\"\\n\".join(result))"
      ],
      "metadata": {
        "id": "ZSAAz1d_6AxL"
      },
      "execution_count": null,
      "outputs": []
    },
    {
      "cell_type": "code",
      "source": [
        "# 이스케이프 문자\n",
        "\n",
        "# 이스케이프 문자\n",
        "\n",
        "# 빈칸에 정규표현식을 적습니다.\n",
        "regex = re.compile('\\[.*]') #대괄호([]) 안에 감싸여진 문자열 0~N개\n",
        "\n",
        "# 정규표현식과 일치하는 부분을 모두 찾아주는 파이썬 코드입니다.\n",
        "import re\n",
        "result = re.findall(regex, search_target)\n",
        "print(\"\\n\".join(result))"
      ],
      "metadata": {
        "id": "QZw32V0v6Aq5"
      },
      "execution_count": null,
      "outputs": []
    },
    {
      "cell_type": "code",
      "source": [],
      "metadata": {
        "id": "_7JEmPmes-s1"
      },
      "execution_count": null,
      "outputs": []
    },
    {
      "cell_type": "code",
      "source": [],
      "metadata": {
        "id": "fz9BQ7IYs-qv"
      },
      "execution_count": null,
      "outputs": []
    },
    {
      "cell_type": "code",
      "source": [],
      "metadata": {
        "id": "afg4LuJbs-oo"
      },
      "execution_count": null,
      "outputs": []
    }
  ]
}