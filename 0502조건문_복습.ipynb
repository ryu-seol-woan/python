{
  "nbformat": 4,
  "nbformat_minor": 0,
  "metadata": {
    "colab": {
      "provenance": []
    },
    "kernelspec": {
      "name": "python3",
      "display_name": "Python 3"
    },
    "language_info": {
      "name": "python"
    }
  },
  "cells": [
    {
      "cell_type": "markdown",
      "source": [
        "# 단일 조건문\n",
        "* 조건이 하나일때 사용하는 조건문"
      ],
      "metadata": {
        "id": "rYwJavdGTbUE"
      }
    },
    {
      "cell_type": "code",
      "source": [
        "total = 5\n",
        "\n",
        "if total > 0:\n",
        "  print(f\"손님이 {total} 입장했습니다\")"
      ],
      "metadata": {
        "colab": {
          "base_uri": "https://localhost:8080/"
        },
        "id": "wQHABmM6Tfmw",
        "outputId": "4ae2af4f-d705-4004-ba6f-b5a2d2994680"
      },
      "execution_count": 2,
      "outputs": [
        {
          "output_type": "stream",
          "name": "stdout",
          "text": [
            "손님이 5 입장했습니다\n"
          ]
        }
      ]
    },
    {
      "cell_type": "code",
      "source": [
        "# 예제2. 숫자열 입력시 오류(input 은 str로 반환함)\n",
        "\n",
        "total = input('몇명이 들어왔나요?')\n",
        "\n",
        "if total > 0:\n",
        "  print(f'{total} 인이 입장하였습니다.')"
      ],
      "metadata": {
        "colab": {
          "base_uri": "https://localhost:8080/",
          "height": 245
        },
        "id": "Wn5zJSoYTuxr",
        "outputId": "67437216-394c-4193-84a5-7f29d413818a"
      },
      "execution_count": 3,
      "outputs": [
        {
          "name": "stdout",
          "output_type": "stream",
          "text": [
            "몇명이 들어왔나요?5\n"
          ]
        },
        {
          "output_type": "error",
          "ename": "TypeError",
          "evalue": "ignored",
          "traceback": [
            "\u001b[0;31m---------------------------------------------------------------------------\u001b[0m",
            "\u001b[0;31mTypeError\u001b[0m                                 Traceback (most recent call last)",
            "\u001b[0;32m<ipython-input-3-63f9c7915e62>\u001b[0m in \u001b[0;36m<cell line: 5>\u001b[0;34m()\u001b[0m\n\u001b[1;32m      3\u001b[0m \u001b[0mtotal\u001b[0m \u001b[0;34m=\u001b[0m \u001b[0minput\u001b[0m\u001b[0;34m(\u001b[0m\u001b[0;34m'몇명이 들어왔나요?'\u001b[0m\u001b[0;34m)\u001b[0m\u001b[0;34m\u001b[0m\u001b[0;34m\u001b[0m\u001b[0m\n\u001b[1;32m      4\u001b[0m \u001b[0;34m\u001b[0m\u001b[0m\n\u001b[0;32m----> 5\u001b[0;31m \u001b[0;32mif\u001b[0m \u001b[0mtotal\u001b[0m \u001b[0;34m>\u001b[0m \u001b[0;36m0\u001b[0m\u001b[0;34m:\u001b[0m\u001b[0;34m\u001b[0m\u001b[0;34m\u001b[0m\u001b[0m\n\u001b[0m\u001b[1;32m      6\u001b[0m   \u001b[0mprint\u001b[0m\u001b[0;34m(\u001b[0m\u001b[0;34mf'{total} 인이 입장하였습니다.'\u001b[0m\u001b[0;34m)\u001b[0m\u001b[0;34m\u001b[0m\u001b[0;34m\u001b[0m\u001b[0m\n",
            "\u001b[0;31mTypeError\u001b[0m: '>' not supported between instances of 'str' and 'int'"
          ]
        }
      ]
    },
    {
      "cell_type": "code",
      "source": [
        "## 예제3. 문자열 입력할때\n",
        "\n",
        "wheather = input('오늘 날씨는?')\n",
        "\n",
        "if wheather != \"\":\n",
        "  print(f\"오늘 날씨는 {wheather} 입니다\")"
      ],
      "metadata": {
        "colab": {
          "base_uri": "https://localhost:8080/"
        },
        "id": "B42SOvURTx5W",
        "outputId": "0b196ffc-95bb-40fc-812e-41588ddeca81"
      },
      "execution_count": 4,
      "outputs": [
        {
          "output_type": "stream",
          "name": "stdout",
          "text": [
            "오늘 날씨는?맑음\n",
            "오늘 날씨는 맑음 입니다\n"
          ]
        }
      ]
    },
    {
      "cell_type": "code",
      "source": [
        "# 예제4. 2개 이상 조건일때? and\n",
        "\n",
        "# if 조건1 and 조건2\n",
        "\n",
        "# 1. 오늘 날씨가 어떤가요? \"\"이 아닐때\n",
        "# 2. 오늘 기온이 어떤가요? 0도 이상일때 따뜻합니다.\n",
        "\n",
        "wheather1 = input(\"오늘 날씨는 어떤가요\")\n",
        "wheather2 = int(input(\"오늘 기온은 어떤가요\"))\n",
        "\n",
        "if wheather1 != \"\" and wheather2 > 0:\n",
        "  print(f'오늘 날씨는 {wheather1}이고 온도는 {wheather2}입니다')"
      ],
      "metadata": {
        "colab": {
          "base_uri": "https://localhost:8080/"
        },
        "id": "mktN0ot-UKdY",
        "outputId": "487e69c8-f067-4ee6-ff37-dc5409a66182"
      },
      "execution_count": 6,
      "outputs": [
        {
          "output_type": "stream",
          "name": "stdout",
          "text": [
            "오늘 날씨는 어떤가요맑아\n",
            "오늘 기온은 어떤가요2\n",
            "오늘 날씨는 맑아이고 온도는 2입니다\n"
          ]
        }
      ]
    },
    {
      "cell_type": "code",
      "source": [
        "# 예제5. if문을 쓸때 헷갈리는 것\n",
        "\n",
        "job = input(\"직업이 있나요?\")\n",
        "\n",
        "if job == \"예\":\n",
        "  print(\"직업이 있습니다.\")"
      ],
      "metadata": {
        "colab": {
          "base_uri": "https://localhost:8080/"
        },
        "id": "6_4Xe3qZU94P",
        "outputId": "42a9de4f-64a5-4ea1-eba4-5a2a301d4ef7"
      },
      "execution_count": 7,
      "outputs": [
        {
          "output_type": "stream",
          "name": "stdout",
          "text": [
            "직업이 있나요?예\n",
            "직업이 있습니다.\n"
          ]
        }
      ]
    },
    {
      "cell_type": "markdown",
      "source": [
        "# 다중 조건문 - if else 문\n",
        "\n",
        "조건이 2개인 경우에는 보통 if else사용하지만 if elif사용하기도 합니다.\n",
        "\n",
        "[주의]\n",
        "* else사용할때는 누락되는 조건이 없는지 확인해봐야한다."
      ],
      "metadata": {
        "id": "kt2MQUt-VZ-O"
      }
    },
    {
      "cell_type": "code",
      "source": [
        "# if 조건1:\n",
        "#   실행 문장 1\n",
        "# else:\n",
        "#   실행 문장 2\n",
        "\n",
        "total = int(input(\"몇명이 들어왔나요?\"))\n",
        "\n",
        "if total > 0:\n",
        "  print(f'{total} 명이 들어왔습니다.')\n",
        "else:\n",
        "  print(\"잘못된 정보를 입력하였습니다.\")"
      ],
      "metadata": {
        "colab": {
          "base_uri": "https://localhost:8080/"
        },
        "id": "WpLDmlGTVe2g",
        "outputId": "f1909aec-9668-43a2-fc22-22e743337d6d"
      },
      "execution_count": 8,
      "outputs": [
        {
          "output_type": "stream",
          "name": "stdout",
          "text": [
            "몇명이 들어왔나요?5\n",
            "5 명이 들어왔습니다.\n"
          ]
        }
      ]
    },
    {
      "cell_type": "code",
      "source": [
        "#예제2. 문자열 입력시\n",
        "\n",
        "whether = input(\"오늘 날씨는 어떤가요?\")\n",
        "\n",
        "if whether != \"\":\n",
        "  print(f'오늘 날씨는 {whether} 입니다')\n",
        "else:\n",
        "  print(\"날씨가 입력되지 않았습니다.\")"
      ],
      "metadata": {
        "colab": {
          "base_uri": "https://localhost:8080/"
        },
        "id": "WXm3KeRiVr9q",
        "outputId": "1510e8a4-5739-4435-9554-e2169cdc2028"
      },
      "execution_count": 10,
      "outputs": [
        {
          "output_type": "stream",
          "name": "stdout",
          "text": [
            "오늘 날씨는 어떤가요?\n",
            "날씨가 입력되지 않았습니다.\n"
          ]
        }
      ]
    },
    {
      "cell_type": "markdown",
      "source": [
        "### 1.1.3 다중 조건문 - if elif else문\n",
        "\n",
        "조건이 3개 이상인 경우 사용이 되고, else대신에 elif 마무리는 else하는 것을 추천"
      ],
      "metadata": {
        "id": "odl3Vs3rV2lm"
      }
    },
    {
      "cell_type": "code",
      "source": [
        "total = int(input())\n",
        "\n",
        "if total > 5:\n",
        "  print(\"많이 들어옴\")\n",
        "\n",
        "elif total > 0 and total <=5:\n",
        "  print(\"적게들어옴\")\n",
        "else :\n",
        "  print('잘못입력함')"
      ],
      "metadata": {
        "colab": {
          "base_uri": "https://localhost:8080/"
        },
        "id": "ykMh8JjHV3_-",
        "outputId": "5bc62e98-201f-4ec8-ed71-9eebbeca0a02"
      },
      "execution_count": 11,
      "outputs": [
        {
          "output_type": "stream",
          "name": "stdout",
          "text": [
            "3\n",
            "적게들어옴\n"
          ]
        }
      ]
    },
    {
      "cell_type": "code",
      "source": [
        "#예제2. 문자열 입력시\n",
        "\n",
        "whether = input(\"오늘 날씨는 어떤가요?\")\n",
        "\n",
        "if whether == \"맑음\":\n",
        "  print(f'오늘 날씨는 {whether} 입니다 옷을 얇게 입고 가세요')\n",
        "elif whether == \"미세먼지\":\n",
        "  print(f'오늘 날씨는 {whether} 입니다 옷을 얇게 입고 가세요')\n",
        "else:\n",
        "  print(\"날씨가 입력되지 않았습니다.\")"
      ],
      "metadata": {
        "colab": {
          "base_uri": "https://localhost:8080/",
          "height": 414
        },
        "id": "4mlL4HfNWPK2",
        "outputId": "62498db6-c8ef-466e-be46-3836714ceda0"
      },
      "execution_count": 12,
      "outputs": [
        {
          "output_type": "error",
          "ename": "KeyboardInterrupt",
          "evalue": "ignored",
          "traceback": [
            "\u001b[0;31m---------------------------------------------------------------------------\u001b[0m",
            "\u001b[0;31mKeyboardInterrupt\u001b[0m                         Traceback (most recent call last)",
            "\u001b[0;32m<ipython-input-12-4046bfc9b81d>\u001b[0m in \u001b[0;36m<cell line: 3>\u001b[0;34m()\u001b[0m\n\u001b[1;32m      1\u001b[0m \u001b[0;31m#예제2. 문자열 입력시\u001b[0m\u001b[0;34m\u001b[0m\u001b[0;34m\u001b[0m\u001b[0m\n\u001b[1;32m      2\u001b[0m \u001b[0;34m\u001b[0m\u001b[0m\n\u001b[0;32m----> 3\u001b[0;31m \u001b[0mwhether\u001b[0m \u001b[0;34m=\u001b[0m \u001b[0minput\u001b[0m\u001b[0;34m(\u001b[0m\u001b[0;34m\"오늘 날씨는 어떤가요?\"\u001b[0m\u001b[0;34m)\u001b[0m\u001b[0;34m\u001b[0m\u001b[0;34m\u001b[0m\u001b[0m\n\u001b[0m\u001b[1;32m      4\u001b[0m \u001b[0;34m\u001b[0m\u001b[0m\n\u001b[1;32m      5\u001b[0m \u001b[0;32mif\u001b[0m \u001b[0mwhether\u001b[0m \u001b[0;34m==\u001b[0m \u001b[0;34m\"맑음\"\u001b[0m\u001b[0;34m:\u001b[0m\u001b[0;34m\u001b[0m\u001b[0;34m\u001b[0m\u001b[0m\n",
            "\u001b[0;32m/usr/local/lib/python3.10/dist-packages/ipykernel/kernelbase.py\u001b[0m in \u001b[0;36mraw_input\u001b[0;34m(self, prompt)\u001b[0m\n\u001b[1;32m    849\u001b[0m                 \u001b[0;34m\"raw_input was called, but this frontend does not support input requests.\"\u001b[0m\u001b[0;34m\u001b[0m\u001b[0;34m\u001b[0m\u001b[0m\n\u001b[1;32m    850\u001b[0m             )\n\u001b[0;32m--> 851\u001b[0;31m         return self._input_request(str(prompt),\n\u001b[0m\u001b[1;32m    852\u001b[0m             \u001b[0mself\u001b[0m\u001b[0;34m.\u001b[0m\u001b[0m_parent_ident\u001b[0m\u001b[0;34m,\u001b[0m\u001b[0;34m\u001b[0m\u001b[0;34m\u001b[0m\u001b[0m\n\u001b[1;32m    853\u001b[0m             \u001b[0mself\u001b[0m\u001b[0;34m.\u001b[0m\u001b[0m_parent_header\u001b[0m\u001b[0;34m,\u001b[0m\u001b[0;34m\u001b[0m\u001b[0;34m\u001b[0m\u001b[0m\n",
            "\u001b[0;32m/usr/local/lib/python3.10/dist-packages/ipykernel/kernelbase.py\u001b[0m in \u001b[0;36m_input_request\u001b[0;34m(self, prompt, ident, parent, password)\u001b[0m\n\u001b[1;32m    893\u001b[0m             \u001b[0;32mexcept\u001b[0m \u001b[0mKeyboardInterrupt\u001b[0m\u001b[0;34m:\u001b[0m\u001b[0;34m\u001b[0m\u001b[0;34m\u001b[0m\u001b[0m\n\u001b[1;32m    894\u001b[0m                 \u001b[0;31m# re-raise KeyboardInterrupt, to truncate traceback\u001b[0m\u001b[0;34m\u001b[0m\u001b[0;34m\u001b[0m\u001b[0m\n\u001b[0;32m--> 895\u001b[0;31m                 \u001b[0;32mraise\u001b[0m \u001b[0mKeyboardInterrupt\u001b[0m\u001b[0;34m(\u001b[0m\u001b[0;34m\"Interrupted by user\"\u001b[0m\u001b[0;34m)\u001b[0m \u001b[0;32mfrom\u001b[0m \u001b[0;32mNone\u001b[0m\u001b[0;34m\u001b[0m\u001b[0;34m\u001b[0m\u001b[0m\n\u001b[0m\u001b[1;32m    896\u001b[0m             \u001b[0;32mexcept\u001b[0m \u001b[0mException\u001b[0m \u001b[0;32mas\u001b[0m \u001b[0me\u001b[0m\u001b[0;34m:\u001b[0m\u001b[0;34m\u001b[0m\u001b[0;34m\u001b[0m\u001b[0m\n\u001b[1;32m    897\u001b[0m                 \u001b[0mself\u001b[0m\u001b[0;34m.\u001b[0m\u001b[0mlog\u001b[0m\u001b[0;34m.\u001b[0m\u001b[0mwarning\u001b[0m\u001b[0;34m(\u001b[0m\u001b[0;34m\"Invalid Message:\"\u001b[0m\u001b[0;34m,\u001b[0m \u001b[0mexc_info\u001b[0m\u001b[0;34m=\u001b[0m\u001b[0;32mTrue\u001b[0m\u001b[0;34m)\u001b[0m\u001b[0;34m\u001b[0m\u001b[0;34m\u001b[0m\u001b[0m\n",
            "\u001b[0;31mKeyboardInterrupt\u001b[0m: Interrupted by user"
          ]
        }
      ]
    },
    {
      "cell_type": "code",
      "source": [
        "#예제3. 코드를 짜다가 생각이 나지 않아서.. \n",
        "\n",
        "# 코드\n",
        "\n",
        "# 역할 무언가있다 \n",
        "number = 0\n",
        "\n",
        "if number > 0:\n",
        "  pass\n",
        "else:\n",
        "  pass\n",
        "\n",
        "# 코드"
      ],
      "metadata": {
        "id": "992PTaARWSlK"
      },
      "execution_count": 13,
      "outputs": []
    },
    {
      "cell_type": "code",
      "source": [
        "#일부러 코드 오류류\n",
        "number = 0\n",
        "\n",
        "if number > 0:\n",
        "  raise NotImplementedError\n",
        "else:\n",
        "  raise NotImplementedError"
      ],
      "metadata": {
        "id": "sWymeYMlWUuo"
      },
      "execution_count": null,
      "outputs": []
    },
    {
      "cell_type": "markdown",
      "source": [
        "### 1.1.4 삼항 연산자\n",
        "\n",
        "[사용방법]\n",
        "* 참일때의 값 / if / 조건식 / else / 거짓일때 값\n",
        "* 변수로 바로 할당할 수 있음 "
      ],
      "metadata": {
        "id": "PRicvYHmWorp"
      }
    },
    {
      "cell_type": "code",
      "source": [
        "age = 21\n",
        "\n",
        "is_adult = '성인입니다' if age>20 else \"미성년자\"\n",
        "is_adult"
      ],
      "metadata": {
        "colab": {
          "base_uri": "https://localhost:8080/",
          "height": 35
        },
        "id": "g4BW7f9RWqI8",
        "outputId": "02c8a6c1-5fb4-4785-b3b1-95f9c783e2cb"
      },
      "execution_count": 14,
      "outputs": [
        {
          "output_type": "execute_result",
          "data": {
            "text/plain": [
              "'성인입니다'"
            ],
            "application/vnd.google.colaboratory.intrinsic+json": {
              "type": "string"
            }
          },
          "metadata": {},
          "execution_count": 14
        }
      ]
    },
    {
      "cell_type": "markdown",
      "source": [
        "#1.1.5 중첩 조건문\n",
        "\n",
        "* if안에 또 다른 if를 넣어서 다양한 Case를 만족 시키는 방법"
      ],
      "metadata": {
        "id": "yDhOMOhiW1sn"
      }
    },
    {
      "cell_type": "code",
      "source": [
        "apple = input('사과의 상태를 입력')\n",
        "\n",
        "if apple == '좋음':\n",
        "  appleprice = int(input('사과 한개당 가격'))\n",
        "  if appleprice < 1000:\n",
        "    print('10개를 산다')\n",
        "    print(f'사과 가격은 {appleprice * 10}원 입니다')\n",
        "  else:\n",
        "    print('5개를 산다')\n",
        "    print(f'사과 가격은 {appleprice * 5}원 입니다')\n",
        "\n",
        "else:\n",
        "  print('사과를 안산다')"
      ],
      "metadata": {
        "colab": {
          "base_uri": "https://localhost:8080/"
        },
        "id": "F6s8xokbW2pr",
        "outputId": "a3fa333d-caea-4a54-b664-e905f4b9310d"
      },
      "execution_count": 16,
      "outputs": [
        {
          "output_type": "stream",
          "name": "stdout",
          "text": [
            "사과의 상태를 입력좋음\n",
            "사과 한개당 가격500\n",
            "10개를 산다\n",
            "사과 가격은 5000원 입니다\n"
          ]
        }
      ]
    },
    {
      "cell_type": "code",
      "source": [
        "# (True False)\n",
        "# True = 1 False 0\n",
        "\n",
        "if 0:\n",
        "  print(\"0은 True로 변환합니다.\")\n",
        "else:\n",
        "  print(\"0은 False로 변환합니다.\")"
      ],
      "metadata": {
        "colab": {
          "base_uri": "https://localhost:8080/"
        },
        "id": "X221Ky8KXjg2",
        "outputId": "b35f68d3-6f1f-4c83-95ae-a51441cea681"
      },
      "execution_count": 17,
      "outputs": [
        {
          "output_type": "stream",
          "name": "stdout",
          "text": [
            "0은 False로 변환합니다.\n"
          ]
        }
      ]
    },
    {
      "cell_type": "code",
      "source": [
        "if \"\":\n",
        "  print(\"0은 True로 변환합니다.\")\n",
        "else:\n",
        "  print(\"0은 False로 변환합니다.\")"
      ],
      "metadata": {
        "colab": {
          "base_uri": "https://localhost:8080/"
        },
        "id": "pcYJ1CTuXnFx",
        "outputId": "d5d967e1-60ad-4c9c-9b4b-1e03beb8cee5"
      },
      "execution_count": 18,
      "outputs": [
        {
          "output_type": "stream",
          "name": "stdout",
          "text": [
            "0은 False로 변환합니다.\n"
          ]
        }
      ]
    },
    {
      "cell_type": "code",
      "source": [
        "#문제 4. 다음 코드의 실행결과로 맞는 것은?\n",
        "# 입력된 나이에 따라 학교를 구분하는 조건문\n",
        "# 나이로 7을 입력했을때의 결과는?\n",
        "\n",
        "year = input('나이를 입력하세요')\n",
        "\n",
        "if 1 <= year <= 7:\n",
        "  print(\"미취학 아동입니다.\")\n",
        "elif 8 <= year <= 13:\n",
        "  print(\"초등학생입니다.\")\n",
        "elif 14 <= year <= 16:\n",
        "  print(\"중학생입니다.\")\n",
        "elif 17 <= year <= 19:\n",
        "  print(\"고등학생입니다.\")\n",
        "elif 20 <= year <= 26:\n",
        "  print(\"대학생입니다.\")\n",
        "else:\n",
        "  print(\"정수를 입력해주세요\")\n",
        "\n",
        "# 1. 정수를 입력해주세요\n",
        "# 2. 대학생입니다.\n",
        "# 3. 중학생입니다.\n",
        "# 4. 미취학 아동입니다.\n",
        "# 5. error 발생"
      ],
      "metadata": {
        "colab": {
          "base_uri": "https://localhost:8080/",
          "height": 263
        },
        "id": "u0CL2Oa5YD9x",
        "outputId": "6139fece-f083-4614-ab21-c1b8cef375bb"
      },
      "execution_count": 19,
      "outputs": [
        {
          "name": "stdout",
          "output_type": "stream",
          "text": [
            "나이를 입력하세요5\n"
          ]
        },
        {
          "output_type": "error",
          "ename": "TypeError",
          "evalue": "ignored",
          "traceback": [
            "\u001b[0;31m---------------------------------------------------------------------------\u001b[0m",
            "\u001b[0;31mTypeError\u001b[0m                                 Traceback (most recent call last)",
            "\u001b[0;32m<ipython-input-19-44274f9953a5>\u001b[0m in \u001b[0;36m<cell line: 7>\u001b[0;34m()\u001b[0m\n\u001b[1;32m      5\u001b[0m \u001b[0myear\u001b[0m \u001b[0;34m=\u001b[0m \u001b[0minput\u001b[0m\u001b[0;34m(\u001b[0m\u001b[0;34m'나이를 입력하세요'\u001b[0m\u001b[0;34m)\u001b[0m\u001b[0;34m\u001b[0m\u001b[0;34m\u001b[0m\u001b[0m\n\u001b[1;32m      6\u001b[0m \u001b[0;34m\u001b[0m\u001b[0m\n\u001b[0;32m----> 7\u001b[0;31m \u001b[0;32mif\u001b[0m \u001b[0;36m1\u001b[0m \u001b[0;34m<=\u001b[0m \u001b[0myear\u001b[0m \u001b[0;34m<=\u001b[0m \u001b[0;36m7\u001b[0m\u001b[0;34m:\u001b[0m\u001b[0;34m\u001b[0m\u001b[0;34m\u001b[0m\u001b[0m\n\u001b[0m\u001b[1;32m      8\u001b[0m   \u001b[0mprint\u001b[0m\u001b[0;34m(\u001b[0m\u001b[0;34m\"미취학 아동입니다.\"\u001b[0m\u001b[0;34m)\u001b[0m\u001b[0;34m\u001b[0m\u001b[0;34m\u001b[0m\u001b[0m\n\u001b[1;32m      9\u001b[0m \u001b[0;32melif\u001b[0m \u001b[0;36m8\u001b[0m \u001b[0;34m<=\u001b[0m \u001b[0myear\u001b[0m \u001b[0;34m<=\u001b[0m \u001b[0;36m13\u001b[0m\u001b[0;34m:\u001b[0m\u001b[0;34m\u001b[0m\u001b[0;34m\u001b[0m\u001b[0m\n",
            "\u001b[0;31mTypeError\u001b[0m: '<=' not supported between instances of 'int' and 'str'"
          ]
        }
      ]
    },
    {
      "cell_type": "code",
      "source": [
        "# 문제 5번. 문자열로 ABC\n",
        "\n",
        "year = int(input('나이를 입력하세요'))\n",
        "\n",
        "if 1 <= year <= 7:\n",
        "  print(\"미취학 아동입니다.\")\n",
        "elif 8 <= year <= 13:\n",
        "  print(\"초등학생입니다.\")\n",
        "elif 14 <= year <= 16:\n",
        "  print(\"중학생입니다.\")\n",
        "elif 17 <= year <= 19:\n",
        "  print(\"고등학생입니다.\")\n",
        "elif 20 <= year <= 26:\n",
        "  print(\"대학생입니다.\")\n",
        "else:\n",
        "  print(\"정수를 입력해주세요\")\n",
        "\n",
        "# 1. 정수를 입력해주세요\n",
        "# 2. 대학생입니다.\n",
        "# 3. 중학생입니다.\n",
        "# 4. 미취학 아동입니다.\n",
        "# 5. error 발생"
      ],
      "metadata": {
        "colab": {
          "base_uri": "https://localhost:8080/",
          "height": 263
        },
        "id": "i0j3ZnFdYVxf",
        "outputId": "aadec5b8-c203-41cd-8cd1-18f01a5ccf4d"
      },
      "execution_count": 20,
      "outputs": [
        {
          "name": "stdout",
          "output_type": "stream",
          "text": [
            "나이를 입력하세요abc\n"
          ]
        },
        {
          "output_type": "error",
          "ename": "ValueError",
          "evalue": "ignored",
          "traceback": [
            "\u001b[0;31m---------------------------------------------------------------------------\u001b[0m",
            "\u001b[0;31mValueError\u001b[0m                                Traceback (most recent call last)",
            "\u001b[0;32m<ipython-input-20-bee712d5349a>\u001b[0m in \u001b[0;36m<cell line: 3>\u001b[0;34m()\u001b[0m\n\u001b[1;32m      1\u001b[0m \u001b[0;31m# 문제 5번. 문자열로 ABC\u001b[0m\u001b[0;34m\u001b[0m\u001b[0;34m\u001b[0m\u001b[0m\n\u001b[1;32m      2\u001b[0m \u001b[0;34m\u001b[0m\u001b[0m\n\u001b[0;32m----> 3\u001b[0;31m \u001b[0myear\u001b[0m \u001b[0;34m=\u001b[0m \u001b[0mint\u001b[0m\u001b[0;34m(\u001b[0m\u001b[0minput\u001b[0m\u001b[0;34m(\u001b[0m\u001b[0;34m'나이를 입력하세요'\u001b[0m\u001b[0;34m)\u001b[0m\u001b[0;34m)\u001b[0m\u001b[0;34m\u001b[0m\u001b[0;34m\u001b[0m\u001b[0m\n\u001b[0m\u001b[1;32m      4\u001b[0m \u001b[0;34m\u001b[0m\u001b[0m\n\u001b[1;32m      5\u001b[0m \u001b[0;32mif\u001b[0m \u001b[0;36m1\u001b[0m \u001b[0;34m<=\u001b[0m \u001b[0myear\u001b[0m \u001b[0;34m<=\u001b[0m \u001b[0;36m7\u001b[0m\u001b[0;34m:\u001b[0m\u001b[0;34m\u001b[0m\u001b[0;34m\u001b[0m\u001b[0m\n",
            "\u001b[0;31mValueError\u001b[0m: invalid literal for int() with base 10: 'abc'"
          ]
        }
      ]
    },
    {
      "cell_type": "code",
      "source": [
        "year = int(input('나이를 입력하세요'))\n",
        "\n",
        "if 1 <= year <= 7:\n",
        "  print(\"미취학 아동입니다.\")\n",
        "elif 8 <= year <= 13:\n",
        "  print(\"초등학생입니다.\")\n",
        "elif 14 <= year <= 16:\n",
        "  print(\"중학생입니다.\")\n",
        "elif 17 <= year <= 19:\n",
        "  print(\"고등학생입니다.\")\n",
        "elif 20 <= year <= 26:\n",
        "  print(\"대학생입니다.\")\n",
        "else:\n",
        "  print(\"정수를 입력해주세요\")\n"
      ],
      "metadata": {
        "colab": {
          "base_uri": "https://localhost:8080/"
        },
        "id": "4A_j44eMYYKH",
        "outputId": "149a20af-1782-4853-ced3-3364c0e9319f"
      },
      "execution_count": 21,
      "outputs": [
        {
          "output_type": "stream",
          "name": "stdout",
          "text": [
            "나이를 입력하세요-1\n",
            "정수를 입력해주세요\n"
          ]
        }
      ]
    },
    {
      "cell_type": "code",
      "source": [
        "my_list = ['i','like','to','study','python']\n",
        "new_list = []\n",
        "\n",
        "i = len(my_list)\n",
        "if i == 5:\n",
        "  new_list.append(my_list[ : :2])\n",
        "print(new_list)\n",
        "\n",
        "# 1. [['i','to','python']]\n",
        "# 2. [['like','study']]\n",
        "# 3. ['i','to','python']\n",
        "# 4. ['like','study']\n",
        "# 5. ['i','like']\n",
        "# 6. [['i', 'like']]\n",
        "# 7. None"
      ],
      "metadata": {
        "colab": {
          "base_uri": "https://localhost:8080/"
        },
        "id": "dp_S40UgYd2_",
        "outputId": "36a85517-8e48-412b-dc99-645fde687d7f"
      },
      "execution_count": 22,
      "outputs": [
        {
          "output_type": "stream",
          "name": "stdout",
          "text": [
            "[['i', 'to', 'python']]\n"
          ]
        }
      ]
    },
    {
      "cell_type": "code",
      "source": [
        "# 문제 8번. 다음과 같이 코드를 작성했을때, 실행결과로 알맞은 것은?\n",
        "\n",
        "my_list = ['i','like','to','study','python']\n",
        "new_list = []\n",
        "\n",
        "i = len(my_list)\n",
        "if i == 5:\n",
        "  new_list.append(my_list[0:2])\n",
        "print(new_list)\n",
        "\n",
        "# 1. [['i','to','python']]\n",
        "# 2. [['like','study']]\n",
        "# 3. ['i','to','python']\n",
        "# 4. ['like','study']\n",
        "# 5. ['i','like']\n",
        "# 6. [['i', 'like']]\n",
        "# 7. None"
      ],
      "metadata": {
        "colab": {
          "base_uri": "https://localhost:8080/"
        },
        "id": "YZymcRSeYkbc",
        "outputId": "3e4a1c9c-e8e8-405e-da45-a8abaa91d13f"
      },
      "execution_count": 23,
      "outputs": [
        {
          "output_type": "stream",
          "name": "stdout",
          "text": [
            "[['i', 'like']]\n"
          ]
        }
      ]
    },
    {
      "cell_type": "code",
      "source": [
        "# 문제 9번. 다음과 같이 코드를 작성하였을때, 실행결과로 알맞은 것은?\n",
        "my_list = ['i','like','to','study','python']\n",
        "new_list = []\n",
        "\n",
        "i = len(my_list)\n",
        "if i == 5:\n",
        "  new_list.extend(my_list[::2])\n",
        "print(new_list)\n",
        "\n",
        "# 1. [['i','to','python']]\n",
        "# 2. [['like','study']]\n",
        "# 3. ['i','to','python']\n",
        "# 4. ['like','study']\n",
        "# 5. ['i','like']\n",
        "# 6. [['i', 'like']]\n",
        "# 7. None"
      ],
      "metadata": {
        "colab": {
          "base_uri": "https://localhost:8080/"
        },
        "id": "XrmHu9sjYnAJ",
        "outputId": "28f20498-a859-480c-e530-401919a3255f"
      },
      "execution_count": 24,
      "outputs": [
        {
          "output_type": "stream",
          "name": "stdout",
          "text": [
            "['i', 'to', 'python']\n"
          ]
        }
      ]
    },
    {
      "cell_type": "code",
      "source": [
        "#짝수와 홀수의 구분\n",
        "\n",
        "num = input('정수 입력')\n",
        "\n",
        "last_chr = num[-1]\n",
        "last_num = int(last_chr)\n",
        "\n",
        "#0~9 숫자만이 last_num\n",
        "\n",
        "#짝수 확인\n",
        "if last_num == 0 or last_num == 2 or last_num == 4 or last_num == 6 or last_num == 8:\n",
        "  print(\"짝수입니다\")\n",
        "if last_num == 1 or last_num == 3 or last_num == 5 or last_num == 7 or last_num == 9:\n",
        "  print('홀수 입니다')"
      ],
      "metadata": {
        "colab": {
          "base_uri": "https://localhost:8080/"
        },
        "id": "cnMqWhQ4Yspl",
        "outputId": "149f0474-2f33-4ea9-ec39-5ef8c91a4162"
      },
      "execution_count": 26,
      "outputs": [
        {
          "output_type": "stream",
          "name": "stdout",
          "text": [
            "정수 입력9\n",
            "홀수 입니다\n"
          ]
        }
      ]
    },
    {
      "cell_type": "code",
      "source": [
        "number = input(\"정수 입력 > \")\n",
        "last_character = number[-1]\n",
        "\n",
        "#짝수 조건\n",
        "if last_chr in '0248':\n",
        "  print(\"짝수\")\n",
        "if last_chr in '13579':\n",
        "  print(\"홀수\")"
      ],
      "metadata": {
        "colab": {
          "base_uri": "https://localhost:8080/"
        },
        "id": "CMJXh4veaDmA",
        "outputId": "b0d62306-37f3-47e8-b259-9a186a1ad0a1"
      },
      "execution_count": 27,
      "outputs": [
        {
          "output_type": "stream",
          "name": "stdout",
          "text": [
            "정수 입력 > 5\n",
            "홀수\n"
          ]
        }
      ]
    },
    {
      "cell_type": "code",
      "source": [
        "number = input(\"정수 입력 > \")\n",
        "number = int(number)\n",
        "\n",
        "# 짝수 조건\n",
        "if number % 2 == 0 :\n",
        "    print(\"짝수입니다\")\n",
        "    \n",
        "# 홀수 조건\n",
        "if number % 2 == 1 :\n",
        "    print(\"홀수입니다\")"
      ],
      "metadata": {
        "colab": {
          "base_uri": "https://localhost:8080/"
        },
        "id": "tuZbD13TaQl1",
        "outputId": "31203f75-a30f-4bc4-d56f-0dd142468136"
      },
      "execution_count": 28,
      "outputs": [
        {
          "output_type": "stream",
          "name": "stdout",
          "text": [
            "정수 입력 > 5\n",
            "홀수입니다\n"
          ]
        }
      ]
    },
    {
      "cell_type": "markdown",
      "source": [
        "# 문제 3.\n",
        "\n",
        "* money에는 현재 돈이 얼마 있는지 input으로 받고\n",
        "* 커피는 600원 1000원 1500원 세가지가 있습니다.\n",
        "* 돈이 있어서 커피를 샀으면 거스름돈을 계산하고 만약에 돈이 부족하면 메세지를 띄워주세요"
      ],
      "metadata": {
        "id": "D_8uhm0EaW4h"
      }
    },
    {
      "cell_type": "code",
      "source": [
        "print(\"환영해\")\n",
        "money = int(input(\"얼마 있나요\"))\n",
        "print(\"커피를 고르세요\")\n",
        "choice = int(input('[1] 600 [2] 1000 [3] 1500'))\n",
        "\n",
        "if choice == 1:\n",
        "  price = 600\n",
        "elif choice == 2:\n",
        "  price = 1000\n",
        "elif choice == 3:\n",
        "  price = 1500\n",
        "else:\n",
        "  price = 0\n",
        "\n",
        "if money >= price:\n",
        "  print(f\"거스롬돈은 {money - price}입니다\")\n",
        "else:\n",
        "  print(\"돈이 부족합니다\")"
      ],
      "metadata": {
        "colab": {
          "base_uri": "https://localhost:8080/"
        },
        "id": "_9Rkoxl7aX_2",
        "outputId": "3b50e184-9fe6-4387-cc73-f40c767f0639"
      },
      "execution_count": 29,
      "outputs": [
        {
          "output_type": "stream",
          "name": "stdout",
          "text": [
            "환영해\n",
            "얼마 있나요1500\n",
            "커피를 고르세요\n",
            "[1] 600 [2] 1000 [3] 15001\n",
            "거스롬돈은 900입니다\n"
          ]
        }
      ]
    },
    {
      "cell_type": "code",
      "source": [
        "#교통카드 시스템 만들기\n",
        "\n",
        "if 7 <= age <= 12:\n",
        "  print('학생입니다.')\n",
        "  balance -= 650\n",
        "  if balance < 0:\n",
        "    balance += 650\n",
        "    print('잔액이 부족합니다.')\n",
        "\n",
        "else:\n",
        "  print(\"미성년자는 무료탑승입니다.\")"
      ],
      "metadata": {
        "colab": {
          "base_uri": "https://localhost:8080/"
        },
        "id": "9xJtllvBbGX-",
        "outputId": "62a3c03f-acd8-4789-d8d3-4c0fe4e30fc7"
      },
      "execution_count": 30,
      "outputs": [
        {
          "output_type": "stream",
          "name": "stdout",
          "text": [
            "미성년자는 무료탑승입니다.\n"
          ]
        }
      ]
    },
    {
      "cell_type": "code",
      "source": [
        "import datetime\n",
        "from datetime import timedelta, timezone\n",
        "\n",
        "year = int(input(\"태어난 연도를 입력하세요\"))\n",
        "month = int(input(\"태어난 월을 입력하세요\"))\n",
        "day = int(input(\"태어난 일을 입력하세요\"))\n",
        "\n",
        "birthday = datetime.date(year, month, day)\n",
        "\n",
        "# 현재 날짜\n",
        "# today = datetime.date.today()\n",
        "\n",
        "# 만 나이 적용일자\n",
        "#datetime.date(2023, 6, 28)\n",
        "d_day = datetime.date(2023, 6, 28)\n",
        "\n",
        "# 만나이 계산\n",
        "\n",
        "age = d_day.year - birthday.year -((d_day.month, d_day.day) < (birthday.month, birthday.day))\n",
        "\n",
        "# 결과 출력\n",
        "print(\"당신의 만 나이는\", age, \"살입니다.\")\n",
        "\n",
        "if age >= 0 and age <= 5:\n",
        "  print(f\"2023년 6월 28일 기준 만 나이는 {age} 살 이므로 영유아 입니다.\")\n",
        "elif age >= 6 and age <= 12:\n",
        "  print(f\"2023년 6월 28일 기준 만 나이는 {age} 살 이므로 아동 입니다.\")\n",
        "elif age >= 13 and age <= 18:\n",
        "  print(f\"2023년 6월 28일 기준 만 나이는 {age} 살 이므로 청소년 입니다.\")\n",
        "elif age >= 19 and age <= 29:\n",
        "  print(f\"2023년 6월 28일 기준 만 나이는 {age} 살 이므로 청년 입니다.\")\n",
        "elif age >= 30 and age <= 49:\n",
        "  print(f\"2023년 6월 28일 기준 만 나이는 {age} 살 이므로 중년 입니다.\")\n",
        "elif age >= 50 and age <= 64:\n",
        "  print(f\"2023년 6월 28일 기준 만 나이는 {age} 살 이므로 장년 입니다.\")\n",
        "elif age >= 65:\n",
        "  print(f\"2023년 6월 28일 기준 만 나이는 {age} 살 이므로 노년 입니다.\")  \n",
        "else:\n",
        "  print(f\"연령대가 제대로 입력이 되지 않아 연령대 무관으로 분류됩니다.\")  \n"
      ],
      "metadata": {
        "colab": {
          "base_uri": "https://localhost:8080/"
        },
        "id": "VSSL9hIObJ7R",
        "outputId": "e65fec44-84f3-4562-958e-59f460b3d7e9"
      },
      "execution_count": 31,
      "outputs": [
        {
          "output_type": "stream",
          "name": "stdout",
          "text": [
            "태어난 연도를 입력하세요1991\n",
            "태어난 월을 입력하세요11\n",
            "태어난 일을 입력하세요23\n",
            "당신의 만 나이는 31 살입니다.\n",
            "2023년 6월 28일 기준 만 나이는 31 살 이므로 중년 입니다.\n"
          ]
        }
      ]
    },
    {
      "cell_type": "code",
      "source": [
        "# 현재 날짜\n",
        "today = datetime.date.today()\n",
        "print(today)"
      ],
      "metadata": {
        "colab": {
          "base_uri": "https://localhost:8080/"
        },
        "id": "aL5EOe5PbOQZ",
        "outputId": "bde3fda7-07df-4e0a-9060-420e1b059a47"
      },
      "execution_count": 32,
      "outputs": [
        {
          "output_type": "stream",
          "name": "stdout",
          "text": [
            "2023-05-02\n"
          ]
        }
      ]
    },
    {
      "cell_type": "code",
      "source": [],
      "metadata": {
        "id": "t2Dfo5k0bT9F"
      },
      "execution_count": null,
      "outputs": []
    },
    {
      "cell_type": "code",
      "source": [],
      "metadata": {
        "id": "4ue7E-ebaS6V"
      },
      "execution_count": null,
      "outputs": []
    },
    {
      "cell_type": "code",
      "source": [],
      "metadata": {
        "id": "LhdoAlOjY-M3"
      },
      "execution_count": null,
      "outputs": []
    },
    {
      "cell_type": "code",
      "source": [],
      "metadata": {
        "id": "jvWNje8zXiFT"
      },
      "execution_count": null,
      "outputs": []
    },
    {
      "cell_type": "code",
      "source": [],
      "metadata": {
        "id": "vB1g3HgfWzax"
      },
      "execution_count": null,
      "outputs": []
    },
    {
      "cell_type": "code",
      "source": [],
      "metadata": {
        "id": "aNB-ZidEVzX6"
      },
      "execution_count": null,
      "outputs": []
    },
    {
      "cell_type": "code",
      "source": [],
      "metadata": {
        "id": "0Nz1C9v7VxBC"
      },
      "execution_count": null,
      "outputs": []
    },
    {
      "cell_type": "code",
      "source": [],
      "metadata": {
        "id": "NCvfEGGxVClz"
      },
      "execution_count": null,
      "outputs": []
    },
    {
      "cell_type": "code",
      "source": [],
      "metadata": {
        "id": "jU169ax7U7NE"
      },
      "execution_count": null,
      "outputs": []
    },
    {
      "cell_type": "code",
      "source": [],
      "metadata": {
        "id": "jVcbYw0ITZ8L"
      },
      "execution_count": null,
      "outputs": []
    },
    {
      "cell_type": "markdown",
      "source": [],
      "metadata": {
        "id": "FfE3qa8ZTYyM"
      }
    }
  ]
}