{
  "cells": [
    {
      "cell_type": "code",
      "execution_count": null,
      "metadata": {
        "id": "msQdu6JeqKzx"
      },
      "outputs": [],
      "source": [
        "# 함수 예제 1 - 함수 생성\n",
        "\n",
        "def print_coin():\n",
        "  print(\"비트코인\")"
      ]
    },
    {
      "cell_type": "code",
      "execution_count": null,
      "metadata": {
        "colab": {
          "base_uri": "https://localhost:8080/"
        },
        "id": "3IgPAmZTq2xG",
        "outputId": "7e4ba80c-97c9-423c-ead3-497221d6d8f2"
      },
      "outputs": [
        {
          "name": "stdout",
          "output_type": "stream",
          "text": [
            "비트코인\n"
          ]
        }
      ],
      "source": [
        "# 함수 예제 1 - 함수 호출\n",
        "\n",
        "print_coin() # => \"비트코인\""
      ]
    },
    {
      "cell_type": "code",
      "execution_count": null,
      "metadata": {
        "colab": {
          "base_uri": "https://localhost:8080/"
        },
        "id": "Di7VqxJPq41d",
        "outputId": "9fbb45d5-cfcd-4cd2-afcf-7d6f3ce3fee0"
      },
      "outputs": [
        {
          "name": "stdout",
          "output_type": "stream",
          "text": [
            "비트코인\n",
            "비트코인\n",
            "비트코인\n",
            "비트코인\n",
            "비트코인\n",
            "비트코인\n",
            "비트코인\n",
            "비트코인\n",
            "비트코인\n",
            "비트코인\n",
            "비트코인\n",
            "비트코인\n",
            "비트코인\n",
            "비트코인\n",
            "비트코인\n",
            "비트코인\n",
            "비트코인\n",
            "비트코인\n",
            "비트코인\n",
            "비트코인\n",
            "비트코인\n",
            "비트코인\n",
            "비트코인\n",
            "비트코인\n",
            "비트코인\n",
            "비트코인\n",
            "비트코인\n",
            "비트코인\n",
            "비트코인\n",
            "비트코인\n",
            "비트코인\n",
            "비트코인\n",
            "비트코인\n",
            "비트코인\n",
            "비트코인\n",
            "비트코인\n",
            "비트코인\n",
            "비트코인\n",
            "비트코인\n",
            "비트코인\n",
            "비트코인\n",
            "비트코인\n",
            "비트코인\n",
            "비트코인\n",
            "비트코인\n",
            "비트코인\n",
            "비트코인\n",
            "비트코인\n",
            "비트코인\n",
            "비트코인\n",
            "비트코인\n",
            "비트코인\n",
            "비트코인\n",
            "비트코인\n",
            "비트코인\n",
            "비트코인\n",
            "비트코인\n",
            "비트코인\n",
            "비트코인\n",
            "비트코인\n",
            "비트코인\n",
            "비트코인\n",
            "비트코인\n",
            "비트코인\n",
            "비트코인\n",
            "비트코인\n",
            "비트코인\n",
            "비트코인\n",
            "비트코인\n",
            "비트코인\n",
            "비트코인\n",
            "비트코인\n",
            "비트코인\n",
            "비트코인\n",
            "비트코인\n",
            "비트코인\n",
            "비트코인\n",
            "비트코인\n",
            "비트코인\n",
            "비트코인\n",
            "비트코인\n",
            "비트코인\n",
            "비트코인\n",
            "비트코인\n",
            "비트코인\n",
            "비트코인\n",
            "비트코인\n",
            "비트코인\n",
            "비트코인\n",
            "비트코인\n",
            "비트코인\n",
            "비트코인\n",
            "비트코인\n",
            "비트코인\n",
            "비트코인\n",
            "비트코인\n",
            "비트코인\n",
            "비트코인\n",
            "비트코인\n",
            "비트코인\n"
          ]
        }
      ],
      "source": [
        "# 함수 예제 2 - 함수 반복\n",
        "\n",
        "for i in range(100):\n",
        "  print_coin()"
      ]
    },
    {
      "cell_type": "code",
      "execution_count": null,
      "metadata": {
        "colab": {
          "base_uri": "https://localhost:8080/"
        },
        "id": "HfRadf9Aq7_c",
        "outputId": "40a391eb-0f03-486c-bdb3-9363402bf16e"
      },
      "outputs": [
        {
          "name": "stdout",
          "output_type": "stream",
          "text": [
            "A\n",
            "B\n",
            "C\n",
            "A\n",
            "B\n"
          ]
        }
      ],
      "source": [
        "# 함수 예제 4 - 연습 문제 1\n",
        "\n",
        "def message():\n",
        "  print('A')\n",
        "  print('B')\n",
        "\n",
        "message()  # A, B\n",
        "print('C') # C\n",
        "message()  # A, B"
      ]
    },
    {
      "cell_type": "code",
      "execution_count": null,
      "metadata": {
        "colab": {
          "base_uri": "https://localhost:8080/"
        },
        "id": "LABK9hwSq_9B",
        "outputId": "c73a3ec0-e73d-4da5-ebe1-eeff851390b2"
      },
      "outputs": [
        {
          "name": "stdout",
          "output_type": "stream",
          "text": [
            "A\n",
            "C\n",
            "B\n"
          ]
        }
      ],
      "source": [
        "# 함수 예제 5 - 연습 문제 2\n",
        "# 이렇게 사용하면 함수가 헷갈리게 됨\n",
        "\n",
        "print('A') #1\n",
        "\n",
        "def message():\n",
        "  print(\"B\")\n",
        "\n",
        "print('C') #2\n",
        " \n",
        "message()  #3"
      ]
    },
    {
      "cell_type": "code",
      "execution_count": null,
      "metadata": {
        "colab": {
          "base_uri": "https://localhost:8080/"
        },
        "id": "95fSqThvrCJs",
        "outputId": "0e5b11e2-ff86-4f8d-a03f-fe2ead509b37"
      },
      "outputs": [
        {
          "name": "stdout",
          "output_type": "stream",
          "text": [
            "A\n",
            "C\n",
            "B\n",
            "E\n",
            "D\n"
          ]
        }
      ],
      "source": [
        "# 함수 예제 6 - 연습 문제 3\n",
        "\n",
        "print('A')\n",
        "\n",
        "def message1():\n",
        "  print('B')\n",
        "\n",
        "print('C')\n",
        "\n",
        "def message2():\n",
        "  print(\"D\")\n",
        "\n",
        "message1()\n",
        "print('E')\n",
        "message2()"
      ]
    },
    {
      "cell_type": "code",
      "execution_count": null,
      "metadata": {
        "id": "UAcOLmDIrDdp"
      },
      "outputs": [],
      "source": [
        "# 함수 예제 9 - 숫자형 연습\n",
        "# 함수안에 있는 변수는 바깥에서 사용할 수가 없다는 것을 !!!\n",
        "\n",
        "def num(a, b): # a, b를 활용하는 함수 num\n",
        "  print(a + b) # 위에서 언급한 a, b는 밑에서 사용해 주셔야 합니다."
      ]
    },
    {
      "cell_type": "code",
      "execution_count": null,
      "metadata": {
        "colab": {
          "base_uri": "https://localhost:8080/"
        },
        "id": "XmGQ6tBlrp5u",
        "outputId": "8f1c6e8a-1469-4427-dd43-dba1b2e786cc"
      },
      "outputs": [
        {
          "name": "stdout",
          "output_type": "stream",
          "text": [
            "안녕그래\n"
          ]
        }
      ],
      "source": [
        "def num_str(a,b):\n",
        "  print(a+b)\n",
        "num_str('안녕','그래')"
      ]
    },
    {
      "cell_type": "code",
      "execution_count": null,
      "metadata": {
        "colab": {
          "base_uri": "https://localhost:8080/"
        },
        "id": "Pb_sVpYFrzlO",
        "outputId": "652ecff9-e825-4b40-b317-6e7c824b7ece"
      },
      "outputs": [
        {
          "name": "stdout",
          "output_type": "stream",
          "text": [
            "안녕하세요:)\n"
          ]
        }
      ],
      "source": [
        "# 함수 예제 11 - 문자형 입력받는 경우\n",
        "def print_with_smile(string):\n",
        "  print(string + \":)\")\n",
        "\n",
        "print_with_smile(\"안녕하세요\")"
      ]
    },
    {
      "cell_type": "code",
      "execution_count": null,
      "metadata": {
        "colab": {
          "base_uri": "https://localhost:8080/"
        },
        "id": "0dmhwZpvr1kQ",
        "outputId": "6e736766-dff1-4b76-a6ae-bb14d504567e"
      },
      "outputs": [
        {
          "name": "stdout",
          "output_type": "stream",
          "text": [
            "390.0\n"
          ]
        }
      ],
      "source": [
        "# 함수 예제 12 - 덧셈 \n",
        "def print_upper_price(price):\n",
        "  print(price * 1.3)\n",
        "\n",
        "print_upper_price(300)"
      ]
    },
    {
      "cell_type": "code",
      "execution_count": null,
      "metadata": {
        "id": "QJ4QBKCsr3gK"
      },
      "outputs": [],
      "source": [
        "# 함수 예제 14 - 세 개의 숫자를 입력받아 가장 큰 수를 출력하는 print_max 함수를 정의하라. \n",
        "# 단, if문을 사용해서 수를 비교하시오\n",
        "\n",
        "def print_max(a,b,c):\n",
        "  max_val = 0\n",
        "\n",
        "  if a > max_val:\n",
        "    max_val = a\n",
        "  \n",
        "  if b > max_val:\n",
        "    max_val = b\n",
        "\n",
        "  if c > max_val:\n",
        "    max_val = c\n",
        "\n",
        "  print(max_val)"
      ]
    },
    {
      "cell_type": "code",
      "execution_count": null,
      "metadata": {
        "colab": {
          "base_uri": "https://localhost:8080/"
        },
        "id": "hT7tcFxKsb5J",
        "outputId": "b7f85d4c-08bf-4d36-cbd6-7e5e89975dcc"
      },
      "outputs": [
        {
          "name": "stdout",
          "output_type": "stream",
          "text": [
            "nohtyp\n"
          ]
        }
      ],
      "source": [
        "# 함수 예제 15 - 입력된 문자열을 역순으로 출력하는 reverse 함수\n",
        "\n",
        "def print_reverse(string_a):\n",
        "  print(string_a[::-1])\n",
        "\n",
        "print_reverse('python')"
      ]
    },
    {
      "cell_type": "code",
      "execution_count": null,
      "metadata": {
        "id": "PK54LBWmseIp"
      },
      "outputs": [],
      "source": [
        "def print_score(score_list):\n",
        "  print(sum(score_list)/ len(score_list))"
      ]
    },
    {
      "cell_type": "code",
      "execution_count": null,
      "metadata": {
        "colab": {
          "base_uri": "https://localhost:8080/"
        },
        "id": "6RCyuKm_sqUR",
        "outputId": "4da6a38c-3a5f-4a27-90c2-8096d6cad479"
      },
      "outputs": [
        {
          "name": "stdout",
          "output_type": "stream",
          "text": [
            "2.0\n"
          ]
        }
      ],
      "source": [
        "print_score([1,2,3])"
      ]
    },
    {
      "cell_type": "code",
      "execution_count": null,
      "metadata": {
        "id": "Dyk6rDqgssAU"
      },
      "outputs": [],
      "source": [
        "def even(p_list):\n",
        "  for i in p_list:\n",
        "    if i % 2 == 0:\n",
        "      print(i)\n"
      ]
    },
    {
      "cell_type": "code",
      "execution_count": null,
      "metadata": {
        "id": "7qiNVq97s6fP"
      },
      "outputs": [],
      "source": [
        "# 함수 예제 19 - 함수 내부의 결과는 접근이 불가합니다.\n",
        "\n",
        "def n_plus(n):\n",
        "  result = n + 1\n",
        "  return result"
      ]
    },
    {
      "cell_type": "code",
      "execution_count": null,
      "metadata": {
        "colab": {
          "base_uri": "https://localhost:8080/"
        },
        "id": "esMkXlqStDBT",
        "outputId": "b431b92c-f38f-4247-9bcd-29dfba5a5a66"
      },
      "outputs": [
        {
          "data": {
            "text/plain": [
              "4"
            ]
          },
          "execution_count": 19,
          "metadata": {},
          "output_type": "execute_result"
        }
      ],
      "source": [
        "n_plus(3)"
      ]
    },
    {
      "cell_type": "code",
      "execution_count": null,
      "metadata": {
        "id": "tcPLMmQTtEQK"
      },
      "outputs": [],
      "source": []
    },
    {
      "cell_type": "code",
      "execution_count": null,
      "metadata": {
        "colab": {
          "base_uri": "https://localhost:8080/",
          "height": 35
        },
        "id": "iY_9jMGIs8-v",
        "outputId": "33e65e84-603e-491d-f8db-cc5dfa812b11"
      },
      "outputs": [
        {
          "data": {
            "application/vnd.google.colaboratory.intrinsic+json": {
              "type": "string"
            },
            "text/plain": [
              "'www.daum.com'"
            ]
          },
          "execution_count": 21,
          "metadata": {},
          "output_type": "execute_result"
        }
      ],
      "source": [
        "def make_url(string):\n",
        "  url = 'www.'+string+'.com'\n",
        "  return url\n",
        "\n",
        "make_url('daum')"
      ]
    },
    {
      "cell_type": "code",
      "execution_count": null,
      "metadata": {
        "colab": {
          "base_uri": "https://localhost:8080/"
        },
        "id": "5PLxYR-QtN5A",
        "outputId": "869f4bc5-ce5d-467d-b560-4e7d4b2f3541"
      },
      "outputs": [
        {
          "data": {
            "text/plain": [
              "['a', 'b', 'c', 'd']"
            ]
          },
          "execution_count": 22,
          "metadata": {},
          "output_type": "execute_result"
        }
      ],
      "source": [
        "# 함수 예제 21 - 문자열 하나씩 입력받아서 리스트 화\n",
        "\n",
        "def make_list(string):\n",
        "  my_list = []\n",
        "  for i in string:\n",
        "    my_list.append(i)\n",
        "  return my_list\n",
        "\n",
        "make_list(\"abcd\")"
      ]
    },
    {
      "cell_type": "code",
      "execution_count": null,
      "metadata": {
        "colab": {
          "base_uri": "https://localhost:8080/"
        },
        "id": "dLpNxCO9tSDY",
        "outputId": "f7a5b52e-d108-4e33-9b34-44e7be9b2735"
      },
      "outputs": [
        {
          "data": {
            "text/plain": [
              "123456"
            ]
          },
          "execution_count": 23,
          "metadata": {},
          "output_type": "execute_result"
        }
      ],
      "source": [
        "# 함수 예제 22 - 문자열 대체\n",
        "\n",
        "def convert_int(string):\n",
        "  return int(string.replace(',',''))\n",
        "\n",
        "# replace ',' -> '' 으로 변경\n",
        "\n",
        "convert_int('123,456')"
      ]
    },
    {
      "cell_type": "code",
      "execution_count": null,
      "metadata": {
        "id": "54aBTN2_tTdB"
      },
      "outputs": [],
      "source": [
        "# 함수 예제 27\n",
        "# return에 매개변수 없이 출력이 되면 함수 내 문장과 상관없이 그 값을 빠져나옵니다.\n",
        "\n",
        "def test_01(a):\n",
        "  if a == 10:\n",
        "    return #pass\n",
        "  else:\n",
        "    print(\"10이 아닙니다.\")\n",
        "  \n",
        "test_01(10)"
      ]
    },
    {
      "cell_type": "code",
      "execution_count": null,
      "metadata": {
        "colab": {
          "base_uri": "https://localhost:8080/"
        },
        "id": "oC_uweFRtdxE",
        "outputId": "251339a5-d364-45ed-9b2b-3713aa6f2367"
      },
      "outputs": [
        {
          "name": "stdout",
          "output_type": "stream",
          "text": [
            "11550.000000000002\n"
          ]
        }
      ],
      "source": [
        "# 함수 예제 28 - 함수의 호출 과정(키워드 인수)\n",
        "# 위치인수는 호출할때 함수의 정의와 인수 순서가 같은 순서로 지정!!\n",
        "# 위치가 틀어지면 값이 완전히 바뀔수 있다.\n",
        "\n",
        "def billing(unit_prices, units, fees, tax_rate):\n",
        "  return (unit_prices * units + fees) * tax_rate\n",
        "  \n",
        "x = billing(1000, 10, 500, 1.1)\n",
        "print(x)"
      ]
    },
    {
      "cell_type": "code",
      "execution_count": null,
      "metadata": {
        "id": "LlC6HCtItfxi"
      },
      "outputs": [],
      "source": [
        "def billing(unit_prices, units, fees, tax_rate):\n",
        "  return (unit_prices * units + fees) * tax_rate\n",
        "\n",
        "x = billing(\n",
        "            unit_prices = 1000, \n",
        "            units = 10, \n",
        "            fees = 500, \n",
        "            tax_rate = 1.1\n",
        "            )"
      ]
    },
    {
      "cell_type": "code",
      "execution_count": null,
      "metadata": {
        "colab": {
          "base_uri": "https://localhost:8080/",
          "height": 137
        },
        "id": "qBoBtF3ttjpC",
        "outputId": "7ef689ff-cbdf-44e3-c216-0dbf89170681"
      },
      "outputs": [
        {
          "ename": "SyntaxError",
          "evalue": "ignored",
          "output_type": "error",
          "traceback": [
            "\u001b[0;36m  File \u001b[0;32m\"<ipython-input-27-67d4c09a1c76>\"\u001b[0;36m, line \u001b[0;32m3\u001b[0m\n\u001b[0;31m    x2 = billing(1000, 10, fees = 500, 1.1)\u001b[0m\n\u001b[0m                                          ^\u001b[0m\n\u001b[0;31mSyntaxError\u001b[0m\u001b[0;31m:\u001b[0m positional argument follows keyword argument\n"
          ]
        }
      ],
      "source": [
        "# 키워드 + 위치인수\n",
        "\n",
        "x2 = billing(1000, 10, fees = 500, 1.1)\n",
        "print(x2)"
      ]
    },
    {
      "cell_type": "code",
      "execution_count": null,
      "metadata": {
        "colab": {
          "base_uri": "https://localhost:8080/"
        },
        "id": "itkfULfbtngI",
        "outputId": "37f4988c-e25e-45a8-9a38-bbe0082d2892"
      },
      "outputs": [
        {
          "name": "stdout",
          "output_type": "stream",
          "text": [
            "Value: 10\n",
            "Value: 20\n"
          ]
        }
      ],
      "source": [
        "# 연습문제 6 실행된 값을 무엇일까요?\n",
        "\n",
        "def exam_func():\n",
        "  x = 10\n",
        "  print(f\"Value: {x}\")\n",
        "\n",
        "x = 20\n",
        "exam_func()\n",
        "print(f\"Value: {x}\")"
      ]
    },
    {
      "cell_type": "code",
      "execution_count": null,
      "metadata": {
        "colab": {
          "background_save": true,
          "base_uri": "https://localhost:8080/"
        },
        "id": "9dRym6iJtwzL",
        "outputId": "8ef5f6a7-c912-41ed-830f-4a3c4bc15cff"
      },
      "outputs": [
        {
          "data": {
            "text/plain": [
              "['Seoul', 'Anyang', 'Incheon', 'Jeju']"
            ]
          },
          "execution_count": 30,
          "metadata": {},
          "output_type": "execute_result"
        }
      ],
      "source": [
        "# 연습문제 7 실행된 함수가 어떤값을 가질지 맞춰주세요\n",
        "\n",
        "def get_abbr(data_list):\n",
        "  result = []\n",
        "\n",
        "  for x in data_list:\n",
        "    result.append(x)\n",
        "\n",
        "  return result\n",
        "\n",
        "get_abbr(['Seoul', 'Anyang', 'Incheon', 'Jeju'])\n",
        "\n",
        "#1. ['Seoul', 'Anyang', 'Incheon', 'Jeju']\n",
        "#2. ['Seoul', 'Anyang', 'Incheon']\n",
        "#3. ['Seo', 'Any', 'Inc', 'Jej']\n",
        "#4. ['Seo']\n",
        "#5. error"
      ]
    },
    {
      "cell_type": "code",
      "execution_count": null,
      "metadata": {
        "id": "wf0wUiaotySN"
      },
      "outputs": [],
      "source": []
    },
    {
      "cell_type": "code",
      "execution_count": null,
      "metadata": {
        "id": "Iu2G2xwwtMky"
      },
      "outputs": [],
      "source": []
    },
    {
      "cell_type": "code",
      "execution_count": null,
      "metadata": {
        "id": "QmoYs0WJsaID"
      },
      "outputs": [],
      "source": []
    },
    {
      "cell_type": "code",
      "execution_count": null,
      "metadata": {
        "id": "4W9OHDDIrxqj"
      },
      "outputs": [],
      "source": []
    },
    {
      "cell_type": "code",
      "execution_count": null,
      "metadata": {
        "id": "3761WFdeq2vL"
      },
      "outputs": [],
      "source": []
    },
    {
      "cell_type": "code",
      "execution_count": null,
      "metadata": {
        "id": "RVTC7Bopq2tF"
      },
      "outputs": [],
      "source": []
    },
    {
      "cell_type": "code",
      "execution_count": null,
      "metadata": {
        "id": "SIFS-6MIq2rO"
      },
      "outputs": [],
      "source": []
    },
    {
      "cell_type": "code",
      "execution_count": null,
      "metadata": {
        "id": "QnDhI_Flq2pH"
      },
      "outputs": [],
      "source": []
    },
    {
      "cell_type": "code",
      "execution_count": null,
      "metadata": {
        "id": "jl5F1Zq4q2nG"
      },
      "outputs": [],
      "source": []
    },
    {
      "cell_type": "code",
      "execution_count": null,
      "metadata": {
        "id": "HJt7Zeg6q2lW"
      },
      "outputs": [],
      "source": []
    },
    {
      "cell_type": "code",
      "execution_count": null,
      "metadata": {
        "id": "rl98F-aAq2jc"
      },
      "outputs": [],
      "source": []
    },
    {
      "cell_type": "code",
      "execution_count": null,
      "metadata": {
        "id": "EMkBF12Gq2hW"
      },
      "outputs": [],
      "source": []
    }
  ],
  "metadata": {
    "colab": {
      "provenance": []
    },
    "kernelspec": {
      "display_name": "Python 3",
      "name": "python3"
    },
    "language_info": {
      "name": "python"
    }
  },
  "nbformat": 4,
  "nbformat_minor": 0
}