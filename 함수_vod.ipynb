{
  "nbformat": 4,
  "nbformat_minor": 0,
  "metadata": {
    "colab": {
      "provenance": []
    },
    "kernelspec": {
      "name": "python3",
      "display_name": "Python 3"
    },
    "language_info": {
      "name": "python"
    }
  },
  "cells": [
    {
      "cell_type": "code",
      "execution_count": 10,
      "metadata": {
        "colab": {
          "base_uri": "https://localhost:8080/"
        },
        "id": "tDw4KjbRYiLP",
        "outputId": "7563f50b-6fcf-49b9-83ac-b21fe4e5d22b"
      },
      "outputs": [
        {
          "output_type": "stream",
          "name": "stdout",
          "text": [
            "['피자', '떡볶이', '피자', '치킨', '제육볶음', '떡볶이', '치킨', '피자', '치킨', '치킨', '된장찌개', '떡볶이', '떡볶이', '떡볶이', '된장찌개', '피자', '떡볶이', '제육볶음', '된장찌개', '피자', '제육볶음', '된장찌개', '치킨', '제육볶음', '떡볶이', '피자', '제육볶음', '피자', '떡볶이', '피자']\n"
          ]
        }
      ],
      "source": [
        "import random\n",
        "# for i in range(30):\n",
        "print(random.choices(['된장찌개','제육볶음','치킨','떡볶이','라면'], k=30))\n"
      ]
    },
    {
      "cell_type": "code",
      "source": [
        "print(random.choice(['된장찌개','제육볶음','치킨','떡볶이','라면']))*30"
      ],
      "metadata": {
        "colab": {
          "base_uri": "https://localhost:8080/",
          "height": 193
        },
        "id": "rxL4Ul5pb9__",
        "outputId": "88b45e4b-cb23-48e3-a231-18e99aebc5f5"
      },
      "execution_count": 11,
      "outputs": [
        {
          "output_type": "stream",
          "name": "stdout",
          "text": [
            "치킨\n"
          ]
        },
        {
          "output_type": "error",
          "ename": "TypeError",
          "evalue": "ignored",
          "traceback": [
            "\u001b[0;31m---------------------------------------------------------------------------\u001b[0m",
            "\u001b[0;31mTypeError\u001b[0m                                 Traceback (most recent call last)",
            "\u001b[0;32m<ipython-input-11-49e9ef9d0520>\u001b[0m in \u001b[0;36m<cell line: 1>\u001b[0;34m()\u001b[0m\n\u001b[0;32m----> 1\u001b[0;31m \u001b[0mprint\u001b[0m\u001b[0;34m(\u001b[0m\u001b[0mrandom\u001b[0m\u001b[0;34m.\u001b[0m\u001b[0mchoice\u001b[0m\u001b[0;34m(\u001b[0m\u001b[0;34m[\u001b[0m\u001b[0;34m'된장찌개'\u001b[0m\u001b[0;34m,\u001b[0m\u001b[0;34m'제육볶음'\u001b[0m\u001b[0;34m,\u001b[0m\u001b[0;34m'치킨'\u001b[0m\u001b[0;34m,\u001b[0m\u001b[0;34m'떡볶이'\u001b[0m\u001b[0;34m,\u001b[0m\u001b[0;34m'라면'\u001b[0m\u001b[0;34m]\u001b[0m\u001b[0;34m)\u001b[0m\u001b[0;34m)\u001b[0m\u001b[0;34m*\u001b[0m\u001b[0;36m30\u001b[0m\u001b[0;34m\u001b[0m\u001b[0;34m\u001b[0m\u001b[0m\n\u001b[0m",
            "\u001b[0;31mTypeError\u001b[0m: unsupported operand type(s) for *: 'NoneType' and 'int'"
          ]
        }
      ]
    },
    {
      "cell_type": "code",
      "source": [
        "import time\n",
        "\n",
        "for i in range(30):\n",
        "  print(random.choice(['된장찌개','제육볶음','치킨','떡볶이','라면']))\n",
        "  time.sleep(1)"
      ],
      "metadata": {
        "colab": {
          "base_uri": "https://localhost:8080/",
          "height": 284
        },
        "id": "Snyjd5Dgmzbf",
        "outputId": "6081c505-9635-4a17-bb89-a1f0ce2f3d3a"
      },
      "execution_count": 14,
      "outputs": [
        {
          "output_type": "stream",
          "name": "stdout",
          "text": [
            "치킨\n",
            "제육볶음\n",
            "라면\n",
            "제육볶음\n"
          ]
        },
        {
          "output_type": "error",
          "ename": "KeyboardInterrupt",
          "evalue": "ignored",
          "traceback": [
            "\u001b[0;31m---------------------------------------------------------------------------\u001b[0m",
            "\u001b[0;31mKeyboardInterrupt\u001b[0m                         Traceback (most recent call last)",
            "\u001b[0;32m<ipython-input-14-4141173adbe6>\u001b[0m in \u001b[0;36m<cell line: 3>\u001b[0;34m()\u001b[0m\n\u001b[1;32m      3\u001b[0m \u001b[0;32mfor\u001b[0m \u001b[0mi\u001b[0m \u001b[0;32min\u001b[0m \u001b[0mrange\u001b[0m\u001b[0;34m(\u001b[0m\u001b[0;36m30\u001b[0m\u001b[0;34m)\u001b[0m\u001b[0;34m:\u001b[0m\u001b[0;34m\u001b[0m\u001b[0;34m\u001b[0m\u001b[0m\n\u001b[1;32m      4\u001b[0m   \u001b[0mprint\u001b[0m\u001b[0;34m(\u001b[0m\u001b[0mrandom\u001b[0m\u001b[0;34m.\u001b[0m\u001b[0mchoice\u001b[0m\u001b[0;34m(\u001b[0m\u001b[0;34m[\u001b[0m\u001b[0;34m'된장찌개'\u001b[0m\u001b[0;34m,\u001b[0m\u001b[0;34m'제육볶음'\u001b[0m\u001b[0;34m,\u001b[0m\u001b[0;34m'치킨'\u001b[0m\u001b[0;34m,\u001b[0m\u001b[0;34m'떡볶이'\u001b[0m\u001b[0;34m,\u001b[0m\u001b[0;34m'라면'\u001b[0m\u001b[0;34m]\u001b[0m\u001b[0;34m)\u001b[0m\u001b[0;34m)\u001b[0m\u001b[0;34m\u001b[0m\u001b[0;34m\u001b[0m\u001b[0m\n\u001b[0;32m----> 5\u001b[0;31m   \u001b[0mtime\u001b[0m\u001b[0;34m.\u001b[0m\u001b[0msleep\u001b[0m\u001b[0;34m(\u001b[0m\u001b[0;36m1\u001b[0m\u001b[0;34m)\u001b[0m\u001b[0;34m\u001b[0m\u001b[0;34m\u001b[0m\u001b[0m\n\u001b[0m",
            "\u001b[0;31mKeyboardInterrupt\u001b[0m: "
          ]
        }
      ]
    },
    {
      "cell_type": "code",
      "source": [
        "lunch = random.choice([\"된장찌개\",\"피자\",\"제육볶음\"])\n",
        "dinner = random.choice([\"김밥\",\"쫄면\",\"돈까스\"])"
      ],
      "metadata": {
        "id": "l7q1t87NmzMm"
      },
      "execution_count": 15,
      "outputs": []
    },
    {
      "cell_type": "code",
      "source": [
        "info = {'고향':'수원','취미':'영화관람','좋아하는 음식':'족발'}"
      ],
      "metadata": {
        "id": "WhkzyimmoCDg"
      },
      "execution_count": 17,
      "outputs": []
    },
    {
      "cell_type": "code",
      "source": [
        "print(info.get('취미'))"
      ],
      "metadata": {
        "colab": {
          "base_uri": "https://localhost:8080/"
        },
        "id": "YhAYnNpJoCBr",
        "outputId": "24198ce7-e92c-4279-e23e-62e689cb0f76"
      },
      "execution_count": 23,
      "outputs": [
        {
          "output_type": "stream",
          "name": "stdout",
          "text": [
            "영화관람\n"
          ]
        }
      ]
    },
    {
      "cell_type": "code",
      "source": [
        "info2 = {'특기' : '피아노', '사는곳' : '서울'}"
      ],
      "metadata": {
        "id": "hPP9mTMVoB_f"
      },
      "execution_count": 24,
      "outputs": []
    },
    {
      "cell_type": "code",
      "source": [
        "print(info2.get('특기'))"
      ],
      "metadata": {
        "colab": {
          "base_uri": "https://localhost:8080/"
        },
        "id": "z36tw3eRsnrm",
        "outputId": "331d012e-eda5-4aa9-ceb1-e13f8611bb93"
      },
      "execution_count": 26,
      "outputs": [
        {
          "output_type": "stream",
          "name": "stdout",
          "text": [
            "피아노\n"
          ]
        }
      ]
    },
    {
      "cell_type": "code",
      "source": [
        "information = {\"고향\":\"수원\", \"취미\":\"영화관람\",\"좋아하는 음식\":\"국수\"}\n",
        "foods = [\"된장찌개\", \"피자\", \"제육볶음\"]"
      ],
      "metadata": {
        "id": "lxspji2Nw8Jh"
      },
      "execution_count": 27,
      "outputs": []
    },
    {
      "cell_type": "code",
      "source": [
        "print(information.get('취미'))"
      ],
      "metadata": {
        "colab": {
          "base_uri": "https://localhost:8080/"
        },
        "id": "w1C2LNBBw8Lh",
        "outputId": "637cbfc0-4341-4df6-bcd6-f2a49292c0ef"
      },
      "execution_count": 28,
      "outputs": [
        {
          "output_type": "stream",
          "name": "stdout",
          "text": [
            "영화관람\n"
          ]
        }
      ]
    },
    {
      "cell_type": "code",
      "source": [
        "information['특기'] = '피아노'"
      ],
      "metadata": {
        "id": "RWmcHhE_w8Nu"
      },
      "execution_count": 29,
      "outputs": []
    },
    {
      "cell_type": "code",
      "source": [
        "information['사는곳'] = '서울'"
      ],
      "metadata": {
        "id": "ujTLcNhFw8Px"
      },
      "execution_count": 30,
      "outputs": []
    },
    {
      "cell_type": "code",
      "source": [
        "print(information)"
      ],
      "metadata": {
        "colab": {
          "base_uri": "https://localhost:8080/"
        },
        "id": "FUXYDdW9w8Rm",
        "outputId": "b5bcf415-89d6-4eac-e486-b37abef5e48e"
      },
      "execution_count": 31,
      "outputs": [
        {
          "output_type": "stream",
          "name": "stdout",
          "text": [
            "{'고향': '수원', '취미': '영화관람', '좋아하는 음식': '국수', '특기': '피아노', '사는곳': '서울'}\n"
          ]
        }
      ]
    },
    {
      "cell_type": "code",
      "source": [
        "del information[['특기','사는곳']]"
      ],
      "metadata": {
        "colab": {
          "base_uri": "https://localhost:8080/",
          "height": 174
        },
        "id": "WFZJmfefx7fs",
        "outputId": "587d7938-1add-4eac-d86e-070e3e58abb3"
      },
      "execution_count": 34,
      "outputs": [
        {
          "output_type": "error",
          "ename": "TypeError",
          "evalue": "ignored",
          "traceback": [
            "\u001b[0;31m---------------------------------------------------------------------------\u001b[0m",
            "\u001b[0;31mTypeError\u001b[0m                                 Traceback (most recent call last)",
            "\u001b[0;32m<ipython-input-34-a44f48d397da>\u001b[0m in \u001b[0;36m<cell line: 1>\u001b[0;34m()\u001b[0m\n\u001b[0;32m----> 1\u001b[0;31m \u001b[0;32mdel\u001b[0m \u001b[0minformation\u001b[0m\u001b[0;34m[\u001b[0m\u001b[0;34m[\u001b[0m\u001b[0;34m'특기'\u001b[0m\u001b[0;34m,\u001b[0m\u001b[0;34m'사는곳'\u001b[0m\u001b[0;34m]\u001b[0m\u001b[0;34m]\u001b[0m\u001b[0;34m\u001b[0m\u001b[0;34m\u001b[0m\u001b[0m\n\u001b[0m",
            "\u001b[0;31mTypeError\u001b[0m: unhashable type: 'list'"
          ]
        }
      ]
    },
    {
      "cell_type": "code",
      "source": [
        "print(information)"
      ],
      "metadata": {
        "colab": {
          "base_uri": "https://localhost:8080/"
        },
        "id": "eDiZ_A9Dx7ao",
        "outputId": "3999d41b-64dd-4069-ce74-618a3330e9aa"
      },
      "execution_count": 35,
      "outputs": [
        {
          "output_type": "stream",
          "name": "stdout",
          "text": [
            "{'고향': '수원', '취미': '영화관람', '특기': '피아노', '사는곳': '서울'}\n"
          ]
        }
      ]
    },
    {
      "cell_type": "code",
      "source": [
        "print(len(information))"
      ],
      "metadata": {
        "colab": {
          "base_uri": "https://localhost:8080/"
        },
        "id": "fe4Zl3pMx7YI",
        "outputId": "f7202188-3ab0-4006-888a-544684b9f001"
      },
      "execution_count": 36,
      "outputs": [
        {
          "output_type": "stream",
          "name": "stdout",
          "text": [
            "4\n"
          ]
        }
      ]
    },
    {
      "cell_type": "code",
      "source": [
        "information.clear()"
      ],
      "metadata": {
        "id": "189QhaOcycf2"
      },
      "execution_count": 37,
      "outputs": []
    },
    {
      "cell_type": "code",
      "source": [
        "print(information)"
      ],
      "metadata": {
        "colab": {
          "base_uri": "https://localhost:8080/"
        },
        "id": "2zvxB8KYyceK",
        "outputId": "707805fa-22c3-4e8d-e526-22e5504995dd"
      },
      "execution_count": 38,
      "outputs": [
        {
          "output_type": "stream",
          "name": "stdout",
          "text": [
            "{}\n"
          ]
        }
      ]
    },
    {
      "cell_type": "code",
      "source": [
        "foods.append('김밥')"
      ],
      "metadata": {
        "id": "fHHo6Xhoycb5"
      },
      "execution_count": 44,
      "outputs": []
    },
    {
      "cell_type": "code",
      "source": [
        "print(foods)"
      ],
      "metadata": {
        "colab": {
          "base_uri": "https://localhost:8080/"
        },
        "id": "Q6n77nKwyiy9",
        "outputId": "300dff72-b19d-40a3-d607-5e2b574367ce"
      },
      "execution_count": 43,
      "outputs": [
        {
          "output_type": "stream",
          "name": "stdout",
          "text": [
            "['된장찌개', '피자', '제육볶음']\n"
          ]
        }
      ]
    },
    {
      "cell_type": "code",
      "source": [
        "foods.pop()"
      ],
      "metadata": {
        "colab": {
          "base_uri": "https://localhost:8080/",
          "height": 35
        },
        "id": "59zJ1j-ayiw_",
        "outputId": "30a7b012-e3fa-4ebc-cd9b-8fd9320ee398"
      },
      "execution_count": 42,
      "outputs": [
        {
          "output_type": "execute_result",
          "data": {
            "text/plain": [
              "'김밥'"
            ],
            "application/vnd.google.colaboratory.intrinsic+json": {
              "type": "string"
            }
          },
          "metadata": {},
          "execution_count": 42
        }
      ]
    },
    {
      "cell_type": "code",
      "source": [
        "del foods['김밥']"
      ],
      "metadata": {
        "colab": {
          "base_uri": "https://localhost:8080/",
          "height": 174
        },
        "id": "rjJVJPYJyivC",
        "outputId": "27e00172-d5e1-4921-8caf-c3682c8e416e"
      },
      "execution_count": 45,
      "outputs": [
        {
          "output_type": "error",
          "ename": "TypeError",
          "evalue": "ignored",
          "traceback": [
            "\u001b[0;31m---------------------------------------------------------------------------\u001b[0m",
            "\u001b[0;31mTypeError\u001b[0m                                 Traceback (most recent call last)",
            "\u001b[0;32m<ipython-input-45-6e2083af297f>\u001b[0m in \u001b[0;36m<cell line: 1>\u001b[0;34m()\u001b[0m\n\u001b[0;32m----> 1\u001b[0;31m \u001b[0;32mdel\u001b[0m \u001b[0mfoods\u001b[0m\u001b[0;34m[\u001b[0m\u001b[0;34m'김밥'\u001b[0m\u001b[0;34m]\u001b[0m\u001b[0;34m\u001b[0m\u001b[0;34m\u001b[0m\u001b[0m\n\u001b[0m",
            "\u001b[0;31mTypeError\u001b[0m: list indices must be integers or slices, not str"
          ]
        }
      ]
    },
    {
      "cell_type": "code",
      "source": [
        "del foods[1]"
      ],
      "metadata": {
        "id": "y0S6qMLzyis8"
      },
      "execution_count": 46,
      "outputs": []
    },
    {
      "cell_type": "code",
      "source": [
        "for i in range(30):\n",
        "  print(i)"
      ],
      "metadata": {
        "colab": {
          "base_uri": "https://localhost:8080/"
        },
        "id": "D0Bk4vzdyin-",
        "outputId": "8fdc95a5-9757-44da-ce8c-bf3d59681c21"
      },
      "execution_count": 47,
      "outputs": [
        {
          "output_type": "stream",
          "name": "stdout",
          "text": [
            "0\n",
            "1\n",
            "2\n",
            "3\n",
            "4\n",
            "5\n",
            "6\n",
            "7\n",
            "8\n",
            "9\n",
            "10\n",
            "11\n",
            "12\n",
            "13\n",
            "14\n",
            "15\n",
            "16\n",
            "17\n",
            "18\n",
            "19\n",
            "20\n",
            "21\n",
            "22\n",
            "23\n",
            "24\n",
            "25\n",
            "26\n",
            "27\n",
            "28\n",
            "29\n"
          ]
        }
      ]
    },
    {
      "cell_type": "code",
      "source": [
        "foods = ['된장찌개', '피자','제육볶음']\n",
        "\n",
        "for i in foods:\n",
        "  print(i)"
      ],
      "metadata": {
        "colab": {
          "base_uri": "https://localhost:8080/"
        },
        "id": "3FbhOgJn1HuG",
        "outputId": "1448013a-33e7-489c-901e-c3b37677d5e8"
      },
      "execution_count": 2,
      "outputs": [
        {
          "output_type": "stream",
          "name": "stdout",
          "text": [
            "된장찌개\n",
            "피자\n",
            "제육볶음\n"
          ]
        }
      ]
    },
    {
      "cell_type": "code",
      "source": [
        "for i in range(3):\n",
        "  print(foods[i])"
      ],
      "metadata": {
        "colab": {
          "base_uri": "https://localhost:8080/"
        },
        "id": "fakCpC-p1HsN",
        "outputId": "59f6fd24-b9cd-4752-91d4-1c6e9c1fa718"
      },
      "execution_count": 3,
      "outputs": [
        {
          "output_type": "stream",
          "name": "stdout",
          "text": [
            "된장찌개\n",
            "피자\n",
            "제육볶음\n"
          ]
        }
      ]
    },
    {
      "cell_type": "code",
      "source": [
        "information = {'고향' : '수원', '취미':'영화관람', '좋아하는 음식' : '국수'}"
      ],
      "metadata": {
        "id": "lUXrbLNi1Hp7"
      },
      "execution_count": 6,
      "outputs": []
    },
    {
      "cell_type": "code",
      "source": [
        "for x,y in information.items():\n",
        "  print(x)\n",
        "  print(y)"
      ],
      "metadata": {
        "colab": {
          "base_uri": "https://localhost:8080/"
        },
        "id": "pS7yFfZ8yimF",
        "outputId": "f8557afc-af60-4548-f8d6-1b7e38731d20"
      },
      "execution_count": 7,
      "outputs": [
        {
          "output_type": "stream",
          "name": "stdout",
          "text": [
            "고향\n",
            "수원\n",
            "취미\n",
            "영화관람\n",
            "좋아하는 음식\n",
            "국수\n"
          ]
        }
      ]
    },
    {
      "cell_type": "code",
      "source": [
        "foods = ['된장찌개', '피자', '제육볶음', '된장찌개']"
      ],
      "metadata": {
        "id": "XbiAB8NVZrMn"
      },
      "execution_count": 12,
      "outputs": []
    },
    {
      "cell_type": "code",
      "source": [
        "foods_set1 = set(foods)\n",
        "foods_set2 = set(['된장찌개','피자','제육볶음'])"
      ],
      "metadata": {
        "id": "xQB3aThAbJt4"
      },
      "execution_count": 13,
      "outputs": []
    },
    {
      "cell_type": "code",
      "source": [
        "foods_set1"
      ],
      "metadata": {
        "colab": {
          "base_uri": "https://localhost:8080/"
        },
        "id": "qZ20_D5qbjZM",
        "outputId": "879d09c0-3357-457d-e263-5675509a1ec1"
      },
      "execution_count": 14,
      "outputs": [
        {
          "output_type": "execute_result",
          "data": {
            "text/plain": [
              "{'된장찌개', '제육볶음', '피자'}"
            ]
          },
          "metadata": {},
          "execution_count": 14
        }
      ]
    },
    {
      "cell_type": "code",
      "source": [
        "foods_set2"
      ],
      "metadata": {
        "colab": {
          "base_uri": "https://localhost:8080/"
        },
        "id": "7BlxUU6GbjXP",
        "outputId": "57e62cee-3d97-49e6-b186-1659d54e50db"
      },
      "execution_count": 11,
      "outputs": [
        {
          "output_type": "execute_result",
          "data": {
            "text/plain": [
              "{'된장찌개', '제육볶음', '피자'}"
            ]
          },
          "metadata": {},
          "execution_count": 11
        }
      ]
    },
    {
      "cell_type": "code",
      "source": [
        "menu1 = set(['된장찌개','피자','제육볶음'])\n",
        "menu2 = set(['된장찌개','떡국','김밥'])"
      ],
      "metadata": {
        "id": "ZjafyqULbjVb"
      },
      "execution_count": 15,
      "outputs": []
    },
    {
      "cell_type": "code",
      "source": [
        "menu3 = menu1 | menu2"
      ],
      "metadata": {
        "id": "8F1Kt0l8bjTe"
      },
      "execution_count": 16,
      "outputs": []
    },
    {
      "cell_type": "code",
      "source": [
        "menu3"
      ],
      "metadata": {
        "colab": {
          "base_uri": "https://localhost:8080/"
        },
        "id": "EpWeq2aKbjRY",
        "outputId": "6b9c6153-0824-4c99-a46b-3cb0c94a2efd"
      },
      "execution_count": 17,
      "outputs": [
        {
          "output_type": "execute_result",
          "data": {
            "text/plain": [
              "{'김밥', '된장찌개', '떡국', '제육볶음', '피자'}"
            ]
          },
          "metadata": {},
          "execution_count": 17
        }
      ]
    },
    {
      "cell_type": "code",
      "source": [
        "menu3 = menu1 & menu2\n",
        "menu3"
      ],
      "metadata": {
        "colab": {
          "base_uri": "https://localhost:8080/"
        },
        "id": "MIvyOinGbjPY",
        "outputId": "eea78722-74fb-4a29-fa51-e93298499d39"
      },
      "execution_count": 18,
      "outputs": [
        {
          "output_type": "execute_result",
          "data": {
            "text/plain": [
              "{'된장찌개'}"
            ]
          },
          "metadata": {},
          "execution_count": 18
        }
      ]
    },
    {
      "cell_type": "code",
      "source": [
        "menu3 = menu1 - menu2\n",
        "menu3"
      ],
      "metadata": {
        "colab": {
          "base_uri": "https://localhost:8080/"
        },
        "id": "MAojR7knbjNb",
        "outputId": "17e5dcd4-8161-468f-9a85-50d950c1da68"
      },
      "execution_count": 19,
      "outputs": [
        {
          "output_type": "execute_result",
          "data": {
            "text/plain": [
              "{'제육볶음', '피자'}"
            ]
          },
          "metadata": {},
          "execution_count": 19
        }
      ]
    },
    {
      "cell_type": "code",
      "source": [
        "import random\n",
        "foods = ['된장찌개','피자','제육볶음','짜장','짬뽕','탕수육']\n",
        "\n",
        "food = random.choice(foods)\n",
        "if food == '제육볶음':\n",
        "  print('곱빼기 내놔')"
      ],
      "metadata": {
        "id": "ilkjBiXsc_Mn"
      },
      "execution_count": 31,
      "outputs": []
    },
    {
      "cell_type": "code",
      "source": [
        "cnt = 0\n",
        "while food == '제육볶음':\n",
        "  food\n",
        "  cnt+=1\n",
        "  print(cnt)\n",
        "  print('곱배기 내놔')\n",
        "  break\n",
        "else:\n",
        "  food\n",
        "  cnt+=1\n",
        "  print(cnt)"
      ],
      "metadata": {
        "colab": {
          "base_uri": "https://localhost:8080/"
        },
        "id": "29oTAS5Tc_Kl",
        "outputId": "36ee8fb3-e32d-4a58-8299-93f85e4897e9"
      },
      "execution_count": 36,
      "outputs": [
        {
          "output_type": "stream",
          "name": "stdout",
          "text": [
            "1\n"
          ]
        }
      ]
    },
    {
      "cell_type": "code",
      "source": [
        "lunch = ['된장찌개','피자','제육볶음','짜장면']\n",
        "item = input('음식을 추가 해주세요')\n",
        "lunch.append(item)"
      ],
      "metadata": {
        "colab": {
          "base_uri": "https://localhost:8080/"
        },
        "id": "BiZ9AxSrc_It",
        "outputId": "7365e468-9bee-46de-ea65-4bc1e5eff095"
      },
      "execution_count": 41,
      "outputs": [
        {
          "name": "stdout",
          "output_type": "stream",
          "text": [
            "음식을 추가 해주세요돈까스\n"
          ]
        }
      ]
    },
    {
      "cell_type": "code",
      "source": [
        "print(lunch)"
      ],
      "metadata": {
        "colab": {
          "base_uri": "https://localhost:8080/"
        },
        "id": "3kPxAK_gc_Gn",
        "outputId": "72a325ff-175f-4025-b5a2-6b60fbcd5dd5"
      },
      "execution_count": 40,
      "outputs": [
        {
          "output_type": "stream",
          "name": "stdout",
          "text": [
            "['된장찌개', '피자', '제육볶음', '짜장면', '돈까스']\n"
          ]
        }
      ]
    },
    {
      "cell_type": "code",
      "source": [
        "lunch = []\n",
        "while True:\n",
        "  print(lunch)\n",
        "  item = input('음식을 추가 해주세요')\n",
        "  \n",
        "  if item == 'q':\n",
        "    break\n",
        "  else:\n",
        "    lunch.append(item)\n",
        "  \n",
        "print(lunch)\n",
        "set_lunch = set(lunch)"
      ],
      "metadata": {
        "colab": {
          "base_uri": "https://localhost:8080/"
        },
        "id": "Yrr-dn24c_Ef",
        "outputId": "1c4f9c3c-0a90-4de3-f025-45d91bab63c4"
      },
      "execution_count": 43,
      "outputs": [
        {
          "name": "stdout",
          "output_type": "stream",
          "text": [
            "[]\n",
            "음식을 추가 해주세요q\n"
          ]
        }
      ]
    },
    {
      "cell_type": "code",
      "source": [
        "set_dinner = set([\"된장찌개\", \"피자\", \"제육볶음\", \"짜장면\"])\n",
        "food = \"짜장면\"\n",
        "set_dinner=set_dinner - set([food])\n",
        "set_dinner"
      ],
      "metadata": {
        "colab": {
          "base_uri": "https://localhost:8080/"
        },
        "id": "XAsjyDDAp9NH",
        "outputId": "766d6661-e235-4f90-fc6f-e1a9c3ff8e17"
      },
      "execution_count": 49,
      "outputs": [
        {
          "output_type": "execute_result",
          "data": {
            "text/plain": [
              "{'된장찌개', '제육볶음', '피자'}"
            ]
          },
          "metadata": {},
          "execution_count": 49
        }
      ]
    },
    {
      "cell_type": "code",
      "source": [
        "set_lunch=set_lunch - set([item])\n"
      ],
      "metadata": {
        "id": "BcjBvHKnnVR-"
      },
      "execution_count": 46,
      "outputs": []
    },
    {
      "cell_type": "code",
      "source": [
        "set_lunch"
      ],
      "metadata": {
        "colab": {
          "base_uri": "https://localhost:8080/"
        },
        "id": "ZsSdrFdwnVP2",
        "outputId": "c7cc2da7-8201-4c88-bcf6-79882ce44637"
      },
      "execution_count": 47,
      "outputs": [
        {
          "output_type": "execute_result",
          "data": {
            "text/plain": [
              "{'된장찌개', '제육볶음', '피자'}"
            ]
          },
          "metadata": {},
          "execution_count": 47
        }
      ]
    },
    {
      "cell_type": "code",
      "source": [
        "set_lunch = set([\"된장찌개\", \"피자\", \"제육볶음\", \"짜장면\"])\n",
        "while True:\n",
        "  print(set_lunch)\n",
        "  item = input('음식삭제')\n",
        "  if(item == 'q'):\n",
        "    break\n",
        "  else:\n",
        "    set_lunch=set_lunch - set([item])\n"
      ],
      "metadata": {
        "id": "D7MgL1yFnVN9"
      },
      "execution_count": null,
      "outputs": []
    },
    {
      "cell_type": "code",
      "source": [
        "import time\n",
        "import random\n",
        "lunch = [\"된장찌개\", \"피자\", \"제육볶음\", \"짜장면\"]\n",
        "\n",
        "while True:\n",
        "    print(lunch)\n",
        "    item = input(\"음식을 추가 해주세요 : \")\n",
        "    if(item == \"q\"):\n",
        "        break\n",
        "    else:\n",
        "        lunch.append(item)\n",
        "print(lunch)\n",
        "\n",
        "set_lunch = set(lunch)\n",
        "while True:\n",
        "    print(set_lunch)\n",
        "    item = input(\"음식을 삭제해주세요 : \")\n",
        "    if(item == \"q\"):\n",
        "        break\n",
        "    else:\n",
        "        set_lunch = set_lunch - set([item])\n",
        "\n",
        "print(set_lunch, '중에서 선택합니다')\n",
        "print('5')\n",
        "time.sleep(1)\n",
        "print('4')\n",
        "time.sleep(1)\n",
        "print('3')\n",
        "time.sleep(1)\n",
        "print('2')\n",
        "time.sleep(1)\n",
        "print('1')\n",
        "time.sleep(1)\n",
        "\n",
        "print(random.choice(list(set_lunch)))"
      ],
      "metadata": {
        "colab": {
          "base_uri": "https://localhost:8080/"
        },
        "id": "rhmMTkawnVL4",
        "outputId": "aa61300d-b50f-4489-cde7-736ab59e1be3"
      },
      "execution_count": 50,
      "outputs": [
        {
          "output_type": "stream",
          "name": "stdout",
          "text": [
            "['된장찌개', '피자', '제육볶음', '짜장면']\n",
            "음식을 추가 해주세요 : 탕수육\n",
            "['된장찌개', '피자', '제육볶음', '짜장면', '탕수육']\n",
            "음식을 추가 해주세요 : ㅔ\n",
            "음식을 추가 해주세요 : p\n",
            "['된장찌개', '피자', '제육볶음', '짜장면', '탕수육', 'ㅔ']\n",
            "['된장찌개', '피자', '제육볶음', '짜장면', '탕수육', 'ㅔ', 'p']\n",
            "음식을 추가 해주세요 : q\n",
            "['된장찌개', '피자', '제육볶음', '짜장면', '탕수육', 'ㅔ', 'p']\n",
            "{'피자', 'p', '제육볶음', '된장찌개', '탕수육', 'ㅔ', '짜장면'}\n",
            "음식을 삭제해주세요 : ㅔ\n",
            "{'피자', 'p', '제육볶음', '된장찌개', '탕수육', '짜장면'}\n",
            "음식을 삭제해주세요 : p\n",
            "{'피자', '제육볶음', '된장찌개', '탕수육', '짜장면'}\n",
            "음식을 삭제해주세요 : q\n",
            "{'피자', '제육볶음', '된장찌개', '탕수육', '짜장면'} 중에서 선택합니다\n",
            "5\n",
            "4\n",
            "3\n",
            "2\n",
            "1\n",
            "탕수육\n"
          ]
        }
      ]
    },
    {
      "cell_type": "code",
      "source": [
        "def make_dolce():\n",
        "  print('1.얼음을 넣는다 ')\n",
        "  print('2. 연유를 30ml 넣는다')\n",
        "  print('3. 찬 우유를 넣는다')\n",
        "  print(\"4. 에스프레소샷을 넣는다.\")\n",
        "\n",
        "def make_blueberry_smoothie():\n",
        "    print(\"1. 블루베리 20g을 넣는다.\")\n",
        "    print(\"2. 우유 300ml를 넣는다.\")\n",
        "    print(\"3. 얼음을 넣는다.\")\n",
        "    print(\"4. 믹서기에 간다.\")\n",
        "\n",
        "def make_simple_latte():\n",
        "    print(\"1. 커피를 넣는다.\")\n",
        "    print(\"2. 우유를 넣는다.\")\n",
        "    print(\"3. 신나게 섞는다.\")"
      ],
      "metadata": {
        "id": "qq0Va8t6nVJ-"
      },
      "execution_count": 52,
      "outputs": []
    },
    {
      "cell_type": "code",
      "source": [
        "make_dolce()"
      ],
      "metadata": {
        "colab": {
          "base_uri": "https://localhost:8080/"
        },
        "id": "-vUC6sxIyX2n",
        "outputId": "3a4f04fa-98a2-4ca7-9d48-8552b57854eb"
      },
      "execution_count": 53,
      "outputs": [
        {
          "output_type": "stream",
          "name": "stdout",
          "text": [
            "1.얼음을 넣는다 \n",
            "2. 연유를 30ml 넣는다\n",
            "3. 찬 우유를 넣는다\n",
            "4. 에스프레소샷을 넣는다.\n"
          ]
        }
      ]
    },
    {
      "cell_type": "code",
      "source": [
        "total_dic = []\n",
        "\n",
        "while True:\n",
        "  q = input('질문입력해라')\n",
        "  if q == 'q':\n",
        "    break\n",
        "  else : \n",
        "    total_dic.append({'질문':q, '답변': \"\"})\n",
        "\n",
        "\n",
        "for i in total_dic:\n",
        "  print(i['질문'])\n",
        "  ans = input('답변을 입력해라')\n",
        "  i['답변'] = ans\n",
        "\n",
        "print(total_dic)"
      ],
      "metadata": {
        "colab": {
          "base_uri": "https://localhost:8080/"
        },
        "id": "Ogu2YGqkyUBl",
        "outputId": "f109696a-e01d-4bfa-9dff-bb9d519b370d"
      },
      "execution_count": 59,
      "outputs": [
        {
          "output_type": "stream",
          "name": "stdout",
          "text": [
            "질문입력해라ㅁㄴㅇㄹ\n",
            "질문입력해라q\n",
            "ㅁㄴㅇㄹ\n",
            "답변을 입력해라ㅇㄻ\n",
            "[{'질문': 'ㅁㄴㅇㄹ', '답변': 'ㅇㄻ'}]\n"
          ]
        }
      ]
    },
    {
      "cell_type": "code",
      "source": [],
      "metadata": {
        "id": "F4GZS4gQnVGi"
      },
      "execution_count": null,
      "outputs": []
    },
    {
      "cell_type": "code",
      "source": [],
      "metadata": {
        "id": "kg9Ep2ZWnVEp"
      },
      "execution_count": null,
      "outputs": []
    }
  ]
}