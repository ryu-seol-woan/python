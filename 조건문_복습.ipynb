{
  "nbformat": 4,
  "nbformat_minor": 0,
  "metadata": {
    "colab": {
      "provenance": []
    },
    "kernelspec": {
      "name": "python3",
      "display_name": "Python 3"
    },
    "language_info": {
      "name": "python"
    }
  },
  "cells": [
    {
      "cell_type": "markdown",
      "source": [
        "#1.1 조건문을 만들때 주의사항\n",
        "\n",
        "* 어떤 조건을 설정할것인가?\n",
        "* 어떤 예외가 발생할것인가?(테스트, 검증)\n",
        "* (조건문이 작성된 뒤에는) 최소 5~10번정도는 테스트 해봐라"
      ],
      "metadata": {
        "id": "f8lFy-dmes5J"
      }
    },
    {
      "cell_type": "markdown",
      "source": [
        "#1.2 조건문 복습\n",
        "\n",
        "조건문은 다음과 같이 복습하려고 합니다.\n",
        "\n",
        "1. 단일 조건문\n",
        "2. If - else 조건문\n",
        "3. If - elif - else 조건문\n",
        "4. 다중 중첩 조건문\n",
        "5. input과 함께 사용하는 조건문\n",
        "\n",
        "[기억해야할것]\n",
        "\n",
        "1. if 뒤에는 참과 거짓을 판단하는 조건이 와야함\n",
        "2. 조건문이 끝나면 반드시 콜론으로 끝나야함\n",
        "3. if 다음 문장은 들여쓰기를 사용해야함\n",
        "4. if 조건에 부합하지 않으면 elif나 else를 사용한다. 보통 조건에 모두 부합하지 않을때 else를 사용한다.\n",
        "\n",
        "[연산자]\n",
        "\n",
        "* x < x가 작다\n",
        "* x > x가 크다\n",
        "* x == y 같다\n",
        "* x != y 다르다\n",
        "* x >= y 크거나 같다\n",
        "* x <= y 작거나 같다\n",
        "\n",
        "[논리연산자]\n",
        "2개이상의 조건을 사용하고 싶을때 사용\n",
        "\n",
        "* and\n",
        "* or\n",
        "* not"
      ],
      "metadata": {
        "id": "4_4Cv165eulq"
      }
    },
    {
      "cell_type": "code",
      "source": [
        "# if문 예제\n",
        "\n",
        "x = 2\n",
        "if x > 1 and x < 10:  # 2가지 조건이 모두 충족할 경우\n",
        "  print('True')"
      ],
      "metadata": {
        "colab": {
          "base_uri": "https://localhost:8080/"
        },
        "id": "hp_Dm3g7ewJy",
        "outputId": "3f6c15bf-a226-4f12-faf5-1d8e3dcca84c"
      },
      "execution_count": 2,
      "outputs": [
        {
          "output_type": "stream",
          "name": "stdout",
          "text": [
            "True\n"
          ]
        }
      ]
    },
    {
      "cell_type": "code",
      "source": [
        "if True:\n",
        "  print('True')"
      ],
      "metadata": {
        "colab": {
          "base_uri": "https://localhost:8080/"
        },
        "id": "bF97wOpTe1ik",
        "outputId": "b0aa0787-cc81-4640-c655-421b917000cc"
      },
      "execution_count": 3,
      "outputs": [
        {
          "output_type": "stream",
          "name": "stdout",
          "text": [
            "True\n"
          ]
        }
      ]
    },
    {
      "cell_type": "code",
      "source": [
        "# 1) if는 참이기 때문에 Hello가 출력\n",
        "if True:\n",
        "  print('hello') \n",
        "\n",
        "# if문과 상관 없음\n",
        "print('one')\n",
        "\n",
        "# if는 거짓이기 때문에 아무것도 출력되지 않음\n",
        "if False:\n",
        "  print('world')\n",
        "\n",
        "# if문과 상관 없음\n",
        "print('two')"
      ],
      "metadata": {
        "colab": {
          "base_uri": "https://localhost:8080/"
        },
        "id": "uxK9PmM9e2UR",
        "outputId": "57d08761-7996-4143-f089-6c7cabc37205"
      },
      "execution_count": 4,
      "outputs": [
        {
          "output_type": "stream",
          "name": "stdout",
          "text": [
            "hello\n",
            "one\n",
            "two\n"
          ]
        }
      ]
    },
    {
      "cell_type": "code",
      "source": [
        "x = 10\n",
        "\n",
        "if x > 5:\n",
        "  print('hello')\n",
        "print('end')\n",
        "\n",
        "if x != 5:\n",
        "  print('hello')"
      ],
      "metadata": {
        "colab": {
          "base_uri": "https://localhost:8080/"
        },
        "id": "x94oeJYUe3n0",
        "outputId": "6569e69b-d1e3-4532-8d28-c28bd7daa653"
      },
      "execution_count": 5,
      "outputs": [
        {
          "output_type": "stream",
          "name": "stdout",
          "text": [
            "hello\n",
            "end\n",
            "hello\n"
          ]
        }
      ]
    },
    {
      "cell_type": "code",
      "source": [
        "if 0:\n",
        "  print('hello')\n",
        "print('end')"
      ],
      "metadata": {
        "colab": {
          "base_uri": "https://localhost:8080/"
        },
        "id": "B6e6ZM0me5nX",
        "outputId": "f98791c7-7c44-401b-9479-8282f46e07c4"
      },
      "execution_count": 6,
      "outputs": [
        {
          "output_type": "stream",
          "name": "stdout",
          "text": [
            "end\n"
          ]
        }
      ]
    },
    {
      "cell_type": "code",
      "source": [
        "#공백이 있는 문자열\n",
        "if  ' ':\n",
        "  print('hello')\n",
        "print('end')"
      ],
      "metadata": {
        "colab": {
          "base_uri": "https://localhost:8080/"
        },
        "id": "eahOXDgHe63u",
        "outputId": "cfb2ab62-03f8-4f01-c63c-1f4195d5ff8a"
      },
      "execution_count": 7,
      "outputs": [
        {
          "output_type": "stream",
          "name": "stdout",
          "text": [
            "hello\n",
            "end\n"
          ]
        }
      ]
    },
    {
      "cell_type": "code",
      "source": [
        "#공백이 없는 문자열\n",
        "if  '':\n",
        "  print('hello')\n",
        "print('end')"
      ],
      "metadata": {
        "colab": {
          "base_uri": "https://localhost:8080/"
        },
        "id": "V6-S5F6ge8GO",
        "outputId": "b04a66a3-4a0a-4871-bb52-7f1a057bab68"
      },
      "execution_count": 8,
      "outputs": [
        {
          "output_type": "stream",
          "name": "stdout",
          "text": [
            "end\n"
          ]
        }
      ]
    },
    {
      "cell_type": "markdown",
      "source": [],
      "metadata": {
        "id": "mIqKfHA-e-tR"
      }
    },
    {
      "cell_type": "code",
      "source": [
        "if not '':\n",
        "    print('hello')\n",
        "print('end')"
      ],
      "metadata": {
        "colab": {
          "base_uri": "https://localhost:8080/"
        },
        "id": "jTczmFCRe9Gg",
        "outputId": "df552b1a-1741-40bf-f935-8259c83ba6bb"
      },
      "execution_count": 9,
      "outputs": [
        {
          "output_type": "stream",
          "name": "stdout",
          "text": [
            "hello\n",
            "end\n"
          ]
        }
      ]
    },
    {
      "cell_type": "code",
      "source": [
        "if not None: #None은 False와 같은의미라고 생각하시면 됩니다.\n",
        "    print('hello')\n",
        "print('end')"
      ],
      "metadata": {
        "colab": {
          "base_uri": "https://localhost:8080/"
        },
        "id": "K8AQhEHLe-B9",
        "outputId": "aa6c77a6-ff89-43dc-f73b-ab40aacd850f"
      },
      "execution_count": 10,
      "outputs": [
        {
          "output_type": "stream",
          "name": "stdout",
          "text": [
            "hello\n",
            "end\n"
          ]
        }
      ]
    },
    {
      "cell_type": "code",
      "source": [
        "# if, else 문\n",
        "\n",
        "x = int(input('비교할 수를 입력하세요 : '))\n",
        "y = int(input('비교할 수를 입력하세요 : '))\n",
        "\n",
        "if x > y: # False\n",
        "  print(\"x가 y보다 큽니다\")\n",
        "else: # True\n",
        "  print(\"x가 y보다 작거나 같습니다 \") "
      ],
      "metadata": {
        "colab": {
          "base_uri": "https://localhost:8080/"
        },
        "id": "KbhWcgaqe_aF",
        "outputId": "e9fff0e4-dd5f-43e4-f871-29d8f5f9fbb1"
      },
      "execution_count": 11,
      "outputs": [
        {
          "output_type": "stream",
          "name": "stdout",
          "text": [
            "비교할 수를 입력하세요 : 1\n",
            "비교할 수를 입력하세요 : 2\n",
            "x가 y보다 작거나 같습니다 \n"
          ]
        }
      ]
    },
    {
      "cell_type": "code",
      "source": [
        "if x > y: # False\n",
        "  print(\"x가 y보다 큽니다\")\n",
        "elif x < y: #True\n",
        "  print(\"x가 y보다 작습니다.\")\n",
        "else: # 실행 x\n",
        "  print(\"같습니다\") "
      ],
      "metadata": {
        "colab": {
          "base_uri": "https://localhost:8080/"
        },
        "id": "DbmNtPWwfBRB",
        "outputId": "9a31f386-a783-456f-f0ec-f6af5e15296e"
      },
      "execution_count": 12,
      "outputs": [
        {
          "output_type": "stream",
          "name": "stdout",
          "text": [
            "x가 y보다 작습니다.\n"
          ]
        }
      ]
    },
    {
      "cell_type": "code",
      "source": [
        "score = 81\n",
        "money = 0\n",
        "\n",
        "if score >= 90:\n",
        "    print('mom : i\\'m so happy!')\n",
        "    money += 1000000\n",
        "elif score >= 80:\n",
        "    print('mom : i\\'m happy!')\n",
        "    money += 100000\n",
        "elif score >= 70 and score < 80:\n",
        "    print('mom : i\\'m so...!')\n",
        "    money += 10000\n",
        "elif score >= 60 and score < 70:\n",
        "    print('mom : i\\'m so...!')\n",
        "    money += 1000\n",
        "else:\n",
        "    print('mom : i\\'m...!')\n",
        "print(money)"
      ],
      "metadata": {
        "colab": {
          "base_uri": "https://localhost:8080/"
        },
        "id": "GISRactKfCw9",
        "outputId": "5c41bf2e-0a0a-4f0b-a108-48a576eb1414"
      },
      "execution_count": 13,
      "outputs": [
        {
          "output_type": "stream",
          "name": "stdout",
          "text": [
            "mom : i'm happy!\n",
            "100000\n"
          ]
        }
      ]
    },
    {
      "cell_type": "code",
      "source": [
        "# 중첩 조건문\n",
        "\n",
        "#if를 중첩해서 사용하기\n",
        "score = 98\n",
        "\n",
        "if score >= 90:\n",
        "    print('mom : i\\'m so happy!')\n",
        "    money += 1000000\n",
        "    \n",
        "    if score > 95:\n",
        "        print('hello world')\n",
        "\n",
        "        if score > 97:\n",
        "            print('hello!!!')\n",
        "            \n",
        "elif score >= 80:\n",
        "    print('mom : i\\'m happy!')\n",
        "    money += 100000"
      ],
      "metadata": {
        "colab": {
          "base_uri": "https://localhost:8080/"
        },
        "id": "kFKOHWKxfFYh",
        "outputId": "29f46c55-4122-484b-e551-fdddf8c9ad39"
      },
      "execution_count": 14,
      "outputs": [
        {
          "output_type": "stream",
          "name": "stdout",
          "text": [
            "mom : i'm so happy!\n",
            "hello world\n",
            "hello!!!\n"
          ]
        }
      ]
    },
    {
      "cell_type": "code",
      "source": [],
      "metadata": {
        "id": "l8uRfjGpfG6G"
      },
      "execution_count": null,
      "outputs": []
    },
    {
      "cell_type": "code",
      "source": [],
      "metadata": {
        "id": "AGbqsPsbepwe"
      },
      "execution_count": null,
      "outputs": []
    },
    {
      "cell_type": "code",
      "source": [],
      "metadata": {
        "id": "9DntuamRel2g"
      },
      "execution_count": null,
      "outputs": []
    },
    {
      "cell_type": "code",
      "source": [],
      "metadata": {
        "id": "VzTKJ1uyehxN"
      },
      "execution_count": null,
      "outputs": []
    }
  ]
}