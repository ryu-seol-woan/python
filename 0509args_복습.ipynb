{
  "nbformat": 4,
  "nbformat_minor": 0,
  "metadata": {
    "colab": {
      "provenance": []
    },
    "kernelspec": {
      "name": "python3",
      "display_name": "Python 3"
    },
    "language_info": {
      "name": "python"
    }
  },
  "cells": [
    {
      "cell_type": "markdown",
      "source": [
        "#패킹과 언패킹 복습\n"
      ],
      "metadata": {
        "id": "KgRlPiQQWl8x"
      }
    },
    {
      "cell_type": "code",
      "source": [
        "# 패킹 : 여러 개의 데이터를 컬렉션(리스트, 튜플, 딕셔너리)으로 묶어 변수에 대입"
      ],
      "metadata": {
        "id": "VnSPVlT8ZMjC"
      },
      "execution_count": 1,
      "outputs": []
    },
    {
      "cell_type": "code",
      "source": [
        "# 언패킹 : 언패킹은 컬렉션(리스트, 튜플, 딕셔너리) 속의 요소들을 여러 개의 변수에 나누어 대입하는 것이다.\n",
        "\n",
        "test = *[1,2,3] -> # 1 2 3\n",
        "def abc(a,b,c)"
      ],
      "metadata": {
        "colab": {
          "base_uri": "https://localhost:8080/",
          "height": 137
        },
        "id": "Es0be2fyZOZA",
        "outputId": "42a3531b-3f0a-4719-bd15-3e5cbec51b13"
      },
      "execution_count": 2,
      "outputs": [
        {
          "output_type": "error",
          "ename": "SyntaxError",
          "evalue": "ignored",
          "traceback": [
            "\u001b[0;36m  File \u001b[0;32m\"<ipython-input-2-e8d0a5c7cf47>\"\u001b[0;36m, line \u001b[0;32m3\u001b[0m\n\u001b[0;31m    test = *[1,2,3] -> # 1 2 3\u001b[0m\n\u001b[0m                    ^\u001b[0m\n\u001b[0;31mSyntaxError\u001b[0m\u001b[0;31m:\u001b[0m invalid syntax\n"
          ]
        }
      ]
    },
    {
      "cell_type": "code",
      "source": [
        "# 언패킹 시 변수의 갯수와 요소의 갯수가 일치해야 한다. \n",
        "# 불필요한 값을 언더바를 사용하여 생략할 수도 있다.\n",
        "\n",
        "# a, _, _, d, e = numbers  # 필요 없는 요소를 _ 변수에 대입"
      ],
      "metadata": {
        "id": "nwAA1HnAZPt9"
      },
      "execution_count": null,
      "outputs": []
    },
    {
      "cell_type": "code",
      "execution_count": 3,
      "metadata": {
        "id": "XhVCFPIvWNxc"
      },
      "outputs": [],
      "source": [
        "num = (1,2,3,4,5)"
      ]
    },
    {
      "cell_type": "code",
      "source": [
        "a,b,c,d,e = num"
      ],
      "metadata": {
        "id": "Hq1AMXHRaRUa"
      },
      "execution_count": 4,
      "outputs": []
    },
    {
      "cell_type": "code",
      "source": [
        "print(a)\n",
        "print(b)\n",
        "print(c)\n",
        "print(d)\n",
        "print(e)"
      ],
      "metadata": {
        "colab": {
          "base_uri": "https://localhost:8080/"
        },
        "id": "2wpsw9amaTjZ",
        "outputId": "35a9d64f-8f32-4602-a370-906cd7fb43a4"
      },
      "execution_count": 5,
      "outputs": [
        {
          "output_type": "stream",
          "name": "stdout",
          "text": [
            "1\n",
            "2\n",
            "3\n",
            "4\n",
            "5\n"
          ]
        }
      ]
    },
    {
      "cell_type": "code",
      "source": [
        "num"
      ],
      "metadata": {
        "colab": {
          "base_uri": "https://localhost:8080/"
        },
        "id": "b_h9NTKnaT-Y",
        "outputId": "452357d3-e071-4957-95bd-ba52693ef2f6"
      },
      "execution_count": 6,
      "outputs": [
        {
          "output_type": "execute_result",
          "data": {
            "text/plain": [
              "(1, 2, 3, 4, 5)"
            ]
          },
          "metadata": {},
          "execution_count": 6
        }
      ]
    },
    {
      "cell_type": "code",
      "source": [
        "_, _, _, d, e = num"
      ],
      "metadata": {
        "id": "EJwV1ogsaVy2"
      },
      "execution_count": 7,
      "outputs": []
    },
    {
      "cell_type": "code",
      "source": [
        "d"
      ],
      "metadata": {
        "colab": {
          "base_uri": "https://localhost:8080/"
        },
        "id": "TuSzO9uMaYrB",
        "outputId": "2c4249ff-5263-46db-b6cc-ad617a92292b"
      },
      "execution_count": 8,
      "outputs": [
        {
          "output_type": "execute_result",
          "data": {
            "text/plain": [
              "4"
            ]
          },
          "metadata": {},
          "execution_count": 8
        }
      ]
    },
    {
      "cell_type": "code",
      "source": [
        "e\n"
      ],
      "metadata": {
        "id": "yaeeBxPdabQK"
      },
      "execution_count": null,
      "outputs": []
    },
    {
      "cell_type": "code",
      "source": [
        "# *의 목적은 \n",
        "# 1) 남은 요소를 모두 대입하기 위함\n",
        "\n",
        "# 덧셈을 하는 함수를 만들었는데\n",
        "def sum_def(*arg):\n",
        "  return sum(arg)\n",
        "\n",
        "sum_def(1,2,3,4,10,40,50)\n",
        "\n",
        "# 2) 오류가 나지 않게 하기 위함"
      ],
      "metadata": {
        "colab": {
          "base_uri": "https://localhost:8080/"
        },
        "id": "UZHuqCs5adej",
        "outputId": "ab80ebb7-2246-49f0-ee09-5abc3587cf89"
      },
      "execution_count": 9,
      "outputs": [
        {
          "output_type": "execute_result",
          "data": {
            "text/plain": [
              "110"
            ]
          },
          "metadata": {},
          "execution_count": 9
        }
      ]
    },
    {
      "cell_type": "code",
      "source": [
        "# 변수 내에서 설명\n",
        "\n",
        "# 남은 요소 대입받기\n",
        "# 언패킹 시, 좌변의 변수 중 하나에 별 기호(*)를 붙이면, \n",
        "# 남은 요소 전체를 리스트에 담아 대입한다."
      ],
      "metadata": {
        "id": "phMIoB7laogF"
      },
      "execution_count": 10,
      "outputs": []
    },
    {
      "cell_type": "code",
      "source": [
        "num = (1,2,3,4,5)\n",
        "\n",
        "a, b, *rest = num\n",
        "print(a,b,rest)"
      ],
      "metadata": {
        "colab": {
          "base_uri": "https://localhost:8080/"
        },
        "id": "7S7Z9IYEardz",
        "outputId": "319ba308-5ba6-4e22-a803-adb700ff9710"
      },
      "execution_count": 11,
      "outputs": [
        {
          "output_type": "stream",
          "name": "stdout",
          "text": [
            "1 2 [3, 4, 5]\n"
          ]
        }
      ]
    },
    {
      "cell_type": "code",
      "source": [
        "a, *rest, b = num\n",
        "print(rest)"
      ],
      "metadata": {
        "colab": {
          "base_uri": "https://localhost:8080/"
        },
        "id": "5VUlIyVqawkn",
        "outputId": "e4071fab-4cfe-43cc-d55a-22ecf63de227"
      },
      "execution_count": 12,
      "outputs": [
        {
          "output_type": "stream",
          "name": "stdout",
          "text": [
            "[2, 3, 4]\n"
          ]
        }
      ]
    },
    {
      "cell_type": "code",
      "source": [
        "# 위치 인자와 언패킹 사용하기\n",
        "# 함수에 인자를 순서대로 넣는 방식은 위치 인자(positional argument)라고\n",
        "# 한다. 변수를 할당 받을때 일반적으로 사용하는 방식이다."
      ],
      "metadata": {
        "id": "Gt7o8weia7n4"
      },
      "execution_count": 13,
      "outputs": []
    },
    {
      "cell_type": "code",
      "source": [
        "print(10,20,30)"
      ],
      "metadata": {
        "colab": {
          "base_uri": "https://localhost:8080/"
        },
        "id": "b2VQnqfga-t4",
        "outputId": "ba742899-5dcf-4abb-d5b2-5f167be96569"
      },
      "execution_count": 14,
      "outputs": [
        {
          "output_type": "stream",
          "name": "stdout",
          "text": [
            "10 20 30\n"
          ]
        }
      ]
    },
    {
      "cell_type": "code",
      "source": [
        "x = [10,20,30]\n",
        "print(x)"
      ],
      "metadata": {
        "colab": {
          "base_uri": "https://localhost:8080/"
        },
        "id": "JFd1Snd5bCRi",
        "outputId": "44adbccf-9912-4ff4-c02c-9cac285c26ce"
      },
      "execution_count": 15,
      "outputs": [
        {
          "output_type": "stream",
          "name": "stdout",
          "text": [
            "[10, 20, 30]\n"
          ]
        }
      ]
    },
    {
      "cell_type": "code",
      "source": [
        "print(*x)"
      ],
      "metadata": {
        "colab": {
          "base_uri": "https://localhost:8080/"
        },
        "id": "BETk4TRpbIJK",
        "outputId": "e61f358b-c37e-4af6-b315-8e3a4fcde78d"
      },
      "execution_count": 16,
      "outputs": [
        {
          "output_type": "stream",
          "name": "stdout",
          "text": [
            "10 20 30\n"
          ]
        }
      ]
    },
    {
      "cell_type": "code",
      "source": [
        "# 가변인자(*args) 만들기\n",
        "\n",
        "def 함수이름(*매개변수):\n",
        "    코드"
      ],
      "metadata": {
        "id": "G2dHyDzgbKBS"
      },
      "execution_count": null,
      "outputs": []
    },
    {
      "cell_type": "code",
      "source": [
        "def print_numbers(*args):\n",
        "  for arg in args:\n",
        "    print(arg)"
      ],
      "metadata": {
        "id": "A7tU5S5ra-UP"
      },
      "execution_count": 17,
      "outputs": []
    },
    {
      "cell_type": "code",
      "source": [
        "print_numbers(1,2,3,4)"
      ],
      "metadata": {
        "colab": {
          "base_uri": "https://localhost:8080/"
        },
        "id": "5UvROanpbXSc",
        "outputId": "dc3c8b5f-2894-482b-878b-f868407e79b4"
      },
      "execution_count": 20,
      "outputs": [
        {
          "output_type": "stream",
          "name": "stdout",
          "text": [
            "(1, 2, 3, 4)\n",
            "1\n",
            "2\n",
            "3\n",
            "4\n"
          ]
        }
      ]
    },
    {
      "cell_type": "code",
      "source": [
        "def print_numbers(*args):\n",
        "  print(args)\n",
        "  for arg in args:\n",
        "    print(arg)"
      ],
      "metadata": {
        "id": "bgVMZXvXbx66"
      },
      "execution_count": null,
      "outputs": []
    },
    {
      "cell_type": "code",
      "source": [
        "test = [1,2,3,4]\n",
        "for arg in test:\n",
        "  print(arg)"
      ],
      "metadata": {
        "colab": {
          "base_uri": "https://localhost:8080/"
        },
        "id": "EwjqjjKYbsk8",
        "outputId": "8dd88942-e0b2-4f52-e467-9139873f0f31"
      },
      "execution_count": 21,
      "outputs": [
        {
          "output_type": "stream",
          "name": "stdout",
          "text": [
            "1\n",
            "2\n",
            "3\n",
            "4\n"
          ]
        }
      ]
    },
    {
      "cell_type": "code",
      "source": [
        "# 패킹 예시\n",
        "def print_numbers(*args):\n",
        "  print(args)\n",
        "  for arg in args:\n",
        "    print(arg)"
      ],
      "metadata": {
        "id": "l3fBY6zzcIPQ"
      },
      "execution_count": 22,
      "outputs": []
    },
    {
      "cell_type": "code",
      "source": [
        "x = [10]\n",
        "print_numbers(*x)"
      ],
      "metadata": {
        "colab": {
          "base_uri": "https://localhost:8080/"
        },
        "id": "YWnQIYCDcL_m",
        "outputId": "cd0d195a-a0de-4aca-e1d6-4f75d9ac0523"
      },
      "execution_count": 23,
      "outputs": [
        {
          "output_type": "stream",
          "name": "stdout",
          "text": [
            "(10,)\n",
            "10\n"
          ]
        }
      ]
    },
    {
      "cell_type": "code",
      "source": [
        "x = [10]\n",
        "print_numbers(x)"
      ],
      "metadata": {
        "colab": {
          "base_uri": "https://localhost:8080/"
        },
        "id": "EzshkUedcRNj",
        "outputId": "bb8491ec-5c96-4da3-85c0-63dd12a59e9c"
      },
      "execution_count": 24,
      "outputs": [
        {
          "output_type": "stream",
          "name": "stdout",
          "text": [
            "([10],)\n",
            "[10]\n"
          ]
        }
      ]
    },
    {
      "cell_type": "code",
      "source": [
        "# 키워드 인자 사용하기 딕셔너리 패킹\n",
        "\n",
        "# 매개변수에 이름으로 일치시키는 인자를 키워드 인자라고 한다.\n",
        "# 함수를 호출할 때 인자의 값 뿐만 아니라 \n",
        "# 그 이름까지 명시적으로 지정해서 전달하는 방식이다. \n",
        "# 인자의 순서와 용도를 매번 기억하지 않아도 되서 편리하다. -> 키워드를 알아야 하니까 불편하다"
      ],
      "metadata": {
        "id": "4-DXL_FMcWbl"
      },
      "execution_count": 25,
      "outputs": []
    },
    {
      "cell_type": "code",
      "source": [
        "def personal_info(name, age, address):\n",
        "  print('이름 : ', name )\n",
        "  print('나이 : ', age )\n",
        "  print('주소 :', address)\n",
        "\n",
        "personal_info(name = '홍길동')"
      ],
      "metadata": {
        "colab": {
          "base_uri": "https://localhost:8080/",
          "height": 211
        },
        "id": "5IrO9_p0cxW0",
        "outputId": "1a5e306e-9b94-447c-fc84-05e3a0563b27"
      },
      "execution_count": 27,
      "outputs": [
        {
          "output_type": "error",
          "ename": "TypeError",
          "evalue": "ignored",
          "traceback": [
            "\u001b[0;31m---------------------------------------------------------------------------\u001b[0m",
            "\u001b[0;31mTypeError\u001b[0m                                 Traceback (most recent call last)",
            "\u001b[0;32m<ipython-input-27-eb2e669f9d62>\u001b[0m in \u001b[0;36m<cell line: 6>\u001b[0;34m()\u001b[0m\n\u001b[1;32m      4\u001b[0m   \u001b[0mprint\u001b[0m\u001b[0;34m(\u001b[0m\u001b[0;34m'주소 :'\u001b[0m\u001b[0;34m,\u001b[0m \u001b[0maddress\u001b[0m\u001b[0;34m)\u001b[0m\u001b[0;34m\u001b[0m\u001b[0;34m\u001b[0m\u001b[0m\n\u001b[1;32m      5\u001b[0m \u001b[0;34m\u001b[0m\u001b[0m\n\u001b[0;32m----> 6\u001b[0;31m \u001b[0mpersonal_info\u001b[0m\u001b[0;34m(\u001b[0m\u001b[0mname\u001b[0m \u001b[0;34m=\u001b[0m \u001b[0;34m'홍길동'\u001b[0m\u001b[0;34m)\u001b[0m\u001b[0;34m\u001b[0m\u001b[0;34m\u001b[0m\u001b[0m\n\u001b[0m",
            "\u001b[0;31mTypeError\u001b[0m: personal_info() missing 2 required positional arguments: 'age' and 'address'"
          ]
        }
      ]
    },
    {
      "cell_type": "code",
      "source": [
        "list = *[10,20,30]\n",
        "a = 10\n",
        "b = 20\n",
        "c = 30"
      ],
      "metadata": {
        "colab": {
          "base_uri": "https://localhost:8080/",
          "height": 137
        },
        "id": "R_fvji5teRYV",
        "outputId": "813db6c4-4ea5-4d98-caf3-29a8714b2da6"
      },
      "execution_count": 29,
      "outputs": [
        {
          "output_type": "error",
          "ename": "SyntaxError",
          "evalue": "ignored",
          "traceback": [
            "\u001b[0;36m  File \u001b[0;32m\"<ipython-input-29-b1f2043d994f>\"\u001b[0;36m, line \u001b[0;32m1\u001b[0m\n\u001b[0;31m    list = *[10,20,30]\u001b[0m\n\u001b[0m           ^\u001b[0m\n\u001b[0;31mSyntaxError\u001b[0m\u001b[0;31m:\u001b[0m can't use starred expression here\n"
          ]
        }
      ]
    },
    {
      "cell_type": "code",
      "source": [
        "x = {'name': '홍길동', \n",
        "     'age': 30, \n",
        "     'address': '경기도 시흥시'}\n",
        "\n",
        "personal_info(**x)"
      ],
      "metadata": {
        "colab": {
          "base_uri": "https://localhost:8080/"
        },
        "id": "O4mp0RtVec9k",
        "outputId": "1d24cc47-4604-4933-b325-178b329539a7"
      },
      "execution_count": 30,
      "outputs": [
        {
          "output_type": "stream",
          "name": "stdout",
          "text": [
            "이름 :  홍길동\n",
            "나이 :  30\n",
            "주소 : 경기도 시흥시\n"
          ]
        }
      ]
    },
    {
      "cell_type": "code",
      "source": [
        "# 키워드 가변인자(**kwargs) 만들기\n",
        "\n",
        "# 키워드 인자와 딕셔너리 언패킹의 개념은 키워드 가변인자함수를 만들때 사용한다."
      ],
      "metadata": {
        "id": "tLXdSYrVeh-9"
      },
      "execution_count": 31,
      "outputs": []
    },
    {
      "cell_type": "code",
      "source": [
        "#자료 형이 딕셔너리 일때\n",
        "\n",
        "def personal_info(**kwargs):\n",
        "  print(kwargs)\n",
        "  for kw, arg in kwargs.items() : #keys values\n",
        "    print(kw, ': ', arg, sep='')"
      ],
      "metadata": {
        "id": "t54jYkDEemDC"
      },
      "execution_count": 34,
      "outputs": []
    },
    {
      "cell_type": "code",
      "source": [
        "personal_info(name = '홍길동')"
      ],
      "metadata": {
        "colab": {
          "base_uri": "https://localhost:8080/"
        },
        "id": "6_nK7uzPfxgf",
        "outputId": "c80f064e-c272-45db-a0b1-0cbeba87272d"
      },
      "execution_count": 35,
      "outputs": [
        {
          "output_type": "stream",
          "name": "stdout",
          "text": [
            "{'name': '홍길동'}\n",
            "name: 홍길동\n"
          ]
        }
      ]
    },
    {
      "cell_type": "code",
      "source": [
        "personal_info(name='홍길동', \n",
        "              age = 30,\n",
        "              address='경기도 시흥시')"
      ],
      "metadata": {
        "colab": {
          "base_uri": "https://localhost:8080/"
        },
        "id": "LvbCQjMkfyjY",
        "outputId": "78ce03aa-6a5e-48f2-c182-1bf0ee93bf80"
      },
      "execution_count": 36,
      "outputs": [
        {
          "output_type": "stream",
          "name": "stdout",
          "text": [
            "{'name': '홍길동', 'age': 30, 'address': '경기도 시흥시'}\n",
            "name: 홍길동\n",
            "age: 30\n",
            "address: 경기도 시흥시\n"
          ]
        }
      ]
    },
    {
      "cell_type": "code",
      "source": [
        "x = {'name': '홍길동'}\n",
        "\n",
        "personal_info(**x)"
      ],
      "metadata": {
        "colab": {
          "base_uri": "https://localhost:8080/"
        },
        "id": "FjM5CzHUf9hy",
        "outputId": "3dea3712-fbc8-44a4-c055-895ec0b3747d"
      },
      "execution_count": 37,
      "outputs": [
        {
          "output_type": "stream",
          "name": "stdout",
          "text": [
            "{'name': '홍길동'}\n",
            "name: 홍길동\n"
          ]
        }
      ]
    },
    {
      "cell_type": "code",
      "source": [
        "y = {'name': '홍길동', 'age': 30, 'address': '서울시 용산구 이촌동'}\n",
        "personal_info(**y)"
      ],
      "metadata": {
        "colab": {
          "base_uri": "https://localhost:8080/"
        },
        "id": "q2JktGRegkjJ",
        "outputId": "fe6faadd-34db-4ec4-c684-18497e876033"
      },
      "execution_count": 38,
      "outputs": [
        {
          "output_type": "stream",
          "name": "stdout",
          "text": [
            "{'name': '홍길동', 'age': 30, 'address': '서울시 용산구 이촌동'}\n",
            "name: 홍길동\n",
            "age: 30\n",
            "address: 서울시 용산구 이촌동\n"
          ]
        }
      ]
    },
    {
      "cell_type": "code",
      "source": [
        "def personal_info(**kwargs):\n",
        "  if 'name' in kwargs:\n",
        "    print('이름: ', kwargs['name'])\n",
        "  if 'age' in kwargs:\n",
        "    print('나이:', kwargs['age'])"
      ],
      "metadata": {
        "id": "NoFama8fgrNx"
      },
      "execution_count": 39,
      "outputs": []
    },
    {
      "cell_type": "code",
      "source": [
        "personal_info(name = '홍길동',\n",
        "              age = 30,\n",
        "              address='경기도 시흥시')"
      ],
      "metadata": {
        "colab": {
          "base_uri": "https://localhost:8080/"
        },
        "id": "uVcxmLs8i9gM",
        "outputId": "f0021836-b65f-45a8-dfa1-585ee1eb447b"
      },
      "execution_count": 40,
      "outputs": [
        {
          "output_type": "stream",
          "name": "stdout",
          "text": [
            "이름:  홍길동\n",
            "나이: 30\n"
          ]
        }
      ]
    },
    {
      "cell_type": "code",
      "source": [
        "# 예제 1.\n",
        "\n",
        "arg_printer(a=4, 2, 4, 5)\n",
        "\n",
        "#python은 위치인수 뒤에 키워드인수가 오게 됩니다. \n",
        "#함수를 호출할때는 이점을 염두에 두어야합니다.\n",
        "#다음과 같이 사용하면 에러가 나게 됩니다. \n",
        "#SyntaxError: positional argument follows keyword argument"
      ],
      "metadata": {
        "colab": {
          "base_uri": "https://localhost:8080/",
          "height": 137
        },
        "id": "cknKIf4hjUxE",
        "outputId": "d17f6e78-c05d-4e29-c2df-2d2872401506"
      },
      "execution_count": 41,
      "outputs": [
        {
          "output_type": "error",
          "ename": "SyntaxError",
          "evalue": "ignored",
          "traceback": [
            "\u001b[0;36m  File \u001b[0;32m\"<ipython-input-41-145b8b2cb57e>\"\u001b[0;36m, line \u001b[0;32m3\u001b[0m\n\u001b[0;31m    arg_printer(a=4, 2, 4, 5)\u001b[0m\n\u001b[0m                            ^\u001b[0m\n\u001b[0;31mSyntaxError\u001b[0m\u001b[0;31m:\u001b[0m positional argument follows keyword argument\n"
          ]
        }
      ]
    },
    {
      "cell_type": "code",
      "source": [
        "#위치 인자 (non-default)\n",
        "#위치 인자 (default)\n",
        "#/ (위치 인자들 어딘가에 존재한다)\n",
        "#위치 가변 인자 (*args)\n",
        "#키워드 전용 인자 (기본값 유무는 상관 없다)\n",
        "#키워드 전용 가변 인자 (**kwargs)"
      ],
      "metadata": {
        "id": "8raxY8wzjVLN"
      },
      "execution_count": 42,
      "outputs": []
    },
    {
      "cell_type": "code",
      "source": [
        "# 예제 2.\n",
        "# 결론적으로 *args 및 *kwargs 를 사용하여 변수를 패킹할 수 있습니다."
      ],
      "metadata": {
        "id": "L7TnqejPjW02"
      },
      "execution_count": null,
      "outputs": []
    },
    {
      "cell_type": "code",
      "source": [
        "def arg_printer(*args):# 패킹 * 튜플 형태로 패킹된다.\n",
        "  print(args)\n",
        "\n",
        "list = [1,4,5]\n",
        "arg_printer(*list) # 언패킹"
      ],
      "metadata": {
        "colab": {
          "base_uri": "https://localhost:8080/"
        },
        "id": "wUwkJZ6cjUvU",
        "outputId": "23640a27-ba1c-4418-f29a-b040206006d5"
      },
      "execution_count": 43,
      "outputs": [
        {
          "output_type": "stream",
          "name": "stdout",
          "text": [
            "(1, 4, 5)\n"
          ]
        }
      ]
    },
    {
      "cell_type": "code",
      "source": [
        "# 영어의 2중 부정과 동일하고 -> 자료형태는 튜플로 변경"
      ],
      "metadata": {
        "id": "fGQCO3Gzjqyn"
      },
      "execution_count": null,
      "outputs": []
    },
    {
      "cell_type": "code",
      "source": [
        "# 예제 3.\n",
        "\n",
        "lst = [1,4,5]\n",
        "tpl = ('a','b', 4)\n",
        "\n",
        "arg_printer(*lst, *tpl, 5, 6) # 언패킹"
      ],
      "metadata": {
        "colab": {
          "base_uri": "https://localhost:8080/"
        },
        "id": "hobVYfg-jqwn",
        "outputId": "16942165-ed72-4aa7-d0de-84ebcc4d58ec"
      },
      "execution_count": 44,
      "outputs": [
        {
          "output_type": "stream",
          "name": "stdout",
          "text": [
            "(1, 4, 5, 'a', 'b', 4, 5, 6)\n"
          ]
        }
      ]
    },
    {
      "cell_type": "code",
      "source": [
        "# 예제 4. 다음과 같이 사용하면 언패킹 되었다가 다시 패킹되는 형태로 변경된다.\n",
        "\n",
        "def arg_printer(**kwargs):\n",
        "   print(kwargs)\n",
        "\n",
        "dct = {'param1':5, 'param2':8}\n",
        "arg_printer(**dct)"
      ],
      "metadata": {
        "colab": {
          "base_uri": "https://localhost:8080/"
        },
        "id": "E6eGiNH2kRKX",
        "outputId": "7ba0a5c2-05de-45a2-e34b-60107a9c5047"
      },
      "execution_count": 45,
      "outputs": [
        {
          "output_type": "stream",
          "name": "stdout",
          "text": [
            "{'param1': 5, 'param2': 8}\n"
          ]
        }
      ]
    },
    {
      "cell_type": "code",
      "source": [
        "# 예제 5. \n",
        "# 또한 추가 키워드 인수를 사전과 함께 전달하면 결합되어 \n",
        "# kwargs 딕셔너리에 저장됩니다.\n",
        "dct = {'param1':5, 'param2':8} \n",
        "arg_printer(param3=9, **dct)"
      ],
      "metadata": {
        "colab": {
          "base_uri": "https://localhost:8080/"
        },
        "id": "4EcoTcNxkXGL",
        "outputId": "738ff1df-0089-4c41-d362-ae079747dc62"
      },
      "execution_count": 47,
      "outputs": [
        {
          "output_type": "stream",
          "name": "stdout",
          "text": [
            "{'param3': 9, 'param1': 5, 'param2': 8}\n"
          ]
        }
      ]
    },
    {
      "cell_type": "code",
      "source": [
        "# 우리가 다룬 내용을 요약하면 다음과 같습니다.\n",
        "\n",
        "#함수에는 위치 인수(값으로만 선언됨)와 키워드 인수(이름과 기본값으로 선언됨)인 \n",
        "#두 가지 유형의 인수가 있습니다.\n",
        "\n",
        "#함수가 호출될 때 위치 인수에 대한 값이 제공되어야 합니다. \n",
        "#키워드 인수는 선택 사항입니다(지정하지 않으면 기본값을 사용함).\n",
        "\n",
        "#함수 내에서의 *args는 명시적으로 정의되지 않은 위치 인수를 수집하여 튜플에 저장합니다.\n",
        "\n",
        "#함수 내에서의 **kwargs는 *args와 동일하지만 키워드 인수에 대해 수행합니다. \n",
        "#키워드 인수는 이름-값 쌍으로 저장되기 때문에 딕셔너리에 저장됩니다.\n",
        "\n",
        "#Python은 위치 인수가 키워드 인수를 따르는 것을 허용하지 않습니다. \n",
        "#따라서 먼저 위치 인수를 선언한 다음 키워드 인수를 선언합니다. # *args **kwargs"
      ],
      "metadata": {
        "id": "fxelJMhZkYX-"
      },
      "execution_count": null,
      "outputs": []
    },
    {
      "cell_type": "code",
      "source": [
        "# 연습 문제 1.\n",
        "\n",
        "# 다음 함수 식을 고려해서\n",
        "# 두개 이상의 숫자를 합산하는 다음 함수를 만드세요 *arg 사용\n",
        "\n",
        "# 함수로 구현\n",
        "def addition(a, b):\n",
        "   return a + b\n",
        "print(addition(3,4))"
      ],
      "metadata": {
        "colab": {
          "base_uri": "https://localhost:8080/"
        },
        "id": "yVQsDJO7jqus",
        "outputId": "8ecf6838-4605-4896-c34e-0f254d4085a8"
      },
      "execution_count": 48,
      "outputs": [
        {
          "output_type": "stream",
          "name": "stdout",
          "text": [
            "7\n"
          ]
        }
      ]
    },
    {
      "cell_type": "code",
      "source": [
        "def addition_args(*args):\n",
        "  result = 0\n",
        "  #args = (1,4)\n",
        "  for i in args:\n",
        "    result += i\n",
        "  return result"
      ],
      "metadata": {
        "id": "NJhAiOfGlK_C"
      },
      "execution_count": 49,
      "outputs": []
    },
    {
      "cell_type": "code",
      "source": [
        "print(addition_args(1,4,5,3,2))"
      ],
      "metadata": {
        "colab": {
          "base_uri": "https://localhost:8080/"
        },
        "id": "QwQXFVmulVWX",
        "outputId": "1a7608fa-c96a-4159-fd6c-1899a6e03bab"
      },
      "execution_count": 50,
      "outputs": [
        {
          "output_type": "stream",
          "name": "stdout",
          "text": [
            "15\n"
          ]
        }
      ]
    },
    {
      "cell_type": "code",
      "source": [
        "# 에러를 고치자 3\n",
        "def mixed_params(age, name=\"아이유\", *args, address, **kwargs, ):\n",
        "    print(\"name=\",end=\"\"), print(name) \n",
        "    print(\"args=\",end=\"\"), print(args)\n",
        "    print(\"age=\",end=\"\"), print(age)\n",
        "    print(\"kwargs=\",end=\"\"), print(kwargs)\n",
        "    print(\"address=\",end=\"\"), print(address)\n",
        "\n",
        "mixed_params(20, \"정우성\", \"01012341234\", \"male\", mobile=\"01012341234\", address=\"seoul\")"
      ],
      "metadata": {
        "colab": {
          "base_uri": "https://localhost:8080/"
        },
        "id": "qn02mU1Tlj-Y",
        "outputId": "8d14ff73-1463-4055-bf67-193e52e02fe3"
      },
      "execution_count": 51,
      "outputs": [
        {
          "output_type": "stream",
          "name": "stdout",
          "text": [
            "name=정우성\n",
            "args=('01012341234', 'male')\n",
            "age=20\n",
            "kwargs={'mobile': '01012341234'}\n",
            "address=seoul\n"
          ]
        }
      ]
    },
    {
      "cell_type": "code",
      "source": [],
      "metadata": {
        "id": "DkEfSkS0nhMp"
      },
      "execution_count": null,
      "outputs": []
    },
    {
      "cell_type": "code",
      "source": [
        "# 에러를 고치자 3\n",
        "def mixed_params(age, name=\"아이유\", *args, address, **kwargs):\n",
        "    print(\"name=\",end=\"\"), print(name) \n",
        "    print(\"args=\",end=\"\"), print(args)\n",
        "    print(\"age=\",end=\"\"), print(age)\n",
        "    print(\"kwargs=\",end=\"\"), print(kwargs)\n",
        "    print(\"address=\",end=\"\"), print(address)\n",
        "\n",
        "mixed_params(20, \"정우성\", \"01012341234\", \"male\", mobile=\"01012341234\", address=\"seoul\")"
      ],
      "metadata": {
        "id": "FphEHgL3lY9l"
      },
      "execution_count": null,
      "outputs": []
    },
    {
      "cell_type": "code",
      "source": [],
      "metadata": {
        "id": "WVuKdBF9jqs3"
      },
      "execution_count": null,
      "outputs": []
    },
    {
      "cell_type": "code",
      "source": [],
      "metadata": {
        "id": "PVuNqKM6jqqs"
      },
      "execution_count": null,
      "outputs": []
    },
    {
      "cell_type": "code",
      "source": [],
      "metadata": {
        "id": "tbaYdK_XjmI7"
      },
      "execution_count": null,
      "outputs": []
    },
    {
      "cell_type": "code",
      "source": [],
      "metadata": {
        "id": "zbw6w4gJjUso"
      },
      "execution_count": null,
      "outputs": []
    },
    {
      "cell_type": "markdown",
      "source": [],
      "metadata": {
        "id": "4fnuc0GDjTVj"
      }
    },
    {
      "cell_type": "markdown",
      "source": [],
      "metadata": {
        "id": "pdWzZRoCjTI1"
      }
    },
    {
      "cell_type": "code",
      "source": [],
      "metadata": {
        "id": "_jbV3d6KjNrw"
      },
      "execution_count": null,
      "outputs": []
    },
    {
      "cell_type": "code",
      "source": [],
      "metadata": {
        "colab": {
          "base_uri": "https://localhost:8080/",
          "height": 303
        },
        "id": "LyhWFZ78fmYe",
        "outputId": "0e697f80-9c7e-40e7-a8d8-61445825e6b6"
      },
      "execution_count": 33,
      "outputs": [
        {
          "output_type": "stream",
          "name": "stdout",
          "text": [
            "{'name': '홍길동'}\n"
          ]
        },
        {
          "output_type": "error",
          "ename": "NameError",
          "evalue": "ignored",
          "traceback": [
            "\u001b[0;31m---------------------------------------------------------------------------\u001b[0m",
            "\u001b[0;31mNameError\u001b[0m                                 Traceback (most recent call last)",
            "\u001b[0;32m<ipython-input-33-bec4c60bde39>\u001b[0m in \u001b[0;36m<cell line: 1>\u001b[0;34m()\u001b[0m\n\u001b[0;32m----> 1\u001b[0;31m \u001b[0mpersonal_info\u001b[0m\u001b[0;34m(\u001b[0m\u001b[0mname\u001b[0m \u001b[0;34m=\u001b[0m \u001b[0;34m'홍길동'\u001b[0m\u001b[0;34m)\u001b[0m\u001b[0;34m\u001b[0m\u001b[0;34m\u001b[0m\u001b[0m\n\u001b[0m",
            "\u001b[0;32m<ipython-input-32-60cf7eab39ac>\u001b[0m in \u001b[0;36mpersonal_info\u001b[0;34m(**kwargs)\u001b[0m\n\u001b[1;32m      3\u001b[0m \u001b[0;32mdef\u001b[0m \u001b[0mpersonal_info\u001b[0m\u001b[0;34m(\u001b[0m\u001b[0;34m**\u001b[0m\u001b[0mkwargs\u001b[0m\u001b[0;34m)\u001b[0m\u001b[0;34m:\u001b[0m\u001b[0;34m\u001b[0m\u001b[0;34m\u001b[0m\u001b[0m\n\u001b[1;32m      4\u001b[0m   \u001b[0mprint\u001b[0m\u001b[0;34m(\u001b[0m\u001b[0mkwargs\u001b[0m\u001b[0;34m)\u001b[0m\u001b[0;34m\u001b[0m\u001b[0;34m\u001b[0m\u001b[0m\n\u001b[0;32m----> 5\u001b[0;31m   \u001b[0;32mfor\u001b[0m \u001b[0mkw\u001b[0m\u001b[0;34m,\u001b[0m \u001b[0marg\u001b[0m \u001b[0;32min\u001b[0m \u001b[0mkwargs\u001b[0m\u001b[0;34m,\u001b[0m \u001b[0mitems\u001b[0m\u001b[0;34m(\u001b[0m\u001b[0;34m)\u001b[0m \u001b[0;34m:\u001b[0m \u001b[0;31m#keys values\u001b[0m\u001b[0;34m\u001b[0m\u001b[0;34m\u001b[0m\u001b[0m\n\u001b[0m\u001b[1;32m      6\u001b[0m     \u001b[0mprint\u001b[0m\u001b[0;34m(\u001b[0m\u001b[0mkw\u001b[0m\u001b[0;34m,\u001b[0m \u001b[0;34m': '\u001b[0m\u001b[0;34m,\u001b[0m \u001b[0marg\u001b[0m\u001b[0;34m,\u001b[0m \u001b[0msep\u001b[0m\u001b[0;34m=\u001b[0m\u001b[0;34m''\u001b[0m\u001b[0;34m)\u001b[0m\u001b[0;34m\u001b[0m\u001b[0;34m\u001b[0m\u001b[0m\n",
            "\u001b[0;31mNameError\u001b[0m: name 'items' is not defined"
          ]
        }
      ]
    },
    {
      "cell_type": "code",
      "source": [
        "#위치 인자 (non-default)\n",
        "#위치 인자 (default)\n",
        "#/ (위치 인자들 어딘가에 존재한다)\n",
        "#위치 가변 인자 (*args)\n",
        "#키워드 전용 인자 (기본값 유무는 상관 없다)\n",
        "#키워드 전용 가변 인자 (**kwargs)"
      ],
      "metadata": {
        "id": "vdIMCftDfuGI"
      },
      "execution_count": null,
      "outputs": []
    },
    {
      "cell_type": "code",
      "source": [],
      "metadata": {
        "id": "O9sD3LLHeYLd"
      },
      "execution_count": null,
      "outputs": []
    },
    {
      "cell_type": "code",
      "source": [],
      "metadata": {
        "id": "DTKKcAyzeO5j"
      },
      "execution_count": null,
      "outputs": []
    },
    {
      "cell_type": "code",
      "source": [],
      "metadata": {
        "id": "W5lq_N1_bxWY"
      },
      "execution_count": null,
      "outputs": []
    },
    {
      "cell_type": "code",
      "source": [],
      "metadata": {
        "id": "lpIMTNoNaezP"
      },
      "execution_count": null,
      "outputs": []
    },
    {
      "cell_type": "code",
      "source": [],
      "metadata": {
        "id": "eg4nWvXvadcT"
      },
      "execution_count": null,
      "outputs": []
    },
    {
      "cell_type": "code",
      "source": [],
      "metadata": {
        "id": "dH94sb6VadYX"
      },
      "execution_count": null,
      "outputs": []
    },
    {
      "cell_type": "code",
      "source": [],
      "metadata": {
        "id": "lu5t8V4qadWV"
      },
      "execution_count": null,
      "outputs": []
    },
    {
      "cell_type": "code",
      "source": [],
      "metadata": {
        "id": "uvO9070padUE"
      },
      "execution_count": null,
      "outputs": []
    },
    {
      "cell_type": "code",
      "source": [],
      "metadata": {
        "id": "fe-v_ke0adSH"
      },
      "execution_count": null,
      "outputs": []
    },
    {
      "cell_type": "code",
      "source": [],
      "metadata": {
        "id": "xjvsin3WadP-"
      },
      "execution_count": null,
      "outputs": []
    },
    {
      "cell_type": "code",
      "source": [],
      "metadata": {
        "id": "VptCuh2tadOX"
      },
      "execution_count": null,
      "outputs": []
    },
    {
      "cell_type": "code",
      "source": [],
      "metadata": {
        "id": "kCWf4NoXaSTk"
      },
      "execution_count": null,
      "outputs": []
    }
  ]
}