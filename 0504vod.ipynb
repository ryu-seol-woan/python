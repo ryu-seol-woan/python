{
  "nbformat": 4,
  "nbformat_minor": 0,
  "metadata": {
    "colab": {
      "provenance": []
    },
    "kernelspec": {
      "name": "python3",
      "display_name": "Python 3"
    },
    "language_info": {
      "name": "python"
    }
  },
  "cells": [
    {
      "cell_type": "markdown",
      "source": [
        "# 0504 vod python 강의"
      ],
      "metadata": {
        "id": "jDM3S7Jhkqy9"
      }
    },
    {
      "cell_type": "code",
      "source": [
        "# 0부터 8까지 출력하는 for루프를 완성해주세요.\n",
        "# 종료 숫자만 사용해주세요.\n",
        "\n",
        "for i in range(9) :\n",
        "\tprint(i)"
      ],
      "metadata": {
        "colab": {
          "base_uri": "https://localhost:8080/"
        },
        "id": "NWEEGc6bkvGR",
        "outputId": "fcdebbad-8760-4c9f-ab53-957457909b76"
      },
      "execution_count": 28,
      "outputs": [
        {
          "output_type": "stream",
          "name": "stdout",
          "text": [
            "0\n",
            "1\n",
            "2\n",
            "3\n",
            "4\n",
            "5\n",
            "6\n",
            "7\n",
            "8\n"
          ]
        }
      ]
    },
    {
      "cell_type": "code",
      "source": [
        "# 아래 코드를 완성해주세요.\n",
        "# 밑줄을 삭제하고 정답을 입력해주세요.\n",
        "\n",
        "#  첫째. 변수 a, b, c 에 각각 3, 5, 7을 저장하세요.\n",
        "a = 3\n",
        "b = 5\n",
        "c = 7\n",
        "#  둘째. 변수 result에 a + c * b의 결과를 저장하세요.\n",
        "result = a + c * b\n",
        "\n",
        "#  셋째. result를 출력하는 코드를 아래에 작성하세요.\n",
        "print(result)"
      ],
      "metadata": {
        "colab": {
          "base_uri": "https://localhost:8080/"
        },
        "id": "v9p2vBdNkxYq",
        "outputId": "8255607e-7242-49e3-8973-33e35deeb84f"
      },
      "execution_count": 29,
      "outputs": [
        {
          "output_type": "stream",
          "name": "stdout",
          "text": [
            "38\n"
          ]
        }
      ]
    },
    {
      "cell_type": "code",
      "source": [
        "a = \"20\"\n",
        "b = \"30\"\n",
        "\n",
        "# a와 b를 숫자로 변환해 결과가 50이 나올 수 있도록 빈칸을 채우세요.\n",
        "print(int(a) + int(b))"
      ],
      "metadata": {
        "colab": {
          "base_uri": "https://localhost:8080/"
        },
        "id": "zuPbo6J9ky4g",
        "outputId": "5c6f6926-bf2c-4dc8-dbdc-49ce00df22ef"
      },
      "execution_count": 30,
      "outputs": [
        {
          "output_type": "stream",
          "name": "stdout",
          "text": [
            "50\n"
          ]
        }
      ]
    },
    {
      "cell_type": "code",
      "source": [
        "# 아래 코드의 빈 칸을 지우고, 코드를 작성해서 완성하세요.\n",
        "\n",
        "# 첫째. 숫자를 입력받아 num에 숫자를 저장할 수 있도록 빈 칸을 채우세요.\n",
        "num = int(input(\"숫자를 입력하세요\"))\n",
        "\n",
        "# 둘째. num을 출력하는 코드를 작성하세요.\n",
        "print(num)"
      ],
      "metadata": {
        "colab": {
          "base_uri": "https://localhost:8080/"
        },
        "id": "jCBK1jzck0dy",
        "outputId": "4bdbe62f-5e6d-4b0c-f755-19447a65fa34"
      },
      "execution_count": 31,
      "outputs": [
        {
          "output_type": "stream",
          "name": "stdout",
          "text": [
            "숫자를 입력하세요5\n",
            "5\n"
          ]
        }
      ]
    },
    {
      "cell_type": "code",
      "source": [
        "hello = \"안녕하세요 코드라이언입니다.\"\n",
        "\n",
        "#hello의 길이를 출력하는 코드를 빈칸에 작성하세요.\n",
        "print(len(hello))"
      ],
      "metadata": {
        "colab": {
          "base_uri": "https://localhost:8080/"
        },
        "id": "Di_D4k9Gk2Iu",
        "outputId": "c4905d5a-6686-44fe-e41e-ad0f95d22090"
      },
      "execution_count": 32,
      "outputs": [
        {
          "output_type": "stream",
          "name": "stdout",
          "text": [
            "15\n"
          ]
        }
      ]
    },
    {
      "cell_type": "code",
      "source": [
        "#dict의 다양한 기능을 활용해 봅시다.\n",
        "name = {\"길동\" : 20, \"철수\" : 25, \"영희\" : 27}\n",
        "\n",
        "#첫째. name dict에서 길동을 삭제하는 코드를 아래에 작성해주세요.\n",
        "del name['길동']\n",
        "\n",
        "#둘째. 철수의 나이 25를 27로 수정하는 코드를 아래에 작성해주세요.\n",
        "name['철수'] = 27\n",
        "\n",
        "#셋째. name dict 전체를 출력하는 코드를 아래에 작성해주세요.\n",
        "\n",
        "print(name)"
      ],
      "metadata": {
        "colab": {
          "base_uri": "https://localhost:8080/"
        },
        "id": "q5qU8iNvk4M1",
        "outputId": "cd447889-329b-4e8a-a455-d0a8ee9bd221"
      },
      "execution_count": 33,
      "outputs": [
        {
          "output_type": "stream",
          "name": "stdout",
          "text": [
            "{'철수': 27, '영희': 27}\n"
          ]
        }
      ]
    },
    {
      "cell_type": "code",
      "source": [],
      "metadata": {
        "id": "ukRYQmEKk6_b"
      },
      "execution_count": null,
      "outputs": []
    },
    {
      "cell_type": "code",
      "source": [],
      "metadata": {
        "id": "sJtEK466kvAq"
      },
      "execution_count": null,
      "outputs": []
    },
    {
      "cell_type": "code",
      "source": [],
      "metadata": {
        "id": "fuK1v9Clku2n"
      },
      "execution_count": null,
      "outputs": []
    },
    {
      "cell_type": "code",
      "execution_count": null,
      "metadata": {
        "colab": {
          "base_uri": "https://localhost:8080/"
        },
        "id": "R-zhIu0RMknD",
        "outputId": "8a284ec5-d9da-4886-b440-5910c777e063"
      },
      "outputs": [
        {
          "output_type": "stream",
          "name": "stdout",
          "text": [
            "['짜장', '탕수육']\n"
          ]
        }
      ],
      "source": [
        "orders = ['짜장', '짬뽕','탕수육']\n",
        "\n",
        "del orders[1]\n",
        "\n",
        "print(orders)"
      ]
    },
    {
      "cell_type": "code",
      "source": [
        "orders = ['짜장', '짬뽕','탕수육']\n",
        "\n",
        "orders.remove('짬뽕')\n",
        "\n",
        "print(orders)"
      ],
      "metadata": {
        "colab": {
          "base_uri": "https://localhost:8080/"
        },
        "id": "nitetHd_Mrc7",
        "outputId": "38803fe9-a914-4cba-e185-67d2bcabf037"
      },
      "execution_count": null,
      "outputs": [
        {
          "output_type": "stream",
          "name": "stdout",
          "text": [
            "['짜장', '탕수육']\n"
          ]
        }
      ]
    },
    {
      "cell_type": "code",
      "source": [
        "len(orders)"
      ],
      "metadata": {
        "colab": {
          "base_uri": "https://localhost:8080/"
        },
        "id": "R2nFh2k3NKai",
        "outputId": "809638d3-fb64-4263-bed7-bac275822bf9"
      },
      "execution_count": null,
      "outputs": [
        {
          "output_type": "execute_result",
          "data": {
            "text/plain": [
              "2"
            ]
          },
          "metadata": {},
          "execution_count": 5
        }
      ]
    },
    {
      "cell_type": "code",
      "source": [
        "num = [2,7,8,9,10]"
      ],
      "metadata": {
        "id": "IROW1kV_OgjM"
      },
      "execution_count": null,
      "outputs": []
    },
    {
      "cell_type": "code",
      "source": [
        "sum(num)"
      ],
      "metadata": {
        "colab": {
          "base_uri": "https://localhost:8080/"
        },
        "id": "lQ3j30VQPSgE",
        "outputId": "e6a07fa0-f914-4499-acba-411376a03ea0"
      },
      "execution_count": null,
      "outputs": [
        {
          "output_type": "execute_result",
          "data": {
            "text/plain": [
              "36"
            ]
          },
          "metadata": {},
          "execution_count": 7
        }
      ]
    },
    {
      "cell_type": "code",
      "source": [
        "add =num[0] + num[1] + num[2] + num[3] + num[4]"
      ],
      "metadata": {
        "id": "vY0Bbkr6PZrj"
      },
      "execution_count": null,
      "outputs": []
    },
    {
      "cell_type": "code",
      "source": [
        "add/len(num)"
      ],
      "metadata": {
        "colab": {
          "base_uri": "https://localhost:8080/"
        },
        "id": "LOq3OB-gPpAU",
        "outputId": "15d25fcd-7206-4887-9a88-b4007bd6a619"
      },
      "execution_count": null,
      "outputs": [
        {
          "output_type": "execute_result",
          "data": {
            "text/plain": [
              "7.2"
            ]
          },
          "metadata": {},
          "execution_count": 11
        }
      ]
    },
    {
      "cell_type": "code",
      "source": [
        "max(num)"
      ],
      "metadata": {
        "colab": {
          "base_uri": "https://localhost:8080/"
        },
        "id": "me-8YQx_QYc1",
        "outputId": "bf9f8348-17e4-43a6-b262-412d38cd5d70"
      },
      "execution_count": null,
      "outputs": [
        {
          "output_type": "execute_result",
          "data": {
            "text/plain": [
              "10"
            ]
          },
          "metadata": {},
          "execution_count": 12
        }
      ]
    },
    {
      "cell_type": "code",
      "source": [
        "min(num)"
      ],
      "metadata": {
        "colab": {
          "base_uri": "https://localhost:8080/"
        },
        "id": "kNJIcUtIRBeh",
        "outputId": "5b41cee5-785b-467b-bcd3-7087bbdf91d4"
      },
      "execution_count": null,
      "outputs": [
        {
          "output_type": "execute_result",
          "data": {
            "text/plain": [
              "2"
            ]
          },
          "metadata": {},
          "execution_count": 13
        }
      ]
    },
    {
      "cell_type": "code",
      "source": [
        "print({})"
      ],
      "metadata": {
        "colab": {
          "base_uri": "https://localhost:8080/"
        },
        "id": "-E37ekTJRC1R",
        "outputId": "e73e6324-5746-4544-a2ff-ad438769a595"
      },
      "execution_count": null,
      "outputs": [
        {
          "output_type": "stream",
          "name": "stdout",
          "text": [
            "{}\n"
          ]
        }
      ]
    },
    {
      "cell_type": "code",
      "source": [
        "menu = {}\n"
      ],
      "metadata": {
        "id": "zS7IeObeRj8g"
      },
      "execution_count": null,
      "outputs": []
    },
    {
      "cell_type": "code",
      "source": [
        "print(menu)"
      ],
      "metadata": {
        "colab": {
          "base_uri": "https://localhost:8080/"
        },
        "id": "hLm4jmAYRsMZ",
        "outputId": "7bcd3a36-496a-448a-ddc9-0ab8e2b817d3"
      },
      "execution_count": null,
      "outputs": [
        {
          "output_type": "stream",
          "name": "stdout",
          "text": [
            "{'짬뽕': 5000, '탕수육': 9000, '냉면': 6000}\n"
          ]
        }
      ]
    },
    {
      "cell_type": "code",
      "source": [],
      "metadata": {
        "id": "a2wEWRB2TZNH"
      },
      "execution_count": null,
      "outputs": []
    },
    {
      "cell_type": "code",
      "source": [
        "del menu['짜장']"
      ],
      "metadata": {
        "id": "IH2nCnzwTBJ7"
      },
      "execution_count": null,
      "outputs": []
    },
    {
      "cell_type": "code",
      "source": [],
      "metadata": {
        "id": "6VLHADl9TYgF"
      },
      "execution_count": null,
      "outputs": []
    },
    {
      "cell_type": "code",
      "source": [
        "menu['짜장'] = 5000"
      ],
      "metadata": {
        "id": "z6B7STrySn3B"
      },
      "execution_count": null,
      "outputs": []
    },
    {
      "cell_type": "code",
      "source": [
        "my = int(input())\n",
        "you = int(input())\n",
        "\n",
        "print(my != you)\n",
        "\n",
        "if my == you:\n",
        "  print('동기내요')"
      ],
      "metadata": {
        "colab": {
          "base_uri": "https://localhost:8080/"
        },
        "id": "zpI6wV2sTAop",
        "outputId": "1aa5ed38-fba4-45ec-fc03-1d6f535c3f26"
      },
      "execution_count": null,
      "outputs": [
        {
          "output_type": "stream",
          "name": "stdout",
          "text": [
            "5\n",
            "5\n",
            "False\n",
            "동기내요\n"
          ]
        }
      ]
    },
    {
      "cell_type": "code",
      "source": [
        "orders = ['짜장', \"짬뽕\", '탕수육육']"
      ],
      "metadata": {
        "id": "pxPNZIS1XHxQ"
      },
      "execution_count": null,
      "outputs": []
    },
    {
      "cell_type": "code",
      "source": [
        "menu = { '짜장' : 4000, \"짬뽕\" : 5000, '탕수육' : 9000}"
      ],
      "metadata": {
        "id": "QQxPxJwuaAJ4"
      },
      "execution_count": null,
      "outputs": []
    },
    {
      "cell_type": "code",
      "source": [],
      "metadata": {
        "id": "4jECkfstaiM4"
      },
      "execution_count": null,
      "outputs": []
    },
    {
      "cell_type": "code",
      "source": [
        "food = input(\"메뉴 골라\")\n",
        "\n",
        "if food in menu:\n",
        "  print(menu[food],\"원입니다\")\n",
        "else :\n",
        "  print('주문 안됌')"
      ],
      "metadata": {
        "colab": {
          "base_uri": "https://localhost:8080/"
        },
        "id": "sWzGqpnlWGs_",
        "outputId": "c860361b-f0c7-4708-f5cd-981300481868"
      },
      "execution_count": null,
      "outputs": [
        {
          "output_type": "stream",
          "name": "stdout",
          "text": [
            "메뉴 골라짜장\n",
            "4000 원입니다\n"
          ]
        }
      ]
    },
    {
      "cell_type": "code",
      "source": [
        "if 10 < 90:\n",
        "  print(\"true\")"
      ],
      "metadata": {
        "colab": {
          "base_uri": "https://localhost:8080/"
        },
        "id": "woL38VLwa3h-",
        "outputId": "ce33f2fd-7c47-407a-8931-40523731561f"
      },
      "execution_count": null,
      "outputs": [
        {
          "output_type": "stream",
          "name": "stdout",
          "text": [
            "true\n"
          ]
        }
      ]
    },
    {
      "cell_type": "code",
      "source": [
        "i = 0\n",
        "\n",
        "while i < 6:\n",
        "  print(\"true\")\n",
        "  i += 1"
      ],
      "metadata": {
        "colab": {
          "base_uri": "https://localhost:8080/"
        },
        "id": "rYYldxAabwWS",
        "outputId": "ed78846c-683f-40a7-fb9d-5e5e6452ce77"
      },
      "execution_count": null,
      "outputs": [
        {
          "output_type": "stream",
          "name": "stdout",
          "text": [
            "true\n",
            "true\n",
            "true\n",
            "true\n",
            "true\n",
            "true\n"
          ]
        }
      ]
    },
    {
      "cell_type": "code",
      "source": [
        "i = 6\n",
        "\n",
        "while i > 0:\n",
        "  print(i)\n",
        "  i -= 1"
      ],
      "metadata": {
        "colab": {
          "base_uri": "https://localhost:8080/"
        },
        "id": "_eLJ8jNycssY",
        "outputId": "bad33d3a-f1ce-46ab-877d-65eedb5ab784"
      },
      "execution_count": null,
      "outputs": [
        {
          "output_type": "stream",
          "name": "stdout",
          "text": [
            "6\n",
            "5\n",
            "4\n",
            "3\n",
            "2\n",
            "1\n"
          ]
        }
      ]
    },
    {
      "cell_type": "code",
      "source": [
        "i =0\n",
        "while True:\n",
        "  print(i)\n",
        "  i += 1\n",
        "\n",
        "  if i >3:\n",
        "    break"
      ],
      "metadata": {
        "colab": {
          "base_uri": "https://localhost:8080/"
        },
        "id": "AIfp0be6f4Ll",
        "outputId": "24d08484-f4d6-47a7-9110-99d65757eebd"
      },
      "execution_count": null,
      "outputs": [
        {
          "output_type": "stream",
          "name": "stdout",
          "text": [
            "0\n",
            "1\n",
            "2\n",
            "3\n"
          ]
        }
      ]
    },
    {
      "cell_type": "code",
      "source": [
        "i = 0\n",
        "while i < 10:\n",
        "  i += 1\n",
        "\n",
        "  if i % 2 == 0:\n",
        "    continue\n",
        "  print(i)"
      ],
      "metadata": {
        "colab": {
          "base_uri": "https://localhost:8080/"
        },
        "id": "a-mNoZ0igq4z",
        "outputId": "6cd338c2-0323-4cb0-adff-26e30f3ee519"
      },
      "execution_count": null,
      "outputs": [
        {
          "output_type": "stream",
          "name": "stdout",
          "text": [
            "1\n",
            "3\n",
            "5\n",
            "7\n",
            "9\n"
          ]
        }
      ]
    },
    {
      "cell_type": "code",
      "source": [
        "i = 0\n",
        "while i < 10:\n",
        "  i += 1\n",
        "\n",
        "  if i % 2 == 0:\n",
        "    pass\n",
        "    print(i)\n",
        "  print(i)"
      ],
      "metadata": {
        "colab": {
          "base_uri": "https://localhost:8080/"
        },
        "id": "x-v0kgeEhaet",
        "outputId": "0b06ab15-d957-4f76-83fc-20c4951091c7"
      },
      "execution_count": null,
      "outputs": [
        {
          "output_type": "stream",
          "name": "stdout",
          "text": [
            "1\n",
            "2\n",
            "2\n",
            "3\n",
            "4\n",
            "4\n",
            "5\n",
            "6\n",
            "6\n",
            "7\n",
            "8\n",
            "8\n",
            "9\n",
            "10\n",
            "10\n"
          ]
        }
      ]
    },
    {
      "cell_type": "code",
      "source": [
        "i = 0\n",
        "for i in range(100):\n",
        "  i += 1\n",
        "  print(i)"
      ],
      "metadata": {
        "colab": {
          "base_uri": "https://localhost:8080/"
        },
        "id": "OoJTs8pPiB5Q",
        "outputId": "b5bb8251-2c1c-446a-9ed7-e69526c2beae"
      },
      "execution_count": null,
      "outputs": [
        {
          "output_type": "stream",
          "name": "stdout",
          "text": [
            "1\n",
            "2\n",
            "3\n",
            "4\n",
            "5\n",
            "6\n",
            "7\n",
            "8\n",
            "9\n",
            "10\n",
            "11\n",
            "12\n",
            "13\n",
            "14\n",
            "15\n",
            "16\n",
            "17\n",
            "18\n",
            "19\n",
            "20\n",
            "21\n",
            "22\n",
            "23\n",
            "24\n",
            "25\n",
            "26\n",
            "27\n",
            "28\n",
            "29\n",
            "30\n",
            "31\n",
            "32\n",
            "33\n",
            "34\n",
            "35\n",
            "36\n",
            "37\n",
            "38\n",
            "39\n",
            "40\n",
            "41\n",
            "42\n",
            "43\n",
            "44\n",
            "45\n",
            "46\n",
            "47\n",
            "48\n",
            "49\n",
            "50\n",
            "51\n",
            "52\n",
            "53\n",
            "54\n",
            "55\n",
            "56\n",
            "57\n",
            "58\n",
            "59\n",
            "60\n",
            "61\n",
            "62\n",
            "63\n",
            "64\n",
            "65\n",
            "66\n",
            "67\n",
            "68\n",
            "69\n",
            "70\n",
            "71\n",
            "72\n",
            "73\n",
            "74\n",
            "75\n",
            "76\n",
            "77\n",
            "78\n",
            "79\n",
            "80\n",
            "81\n",
            "82\n",
            "83\n",
            "84\n",
            "85\n",
            "86\n",
            "87\n",
            "88\n",
            "89\n",
            "90\n",
            "91\n",
            "92\n",
            "93\n",
            "94\n",
            "95\n",
            "96\n",
            "97\n",
            "98\n",
            "99\n",
            "100\n"
          ]
        }
      ]
    },
    {
      "cell_type": "code",
      "source": [
        "for x in range(1,11,3):\n",
        "  print(x)"
      ],
      "metadata": {
        "colab": {
          "base_uri": "https://localhost:8080/"
        },
        "id": "f8UtgT1MjD8B",
        "outputId": "0b3f8364-3db5-4232-b462-1bbc941ecce8"
      },
      "execution_count": null,
      "outputs": [
        {
          "output_type": "stream",
          "name": "stdout",
          "text": [
            "1\n",
            "4\n",
            "7\n",
            "10\n"
          ]
        }
      ]
    },
    {
      "cell_type": "code",
      "source": [
        "for i in range(2,30,2):\n",
        "  print(i)"
      ],
      "metadata": {
        "colab": {
          "base_uri": "https://localhost:8080/"
        },
        "id": "X9rWdlyQj7t-",
        "outputId": "3e4e4796-7971-4e3d-989c-049cff51b70f"
      },
      "execution_count": null,
      "outputs": [
        {
          "output_type": "stream",
          "name": "stdout",
          "text": [
            "2\n",
            "4\n",
            "6\n",
            "8\n",
            "10\n",
            "12\n",
            "14\n",
            "16\n",
            "18\n",
            "20\n",
            "22\n",
            "24\n",
            "26\n",
            "28\n"
          ]
        }
      ]
    },
    {
      "cell_type": "code",
      "source": [
        "result = 1\n",
        "\n",
        "for i in range(1,11):\n",
        "  result *= i\n",
        "  print(result)"
      ],
      "metadata": {
        "colab": {
          "base_uri": "https://localhost:8080/"
        },
        "id": "GkHgPxOhk9kh",
        "outputId": "3b31dc16-7f53-4e96-b496-4e75da4e63a9"
      },
      "execution_count": null,
      "outputs": [
        {
          "output_type": "stream",
          "name": "stdout",
          "text": [
            "1\n",
            "2\n",
            "6\n",
            "24\n",
            "120\n",
            "720\n",
            "5040\n",
            "40320\n",
            "362880\n",
            "3628800\n"
          ]
        }
      ]
    },
    {
      "cell_type": "code",
      "source": [
        "print(\"*\"*5)"
      ],
      "metadata": {
        "colab": {
          "base_uri": "https://localhost:8080/"
        },
        "id": "j6Dsw-Oill4r",
        "outputId": "2badf4f6-7059-450b-a761-97d9a822e0d8"
      },
      "execution_count": null,
      "outputs": [
        {
          "output_type": "stream",
          "name": "stdout",
          "text": [
            "*****\n"
          ]
        }
      ]
    },
    {
      "cell_type": "code",
      "source": [],
      "metadata": {
        "id": "jm_irk99o0U0"
      },
      "execution_count": null,
      "outputs": []
    },
    {
      "cell_type": "code",
      "source": [
        "for i in range(10):\n",
        "  print('*'*5, end= '\\n')\n"
      ],
      "metadata": {
        "colab": {
          "base_uri": "https://localhost:8080/"
        },
        "id": "i17i4DUen_-q",
        "outputId": "6113ae3f-1aa3-4a20-8897-46136064cc65"
      },
      "execution_count": null,
      "outputs": [
        {
          "output_type": "stream",
          "name": "stdout",
          "text": [
            "*****\n",
            "*****\n",
            "*****\n",
            "*****\n",
            "*****\n",
            "*****\n",
            "*****\n",
            "*****\n",
            "*****\n",
            "*****\n"
          ]
        }
      ]
    },
    {
      "cell_type": "code",
      "source": [
        "for i in range(10):\n",
        "  print('*'*5)\n"
      ],
      "metadata": {
        "colab": {
          "base_uri": "https://localhost:8080/"
        },
        "id": "ULnICcHdpx3y",
        "outputId": "dae81ab5-8784-473f-f79b-c700f4d68e48"
      },
      "execution_count": null,
      "outputs": [
        {
          "output_type": "stream",
          "name": "stdout",
          "text": [
            "*****\n",
            "*****\n",
            "*****\n",
            "*****\n",
            "*****\n",
            "*****\n",
            "*****\n",
            "*****\n",
            "*****\n",
            "*****\n"
          ]
        }
      ]
    },
    {
      "cell_type": "code",
      "source": [
        "for i in range(1,6):\n",
        "  print(\"*\"*i)"
      ],
      "metadata": {
        "colab": {
          "base_uri": "https://localhost:8080/"
        },
        "id": "LR9o0XDTp1i6",
        "outputId": "28fd76ae-65e7-4bd4-d867-db82ef6b5e29"
      },
      "execution_count": null,
      "outputs": [
        {
          "output_type": "stream",
          "name": "stdout",
          "text": [
            "*\n",
            "**\n",
            "***\n",
            "****\n",
            "*****\n"
          ]
        }
      ]
    },
    {
      "cell_type": "code",
      "source": [
        "x = int(input())\n",
        "for i in range(x,0,-1):\n",
        "  print(i)"
      ],
      "metadata": {
        "id": "qxgpJABDp-di",
        "colab": {
          "base_uri": "https://localhost:8080/"
        },
        "outputId": "9e5d91d5-730c-41df-9507-74b40398f2f0"
      },
      "execution_count": null,
      "outputs": [
        {
          "output_type": "stream",
          "name": "stdout",
          "text": [
            "5\n",
            "5\n",
            "4\n",
            "3\n",
            "2\n",
            "1\n"
          ]
        }
      ]
    },
    {
      "cell_type": "code",
      "source": [
        "x = int(input())\n",
        "for i in range(1,x+1):\n",
        "  \n",
        "  if i in [10,20,30]:\n",
        "    print(i)\n",
        "  else:\n",
        "    print(i, end = '\\t')"
      ],
      "metadata": {
        "colab": {
          "base_uri": "https://localhost:8080/"
        },
        "id": "Bhi0ki_-9Tks",
        "outputId": "63573066-95cc-407e-cc18-14181bc08c4d"
      },
      "execution_count": null,
      "outputs": [
        {
          "output_type": "stream",
          "name": "stdout",
          "text": [
            "30\n",
            "1\t2\t3\t4\t5\t6\t7\t8\t9\t10\n",
            "11\t12\t13\t14\t15\t16\t17\t18\t19\t20\n",
            "21\t22\t23\t24\t25\t26\t27\t28\t29\t30\n"
          ]
        }
      ]
    },
    {
      "cell_type": "code",
      "source": [],
      "metadata": {
        "id": "NPAcKi7aDf1n"
      },
      "execution_count": null,
      "outputs": []
    },
    {
      "cell_type": "code",
      "source": [],
      "metadata": {
        "id": "zwPzrzW2DdtQ"
      },
      "execution_count": null,
      "outputs": []
    },
    {
      "cell_type": "code",
      "source": [
        "x = int(input())\n",
        "for i in range(1,x+1):\n",
        "  \n",
        "  if i % 10 == 0:\n",
        "    print(i)\n",
        "  else:\n",
        "    print(i, end = ' ')"
      ],
      "metadata": {
        "id": "KqH3DrJDDJgi"
      },
      "execution_count": null,
      "outputs": []
    },
    {
      "cell_type": "code",
      "source": [
        "import random"
      ],
      "metadata": {
        "id": "hGnodtJV-cdC"
      },
      "execution_count": null,
      "outputs": []
    },
    {
      "cell_type": "code",
      "source": [
        "randomNumber = random.sample(range(1,46),6)"
      ],
      "metadata": {
        "id": "LazOe286_Kv3"
      },
      "execution_count": null,
      "outputs": []
    },
    {
      "cell_type": "code",
      "source": [],
      "metadata": {
        "id": "CU1RwZ_U_kXd"
      },
      "execution_count": null,
      "outputs": []
    },
    {
      "cell_type": "code",
      "source": [
        "randomNumber"
      ],
      "metadata": {
        "colab": {
          "base_uri": "https://localhost:8080/"
        },
        "id": "HuhYkhQR_XTN",
        "outputId": "a5c9dd11-8d3b-422e-8ae1-76bc2b36c5a0"
      },
      "execution_count": null,
      "outputs": [
        {
          "output_type": "execute_result",
          "data": {
            "text/plain": [
              "[34, 38, 2, 7, 9, 23]"
            ]
          },
          "metadata": {},
          "execution_count": 19
        }
      ]
    },
    {
      "cell_type": "code",
      "source": [
        "much = int(input(\"몇개살것인가\"))\n",
        "\n",
        "for i in range(much):\n",
        "  rotto = random.sample(range(1,46),6)\n",
        "  print(sorted(rotto))"
      ],
      "metadata": {
        "colab": {
          "base_uri": "https://localhost:8080/"
        },
        "id": "b3DNN9Qa_k7o",
        "outputId": "3e5c6b4e-e454-4cb0-8e11-03d37fa5fb37"
      },
      "execution_count": null,
      "outputs": [
        {
          "output_type": "stream",
          "name": "stdout",
          "text": [
            "몇개살것인가5\n",
            "[4, 6, 10, 15, 19, 33]\n",
            "[12, 22, 28, 33, 35, 37]\n",
            "[3, 5, 7, 14, 23, 40]\n",
            "[6, 14, 15, 20, 39, 44]\n",
            "[12, 14, 15, 21, 34, 38]\n"
          ]
        }
      ]
    },
    {
      "cell_type": "code",
      "source": [],
      "metadata": {
        "id": "vaCJqyV_A8sy"
      },
      "execution_count": null,
      "outputs": []
    },
    {
      "cell_type": "code",
      "source": [
        "#dict의 다양한 기능을 활용해 봅시다.\n",
        "\n",
        "#첫째. name dict에서 길동을 삭제하는 코드를 아래에 작성해주세요.\n",
        "\n",
        "\n",
        "#둘째. 철수의 나이 25를 27로 수정하는 코드를 아래에 작성해주세요.\n",
        "name['철수'] = 27\n",
        "\n",
        "#셋째. name dict 전체를 출력하는 코드를 아래에 작성해주세요.\n",
        "\n",
        "print(name)"
      ],
      "metadata": {
        "id": "_1RlgQchA0vz"
      },
      "execution_count": null,
      "outputs": []
    },
    {
      "cell_type": "code",
      "source": [
        "name = {\"길동\" : 20, \"철수\" : 25, \"영희\" : 27}\n"
      ],
      "metadata": {
        "id": "Ud6ZXRlqAqOu"
      },
      "execution_count": null,
      "outputs": []
    },
    {
      "cell_type": "code",
      "source": [
        "del name['길동']"
      ],
      "metadata": {
        "id": "uscDvo3yFqVK"
      },
      "execution_count": null,
      "outputs": []
    },
    {
      "cell_type": "code",
      "source": [
        "name"
      ],
      "metadata": {
        "id": "mjVOSkOKFrFo",
        "outputId": "36f11fcb-5247-49eb-f454-77d8d4438b8a",
        "colab": {
          "base_uri": "https://localhost:8080/"
        }
      },
      "execution_count": null,
      "outputs": [
        {
          "output_type": "execute_result",
          "data": {
            "text/plain": [
              "{'철수': 25, '영희': 27}"
            ]
          },
          "metadata": {},
          "execution_count": 27
        }
      ]
    },
    {
      "cell_type": "code",
      "source": [],
      "metadata": {
        "id": "Ux1Um58cFsKw"
      },
      "execution_count": null,
      "outputs": []
    },
    {
      "cell_type": "code",
      "source": [],
      "metadata": {
        "id": "AUrGxHyN_YDX"
      },
      "execution_count": null,
      "outputs": []
    },
    {
      "cell_type": "code",
      "source": [],
      "metadata": {
        "id": "KRYv5Cye_Vln"
      },
      "execution_count": null,
      "outputs": []
    },
    {
      "cell_type": "code",
      "source": [],
      "metadata": {
        "id": "Jd-Yn2sn-P27"
      },
      "execution_count": null,
      "outputs": []
    },
    {
      "cell_type": "code",
      "source": [],
      "metadata": {
        "id": "Zq14sBLS-Jci"
      },
      "execution_count": null,
      "outputs": []
    },
    {
      "cell_type": "code",
      "source": [],
      "metadata": {
        "id": "5uuj_1PG9-eO"
      },
      "execution_count": null,
      "outputs": []
    },
    {
      "cell_type": "code",
      "source": [],
      "metadata": {
        "id": "0Rzpixh89RdQ"
      },
      "execution_count": null,
      "outputs": []
    },
    {
      "cell_type": "code",
      "source": [],
      "metadata": {
        "id": "BBj0QyJc9QJ1"
      },
      "execution_count": null,
      "outputs": []
    },
    {
      "cell_type": "code",
      "source": [],
      "metadata": {
        "id": "pjVVXh-U9PAQ"
      },
      "execution_count": null,
      "outputs": []
    },
    {
      "cell_type": "code",
      "source": [],
      "metadata": {
        "id": "cMFlTfyb9NYr"
      },
      "execution_count": null,
      "outputs": []
    },
    {
      "cell_type": "code",
      "source": [],
      "metadata": {
        "id": "TvFa93CW8mr1"
      },
      "execution_count": null,
      "outputs": []
    },
    {
      "cell_type": "code",
      "source": [],
      "metadata": {
        "id": "u2Qa-6rLp0kj"
      },
      "execution_count": null,
      "outputs": []
    },
    {
      "cell_type": "code",
      "source": [],
      "metadata": {
        "id": "Qt8IxPTnpwcB"
      },
      "execution_count": null,
      "outputs": []
    },
    {
      "cell_type": "code",
      "source": [],
      "metadata": {
        "id": "QoFK0WdGptVB"
      },
      "execution_count": null,
      "outputs": []
    },
    {
      "cell_type": "code",
      "source": [
        "print('dsfa' \\n)"
      ],
      "metadata": {
        "id": "czixwqGOo_lx"
      },
      "execution_count": null,
      "outputs": []
    },
    {
      "cell_type": "code",
      "source": [
        "print('hello, world! \\n my name is')"
      ],
      "metadata": {
        "colab": {
          "base_uri": "https://localhost:8080/"
        },
        "id": "0EW6BEwipTZE",
        "outputId": "ef037bb2-403f-4b31-df71-97f90c0e76e9"
      },
      "execution_count": null,
      "outputs": [
        {
          "output_type": "stream",
          "name": "stdout",
          "text": [
            "hello, world! \n",
            " my name is\n"
          ]
        }
      ]
    },
    {
      "cell_type": "code",
      "source": [],
      "metadata": {
        "id": "uYPOYKi2pjtB"
      },
      "execution_count": null,
      "outputs": []
    },
    {
      "cell_type": "code",
      "source": [],
      "metadata": {
        "id": "tAXy_YD8piY-"
      },
      "execution_count": null,
      "outputs": []
    },
    {
      "cell_type": "code",
      "source": [],
      "metadata": {
        "id": "uDPjPAaio9Mn"
      },
      "execution_count": null,
      "outputs": []
    },
    {
      "cell_type": "code",
      "source": [],
      "metadata": {
        "id": "49aeDf4joPXu"
      },
      "execution_count": null,
      "outputs": []
    },
    {
      "cell_type": "code",
      "source": [],
      "metadata": {
        "id": "J7GJQPUin6nX"
      },
      "execution_count": null,
      "outputs": []
    },
    {
      "cell_type": "code",
      "source": [],
      "metadata": {
        "id": "zoJgqRevn3Dc"
      },
      "execution_count": null,
      "outputs": []
    },
    {
      "cell_type": "code",
      "source": [],
      "metadata": {
        "id": "Tu-7seTXn1aX"
      },
      "execution_count": null,
      "outputs": []
    },
    {
      "cell_type": "code",
      "source": [],
      "metadata": {
        "id": "oMmN9ebnljf8"
      },
      "execution_count": null,
      "outputs": []
    },
    {
      "cell_type": "code",
      "source": [],
      "metadata": {
        "id": "Srr0Gm0flZnG"
      },
      "execution_count": null,
      "outputs": []
    },
    {
      "cell_type": "code",
      "source": [],
      "metadata": {
        "id": "7xPiaQC7k6ES"
      },
      "execution_count": null,
      "outputs": []
    },
    {
      "cell_type": "code",
      "source": [],
      "metadata": {
        "id": "pPRnH6BEk41M"
      },
      "execution_count": null,
      "outputs": []
    },
    {
      "cell_type": "code",
      "source": [],
      "metadata": {
        "id": "JkguIW18j5jt"
      },
      "execution_count": null,
      "outputs": []
    },
    {
      "cell_type": "code",
      "source": [],
      "metadata": {
        "id": "92UYdSbej4BU"
      },
      "execution_count": null,
      "outputs": []
    },
    {
      "cell_type": "code",
      "source": [],
      "metadata": {
        "id": "RA33A1klj2CB"
      },
      "execution_count": null,
      "outputs": []
    },
    {
      "cell_type": "code",
      "source": [],
      "metadata": {
        "id": "dNriaArVh8JD"
      },
      "execution_count": null,
      "outputs": []
    },
    {
      "cell_type": "code",
      "source": [
        "i"
      ],
      "metadata": {
        "colab": {
          "base_uri": "https://localhost:8080/"
        },
        "id": "5MtZJd2vhVgV",
        "outputId": "897da6d7-114f-4fe3-f86e-3f6ce5dba1be"
      },
      "execution_count": null,
      "outputs": [
        {
          "output_type": "execute_result",
          "data": {
            "text/plain": [
              "10"
            ]
          },
          "metadata": {},
          "execution_count": 45
        }
      ]
    },
    {
      "cell_type": "code",
      "source": [],
      "metadata": {
        "id": "rbyV2WNKf2l3"
      },
      "execution_count": null,
      "outputs": []
    },
    {
      "cell_type": "code",
      "source": [],
      "metadata": {
        "id": "nzmpR-XFfpNH"
      },
      "execution_count": null,
      "outputs": []
    },
    {
      "cell_type": "code",
      "source": [],
      "metadata": {
        "id": "RHiIHYAPaly7"
      },
      "execution_count": null,
      "outputs": []
    },
    {
      "cell_type": "code",
      "source": [],
      "metadata": {
        "id": "lKXu34GHakB1"
      },
      "execution_count": null,
      "outputs": []
    },
    {
      "cell_type": "code",
      "source": [],
      "metadata": {
        "id": "LEuCZ3VKaBk6"
      },
      "execution_count": null,
      "outputs": []
    },
    {
      "cell_type": "code",
      "source": [],
      "metadata": {
        "id": "Fr3rKEt8aAhM"
      },
      "execution_count": null,
      "outputs": []
    },
    {
      "cell_type": "code",
      "source": [],
      "metadata": {
        "id": "0JZziqpYWFDw"
      },
      "execution_count": null,
      "outputs": []
    },
    {
      "cell_type": "code",
      "source": [],
      "metadata": {
        "id": "0Z26kMANS6xQ"
      },
      "execution_count": null,
      "outputs": []
    },
    {
      "cell_type": "code",
      "source": [],
      "metadata": {
        "id": "yCWH0tsBSxji"
      },
      "execution_count": null,
      "outputs": []
    },
    {
      "cell_type": "code",
      "source": [],
      "metadata": {
        "id": "iVvhdCxkSv3m"
      },
      "execution_count": null,
      "outputs": []
    },
    {
      "cell_type": "code",
      "source": [
        "menu['냉면'] = 6000"
      ],
      "metadata": {
        "id": "zV5-Zg6eSD9E"
      },
      "execution_count": null,
      "outputs": []
    },
    {
      "cell_type": "code",
      "source": [],
      "metadata": {
        "id": "IwGrkGvsSnSH"
      },
      "execution_count": null,
      "outputs": []
    },
    {
      "cell_type": "code",
      "source": [
        "menu = { '짜장' : 4000, \"짬뽕\" : 5000, '탕수육' : 9000}"
      ],
      "metadata": {
        "id": "yG5yJgY-Rs0C"
      },
      "execution_count": null,
      "outputs": []
    },
    {
      "cell_type": "code",
      "source": [],
      "metadata": {
        "id": "6j87YbwpSDdw"
      },
      "execution_count": null,
      "outputs": []
    },
    {
      "cell_type": "code",
      "source": [],
      "metadata": {
        "id": "ozcnSbH7QXSs"
      },
      "execution_count": null,
      "outputs": []
    },
    {
      "cell_type": "code",
      "source": [],
      "metadata": {
        "id": "1ax2tbufPqDQ"
      },
      "execution_count": null,
      "outputs": []
    },
    {
      "cell_type": "code",
      "source": [],
      "metadata": {
        "id": "p2KngR5HM6zQ"
      },
      "execution_count": null,
      "outputs": []
    }
  ]
}