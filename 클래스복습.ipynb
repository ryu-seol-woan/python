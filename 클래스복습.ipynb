{
  "nbformat": 4,
  "nbformat_minor": 0,
  "metadata": {
    "colab": {
      "provenance": []
    },
    "kernelspec": {
      "name": "python3",
      "display_name": "Python 3"
    },
    "language_info": {
      "name": "python"
    }
  },
  "cells": [
    {
      "cell_type": "markdown",
      "source": [
        "# 클래스 복습\n",
        "- 우리의 모든 것을 객체화 시킬수 있음\n",
        "- 코드 재사용(개선, 사용, 유지보수가 용이) - 경제적이고, 역량 최소화\n",
        "\n",
        "붕어빵 기계 → 클래스"
      ],
      "metadata": {
        "id": "fdINtkV0dngw"
      }
    },
    {
      "cell_type": "markdown",
      "source": [
        "## 1.1 객체와 인스턴스\n",
        "\n",
        "* 애견샵 클래스 운영 → 진돗개, 리트리버 등\n",
        "* 진돗개 =\n",
        "* 리트리버 = \n",
        "* 이렇게 반복이 계속되면 쉽지 않음\n",
        "* 클래스를 이용하면 애완견의 실체를 클래스화 하면 좋음"
      ],
      "metadata": {
        "id": "xKtOkOaldtjG"
      }
    },
    {
      "cell_type": "code",
      "source": [
        "#class Dog(object):\n",
        "class Dog:\n",
        "  pass"
      ],
      "metadata": {
        "id": "CFNWM2OgdEUQ"
      },
      "execution_count": null,
      "outputs": []
    },
    {
      "cell_type": "code",
      "source": [
        "#틀을만들자\n",
        "\n",
        "class Dog:\n",
        "  species = 'firstdog'\n",
        "\n",
        "  #초기화/인스턴스 속성 \n",
        "\n",
        "  #메서드 = 함수\n",
        "  def __init__(self, name, age):\n",
        "    self.name = name\n",
        "    self.age = age\n",
        "\n",
        "print(Dog)\n",
        "\n",
        "a = Dog('mikky',2)\n",
        "b = Dog('baby',3)"
      ],
      "metadata": {
        "colab": {
          "base_uri": "https://localhost:8080/"
        },
        "id": "u4YV3O0YdEWG",
        "outputId": "9e1b01f9-4a36-4055-856a-910589b7538b"
      },
      "execution_count": 22,
      "outputs": [
        {
          "output_type": "stream",
          "name": "stdout",
          "text": [
            "<class '__main__.Dog'>\n"
          ]
        }
      ]
    },
    {
      "cell_type": "code",
      "source": [
        "# 클래스 변수 - 직접 접근 가능 / 공용으로 사용하는 것\n",
        "# 인스턴스 변수 - 객체마다 별도 존재\n",
        "\n",
        "#인스턴스 속성 확인\n",
        "\n",
        "print(f'{a.name} is {a.age} and {b.name} is {b.age}')"
      ],
      "metadata": {
        "colab": {
          "base_uri": "https://localhost:8080/"
        },
        "id": "3sthcUUZgg2T",
        "outputId": "647d1028-6533-43d8-c8ad-8f0ad8a6f334"
      },
      "execution_count": 23,
      "outputs": [
        {
          "output_type": "stream",
          "name": "stdout",
          "text": [
            "mikky is 2 and baby is 3\n"
          ]
        }
      ]
    },
    {
      "cell_type": "code",
      "source": [
        "# 클래스 변수 - 직접 접근 가능\n",
        "\n",
        "if a.species == 'firstdog':\n",
        "  print(f'{a.name} is a {a.species}')"
      ],
      "metadata": {
        "colab": {
          "base_uri": "https://localhost:8080/"
        },
        "id": "thuuYdwhguN-",
        "outputId": "8fec4103-2bab-41a4-8c4a-ef16c3536666"
      },
      "execution_count": 24,
      "outputs": [
        {
          "output_type": "stream",
          "name": "stdout",
          "text": [
            "mikky is a firstdog\n"
          ]
        }
      ]
    },
    {
      "cell_type": "code",
      "source": [
        "# 이런 형태로도 접근 가능하다. 클래스로도 접근 / 인스턴스화로도 접근가능\n",
        "\n",
        "print(Dog.species)\n",
        "print(a.species)\n",
        "print(b.species)\n",
        "\n",
        "\n",
        "# 사실 이부분이 이해가 되면 클래스가 이해가 된것\n",
        "# 나만의 공간, 나만의 속성, 공유하는 공간, 공유하는 속성에 대해 이해가 되었기를..\n"
      ],
      "metadata": {
        "colab": {
          "base_uri": "https://localhost:8080/"
        },
        "id": "U4KzzkZzg6Ql",
        "outputId": "7712680f-a8ad-45cb-ad82-8796a639bde1"
      },
      "execution_count": 25,
      "outputs": [
        {
          "output_type": "stream",
          "name": "stdout",
          "text": [
            "firstdog\n",
            "firstdog\n",
            "firstdog\n"
          ]
        }
      ]
    },
    {
      "cell_type": "code",
      "source": [
        "#클래스 변수, 인스턴스 변수\n",
        "\n",
        "class Warehouse:\n",
        "  stock_num = 0\n",
        "\n",
        "  def __init__(self, name):\n",
        "    self.name = name\n",
        "    Warehouse.stock_num += 1\n",
        "\n",
        "  def __del__(self):\n",
        "    Warehouse.stock_num -= 1\n",
        "\n",
        "user1 = Warehouse('Lee')\n",
        "user2 = Warehouse('Kim')\n",
        "user3 = Warehouse('rim')"
      ],
      "metadata": {
        "id": "ZsEag0AHhHXf"
      },
      "execution_count": 1,
      "outputs": []
    },
    {
      "cell_type": "code",
      "source": [],
      "metadata": {
        "id": "DStIEOMciJRY"
      },
      "execution_count": null,
      "outputs": []
    },
    {
      "cell_type": "code",
      "source": [],
      "metadata": {
        "id": "jTx_MA0Oh6O6"
      },
      "execution_count": null,
      "outputs": []
    },
    {
      "cell_type": "code",
      "source": [
        "print(user1.name)"
      ],
      "metadata": {
        "colab": {
          "base_uri": "https://localhost:8080/"
        },
        "id": "HCfLItP2hipQ",
        "outputId": "085f0fcd-0c1e-422a-cf03-0886a11a0fd4"
      },
      "execution_count": 27,
      "outputs": [
        {
          "output_type": "stream",
          "name": "stdout",
          "text": [
            "Lee\n"
          ]
        }
      ]
    },
    {
      "cell_type": "code",
      "source": [
        "print(user2.name)"
      ],
      "metadata": {
        "colab": {
          "base_uri": "https://localhost:8080/"
        },
        "id": "36LeUAqrhqdA",
        "outputId": "34e6123c-2044-4f41-bcd5-49c0d1d291a6"
      },
      "execution_count": 28,
      "outputs": [
        {
          "output_type": "stream",
          "name": "stdout",
          "text": [
            "Kim\n"
          ]
        }
      ]
    },
    {
      "cell_type": "code",
      "source": [
        "print(Warehouse.__dict__)"
      ],
      "metadata": {
        "colab": {
          "base_uri": "https://localhost:8080/"
        },
        "id": "Y1hM-mwohrxn",
        "outputId": "90eae9ea-bcfd-4ecc-f201-9a75797109f2"
      },
      "execution_count": 29,
      "outputs": [
        {
          "output_type": "stream",
          "name": "stdout",
          "text": [
            "{'__module__': '__main__', 'stock_num': 2, '__init__': <function Warehouse.__init__ at 0x7f33c47bfeb0>, '__del__': <function Warehouse.__del__ at 0x7f33c47bfa30>, '__dict__': <attribute '__dict__' of 'Warehouse' objects>, '__weakref__': <attribute '__weakref__' of 'Warehouse' objects>, '__doc__': None}\n"
          ]
        }
      ]
    },
    {
      "cell_type": "code",
      "source": [
        "print(Warehouse.stock_num)"
      ],
      "metadata": {
        "colab": {
          "base_uri": "https://localhost:8080/"
        },
        "id": "a1cQIKPkhvay",
        "outputId": "ff777a30-c9ab-4fcc-a352-0905dda44b4c"
      },
      "execution_count": 2,
      "outputs": [
        {
          "output_type": "stream",
          "name": "stdout",
          "text": [
            "3\n"
          ]
        }
      ]
    },
    {
      "cell_type": "code",
      "source": [
        "del user1"
      ],
      "metadata": {
        "id": "-b9n7yIfh62O"
      },
      "execution_count": 3,
      "outputs": []
    },
    {
      "cell_type": "code",
      "source": [
        "print(Warehouse.stock_num)"
      ],
      "metadata": {
        "colab": {
          "base_uri": "https://localhost:8080/"
        },
        "id": "6aWqmUNciMEx",
        "outputId": "38caba96-8e4f-4161-b1e5-922105be97a0"
      },
      "execution_count": 4,
      "outputs": [
        {
          "output_type": "stream",
          "name": "stdout",
          "text": [
            "2\n"
          ]
        }
      ]
    },
    {
      "cell_type": "code",
      "source": [
        "#예제 3 - return의 사용과 self가 아닌 변수\n",
        "\n",
        "class Dog:\n",
        "  species = 'firstdog'\n",
        "\n",
        "  #초기화/인스턴스 속성\n",
        "\n",
        "  def __init__(self, name, age):\n",
        "    self.name = name\n",
        "    self.age = age\n",
        "\n",
        "  def info(self):\n",
        "    return f'{self.name}은 {self.age}살이에요'\n",
        "  def speak(self, sound):\n",
        "    return f'{self.name}은 {sound} 소리를 내요'"
      ],
      "metadata": {
        "id": "8a-8LgIgh09G"
      },
      "execution_count": 5,
      "outputs": []
    },
    {
      "cell_type": "code",
      "source": [
        "#인스턴스 생성\n",
        "c = Dog('July', 4)\n",
        "d = Dog('Dorri', 10)"
      ],
      "metadata": {
        "id": "p5whLh7Cig89"
      },
      "execution_count": 6,
      "outputs": []
    },
    {
      "cell_type": "code",
      "source": [
        "c.info()"
      ],
      "metadata": {
        "colab": {
          "base_uri": "https://localhost:8080/",
          "height": 35
        },
        "id": "SsdOeSAOirzK",
        "outputId": "a11301dd-5cd7-465e-b1dc-702b08dd162f"
      },
      "execution_count": 8,
      "outputs": [
        {
          "output_type": "execute_result",
          "data": {
            "text/plain": [
              "'July은 4살이에요'"
            ],
            "application/vnd.google.colaboratory.intrinsic+json": {
              "type": "string"
            }
          },
          "metadata": {},
          "execution_count": 8
        }
      ]
    },
    {
      "cell_type": "code",
      "source": [
        "c.age"
      ],
      "metadata": {
        "colab": {
          "base_uri": "https://localhost:8080/"
        },
        "id": "tVIpv-QYllUt",
        "outputId": "6cfe1e09-7c42-423a-d2c1-3227cee191fc"
      },
      "execution_count": 9,
      "outputs": [
        {
          "output_type": "execute_result",
          "data": {
            "text/plain": [
              "4"
            ]
          },
          "metadata": {},
          "execution_count": 9
        }
      ]
    },
    {
      "cell_type": "code",
      "source": [
        "c.speak('멍')"
      ],
      "metadata": {
        "colab": {
          "base_uri": "https://localhost:8080/",
          "height": 35
        },
        "id": "yxWSlXEClrjd",
        "outputId": "dff0fc90-def9-40e3-adc8-154a1cb06749"
      },
      "execution_count": 10,
      "outputs": [
        {
          "output_type": "execute_result",
          "data": {
            "text/plain": [
              "'July은 멍 소리를 내요'"
            ],
            "application/vnd.google.colaboratory.intrinsic+json": {
              "type": "string"
            }
          },
          "metadata": {},
          "execution_count": 10
        }
      ]
    },
    {
      "cell_type": "code",
      "source": [
        "class FishCakeMaker:\n",
        "  def __init__(self, param):\n",
        "    pass\n",
        "\n",
        "fish = FishCakeMaker('붕어빵')"
      ],
      "metadata": {
        "id": "nk6_sQr5ls9N"
      },
      "execution_count": 11,
      "outputs": []
    },
    {
      "cell_type": "code",
      "source": [
        "# 예제 2. 추가적인 정보\n",
        "\n",
        "class FishCakeMaker:\n",
        "\n",
        "  def __init__(self, param): #클래스가 최초 생성될때 호출됨\n",
        "    pass #self는 FishCakeMaker에 속한 것\n",
        "\n",
        "  def show_name(self): # 만약 self가 없으면 파이썬은 구별 할 수 없음\n",
        "    print('A')\n",
        "\n",
        "# 이러한 구문이 있을 경우\n",
        "def show_name():\n",
        "  print('A')\n",
        "\n",
        "# 바깥의 함수와 안에 있는 클래스 안에 메서드를 구별하기 힘들기 때문에 \n",
        "# 꼭 self를 붙여야 FishCakeMaker안에 있는 \n",
        "# show_name()이라는 것을 인식한다.\n"
      ],
      "metadata": {
        "id": "J0ErUGm-l6E-"
      },
      "execution_count": null,
      "outputs": []
    },
    {
      "cell_type": "code",
      "source": [
        "class FishCakeMaker:\n",
        "  def __init__(self, **kwargs):\n",
        "\n",
        "    self.size = 10\n",
        "    self.flavor = '팥'\n",
        "    self.price = 1000\n",
        "\n",
        "\n",
        "    if 'size' in kwargs:\n",
        "      self.size = kwargs.get('size')\n",
        "    if 'flavor' in kwargs:\n",
        "      self.flavor = kwargs.get('flavor')\n",
        "    if 'price' in kwargs:\n",
        "      self.price = kwargs.get('price')\n",
        "    \n",
        "  def show(self):\n",
        "\n",
        "    print(f'종류 {self.flavor}')\n",
        "    print(f'크기 {self.size}')\n",
        "    print(f'가격 {self.price}')\n",
        "\n",
        "fish1 = FishCakeMaker()\n",
        "fish2 = FishCakeMaker(size = 20, price = 2000)\n",
        "fish3 = FishCakeMaker(size = 20, price = 3000, flavor = \"피자\")\n",
        "\n",
        "fish1.show()\n",
        "fish2.show()\n",
        "fish3.show()\n"
      ],
      "metadata": {
        "colab": {
          "base_uri": "https://localhost:8080/"
        },
        "id": "8y1Jc_Felkjz",
        "outputId": "cf7e4b69-498f-4abc-9b6e-d3685aa3b653"
      },
      "execution_count": 12,
      "outputs": [
        {
          "output_type": "stream",
          "name": "stdout",
          "text": [
            "종류 팥\n",
            "크기 10\n",
            "가격 1000\n",
            "종류 팥\n",
            "크기 20\n",
            "가격 2000\n",
            "종류 피자\n",
            "크기 20\n",
            "가격 3000\n"
          ]
        }
      ]
    },
    {
      "cell_type": "code",
      "source": [
        "# 함수와 클래스의 코드 차이점\n",
        "\n",
        "def add(num1, num2):\n",
        "    return num1 + num2\n",
        "\n",
        "def subtract(num1, num2):\n",
        "    return num1 - num2\n",
        "\n",
        "def multiply(num1, num2):\n",
        "    return num1 * num2\n",
        "\n",
        "def divide(num1, num2):\n",
        "    if num2 != 0:\n",
        "        return num1 / num2\n",
        "    else:\n",
        "        print(\"0으로 나눌 수 없습니다.\")\n",
        "\n",
        "# 사용자로부터 두 개의 숫자 입력 받기\n",
        "number1 = float(input(\"첫 번째 숫자를 입력하세요: \"))\n",
        "number2 = float(input(\"두 번째 숫자를 입력하세요: \"))\n",
        "\n",
        "# 덧셈\n",
        "result = add(number1, number2)\n",
        "print(\"덧셈 결과:\", result)\n",
        "\n",
        "# 뺄셈\n",
        "result = subtract(number1, number2)\n",
        "print(\"뺄셈 결과:\", result)\n",
        "\n",
        "# 곱셈\n",
        "result = multiply(number1, number2)\n",
        "print(\"곱셈 결과:\", result)\n",
        "\n",
        "# 나눗셈\n",
        "divide(number1, number2)\n",
        "\n",
        "\n"
      ],
      "metadata": {
        "colab": {
          "base_uri": "https://localhost:8080/"
        },
        "id": "YyDBol_QnHTS",
        "outputId": "ea35d0fd-a661-498c-d89f-ebde64490d10"
      },
      "execution_count": 13,
      "outputs": [
        {
          "output_type": "stream",
          "name": "stdout",
          "text": [
            "첫 번째 숫자를 입력하세요: 5\n",
            "두 번째 숫자를 입력하세요: 5\n",
            "덧셈 결과: 10.0\n",
            "뺄셈 결과: 0.0\n",
            "곱셈 결과: 25.0\n"
          ]
        },
        {
          "output_type": "execute_result",
          "data": {
            "text/plain": [
              "1.0"
            ]
          },
          "metadata": {},
          "execution_count": 13
        }
      ]
    },
    {
      "cell_type": "code",
      "source": [
        "#아래에 요구사항에 맞는 파이썬 클래스 예제를 제시합니다:\n",
        "\n",
        "class Operation:\n",
        "  def __init__(self, num1, num2):\n",
        "    self.num1 = num1\n",
        "    self.num2 = num2\n",
        "\n",
        "  \n",
        "  def add(self):\n",
        "    return self.num1 + self.num2\n",
        "  \n",
        "  def sub(self):\n",
        "    return self.num1 - self.num2\n",
        "  \n",
        "  def mul(self):\n",
        "    return self.num1 * self.num2\n",
        "\n",
        "  def divide(self):\n",
        "    if self.num2 != 0:\n",
        "      return self.num1 / self.num2\n",
        "\n",
        "    else:\n",
        "      print('0으로 나눌 수 없습니다')\n",
        "\n",
        "\n",
        "num1 = float(input('첫번째 숫자'))\n",
        "num2 = float(input('두번째 숫자'))\n",
        "\n",
        "operation = Operation(num1, num2)\n",
        "\n",
        "# 덧셈 결과 출력\n",
        "add_result = operation.add()\n",
        "print(\"덧셈 결과:\", add_result)\n",
        "\n",
        "# 뺄셈 결과 출력\n",
        "subtract_result = operation.subtract()\n",
        "print(\"뺄셈 결과:\", subtract_result)\n",
        "\n",
        "# 곱셈 결과 출력\n",
        "multiply_result = operation.multiply()\n",
        "print(\"곱셈 결과:\", multiply_result)\n",
        "\n",
        "# 나눗셈 결과 출력\n",
        "operation.divide()\n"
      ],
      "metadata": {
        "colab": {
          "base_uri": "https://localhost:8080/",
          "height": 303
        },
        "id": "briWatVOnQpv",
        "outputId": "8ae85679-ebb5-44f0-af3a-e83f04be7e52"
      },
      "execution_count": 14,
      "outputs": [
        {
          "output_type": "stream",
          "name": "stdout",
          "text": [
            "첫번째 숫자5\n",
            "두번째 숫자5\n",
            "덧셈 결과: 10.0\n"
          ]
        },
        {
          "output_type": "error",
          "ename": "AttributeError",
          "evalue": "ignored",
          "traceback": [
            "\u001b[0;31m---------------------------------------------------------------------------\u001b[0m",
            "\u001b[0;31mAttributeError\u001b[0m                            Traceback (most recent call last)",
            "\u001b[0;32m<ipython-input-14-f22dea784328>\u001b[0m in \u001b[0;36m<cell line: 36>\u001b[0;34m()\u001b[0m\n\u001b[1;32m     34\u001b[0m \u001b[0;34m\u001b[0m\u001b[0m\n\u001b[1;32m     35\u001b[0m \u001b[0;31m# 뺄셈 결과 출력\u001b[0m\u001b[0;34m\u001b[0m\u001b[0;34m\u001b[0m\u001b[0m\n\u001b[0;32m---> 36\u001b[0;31m \u001b[0msubtract_result\u001b[0m \u001b[0;34m=\u001b[0m \u001b[0moperation\u001b[0m\u001b[0;34m.\u001b[0m\u001b[0msubtract\u001b[0m\u001b[0;34m(\u001b[0m\u001b[0;34m)\u001b[0m\u001b[0;34m\u001b[0m\u001b[0;34m\u001b[0m\u001b[0m\n\u001b[0m\u001b[1;32m     37\u001b[0m \u001b[0mprint\u001b[0m\u001b[0;34m(\u001b[0m\u001b[0;34m\"뺄셈 결과:\"\u001b[0m\u001b[0;34m,\u001b[0m \u001b[0msubtract_result\u001b[0m\u001b[0;34m)\u001b[0m\u001b[0;34m\u001b[0m\u001b[0;34m\u001b[0m\u001b[0m\n\u001b[1;32m     38\u001b[0m \u001b[0;34m\u001b[0m\u001b[0m\n",
            "\u001b[0;31mAttributeError\u001b[0m: 'Operation' object has no attribute 'subtract'"
          ]
        }
      ]
    },
    {
      "cell_type": "code",
      "source": [
        "# 메서드란?\n",
        "\n",
        "메서드는 클래스 내부에 정의한 함수로, 클래스 안에 여러개를 만들수 있음, \n",
        "* 메서드가 일반 함수와 다른점은 전달값 부분에 첫번째로 self를 넣는다는 점 \n",
        "* 메서드 안에서 self.로 인스턴스 변수에 접근할 수 있음"
      ],
      "metadata": {
        "id": "JxAWXyq5pECn"
      },
      "execution_count": null,
      "outputs": []
    },
    {
      "cell_type": "code",
      "source": [
        "class pokamon_select_update:\n",
        "  def __init__(self, name, hp, damage):\n",
        "    self.name = name\n",
        "    self.hp = hp\n",
        "    self.damage = damage\n",
        "\n",
        "  def attack(self, who):\n",
        "      print(who, '를 공격합니다', self.damage, '만큼 데미지를 입혔습니다 ') #self에 영향을 받는게 있으면 self를 사용하고, 변수명에도 self를 적용시킨다.\n",
        "\n",
        "pokamon_1 = pokamon_select_update('피카츄', 40, 5)\n",
        "pokamon_1.attack('파이리')"
      ],
      "metadata": {
        "colab": {
          "base_uri": "https://localhost:8080/"
        },
        "id": "ElefPXqJnTkz",
        "outputId": "6bb0ed6e-12e2-403b-ae32-8c1b675296ee"
      },
      "execution_count": 17,
      "outputs": [
        {
          "output_type": "stream",
          "name": "stdout",
          "text": [
            "파이리 를 공격합니다 5 만큼 데미지를 입혔습니다 \n"
          ]
        }
      ]
    },
    {
      "cell_type": "code",
      "source": [
        "## 정적 메서드란?\n",
        "\n",
        "# 다음과 같이 메서드 위에 @staticmethod 을 붙이고, 매개변수에 self를 지정하지 않는다.\n",
        "# @는 데코레이터 -> 설명 필요"
      ],
      "metadata": {
        "id": "S0xg2jnlqNnR"
      },
      "execution_count": 18,
      "outputs": []
    },
    {
      "cell_type": "code",
      "source": [
        "class Calc:\n",
        "    @staticmethod\n",
        "    def add(a, b):\n",
        "        print(a + b)\n",
        " \n",
        "    @staticmethod\n",
        "    def mul(a, b):\n",
        "        print(a * b)\n",
        " \n",
        "Calc.add(10, 20)    # 클래스에서 바로 메서드 호출\n",
        "Calc.mul(10, 20)    # 클래스에서 바로 메서드 호출\n",
        "\n",
        "# 정잭 메서드는 self를 받지 않으므로 인스턴스 속성에는 접근할 수 없음"
      ],
      "metadata": {
        "colab": {
          "base_uri": "https://localhost:8080/"
        },
        "id": "n9JdMW7UqQpP",
        "outputId": "788729ce-1bf6-4e4e-ad2d-8b93f0f06ece"
      },
      "execution_count": 19,
      "outputs": [
        {
          "output_type": "stream",
          "name": "stdout",
          "text": [
            "30\n",
            "200\n"
          ]
        }
      ]
    },
    {
      "cell_type": "code",
      "source": [
        "## 클래스 메서드란?\n",
        "\n",
        "클래스 메서드는 다음과 같이 메서드 위에 @classmethod를 붙인다. \n",
        "이때 클래스 매서드에는 cls를 지정합니다. -> cls는 class에서 따옴"
      ],
      "metadata": {
        "colab": {
          "base_uri": "https://localhost:8080/",
          "height": 137
        },
        "id": "Q1KjA_Pcqn90",
        "outputId": "3f65d2e5-6bde-405d-d727-b2552481e835"
      },
      "execution_count": 20,
      "outputs": [
        {
          "output_type": "error",
          "ename": "SyntaxError",
          "evalue": "ignored",
          "traceback": [
            "\u001b[0;36m  File \u001b[0;32m\"<ipython-input-20-aa15f0c3b07c>\"\u001b[0;36m, line \u001b[0;32m3\u001b[0m\n\u001b[0;31m    클래스 메서드는 다음과 같이 메서드 위에 @classmethod를 붙인다.\u001b[0m\n\u001b[0m        ^\u001b[0m\n\u001b[0;31mSyntaxError\u001b[0m\u001b[0;31m:\u001b[0m invalid syntax\n"
          ]
        }
      ]
    },
    {
      "cell_type": "code",
      "source": [
        "class Person:\n",
        "    count = 0    # 클래스 속성\n",
        "\n",
        "    def __init__(self):\n",
        "        Person.count += 1    # 인스턴스가 만들어질 때\n",
        "                             # 클래스 속성 count에 1을 더함\n",
        " \n",
        "    @classmethod\n",
        "    def print_count(cls): # cls = Person\n",
        "        print('{0}명 생성되었습니다.'.format(cls.count))    # cls로 클래스 속성에 접근"
      ],
      "metadata": {
        "id": "rVm9dgJYqrYA"
      },
      "execution_count": 21,
      "outputs": []
    },
    {
      "cell_type": "code",
      "source": [
        "james = Person()\n",
        "maria = Person()\n",
        " \n",
        "Person.print_count()    # 2명 생성되었습니다."
      ],
      "metadata": {
        "id": "MkDjtZK0qtzT"
      },
      "execution_count": null,
      "outputs": []
    },
    {
      "cell_type": "code",
      "source": [
        "# cls가 사용되는 순간 현재 class의 클래스 속성에 count에 접근할 수 있음\n",
        "# 그래서 print_count 메서드를 호출하면 ~명이 생성되었습니다. 이 출력\n",
        "# Person,print_count()가 그 결과\n",
        "\n",
        "# 클래스 메서드는 정적 메서드 처럼 인스턴스 없이 호출 가능\n",
        "\n",
        "# 그러나 클래스 메서드는 메서드 안에서 클래스 속성이나 클래스 메서드에 접근할때 사용됨\n",
        "# cls는 가장 중요한 부분인데 메서드 안에서 현재 클래스의 인스턴스를 만들수도 있음"
      ],
      "metadata": {
        "id": "pVoIKV9jrCQb"
      },
      "execution_count": null,
      "outputs": []
    },
    {
      "cell_type": "code",
      "source": [
        "class Person:\n",
        "    count = 0    # 클래스 속성\n",
        " \n",
        "    def __init__(self):\n",
        "        Person.count += 1    # 인스턴스가 만들어질 때\n",
        "                             # 클래스 속성 count에 1을 더함\n",
        " \n",
        "    @classmethod\n",
        "    def print_count(cls):\n",
        "        print('{0}명 생성되었습니다.'.format(cls.count))    # cls로 클래스 속성에 접근\n",
        "     \n",
        "     \n",
        "    @classmethod\n",
        "    def create(cls):\n",
        "        p = cls()    # cls()로 인스턴스 생성 = Person\n",
        "        return p\n",
        "        \n",
        " \n",
        "james = Person()\n",
        "maria = Person()\n",
        "Person.print_count()    # 2명 생성되었습니다."
      ],
      "metadata": {
        "id": "HFY40R7AqHhw"
      },
      "execution_count": null,
      "outputs": []
    },
    {
      "cell_type": "code",
      "source": [
        "# 비공개 속성\n",
        "\n",
        "# 클래스 바깥에서는 접근할 수 없고 클래스 내에서만 사용하는 속성으로\n",
        "# 고객이 중요하게 생각하는 정보 요즘 같이 인터넷뱅킹, 스마트뱅킹, 비트코인지갑 등이 많은 이때에는 \n",
        "# 더더욱이 잔액관리가 중요합니다.\n",
        "\n",
        "# 이러한 정보를 사용하는 방법은 속성이름 앞에 __속성명 으로 사용하면 됩니다."
      ],
      "metadata": {
        "id": "r-y6ErNuqEmk"
      },
      "execution_count": null,
      "outputs": []
    },
    {
      "cell_type": "code",
      "source": [
        "# 비공개 속성 실습\n",
        "\n",
        "class Person:\n",
        "    def __init__(self, name, age, address, wallet):\n",
        "        self.name = name\n",
        "        self.age = age\n",
        "        self.address = address\n",
        "        self.__wallet = wallet    # 변수 앞에 __를 붙여서 비공개 속성으로 만듦\n",
        " \n",
        "    def pay(self, amount):\n",
        "        self.__wallet -= amount   # 비공개 속성은 클래스 안의 메서드에서만 접근할 수 있음\n",
        "        print(amount, '원을 출금하여', self.__wallet, '원 남았네요.')\n",
        " \n",
        "maria = Person('마리아', 20, '서울시 서초구 반포동', 10000)\n",
        "maria.pay(3000)"
      ],
      "metadata": {
        "id": "ApFqXjkphLd8"
      },
      "execution_count": null,
      "outputs": []
    },
    {
      "cell_type": "code",
      "source": [
        "# 일반 속성은 제대로 불러와짐\n",
        "maria.name"
      ],
      "metadata": {
        "id": "parCQv4GhLcE"
      },
      "execution_count": null,
      "outputs": []
    },
    {
      "cell_type": "code",
      "source": [
        "# 비공개 속성은 불러올수가 없음\n",
        "maria.__wallet\n",
        "maria.wallet"
      ],
      "metadata": {
        "id": "yxYFT9w2hLaJ"
      },
      "execution_count": null,
      "outputs": []
    },
    {
      "cell_type": "code",
      "source": [
        "#(참고) 속성뿐만 아니라 메서드도 이름이 __로 시작되면 바깥에서 호출이 불가\n",
        "\n",
        "class Person:\n",
        "    def __greeting(self):\n",
        "        print('Hello')\n",
        " \n",
        "    def hello(self):\n",
        "        self.__greeting()    # 클래스 안에서는 비공개 메서드를 호출할 수 있음\n",
        " \n",
        "james = Person()\n",
        "james.__greeting()    # 에러: 클래스 바깥에서는 비공개 메서드를 호출할 수 없음"
      ],
      "metadata": {
        "id": "2m96rBXThLX6"
      },
      "execution_count": null,
      "outputs": []
    },
    {
      "cell_type": "code",
      "source": [
        "## 4.9 어떤 클래스의 인스턴스 인가?\n",
        "\n",
        "# 일단 객체(인스턴스)가 어떤 클래스로 부터 만들어졌는지 확인할 수 있게 isinstance()함수를 제공합니다. \n",
        "# isinstance()함수는 첫번째 매개변수에 객체(인스턴스), 두번째매개변수에 클래스를 입력합니다.\n",
        "\n",
        "# isinstance(인스턴스, 클래스)"
      ],
      "metadata": {
        "id": "r6KYDNhTdEYX"
      },
      "execution_count": null,
      "outputs": []
    },
    {
      "cell_type": "code",
      "source": [
        "class pokemon_select:\n",
        "  def __init__(self, name, hp, attack, defense, s_attack, s_defense, speed):\n",
        "    # 메서드에 정의한 변수는 인스턴스 변수\n",
        "    self.name = name \n",
        "    self.hp = hp\n",
        "    self.defense = defense\n",
        "    self.s_attack = s_attack\n",
        "    self.s_defense = s_defense\n",
        "    self.speed = speed\n",
        "    print(f\"{self.name}을 생성했습니다.\")\n",
        "    print(f\"체력은 {self.hp}, 공격력은 {self.defense}, 방어력은 {self.defense}, 특수공격은 {self.s_attack}, 특수방어는 {self.s_defense}, 민첩성은 {self.speed} 입니다.\")"
      ],
      "metadata": {
        "id": "aEmdxNCMrWAr"
      },
      "execution_count": null,
      "outputs": []
    },
    {
      "cell_type": "markdown",
      "source": [],
      "metadata": {
        "id": "pREG78bRrp-I"
      }
    },
    {
      "cell_type": "code",
      "source": [
        "# 다시 만들어 볼까요??\n",
        "# 더이상 변수명은 많이 안만들어도 되고 일일히 수정하지 않아도되요^^\n",
        "\n",
        "pikachu_025 = pokemon_select(\"피카츄\", 35, 55, 40, 50, 50, 90)\n",
        "charmander_004 = pokemon_select(\"파이리\", 35, 52, 43, 60, 50, 65)\n",
        "squirtle_007 = pokemon_select(\"꼬부기\", 44, 48, 65, 50, 64, 43)"
      ],
      "metadata": {
        "id": "h8KdaxbGrV9z"
      },
      "execution_count": null,
      "outputs": []
    },
    {
      "cell_type": "code",
      "source": [
        "# 6.2 차량 등록기 클래스 생성\n",
        "\n",
        "1. 총 주차 가능 대수인 capacity는 객체를 생성할때 전달받아 인스턴스 변수로 정의\n",
        "2. 현재 등록된 차량을 관리하는 count는 객체를 생성하여 0으로 정의\n",
        "3. 객체를 생성할때 등록 가능한 대수 출력\n",
        "4. 차를 신규 등록하는 register()메서드 생성\n",
        "5. 신규 등록시 등록 현황을 출력\n",
        "6. 총 주차가능대수가 초과할 경우 “등록할 수 없습니다.” 메세지 출력"
      ],
      "metadata": {
        "id": "L3awAiIIrV69"
      },
      "execution_count": null,
      "outputs": []
    },
    {
      "cell_type": "code",
      "source": [
        "class ParkingManager:\n",
        "  # 주차정보 초기화\n",
        "  def __init__(self, capacity):\n",
        "    self.capacity = capacity # 총 주차 가능 대수\n",
        "    self.count = 0 #현재 등록된 차량수\n",
        "    print(f\"총 {capacity}대를 등록할 수 있어요\")\n",
        "  # 신규 차량 등록\n",
        "  def register(self):\n",
        "    if self.count >= self.capacity: #5\n",
        "      print(\"모두 등록되었어요...\")\n",
        "      return \n",
        "    self.count += 1\n",
        "    print(f'신규 차량이 등록되었습니다. ({self.count}/{self.capacity})')\n",
        "\n",
        "#테스트\n",
        "\n",
        "manager = ParkingManager(5)\n",
        "for i in range(6):\n",
        "  manager.register()\n",
        "\n"
      ],
      "metadata": {
        "id": "vUJIyC_3rwUf"
      },
      "execution_count": null,
      "outputs": []
    },
    {
      "cell_type": "code",
      "source": [
        "## 6.3 부동산 프로그램 클래스로 만들기 - 공인중계사용\n",
        "\n",
        "1. self 생성자로 인스턴스 변수를 정의합니다.\n",
        "2. 매물정보를 표시하는 show_detail에서는 인스턴스 변수를 출력하여 부동산 정보를 표시하게 합니다.\n",
        "3. 네이버 부동산/생각해서 자신이 관심있는 매물 3가지의 정보를 받아 몇가지 매물이 있는 지 확인하고, 각 부동산 정보를 출력합니다."
      ],
      "metadata": {
        "id": "oEpussxCrwRU"
      },
      "execution_count": null,
      "outputs": []
    },
    {
      "cell_type": "code",
      "source": [
        "class RealEstate:\n",
        "    def __init__(self, address, price, rooms):\n",
        "        self.address = address\n",
        "        self.price = price\n",
        "        self.rooms = rooms\n",
        "    \n",
        "    def show_detail(self):\n",
        "        print(\"주소:\", self.address)\n",
        "        print(\"가격:\", self.price)\n",
        "        print(\"방수:\", self.rooms)\n",
        "\n",
        "# 부동산 정보 입력\n",
        "property1 = RealEstate(\"서울시 강남구 A동 101호\", \"10억원\", 3)\n",
        "property2 = RealEstate(\"서울시 강북구 B동 202호\", \"5억원\", 2)\n",
        "property3 = RealEstate(\"서울시 송파구 C동 303호\", \"7억원\", 4)\n",
        "\n",
        "# 부동산 정보 출력\n",
        "property1.show_detail()\n",
        "print(\"---------------------\")\n",
        "property2.show_detail()\n",
        "print(\"---------------------\")\n",
        "property3.show_detail()"
      ],
      "metadata": {
        "id": "M2KQ4YI7rwOO"
      },
      "execution_count": null,
      "outputs": []
    },
    {
      "cell_type": "code",
      "source": [
        "class House:\n",
        "  #매출 초기화 : 위치, 건물종류 , 매물종류, 가격, 준공연도\n",
        "  def __init__(self, location, house_type, deal_type, price, completion_year):\n",
        "    self.location = location\n",
        "    self.house_type = house_type\n",
        "    self.deal_type = deal_type\n",
        "    self.price = price\n",
        "    self.completion_year = completion_year\n",
        "\n",
        "  #매출 정보 표시\n",
        "  def show_detail(self):\n",
        "    print(self.location, self.house_type, self.deal_type, self.price, self.completion_year)\n",
        "\n",
        "houses = []\n",
        "house1 = House(\"강남\", \"아파트\", \"매매\", \"10.5억\", \"2010년\")\n",
        "house2 = House(\"강남\", \"빌라\", \"전세\", \"12.5억\", \"2015년\")\n",
        "house3 = House(\"강남\", \"빌라\", \"전세\", \"12.5억\", \"2015년\")\n",
        "\n",
        "houses.append(house1)\n",
        "houses.append(house2)\n",
        "houses.append(house3)\n",
        "\n",
        "print(f\"총 {len(houses)} 개의 매물이 있습니다.\")\n",
        "\n",
        "for house in houses:"
      ],
      "metadata": {
        "id": "p9Z_a5S6rwLS"
      },
      "execution_count": null,
      "outputs": []
    },
    {
      "cell_type": "code",
      "source": [
        "이제 클래스의 기초가 끝났습니다 ㅎㅎ\n",
        "\n",
        "상속은 어떤 클래스가 다른 클래스의 성질을 물려받는것.\n",
        "유산을 상속 받는것과 동일하다고 생각하며 됨\n",
        "\n",
        "어떤 클래스를 만들때 처음부터 다른 클래스로 부터 상속받게 만들면 좀더 쓸만한 클래스를 만들수 있음\n",
        "\n",
        "* 기능을 물려줌 - base class(기반 클래스) - 부모 클래스, 슈퍼클래스\n",
        "* 상속을 받아 새롭게 만듬 - derived class(파생 클래스) - 자식 클래스, 서브 클래스\n",
        "\n",
        "[상속을 사용하는 이유]\n",
        "\n",
        "* 결국 기존 기능을 재사용하고, 중복되는 기능을 만들지 않아도 되기 때문"
      ],
      "metadata": {
        "id": "BoE6v3RXrwE8"
      },
      "execution_count": null,
      "outputs": []
    },
    {
      "cell_type": "code",
      "source": [
        "# 기본 문법\n",
        "\n",
        "# inheritance 상속\n",
        "\n",
        "class Person(object):\n",
        "  pass\n",
        "\n",
        "# class라는 예약어 다음에 클래스명으로 Person을 쓰고, \n",
        "# ()안에 object를 입력하였다.\n",
        "# 여기서 object가 바로 부모 클래스이다.\n",
        "\n",
        "# 사실 object는 파이썬에서 사용하는 \n",
        "# 가장 기본 객체(base object - 기반 객체라고도 함)\n",
        "# 파이썬 언어는 객체지향 프로그래밍을 모든 변수는 객체이다.\n",
        "\n",
        "# 예를 들어 파이썬의 문자열 형 변수에 대해 다음과 같이 객체 이름을 확인할 수 있다.\n",
        "\n",
        "a = 'abc'\n",
        "type(a) -> class 'str'\n",
        "\n",
        "# 지금까지 'abc'를 우리는 문자열형 문자열 자료라고 불렀는데, \n",
        "# 내부적으로는 객체로 처리된것이다.\n",
        "# 파이썬의 모든 객체는 object객체를 상속한다."
      ],
      "metadata": {
        "id": "IOXwV4rRsDcR"
      },
      "execution_count": null,
      "outputs": []
    },
    {
      "cell_type": "code",
      "source": [
        "class Person(object):\n",
        "  def __init__(self, name, age):\n",
        "    self.name = name\n",
        "    self.age = age\n",
        "\n",
        "class Korean(Person):\n",
        "  pass\n",
        "\n",
        "first_korean = Korean(\"Dawon\",4)\n",
        "print(first_korean.age)"
      ],
      "metadata": {
        "id": "pqfvT4QMsDYr"
      },
      "execution_count": null,
      "outputs": []
    },
    {
      "cell_type": "code",
      "source": [
        "# 예제를 하나더 살펴보자\n",
        "\n",
        "class Person(object): # 부모 클래스 선언\n",
        "  #초기 메서드\n",
        "  def __init__(self, name, age, gender):\n",
        "    self.name = name\n",
        "    self.age = age\n",
        "    self.gender = gender\n",
        "  #출력 메서드\n",
        "  def about_me(self): # 메서드 선언\n",
        "    print(f\"안녕하세요 제 이름은 {name}이고, 나이는 {age}이고, 성별은 {gender}입니다.\")"
      ],
      "metadata": {
        "id": "za-SX5AZsDVL"
      },
      "execution_count": null,
      "outputs": []
    },
    {
      "cell_type": "code",
      "source": [],
      "metadata": {
        "id": "Nh9rFbf-sDRo"
      },
      "execution_count": null,
      "outputs": []
    },
    {
      "cell_type": "code",
      "source": [],
      "metadata": {
        "id": "a4Eyl2aIsDN_"
      },
      "execution_count": null,
      "outputs": []
    },
    {
      "cell_type": "code",
      "source": [],
      "metadata": {
        "id": "w_PUhq99rV4I"
      },
      "execution_count": null,
      "outputs": []
    },
    {
      "cell_type": "code",
      "source": [],
      "metadata": {
        "id": "-AJdii-1dEaR"
      },
      "execution_count": null,
      "outputs": []
    },
    {
      "cell_type": "code",
      "source": [],
      "metadata": {
        "id": "PzyFbrfydEcH"
      },
      "execution_count": null,
      "outputs": []
    },
    {
      "cell_type": "code",
      "execution_count": null,
      "metadata": {
        "id": "FjXiGstK2Wqs"
      },
      "outputs": [],
      "source": [
        "\n",
        "class pokemon_select:\n",
        "  def __init__(self, name, hp, attack, defense, s_attack, s_defense, speed):\n",
        "    # 메서드에 정의한 변수는 인스턴스 변수\n",
        "    self.name = name \n",
        "    self.hp = hp\n",
        "    self.defense = defense\n",
        "    self.s_attack = s_attack\n",
        "    self.s_defense = s_defense\n",
        "    self.speed = speed\n",
        "    print(f\"{self.name}을 생성했습니다.\")\n",
        "    print(f\"체력은 {self.hp}, 공격력은 {self.defense}, 방어력은 {self.defense}, 특수공격은 {self.s_attack}, 특수방어는 {self.s_defense}, 민첩성은 {self.speed} 입니다.\")"
      ]
    },
    {
      "cell_type": "code",
      "source": [
        "pikachu_025 = pokemon_select('피카츄', 35, 55, 40 ,50, 50 ,90)\n",
        "charmander_004 = pokemon_select('파이리', 25,52,43,60,50,65)\n",
        "squirtle_007 = pokemon_select('꼬부기', 44,48,65,50,64,43)"
      ],
      "metadata": {
        "colab": {
          "base_uri": "https://localhost:8080/"
        },
        "id": "eLSA7Dct9srt",
        "outputId": "d41df09f-bd2b-4e20-c4c6-15817d744e51"
      },
      "execution_count": null,
      "outputs": [
        {
          "output_type": "stream",
          "name": "stdout",
          "text": [
            "피카츄을 생성했습니다.\n",
            "체력은 35, 공격력은 40, 방어력은 40, 특수공격은 50, 특수방어는 50, 민첩성은 90 입니다.\n",
            "파이리을 생성했습니다.\n",
            "체력은 25, 공격력은 43, 방어력은 43, 특수공격은 60, 특수방어는 50, 민첩성은 65 입니다.\n",
            "꼬부기을 생성했습니다.\n",
            "체력은 44, 공격력은 65, 방어력은 65, 특수공격은 50, 특수방어는 64, 민첩성은 43 입니다.\n"
          ]
        }
      ]
    },
    {
      "cell_type": "code",
      "source": [
        "class ParkingManager:\n",
        "  count = 0\n",
        "  def __init__(self, capacity):\n",
        "    \n",
        "    self.capacity = capacity\n",
        "    print(f'현재 {self.capacity} 등록 가능합니다')\n",
        "\n",
        "  def register(self):\n",
        "    if self.capacity <= self.count:\n",
        "      print('등록할 수가 없습니다')\n",
        "    else:\n",
        "      self.count += 1\n",
        "      print(f'현재 {self.count} 등록 되어 있습니다')\n",
        "\n",
        "\n",
        "    \n",
        "\n",
        "\n",
        "manager = ParkingManager(5)\n",
        "for i in range(6):\n",
        "  manager.register()"
      ],
      "metadata": {
        "colab": {
          "base_uri": "https://localhost:8080/"
        },
        "id": "g3J7Sqjj-KzS",
        "outputId": "0c7f38a2-d966-4f05-ec11-cfa62bb9e077"
      },
      "execution_count": null,
      "outputs": [
        {
          "output_type": "stream",
          "name": "stdout",
          "text": [
            "현재 5 등록 가능합니다\n",
            "현재 1 등록 되어 있습니다\n",
            "현재 2 등록 되어 있습니다\n",
            "현재 3 등록 되어 있습니다\n",
            "현재 4 등록 되어 있습니다\n",
            "현재 5 등록 되어 있습니다\n",
            "등록할 수가 없습니다\n"
          ]
        }
      ]
    },
    {
      "cell_type": "code",
      "source": [
        "class House:\n",
        "  def __init__(self, location, house_type, deal_type, price, completion_year):\n",
        "    self.location = location\n",
        "    self.house_type = house_type\n",
        "    self.deal_type = deal_type\n",
        "    self.price = price\n",
        "    self.completion_year = completion_year\n",
        "\n",
        "  def show_detail(self):\n",
        "    print(f'위치는 {self.location}이며 타입은 {self.house_type}이며 거래 타입은 {self.deal_type}이며 가격은 {self.price} 그리고 준공연도는 {self.completion_year}입니다')\n",
        "\n",
        "\n",
        "info = House('부산','아파트','전세','2억',1998)\n",
        "info.show_detail()"
      ],
      "metadata": {
        "colab": {
          "base_uri": "https://localhost:8080/"
        },
        "id": "3dERzArhDr0Q",
        "outputId": "7bf75125-4be2-4c20-ffed-576e8e7d9e88"
      },
      "execution_count": null,
      "outputs": [
        {
          "output_type": "stream",
          "name": "stdout",
          "text": [
            "위치는 부산이며 타입은 아파트이며 거래 타입은 전세이며 가격은 2억 그리고 준공연도는 1998입니다\n"
          ]
        }
      ]
    },
    {
      "cell_type": "code",
      "source": [],
      "metadata": {
        "id": "l5DtLIrFG-Ux"
      },
      "execution_count": null,
      "outputs": []
    },
    {
      "cell_type": "code",
      "source": [],
      "metadata": {
        "id": "TjFfdDoIGwRB"
      },
      "execution_count": null,
      "outputs": []
    },
    {
      "cell_type": "code",
      "source": [
        "\n",
        "print(info.show_detail)"
      ],
      "metadata": {
        "colab": {
          "base_uri": "https://localhost:8080/"
        },
        "id": "f33eRzfdGIi3",
        "outputId": "59736415-8a13-4c66-ca06-3fdb35dd9d9b"
      },
      "execution_count": null,
      "outputs": [
        {
          "output_type": "stream",
          "name": "stdout",
          "text": [
            "<bound method House.show_detail of <__main__.House object at 0x7f33e1192d10>>\n"
          ]
        }
      ]
    },
    {
      "cell_type": "code",
      "source": [],
      "metadata": {
        "id": "D4pcu0ceGmd_"
      },
      "execution_count": null,
      "outputs": []
    },
    {
      "cell_type": "code",
      "source": [],
      "metadata": {
        "id": "ovQPidnwGjcw"
      },
      "execution_count": null,
      "outputs": []
    },
    {
      "cell_type": "code",
      "source": [],
      "metadata": {
        "id": "QeM7W5akGhAj"
      },
      "execution_count": null,
      "outputs": []
    },
    {
      "cell_type": "code",
      "source": [],
      "metadata": {
        "id": "tPGWRRHKGWBC"
      },
      "execution_count": null,
      "outputs": []
    },
    {
      "cell_type": "code",
      "source": [],
      "metadata": {
        "id": "-9-KDLUGDque"
      },
      "execution_count": null,
      "outputs": []
    },
    {
      "cell_type": "code",
      "source": [],
      "metadata": {
        "id": "RHnwD05dDjqd"
      },
      "execution_count": null,
      "outputs": []
    },
    {
      "cell_type": "code",
      "source": [],
      "metadata": {
        "id": "PBfXobKYDaxr"
      },
      "execution_count": null,
      "outputs": []
    },
    {
      "cell_type": "code",
      "source": [],
      "metadata": {
        "id": "qmIRDvbBDYtV"
      },
      "execution_count": null,
      "outputs": []
    },
    {
      "cell_type": "code",
      "source": [],
      "metadata": {
        "id": "NRtqkXKGDW2a"
      },
      "execution_count": null,
      "outputs": []
    },
    {
      "cell_type": "code",
      "source": [],
      "metadata": {
        "id": "PFDDgHhzDVAs"
      },
      "execution_count": null,
      "outputs": []
    },
    {
      "cell_type": "code",
      "source": [],
      "metadata": {
        "id": "Nf-vtnXKDIDL"
      },
      "execution_count": null,
      "outputs": []
    },
    {
      "cell_type": "code",
      "source": [],
      "metadata": {
        "id": "iizeCEaMC5-a"
      },
      "execution_count": null,
      "outputs": []
    },
    {
      "cell_type": "code",
      "source": [],
      "metadata": {
        "id": "GqaTU8Ry-GBL"
      },
      "execution_count": null,
      "outputs": []
    },
    {
      "cell_type": "code",
      "source": [],
      "metadata": {
        "id": "B_FYFt9S-DiK"
      },
      "execution_count": null,
      "outputs": []
    },
    {
      "cell_type": "code",
      "source": [],
      "metadata": {
        "id": "efjQXh_S9Y5k"
      },
      "execution_count": null,
      "outputs": []
    }
  ]
}