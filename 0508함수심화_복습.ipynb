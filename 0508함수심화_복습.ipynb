{
  "nbformat": 4,
  "nbformat_minor": 0,
  "metadata": {
    "colab": {
      "provenance": []
    },
    "kernelspec": {
      "name": "python3",
      "display_name": "Python 3"
    },
    "language_info": {
      "name": "python"
    }
  },
  "cells": [
    {
      "cell_type": "markdown",
      "source": [
        "# args *kwargs 사용하는 이유유"
      ],
      "metadata": {
        "id": "avsTKxKdN77i"
      }
    },
    {
      "cell_type": "code",
      "execution_count": 1,
      "metadata": {
        "colab": {
          "base_uri": "https://localhost:8080/",
          "height": 137
        },
        "id": "dwMQNMGsNQvD",
        "outputId": "7fdb6fc1-29b3-4ab0-a1ce-5ade132ac892"
      },
      "outputs": [
        {
          "output_type": "error",
          "ename": "SyntaxError",
          "evalue": "ignored",
          "traceback": [
            "\u001b[0;36m  File \u001b[0;32m\"<ipython-input-1-550377b9059d>\"\u001b[0;36m, line \u001b[0;32m1\u001b[0m\n\u001b[0;31m    def test(*arge, **kwarg)\u001b[0m\n\u001b[0m                            ^\u001b[0m\n\u001b[0;31mSyntaxError\u001b[0m\u001b[0;31m:\u001b[0m expected ':'\n"
          ]
        }
      ],
      "source": [
        "def test(*arge, **kwarg)\n"
      ]
    },
    {
      "cell_type": "code",
      "source": [
        "#어떤 입력이든 에러가 없이 어떤 값이든 받도록 도와주기 위함"
      ],
      "metadata": {
        "id": "23YjREWcOPvu"
      },
      "execution_count": 2,
      "outputs": []
    },
    {
      "cell_type": "code",
      "source": [
        "# *arg 예제 1\n",
        "\n",
        "def add(x,y):\n",
        "  return x + y\n",
        "\n",
        "add(3,4)"
      ],
      "metadata": {
        "colab": {
          "base_uri": "https://localhost:8080/"
        },
        "id": "PngeS0m0OV2u",
        "outputId": "ddb2507a-1461-4670-b522-18cfed15fe26"
      },
      "execution_count": 3,
      "outputs": [
        {
          "output_type": "execute_result",
          "data": {
            "text/plain": [
              "7"
            ]
          },
          "metadata": {},
          "execution_count": 3
        }
      ]
    },
    {
      "cell_type": "code",
      "source": [
        "add(3,4,7)"
      ],
      "metadata": {
        "colab": {
          "base_uri": "https://localhost:8080/",
          "height": 174
        },
        "id": "8sl5A_N8PGJo",
        "outputId": "908bc912-116e-46f3-b8cb-18c79e91e832"
      },
      "execution_count": 4,
      "outputs": [
        {
          "output_type": "error",
          "ename": "TypeError",
          "evalue": "ignored",
          "traceback": [
            "\u001b[0;31m---------------------------------------------------------------------------\u001b[0m",
            "\u001b[0;31mTypeError\u001b[0m                                 Traceback (most recent call last)",
            "\u001b[0;32m<ipython-input-4-f8c829071e07>\u001b[0m in \u001b[0;36m<cell line: 1>\u001b[0;34m()\u001b[0m\n\u001b[0;32m----> 1\u001b[0;31m \u001b[0madd\u001b[0m\u001b[0;34m(\u001b[0m\u001b[0;36m3\u001b[0m\u001b[0;34m,\u001b[0m\u001b[0;36m4\u001b[0m\u001b[0;34m,\u001b[0m\u001b[0;36m7\u001b[0m\u001b[0;34m)\u001b[0m\u001b[0;34m\u001b[0m\u001b[0;34m\u001b[0m\u001b[0m\n\u001b[0m",
            "\u001b[0;31mTypeError\u001b[0m: add() takes 2 positional arguments but 3 were given"
          ]
        }
      ]
    },
    {
      "cell_type": "code",
      "source": [
        "def add(*x):\n",
        "  return sum(x)\n",
        "\n",
        "add(1,3,5)"
      ],
      "metadata": {
        "colab": {
          "base_uri": "https://localhost:8080/"
        },
        "id": "E-ru7c4EPH5t",
        "outputId": "2d00d9b2-c902-4737-d8b8-c75bd34bd1d4"
      },
      "execution_count": 5,
      "outputs": [
        {
          "output_type": "execute_result",
          "data": {
            "text/plain": [
              "9"
            ]
          },
          "metadata": {},
          "execution_count": 5
        }
      ]
    },
    {
      "cell_type": "code",
      "source": [
        "add(3,5,7,9,11,13)"
      ],
      "metadata": {
        "colab": {
          "base_uri": "https://localhost:8080/"
        },
        "id": "Oeb-B_jVPONA",
        "outputId": "1deea1fc-a9f0-4d58-ea0c-4b1165307dd0"
      },
      "execution_count": 6,
      "outputs": [
        {
          "output_type": "execute_result",
          "data": {
            "text/plain": [
              "48"
            ]
          },
          "metadata": {},
          "execution_count": 6
        }
      ]
    },
    {
      "cell_type": "code",
      "source": [
        "def add_2(*x, y = \"0\"):\n",
        "  return sum(x) + int(y) #\"3\" -> 3\n",
        "\n",
        "add_2(1,2, y ='3')"
      ],
      "metadata": {
        "colab": {
          "base_uri": "https://localhost:8080/"
        },
        "id": "HLty2XhePQQX",
        "outputId": "0837206a-4c05-491d-cec2-157ca83a00c8"
      },
      "execution_count": 7,
      "outputs": [
        {
          "output_type": "execute_result",
          "data": {
            "text/plain": [
              "6"
            ]
          },
          "metadata": {},
          "execution_count": 7
        }
      ]
    },
    {
      "cell_type": "code",
      "source": [
        "add_2(1,2, y='3', z ='4')"
      ],
      "metadata": {
        "colab": {
          "base_uri": "https://localhost:8080/",
          "height": 174
        },
        "id": "D_R_WWbOPu6L",
        "outputId": "4231f051-c562-4018-f1c1-10840d945fc1"
      },
      "execution_count": 8,
      "outputs": [
        {
          "output_type": "error",
          "ename": "TypeError",
          "evalue": "ignored",
          "traceback": [
            "\u001b[0;31m---------------------------------------------------------------------------\u001b[0m",
            "\u001b[0;31mTypeError\u001b[0m                                 Traceback (most recent call last)",
            "\u001b[0;32m<ipython-input-8-76319a4164e9>\u001b[0m in \u001b[0;36m<cell line: 1>\u001b[0;34m()\u001b[0m\n\u001b[0;32m----> 1\u001b[0;31m \u001b[0madd_2\u001b[0m\u001b[0;34m(\u001b[0m\u001b[0;36m1\u001b[0m\u001b[0;34m,\u001b[0m\u001b[0;36m2\u001b[0m\u001b[0;34m,\u001b[0m \u001b[0my\u001b[0m\u001b[0;34m=\u001b[0m\u001b[0;34m'3'\u001b[0m\u001b[0;34m,\u001b[0m \u001b[0mz\u001b[0m \u001b[0;34m=\u001b[0m\u001b[0;34m'4'\u001b[0m\u001b[0;34m)\u001b[0m\u001b[0;34m\u001b[0m\u001b[0;34m\u001b[0m\u001b[0m\n\u001b[0m",
            "\u001b[0;31mTypeError\u001b[0m: add_2() got an unexpected keyword argument 'z'"
          ]
        }
      ]
    },
    {
      "cell_type": "code",
      "source": [
        "def param(**kwargs):\n",
        "  print(kwargs)"
      ],
      "metadata": {
        "id": "URhCsZWtP3v6"
      },
      "execution_count": 9,
      "outputs": []
    },
    {
      "cell_type": "code",
      "source": [
        "param(max_depth = 0.6)"
      ],
      "metadata": {
        "colab": {
          "base_uri": "https://localhost:8080/"
        },
        "id": "1Ksc3Ku3P8_e",
        "outputId": "7403d0ae-76ca-4923-cab6-8e435993b25b"
      },
      "execution_count": 10,
      "outputs": [
        {
          "output_type": "stream",
          "name": "stdout",
          "text": [
            "{'max_depth': 0.6}\n"
          ]
        }
      ]
    },
    {
      "cell_type": "code",
      "source": [
        "param(max_depth = 0.6, gamma =3)"
      ],
      "metadata": {
        "colab": {
          "base_uri": "https://localhost:8080/"
        },
        "id": "CQRt2iQ7Q4J8",
        "outputId": "6b3c5216-9df9-4dbd-8706-8d3eda2a65e1"
      },
      "execution_count": 11,
      "outputs": [
        {
          "output_type": "stream",
          "name": "stdout",
          "text": [
            "{'max_depth': 0.6, 'gamma': 3}\n"
          ]
        }
      ]
    },
    {
      "cell_type": "code",
      "source": [
        "def function(*a, **b):\n",
        "  print(a)\n",
        "  print(b)\n",
        "\n",
        "  "
      ],
      "metadata": {
        "id": "yzDPUpkeQ8CH"
      },
      "execution_count": 14,
      "outputs": []
    },
    {
      "cell_type": "code",
      "source": [
        "function(41)"
      ],
      "metadata": {
        "colab": {
          "base_uri": "https://localhost:8080/"
        },
        "id": "3DEjJ-YkRMsV",
        "outputId": "408c848a-1101-4eb6-d897-cd4cf3d6a80c"
      },
      "execution_count": 15,
      "outputs": [
        {
          "output_type": "stream",
          "name": "stdout",
          "text": [
            "(41,)\n",
            "{}\n"
          ]
        }
      ]
    },
    {
      "cell_type": "code",
      "source": [],
      "metadata": {
        "id": "TSd3M76QRNSX"
      },
      "execution_count": null,
      "outputs": []
    },
    {
      "cell_type": "code",
      "source": [
        "function(1,2,3,4)"
      ],
      "metadata": {
        "colab": {
          "base_uri": "https://localhost:8080/"
        },
        "id": "20PCUfHBRDGq",
        "outputId": "2fe9d8c6-0a1a-4c50-b0c5-86e8c2e916c0"
      },
      "execution_count": 16,
      "outputs": [
        {
          "output_type": "stream",
          "name": "stdout",
          "text": [
            "(1, 2, 3, 4)\n",
            "{}\n"
          ]
        }
      ]
    },
    {
      "cell_type": "code",
      "source": [
        "function(x = 3)"
      ],
      "metadata": {
        "colab": {
          "base_uri": "https://localhost:8080/"
        },
        "id": "RCCiAOSpROK4",
        "outputId": "58e17c04-6026-4bd9-a948-1f537de78252"
      },
      "execution_count": 18,
      "outputs": [
        {
          "output_type": "stream",
          "name": "stdout",
          "text": [
            "()\n",
            "{'x': 3}\n"
          ]
        }
      ]
    },
    {
      "cell_type": "code",
      "source": [
        "function(x=3, y=4)"
      ],
      "metadata": {
        "colab": {
          "base_uri": "https://localhost:8080/"
        },
        "id": "TsD8V93NRTsR",
        "outputId": "fead2372-c6f7-4557-bec1-9a96c559c4db"
      },
      "execution_count": 19,
      "outputs": [
        {
          "output_type": "stream",
          "name": "stdout",
          "text": [
            "()\n",
            "{'x': 3, 'y': 4}\n"
          ]
        }
      ]
    },
    {
      "cell_type": "code",
      "source": [
        "function(1,2,3,4,5,x=3)"
      ],
      "metadata": {
        "colab": {
          "base_uri": "https://localhost:8080/"
        },
        "id": "F8d7y6CSRWCu",
        "outputId": "70caa682-d305-45cb-d667-01a826fb488a"
      },
      "execution_count": 20,
      "outputs": [
        {
          "output_type": "stream",
          "name": "stdout",
          "text": [
            "(1, 2, 3, 4, 5)\n",
            "{'x': 3}\n"
          ]
        }
      ]
    },
    {
      "cell_type": "markdown",
      "source": [
        "# args / kwangs\n",
        "\n",
        "https://engineer-mole.tistory.com/279\n",
        "\n",
        "파이썬 함수에서는 인수 개수를 변경할 수 있다.\n",
        "위치 인수에 대해 첫번째, 두번째는 필수, 세번째 이후는 선택으로 정할 수 있는데, 임의로 개수가 변하는 인수를 가변 길이 인수라 부르고, *를 붙이면 가변 길이 인수가 된다. 지정한 인수가 튜플로 지정이 되고, args라는 변수명을 많이 사용한다.\n",
        "\n",
        "* 결국 동시에 여러 입력값을 주고 싶을때 사용한다.\n",
        "* 아무 이름이나 사용해도 되긴한다. *만 붙이면\n",
        "* Tuple처럼 사용이 가능하다. 굳이 리스트나 튜플로 변경하지 않아도 된다.\n",
        "* 가변인자는 들어오는 인자의 갯수가 언제나 변할 수 있다."
      ],
      "metadata": {
        "id": "gYAftO6pRjwh"
      }
    },
    {
      "cell_type": "code",
      "source": [
        "# args 예시 1\n",
        "\n",
        "def a_test(a, *args):\n",
        "  print(a, args)\n",
        "\n",
        "a_test(1,2,3,4,5,6)\n",
        "\n"
      ],
      "metadata": {
        "colab": {
          "base_uri": "https://localhost:8080/"
        },
        "id": "c4Jiko5CTrnw",
        "outputId": "a2e8a76b-96f1-402c-c5b1-4c6cd837e304"
      },
      "execution_count": 21,
      "outputs": [
        {
          "output_type": "stream",
          "name": "stdout",
          "text": [
            "1 (2, 3, 4, 5, 6)\n"
          ]
        }
      ]
    },
    {
      "cell_type": "code",
      "source": [
        "def b_test(a, *kwargs):\n",
        "  print(a, kwargs)\n",
        "\n",
        "b_test(1,2,3,4,5,6)"
      ],
      "metadata": {
        "colab": {
          "base_uri": "https://localhost:8080/"
        },
        "id": "2A0RsSElT5lp",
        "outputId": "23338a30-1dfb-4999-d87f-50b9ca51875a"
      },
      "execution_count": 22,
      "outputs": [
        {
          "output_type": "stream",
          "name": "stdout",
          "text": [
            "1 (2, 3, 4, 5, 6)\n"
          ]
        }
      ]
    },
    {
      "cell_type": "code",
      "source": [
        "def a_test(a, args):\n",
        "  print(a, *args)\n",
        "\n",
        "a_test(1,(2,3,4,5,6))"
      ],
      "metadata": {
        "colab": {
          "base_uri": "https://localhost:8080/"
        },
        "id": "WQoG6GSGUD2g",
        "outputId": "4a81a829-b98f-49f0-c674-be0b206e1074"
      },
      "execution_count": 25,
      "outputs": [
        {
          "output_type": "stream",
          "name": "stdout",
          "text": [
            "1 2 3 4 5 6\n"
          ]
        }
      ]
    },
    {
      "cell_type": "code",
      "source": [
        "def c_test(a, *args):\n",
        "  print(a, *args)\n",
        "c_test(1,(2,3,4,5,6))"
      ],
      "metadata": {
        "colab": {
          "base_uri": "https://localhost:8080/"
        },
        "id": "YMZTVajPUcqi",
        "outputId": "c6c1b4d3-93ab-4df9-976f-f4077bbebfb7"
      },
      "execution_count": 29,
      "outputs": [
        {
          "output_type": "stream",
          "name": "stdout",
          "text": [
            "1 (2, 3, 4, 5, 6)\n"
          ]
        }
      ]
    },
    {
      "cell_type": "code",
      "source": [
        "a,b,c = ([1,2],[3,4],[5,6])\n"
      ],
      "metadata": {
        "id": "6ByB_uB7Uyo0"
      },
      "execution_count": 30,
      "outputs": []
    },
    {
      "cell_type": "code",
      "source": [
        "print(a)\n",
        "print(b)\n",
        "print(c)"
      ],
      "metadata": {
        "colab": {
          "base_uri": "https://localhost:8080/"
        },
        "id": "ygRYYtMNU36b",
        "outputId": "ce624528-ecd3-4dda-9948-acb4b6cc94b8"
      },
      "execution_count": 31,
      "outputs": [
        {
          "output_type": "stream",
          "name": "stdout",
          "text": [
            "[1, 2]\n",
            "[3, 4]\n",
            "[5, 6]\n"
          ]
        }
      ]
    },
    {
      "cell_type": "code",
      "source": [
        "data = ([1,2], [3,4],[5,6])\n",
        "print(*data)"
      ],
      "metadata": {
        "colab": {
          "base_uri": "https://localhost:8080/"
        },
        "id": "tEk0suUIU5tl",
        "outputId": "9ea7c497-6f44-4f3a-f73d-0a39de4176d0"
      },
      "execution_count": 32,
      "outputs": [
        {
          "output_type": "stream",
          "name": "stdout",
          "text": [
            "[1, 2] [3, 4] [5, 6]\n"
          ]
        }
      ]
    },
    {
      "cell_type": "code",
      "source": [
        "def print_args(*args):\n",
        "  print(args)\n",
        "  for x in args:\n",
        "    print(x)\n",
        "\n",
        "print_args(100, True, 'leehojun')"
      ],
      "metadata": {
        "colab": {
          "base_uri": "https://localhost:8080/"
        },
        "id": "6mbxWXw-VAJI",
        "outputId": "4d7b1483-61c5-4d1d-f186-290c11e8eaea"
      },
      "execution_count": 33,
      "outputs": [
        {
          "output_type": "stream",
          "name": "stdout",
          "text": [
            "(100, True, 'leehojun')\n",
            "100\n",
            "True\n",
            "leehojun\n"
          ]
        }
      ]
    },
    {
      "cell_type": "code",
      "source": [
        "def func(x,y, *args):\n",
        "  print(f'첫번째 값은 {x} ')\n",
        "  print(f'두번째 값은 {y} ')\n",
        "  if args:\n",
        "    print(f'세번째 이후의 값은 {args}')\n",
        "\n",
        "func(1,2)"
      ],
      "metadata": {
        "colab": {
          "base_uri": "https://localhost:8080/"
        },
        "id": "Eh1Fy0Z1VNiv",
        "outputId": "5845665d-71aa-43e8-d6df-170e5ad0bdc9"
      },
      "execution_count": 34,
      "outputs": [
        {
          "output_type": "stream",
          "name": "stdout",
          "text": [
            "첫번째 값은 1 \n",
            "두번째 값은 2 \n"
          ]
        }
      ]
    },
    {
      "cell_type": "code",
      "source": [
        "func(1,2,3,4,5)"
      ],
      "metadata": {
        "colab": {
          "base_uri": "https://localhost:8080/"
        },
        "id": "6KqF2e-CZgAd",
        "outputId": "3a4271dd-5ea2-4def-916c-cdf1f14a9317"
      },
      "execution_count": 35,
      "outputs": [
        {
          "output_type": "stream",
          "name": "stdout",
          "text": [
            "첫번째 값은 1 \n",
            "두번째 값은 2 \n",
            "세번째 이후의 값은 (3, 4, 5)\n"
          ]
        }
      ]
    },
    {
      "cell_type": "markdown",
      "source": [
        "kwargs\n",
        "\n",
        "**kwargs는 딕셔너리 형태로 가변인수를 받을 수 있는 방법입니다. \n",
        "\n",
        "사용방법은 args와 동일하고, args는 튜플형식으로 받지만\n",
        "kwargs는 딕셔너리 형태로 받는다는 특징이 있습니다."
      ],
      "metadata": {
        "id": "UpmvHARkZrv6"
      }
    },
    {
      "cell_type": "code",
      "source": [
        "def print_kwargs(a, **kwargs):\n",
        "  print(a)\n",
        "  print(kwargs)\n",
        "  for i in kwargs:\n",
        "    print(i)\n",
        "\n",
        "print_kwargs(100, name = 'leehojun', age =10)"
      ],
      "metadata": {
        "colab": {
          "base_uri": "https://localhost:8080/"
        },
        "id": "t8WcQFzlZtC5",
        "outputId": "b1c8a272-a654-40a9-ff1b-b5a7f320c80b"
      },
      "execution_count": 36,
      "outputs": [
        {
          "output_type": "stream",
          "name": "stdout",
          "text": [
            "100\n",
            "{'name': 'leehojun', 'age': 10}\n",
            "name\n",
            "age\n"
          ]
        }
      ]
    },
    {
      "cell_type": "code",
      "source": [
        "def func(x, y, **kwargs):\n",
        "  print(f\"첫번째 인자는 x\")\n",
        "  print(f\"두번째 인자는 y\")\n",
        "  if kwargs:\n",
        "    print(f\"세 번째 이후의 인수 : {kwargs}\")\n",
        "\n",
        "func(x=1, y=2)"
      ],
      "metadata": {
        "colab": {
          "base_uri": "https://localhost:8080/"
        },
        "id": "RIfu1g7UaE1L",
        "outputId": "f9f87da4-d493-4cc5-fab4-e2bf35aaabe3"
      },
      "execution_count": 37,
      "outputs": [
        {
          "output_type": "stream",
          "name": "stdout",
          "text": [
            "첫번째 인자는 x\n",
            "두번째 인자는 y\n"
          ]
        }
      ]
    },
    {
      "cell_type": "code",
      "source": [
        "func(x=1, y=2, z = 3, w= 4)"
      ],
      "metadata": {
        "colab": {
          "base_uri": "https://localhost:8080/"
        },
        "id": "6tOoTf2VaOVN",
        "outputId": "eaee4897-e272-4ade-d9b8-6795be8d74f2"
      },
      "execution_count": 38,
      "outputs": [
        {
          "output_type": "stream",
          "name": "stdout",
          "text": [
            "첫번째 인자는 x\n",
            "두번째 인자는 y\n",
            "세 번째 이후의 인수 : {'z': 3, 'w': 4}\n"
          ]
        }
      ]
    },
    {
      "cell_type": "markdown",
      "source": [
        "args와 kwargs의 응용\n",
        "\n",
        "앞에는 args형식으로 뒤에는 kwargs형식으로 받게되면 정상적으로 작동합니다. 파라미터를 넣을때 순서를 바꾸거나 혼합하면 에러가 발생됩니다."
      ],
      "metadata": {
        "id": "hZ2XPILGaWvR"
      }
    },
    {
      "cell_type": "code",
      "source": [
        "def print_args_kwargs(*args, **kwargs):\n",
        "  print('args:', args)\n",
        "  for x in args:\n",
        "    print(x)\n",
        "  print('kwargs:', kwargs)\n",
        "  for x in kwargs:\n",
        "    print(x)\n",
        "    print(kwargs[x])\n",
        "\n",
        "inputlist = [100, True, 'leehojun']\n",
        "inputdic={'score':100, 'name':'leehojun', 'age': '10'}\n",
        "print_args_kwargs(*inputlist)"
      ],
      "metadata": {
        "colab": {
          "base_uri": "https://localhost:8080/"
        },
        "id": "3gm_MQzNaXJH",
        "outputId": "07a89295-f1a2-49b5-f705-8ef5ddb5891d"
      },
      "execution_count": 39,
      "outputs": [
        {
          "output_type": "stream",
          "name": "stdout",
          "text": [
            "args: (100, True, 'leehojun')\n",
            "100\n",
            "True\n",
            "leehojun\n",
            "kwargs: {}\n"
          ]
        }
      ]
    },
    {
      "cell_type": "code",
      "source": [
        "print_args_kwargs(*inputdic)"
      ],
      "metadata": {
        "colab": {
          "base_uri": "https://localhost:8080/"
        },
        "id": "hOCq4Hb0a7pT",
        "outputId": "4cc141ef-8729-40d5-e5d3-be56f6b3481b"
      },
      "execution_count": 40,
      "outputs": [
        {
          "output_type": "stream",
          "name": "stdout",
          "text": [
            "args: ('score', 'name', 'age')\n",
            "score\n",
            "name\n",
            "age\n",
            "kwargs: {}\n"
          ]
        }
      ]
    },
    {
      "cell_type": "code",
      "source": [
        "print('--------')\n",
        "print_args_kwargs(*inputlist, **inputdic)"
      ],
      "metadata": {
        "colab": {
          "base_uri": "https://localhost:8080/"
        },
        "id": "X_HD25dNa_82",
        "outputId": "75e127b9-3f48-4e53-8c5c-2313ea77bcc0"
      },
      "execution_count": 41,
      "outputs": [
        {
          "output_type": "stream",
          "name": "stdout",
          "text": [
            "--------\n",
            "args: (100, True, 'leehojun')\n",
            "100\n",
            "True\n",
            "leehojun\n",
            "kwargs: {'score': 100, 'name': 'leehojun', 'age': '10'}\n",
            "score\n",
            "100\n",
            "name\n",
            "leehojun\n",
            "age\n",
            "10\n"
          ]
        }
      ]
    },
    {
      "cell_type": "code",
      "source": [
        "# 가변 길이 위치 인수와 키워드 인수의 조합\n",
        "\n",
        "# 가변 길이 위치 인수와 키워드 인수 조합\n",
        "def func(x, *args, **kwargs):\n",
        "    print(x)\n",
        "    print(args)\n",
        "    print(kwargs)\n",
        "\n",
        "\n",
        "print(\"---첫 번째 인수만 지정한 결과---\")\n",
        "func(1)\n",
        "\n",
        "print(\"---길이가 변하는 인수를 지정한 결과---\")\n",
        "func(1, 100, 200, 300, a=\"X\", b=\"Y\", c=\"Z\")"
      ],
      "metadata": {
        "colab": {
          "base_uri": "https://localhost:8080/"
        },
        "id": "unK5G3SfbDWc",
        "outputId": "0b6a03d4-0cdd-4fab-e326-64dc84eb275a"
      },
      "execution_count": 42,
      "outputs": [
        {
          "output_type": "stream",
          "name": "stdout",
          "text": [
            "---첫 번째 인수만 지정한 결과---\n",
            "1\n",
            "()\n",
            "{}\n",
            "---길이가 변하는 인수를 지정한 결과---\n",
            "1\n",
            "(100, 200, 300)\n",
            "{'a': 'X', 'b': 'Y', 'c': 'Z'}\n"
          ]
        }
      ]
    },
    {
      "cell_type": "code",
      "source": [
        "def 가격계산(할인율, *구매가_목록):\n",
        "\n",
        "  return(1-할인율) * sum(구매가_목록)\n",
        "\n",
        "가격계산(0.25, 10000)"
      ],
      "metadata": {
        "colab": {
          "base_uri": "https://localhost:8080/"
        },
        "id": "BR-Slhl8bUMq",
        "outputId": "634ed20e-7bcb-4c14-edc5-7993ec5a88bd"
      },
      "execution_count": 43,
      "outputs": [
        {
          "output_type": "execute_result",
          "data": {
            "text/plain": [
              "7500.0"
            ]
          },
          "metadata": {},
          "execution_count": 43
        }
      ]
    },
    {
      "cell_type": "code",
      "source": [
        "가격계산(0.25, 10000,15000,25000)"
      ],
      "metadata": {
        "colab": {
          "base_uri": "https://localhost:8080/"
        },
        "id": "BGNkmP1kbvS4",
        "outputId": "57930686-d22f-4ea4-9a20-e0e53cb8eca1"
      },
      "execution_count": 44,
      "outputs": [
        {
          "output_type": "execute_result",
          "data": {
            "text/plain": [
              "37500.0"
            ]
          },
          "metadata": {},
          "execution_count": 44
        }
      ]
    },
    {
      "cell_type": "code",
      "source": [
        "one, two, *three = 1,2,3,4,5\n",
        "\n",
        "print(one, two, three)"
      ],
      "metadata": {
        "colab": {
          "base_uri": "https://localhost:8080/"
        },
        "id": "8UJkO-afbyLp",
        "outputId": "2d0254b4-cb71-4602-aa0e-7e63cf5e36fe"
      },
      "execution_count": 45,
      "outputs": [
        {
          "output_type": "stream",
          "name": "stdout",
          "text": [
            "1 2 [3, 4, 5]\n"
          ]
        }
      ]
    },
    {
      "cell_type": "code",
      "source": [
        "#자료형 리스트\n",
        "a_1 = [1,2,3]\n",
        "print(*a_1)"
      ],
      "metadata": {
        "colab": {
          "base_uri": "https://localhost:8080/"
        },
        "id": "HFii2GlAb8Wy",
        "outputId": "42cc0ed4-f481-4f69-916c-0bc630ae73d5"
      },
      "execution_count": 46,
      "outputs": [
        {
          "output_type": "stream",
          "name": "stdout",
          "text": [
            "1 2 3\n"
          ]
        }
      ]
    },
    {
      "cell_type": "code",
      "source": [
        "a_2 = (1,2,3)\n",
        "print(*a_2)"
      ],
      "metadata": {
        "colab": {
          "base_uri": "https://localhost:8080/"
        },
        "id": "_hnuvCApcTk8",
        "outputId": "af61c02e-6830-4dbf-8d46-8375f2c7519f"
      },
      "execution_count": 47,
      "outputs": [
        {
          "output_type": "stream",
          "name": "stdout",
          "text": [
            "1 2 3\n"
          ]
        }
      ]
    },
    {
      "cell_type": "code",
      "source": [
        "def func(x, y, z):\n",
        "  print(x, y ,z)\n",
        "  return x + y + z\n",
        "\n",
        "# 언패킹 되는 함수 x,y,z\n",
        "param = [1,2,3] # 리스트가 풀리게 된다.\n",
        "w = func(*param)\n",
        "print(w)"
      ],
      "metadata": {
        "colab": {
          "base_uri": "https://localhost:8080/"
        },
        "id": "GXrMYv0GcWLx",
        "outputId": "480e22b3-eab2-4606-d5a2-db62590ae85b"
      },
      "execution_count": 48,
      "outputs": [
        {
          "output_type": "stream",
          "name": "stdout",
          "text": [
            "1 2 3\n",
            "6\n"
          ]
        }
      ]
    },
    {
      "cell_type": "code",
      "source": [
        "w = func(*[1,2,3])\n",
        "print(w)"
      ],
      "metadata": {
        "colab": {
          "base_uri": "https://localhost:8080/"
        },
        "id": "mopZqkX4ccbQ",
        "outputId": "20601fc0-9e7f-4a50-dc13-7cdec3c328a0"
      },
      "execution_count": 49,
      "outputs": [
        {
          "output_type": "stream",
          "name": "stdout",
          "text": [
            "1 2 3\n",
            "6\n"
          ]
        }
      ]
    },
    {
      "cell_type": "code",
      "source": [
        "def func(x,y,z):\n",
        "  print(x,y,z)\n",
        "  return x+y+z\n",
        "\n",
        "params = {'x' : 1, 'y' :2, 'z' : 3}\n",
        "w = func(**params)\n",
        "print(w)"
      ],
      "metadata": {
        "colab": {
          "base_uri": "https://localhost:8080/"
        },
        "id": "ljOoz5POcgO9",
        "outputId": "0bcad8db-16b6-4216-ad57-48167832d2fa"
      },
      "execution_count": 50,
      "outputs": [
        {
          "output_type": "stream",
          "name": "stdout",
          "text": [
            "1 2 3\n",
            "6\n"
          ]
        }
      ]
    },
    {
      "cell_type": "code",
      "source": [
        "def func(x, y, z, a1, b1, c1):\n",
        "  print(x, y, z, a1, b1, c1)\n",
        "  return x + y + z + a1 + b1 + c1\n",
        "\n",
        "param1 = [1,2,3]\n",
        "param2 = {\"a1\" : 1, \"b1\" : 2, \"c1\" : 3}\n",
        "w = func(*param1, **param2)\n",
        "print(w)"
      ],
      "metadata": {
        "colab": {
          "base_uri": "https://localhost:8080/"
        },
        "id": "LWFtLSiHcvA1",
        "outputId": "94af9086-e55d-435a-e6d4-7bf105431599"
      },
      "execution_count": 51,
      "outputs": [
        {
          "output_type": "stream",
          "name": "stdout",
          "text": [
            "1 2 3 1 2 3\n",
            "12\n"
          ]
        }
      ]
    },
    {
      "cell_type": "code",
      "source": [
        "def data_to_string(y,m,d):\n",
        "  return str(y) + '년' + str(m) + '월' + str(d) + '일'"
      ],
      "metadata": {
        "id": "JdIh543Kc5t1"
      },
      "execution_count": 52,
      "outputs": []
    },
    {
      "cell_type": "code",
      "source": [
        "date = (2023,5,8)\n",
        "data_to_string(date[0],date[1],date[2])"
      ],
      "metadata": {
        "colab": {
          "base_uri": "https://localhost:8080/",
          "height": 35
        },
        "id": "4aOrtJuTdOBt",
        "outputId": "600edabd-293f-410a-b802-e71b5e4d7929"
      },
      "execution_count": 53,
      "outputs": [
        {
          "output_type": "execute_result",
          "data": {
            "text/plain": [
              "'2023년5월8일'"
            ],
            "application/vnd.google.colaboratory.intrinsic+json": {
              "type": "string"
            }
          },
          "metadata": {},
          "execution_count": 53
        }
      ]
    },
    {
      "cell_type": "code",
      "source": [
        "data_to_string(*date)"
      ],
      "metadata": {
        "colab": {
          "base_uri": "https://localhost:8080/",
          "height": 35
        },
        "id": "Src8x2NPdTms",
        "outputId": "ac7f54ef-4076-46e4-f369-5e083d131bb7"
      },
      "execution_count": 54,
      "outputs": [
        {
          "output_type": "execute_result",
          "data": {
            "text/plain": [
              "'2023년5월8일'"
            ],
            "application/vnd.google.colaboratory.intrinsic+json": {
              "type": "string"
            }
          },
          "metadata": {},
          "execution_count": 54
        }
      ]
    },
    {
      "cell_type": "code",
      "source": [
        "data_to_string(*[2023,5,8])"
      ],
      "metadata": {
        "colab": {
          "base_uri": "https://localhost:8080/",
          "height": 35
        },
        "id": "ACZYkFWKdaSy",
        "outputId": "6f84db8e-98e9-44b1-b0f1-4b5830cf5f11"
      },
      "execution_count": 55,
      "outputs": [
        {
          "output_type": "execute_result",
          "data": {
            "text/plain": [
              "'2023년5월8일'"
            ],
            "application/vnd.google.colaboratory.intrinsic+json": {
              "type": "string"
            }
          },
          "metadata": {},
          "execution_count": 55
        }
      ]
    },
    {
      "cell_type": "code",
      "source": [
        "date = {'y' : 1917, 'm':9, 'd' : 4}\n",
        "\n",
        "data_to_string(date['y'], date['m'], date['d'])"
      ],
      "metadata": {
        "colab": {
          "base_uri": "https://localhost:8080/",
          "height": 35
        },
        "id": "TlP9EOoVdngj",
        "outputId": "2eae69f6-2a09-4b94-8366-9f65b57467ec"
      },
      "execution_count": 56,
      "outputs": [
        {
          "output_type": "execute_result",
          "data": {
            "text/plain": [
              "'1917년9월4일'"
            ],
            "application/vnd.google.colaboratory.intrinsic+json": {
              "type": "string"
            }
          },
          "metadata": {},
          "execution_count": 56
        }
      ]
    },
    {
      "cell_type": "code",
      "source": [
        "data_to_string(**date)"
      ],
      "metadata": {
        "colab": {
          "base_uri": "https://localhost:8080/",
          "height": 35
        },
        "id": "NvreGwTjd-K3",
        "outputId": "a43b68a1-7ad1-48a9-e45f-53a18b303144"
      },
      "execution_count": 57,
      "outputs": [
        {
          "output_type": "execute_result",
          "data": {
            "text/plain": [
              "'1917년9월4일'"
            ],
            "application/vnd.google.colaboratory.intrinsic+json": {
              "type": "string"
            }
          },
          "metadata": {},
          "execution_count": 57
        }
      ]
    },
    {
      "cell_type": "code",
      "source": [
        "# 함수를 변수로 다루기\n",
        "\n",
        "def add_num(x,y):\n",
        "  return x+ y\n",
        "\n",
        "x = add_num\n",
        "\n",
        "z = x(100,200)\n",
        "print(z)"
      ],
      "metadata": {
        "colab": {
          "base_uri": "https://localhost:8080/"
        },
        "id": "2HdWlW_peC0W",
        "outputId": "37370f2b-8c9b-40fe-b2ff-5a3ea22e60b9"
      },
      "execution_count": 58,
      "outputs": [
        {
          "output_type": "stream",
          "name": "stdout",
          "text": [
            "300\n"
          ]
        }
      ]
    },
    {
      "cell_type": "code",
      "source": [
        "def outer_function():\n",
        "  count = 0\n",
        "  def inner_function():\n",
        "    nonlocal count\n",
        "    count += 1\n",
        "    print(f'실행횟수가 {count}회 실행되었습니다')\n",
        "\n",
        "  return inner_function\n",
        "\n",
        "func1 = outer_function()\n",
        "\n",
        "func1()\n",
        "func1()\n",
        "\n"
      ],
      "metadata": {
        "colab": {
          "base_uri": "https://localhost:8080/"
        },
        "id": "Qq6gcBp_fLwY",
        "outputId": "bf831c20-288e-4b29-a445-a509d754aebf"
      },
      "execution_count": 67,
      "outputs": [
        {
          "output_type": "stream",
          "name": "stdout",
          "text": [
            "실행횟수가 1회 실행되었습니다\n",
            "실행횟수가 2회 실행되었습니다\n"
          ]
        }
      ]
    },
    {
      "cell_type": "code",
      "source": [
        "# 어떤 함수가 몇번 호출되었는지 확인 실행할때!!\n",
        "\n",
        "def outer_function():\n",
        "  \"\"\" 외부 함수 \"\"\"\n",
        "  count = 0\n",
        "  def inner_function():\n",
        "    \"\"\"내부 함수\"\"\"\n",
        "    nonlocal count # 이 nonlocal 함수는 저장이 가능한 함수 count값을 저장 \n",
        "    count += 1   \n",
        "    print(f\"실행횟수가 {count}회 실행되었습니다.\")\n",
        "\n",
        "  return inner_function\n",
        "\n",
        "func1 = outer_function()\n",
        "\n",
        "# 함수 실행\n",
        "func1()\n",
        "func1()\n",
        "func1()"
      ],
      "metadata": {
        "colab": {
          "base_uri": "https://localhost:8080/"
        },
        "id": "2i2xI-PFfxXF",
        "outputId": "68add2b8-fae2-4d76-cf79-7d2416d6187f"
      },
      "execution_count": 64,
      "outputs": [
        {
          "output_type": "stream",
          "name": "stdout",
          "text": [
            "실행횟수가 1회 실행되었습니다.\n",
            "실행횟수가 2회 실행되었습니다.\n",
            "실행횟수가 3회 실행되었습니다.\n"
          ]
        }
      ]
    },
    {
      "cell_type": "code",
      "source": [
        "def add_message(f):\n",
        "\n",
        "  def new_func():\n",
        "    print(\"처리를 시작합니다\")\n",
        "    f()\n",
        "    print(\"처리를 종료합니다\")\n",
        "\n",
        "  return new_func\n",
        "\n",
        "def sample_func():\n",
        "  print(\"sample_func 함수 처리 실행\")\n",
        "\n",
        "deco_func = add_message(sample_func)\n",
        "\n",
        "deco_func()"
      ],
      "metadata": {
        "colab": {
          "base_uri": "https://localhost:8080/"
        },
        "id": "cSOqB_Mofyby",
        "outputId": "4b674a5e-2127-42ce-94a7-f53f0fcc5f3c"
      },
      "execution_count": 68,
      "outputs": [
        {
          "output_type": "stream",
          "name": "stdout",
          "text": [
            "처리를 시작합니다\n",
            "sample_func 함수 처리 실행\n",
            "처리를 종료합니다\n"
          ]
        }
      ]
    },
    {
      "cell_type": "markdown",
      "source": [
        "람다식"
      ],
      "metadata": {
        "id": "7vqKHlYCihwH"
      }
    },
    {
      "cell_type": "code",
      "source": [
        "def add(x,y):\n",
        "  return x + y\n",
        "def sub():\n",
        "  pass\n",
        "def div():\n",
        "  pass\n",
        "def mul():\n",
        "  pass\n",
        "\n",
        "calculator = [add, sub, div, mul]\n",
        "print(calculator[0](10,20))"
      ],
      "metadata": {
        "colab": {
          "base_uri": "https://localhost:8080/"
        },
        "id": "5-OhZGFwiifE",
        "outputId": "b3212596-f42d-4986-a140-622106d655ee"
      },
      "execution_count": 69,
      "outputs": [
        {
          "output_type": "stream",
          "name": "stdout",
          "text": [
            "30\n"
          ]
        }
      ]
    },
    {
      "cell_type": "markdown",
      "source": [
        "우선 add, sub, div, mul이라는 사칙연산을 수행하는 함수를 선언해주었습니다. 그 다음 각 함수들의 이름을 calculator라는 배열에 넣어주었고, print로 0번째 배열을 호출하였더니 함수 add의 결과값인 30이 나오게 되었습니다.\n",
        "\n",
        "우리가 일반적으로 사용할 수 있는 변수의 위치에 ( )(괄호)만 사용하지 않는다면 변수처럼 사용할 수 있으며, 호출할 때는 '( )'(괄호)를 사용해줍니다.\n",
        "\n",
        "그럼 lambda함수는 왜 익명함수 일까요? 이름이 있는 함수들과는 다르게 매우 간결하게 작성할 수 있기 때문입니다."
      ],
      "metadata": {
        "id": "I91v5KSMip3S"
      }
    },
    {
      "cell_type": "code",
      "source": [
        "#람다식 람다함수\n",
        "lambda 매개변수 : 결과"
      ],
      "metadata": {
        "colab": {
          "base_uri": "https://localhost:8080/"
        },
        "id": "PvzPxouJisrR",
        "outputId": "4bc3edbc-06db-44f0-be06-89b245718652"
      },
      "execution_count": 70,
      "outputs": [
        {
          "output_type": "execute_result",
          "data": {
            "text/plain": [
              "<function __main__.<lambda>(매개변수)>"
            ]
          },
          "metadata": {},
          "execution_count": 70
        }
      ]
    },
    {
      "cell_type": "code",
      "source": [
        "#예제\n",
        "\n",
        "제곱 = lambda  x: x**2\n",
        "제곱(3)"
      ],
      "metadata": {
        "colab": {
          "base_uri": "https://localhost:8080/"
        },
        "id": "mvZtvZVpixLn",
        "outputId": "9c8d02f1-6113-4281-bdf3-1c17235658ff"
      },
      "execution_count": 71,
      "outputs": [
        {
          "output_type": "execute_result",
          "data": {
            "text/plain": [
              "9"
            ]
          },
          "metadata": {},
          "execution_count": 71
        }
      ]
    },
    {
      "cell_type": "code",
      "source": [
        "(lambda x: x**2)(3)"
      ],
      "metadata": {
        "colab": {
          "base_uri": "https://localhost:8080/"
        },
        "id": "D8rMT-CKi1ZR",
        "outputId": "084b39c0-17a5-4d23-dc55-7002b686299b"
      },
      "execution_count": 73,
      "outputs": [
        {
          "output_type": "execute_result",
          "data": {
            "text/plain": [
              "9"
            ]
          },
          "metadata": {},
          "execution_count": 73
        }
      ]
    },
    {
      "cell_type": "code",
      "source": [
        "def f(x,y):\n",
        "  return x + y\n",
        "\n",
        "print(f(1,4))"
      ],
      "metadata": {
        "colab": {
          "base_uri": "https://localhost:8080/"
        },
        "id": "9qq4W5b4i4es",
        "outputId": "c7397e7d-c7fe-43c7-d461-0f34da0be184"
      },
      "execution_count": 74,
      "outputs": [
        {
          "output_type": "stream",
          "name": "stdout",
          "text": [
            "5\n"
          ]
        }
      ]
    },
    {
      "cell_type": "code",
      "source": [
        "(lambda x,y : x+y)(3,4)"
      ],
      "metadata": {
        "colab": {
          "base_uri": "https://localhost:8080/"
        },
        "id": "QWuxHuYLjCnJ",
        "outputId": "e626b826-a1d6-4084-c768-5c1e56cc3bd4"
      },
      "execution_count": 75,
      "outputs": [
        {
          "output_type": "execute_result",
          "data": {
            "text/plain": [
              "7"
            ]
          },
          "metadata": {},
          "execution_count": 75
        }
      ]
    },
    {
      "cell_type": "code",
      "source": [
        "func = lambda x : \"*\" + str(x) + '*'\n",
        "func(\"바나나\")"
      ],
      "metadata": {
        "colab": {
          "base_uri": "https://localhost:8080/",
          "height": 35
        },
        "id": "HwzwQeEljFWL",
        "outputId": "3e250227-2685-44fa-d880-920de96586ac"
      },
      "execution_count": 76,
      "outputs": [
        {
          "output_type": "execute_result",
          "data": {
            "text/plain": [
              "'*바나나*'"
            ],
            "application/vnd.google.colaboratory.intrinsic+json": {
              "type": "string"
            }
          },
          "metadata": {},
          "execution_count": 76
        }
      ]
    },
    {
      "cell_type": "markdown",
      "source": [
        "# Map 함수\n",
        "\n",
        "lambda 함수와 가장 많이 조합되어 이용하는 함수입니다. 간단히 설명드리도록 할게요.\n",
        "\n",
        "방금 위에서 만들었던 매개변수를 제곱하여 return하는 함수를 만들어 볼겁니다. 그런데 아까 위에서 작성했던 예제는 하나의 값만 받고 하나의 값만 리턴할 수 있었죠?\n",
        "\n",
        "여러값이 들어오게 된다면 어떻게 해야할까요?"
      ],
      "metadata": {
        "id": "69oOwa0jjOL1"
      }
    },
    {
      "cell_type": "code",
      "source": [
        "def 제곱(x):\n",
        "  return x **2\n",
        "list(map(제곱, [1,2,3,4]))"
      ],
      "metadata": {
        "colab": {
          "base_uri": "https://localhost:8080/"
        },
        "id": "j53xHMygjPSp",
        "outputId": "5ac878ad-9300-41f6-c93a-d8c4af3d5865"
      },
      "execution_count": 77,
      "outputs": [
        {
          "output_type": "execute_result",
          "data": {
            "text/plain": [
              "[1, 4, 9, 16]"
            ]
          },
          "metadata": {},
          "execution_count": 77
        }
      ]
    },
    {
      "cell_type": "code",
      "source": [
        "list(map(lambda x : x**2, [1,2,3,4]))"
      ],
      "metadata": {
        "colab": {
          "base_uri": "https://localhost:8080/"
        },
        "id": "vlGm_41OjVWQ",
        "outputId": "e601fae1-90a7-49ba-f13d-a2955b87ed93"
      },
      "execution_count": 78,
      "outputs": [
        {
          "output_type": "execute_result",
          "data": {
            "text/plain": [
              "[1, 4, 9, 16]"
            ]
          },
          "metadata": {},
          "execution_count": 78
        }
      ]
    },
    {
      "cell_type": "code",
      "source": [
        "ex = [1,2,3,4,5]\n",
        "f = lambda x: x **2\n",
        "\n",
        "print(list(map(f,ex)))"
      ],
      "metadata": {
        "colab": {
          "base_uri": "https://localhost:8080/"
        },
        "id": "ZLbV0DgDjb11",
        "outputId": "f33c5ff3-3f3b-415a-a7b7-c93f631e9ff6"
      },
      "execution_count": 79,
      "outputs": [
        {
          "output_type": "stream",
          "name": "stdout",
          "text": [
            "[1, 4, 9, 16, 25]\n"
          ]
        }
      ]
    },
    {
      "cell_type": "markdown",
      "source": [
        "# 위 코드에서는 먼저 ex라는 리스트를 먼저 만들고, 입력된 값을 제곱하는 람다함수 f를 생성하였습니다.\n",
        "# 결국 Map은 mapping을 생각해보면 편한데, map(함수 이름, 리스트 데이터)라는 형태에 맞춰 함수 F에 ex의 요소를 매핑하라라는 뜻이다."
      ],
      "metadata": {
        "id": "bF8KrxKejjvk"
      }
    },
    {
      "cell_type": "markdown",
      "source": [
        "# 1.1 제너레이터 사용\n",
        "\n",
        "# 파이썬 3.x 버전부터는 반드시 list(map(f, ex)) 리스트를 꼭 붙여야 리스트 형태로 자료 붙여지게되요\n",
        "# map(f, ex) -> list(map(f, ex))\n",
        "# 제너레이터 장점은 시퀀스 자료형의 데이터를 처리할때 실행 시점의 값을 생성해서 효율적으로 메모리를 관리할 수 있게 합니다."
      ],
      "metadata": {
        "id": "j2NARP3-jmPV"
      }
    },
    {
      "cell_type": "code",
      "source": [
        "ex = [1,2,3,4,5]\n",
        "f = lambda x : x**2\n",
        "for value in map(f,ex):\n",
        "  print(value)"
      ],
      "metadata": {
        "colab": {
          "base_uri": "https://localhost:8080/"
        },
        "id": "ILA5alRAjny1",
        "outputId": "71b406a6-b876-4f29-a7a5-a8321d19939d"
      },
      "execution_count": 80,
      "outputs": [
        {
          "output_type": "stream",
          "name": "stdout",
          "text": [
            "1\n",
            "4\n",
            "9\n",
            "16\n",
            "25\n"
          ]
        }
      ]
    },
    {
      "cell_type": "code",
      "source": [
        "new_list = []\n",
        "ex = [1,2,3,4,5]\n",
        "f = lambda x : x ** 2\n",
        "for value in map(f,ex):\n",
        "  new_list.append(value)"
      ],
      "metadata": {
        "id": "dBdCt1rnjw4O"
      },
      "execution_count": 81,
      "outputs": []
    },
    {
      "cell_type": "code",
      "source": [
        "new_list"
      ],
      "metadata": {
        "colab": {
          "base_uri": "https://localhost:8080/"
        },
        "id": "bsW5GIxej7Qw",
        "outputId": "54c022c6-2c23-4d75-e03f-83532a2cc5c2"
      },
      "execution_count": 82,
      "outputs": [
        {
          "output_type": "execute_result",
          "data": {
            "text/plain": [
              "[1, 4, 9, 16, 25]"
            ]
          },
          "metadata": {},
          "execution_count": 82
        }
      ]
    },
    {
      "cell_type": "code",
      "source": [
        "ex = [1,2,3,4,5]\n",
        "f = lambda x : x ** 2\n",
        "\n",
        "print(list(map(f, ex)))"
      ],
      "metadata": {
        "colab": {
          "base_uri": "https://localhost:8080/"
        },
        "id": "RVoTKv6ij8sq",
        "outputId": "0d955668-9071-4eec-af7e-ccd843c47306"
      },
      "execution_count": 83,
      "outputs": [
        {
          "output_type": "stream",
          "name": "stdout",
          "text": [
            "[1, 4, 9, 16, 25]\n"
          ]
        }
      ]
    },
    {
      "cell_type": "code",
      "source": [
        "ex = [1,2,3,4,5]\n",
        "[x ** 2 for x in ex]"
      ],
      "metadata": {
        "colab": {
          "base_uri": "https://localhost:8080/"
        },
        "id": "-z7FUlTtkEJ-",
        "outputId": "9f9059a5-37c8-44fd-a077-64230d204854"
      },
      "execution_count": 84,
      "outputs": [
        {
          "output_type": "execute_result",
          "data": {
            "text/plain": [
              "[1, 4, 9, 16, 25]"
            ]
          },
          "metadata": {},
          "execution_count": 84
        }
      ]
    },
    {
      "cell_type": "code",
      "source": [
        "# lambda함수의 filter 기능\n",
        "# 조건문\n",
        "\n",
        "list(filter(lambda x: x>50, range(100)))"
      ],
      "metadata": {
        "colab": {
          "base_uri": "https://localhost:8080/"
        },
        "id": "pCJ3id6TkHzJ",
        "outputId": "4da60831-d27d-4158-d487-c228c7c0c9ce"
      },
      "execution_count": 85,
      "outputs": [
        {
          "output_type": "execute_result",
          "data": {
            "text/plain": [
              "[51,\n",
              " 52,\n",
              " 53,\n",
              " 54,\n",
              " 55,\n",
              " 56,\n",
              " 57,\n",
              " 58,\n",
              " 59,\n",
              " 60,\n",
              " 61,\n",
              " 62,\n",
              " 63,\n",
              " 64,\n",
              " 65,\n",
              " 66,\n",
              " 67,\n",
              " 68,\n",
              " 69,\n",
              " 70,\n",
              " 71,\n",
              " 72,\n",
              " 73,\n",
              " 74,\n",
              " 75,\n",
              " 76,\n",
              " 77,\n",
              " 78,\n",
              " 79,\n",
              " 80,\n",
              " 81,\n",
              " 82,\n",
              " 83,\n",
              " 84,\n",
              " 85,\n",
              " 86,\n",
              " 87,\n",
              " 88,\n",
              " 89,\n",
              " 90,\n",
              " 91,\n",
              " 92,\n",
              " 93,\n",
              " 94,\n",
              " 95,\n",
              " 96,\n",
              " 97,\n",
              " 98,\n",
              " 99]"
            ]
          },
          "metadata": {},
          "execution_count": 85
        }
      ]
    },
    {
      "cell_type": "code",
      "source": [
        "# map함수와 비슷하지만 자주 언급되는 reduce함수\n",
        "\n",
        "reduce함수는 map함수와 용법은 다른고, 형제같은 함수가\n",
        "reduce 함수를 모두 적용한 다음에, 모든 값을 통합하는 함수입니다.\n"
      ],
      "metadata": {
        "id": "DposQpYQkO6m"
      },
      "execution_count": null,
      "outputs": []
    },
    {
      "cell_type": "code",
      "source": [
        "from functools import reduce\n",
        "\n",
        "print(reduce(lambda x,y : x+y, [1,2,3,4,5]))\n",
        "\n",
        "#1번째 계산\n",
        "#x = 1 y = 2 결과 3\n",
        "\n",
        "#2번째 계산\n",
        "#x = 3 y = 3 결과 6\n",
        "\n",
        "#3번째 계산\n",
        "#x = 6 y = 4 결과 10\n",
        "\n",
        "#4번째 계산\n",
        "#x = 10 y = 5 결과 15"
      ],
      "metadata": {
        "colab": {
          "base_uri": "https://localhost:8080/"
        },
        "id": "UWaXYnWBjl2i",
        "outputId": "ffb3dbc4-cfd4-49f2-e16b-7d2b7d676f35"
      },
      "execution_count": 87,
      "outputs": [
        {
          "output_type": "stream",
          "name": "stdout",
          "text": [
            "15\n"
          ]
        }
      ]
    },
    {
      "cell_type": "code",
      "source": [
        "x = 0\n",
        "for y in [1,2,3,4,5]:\n",
        "  x += y\n",
        "\n",
        "print(x)"
      ],
      "metadata": {
        "colab": {
          "base_uri": "https://localhost:8080/"
        },
        "id": "tvlDFcVYkcHW",
        "outputId": "bd31eaf8-fa45-4408-9e43-25e73a6f810a"
      },
      "execution_count": 88,
      "outputs": [
        {
          "output_type": "stream",
          "name": "stdout",
          "text": [
            "15\n"
          ]
        }
      ]
    },
    {
      "cell_type": "code",
      "source": [],
      "metadata": {
        "id": "IXvrtW9ckiqC"
      },
      "execution_count": null,
      "outputs": []
    },
    {
      "cell_type": "code",
      "source": [
        "def service_price():\n",
        "  service = input('서비스의 종류를 입력하세요 기본/프리미엄/올인원')\n",
        "  valueprice = input('부가세 포함여부? y/n')\n",
        "  if valueprice == 'y':\n",
        "    if service == '기본':\n",
        "      result = 300000 * 1.1\n",
        "    elif service == '프리미엄':\n",
        "      result = 600000 * 1.1\n",
        "    elif service == '올인원':\n",
        "      result = 1000000 * 1.1\n",
        "  else:\n",
        "    print(\"비용이 발생되지 않았습니다.\")\n",
        "  print(f\"{result}만원 입니다.\")\n",
        "  #print(f\"{round(result,1)}만원입니다.)"
      ],
      "metadata": {
        "id": "pOnkh3NUkaz1"
      },
      "execution_count": null,
      "outputs": []
    },
    {
      "cell_type": "code",
      "source": [
        "##########################################\n",
        "# 스페이스 어드벤처 게임\n",
        "# 벤 & 쉬무엘 만듦\n",
        "##########################################\n",
        " \n",
        "# 플레이어 환영 메시지\n",
        "def doWelcome():\n",
        "    # 텍스트 출력하기\n",
        "    print(\"탐험가 여러분을 환영합니다!\")\n",
        "    print(\"혼란스러운 상태에서 잠을 깬 여러분은 아무것도 떠오르지 않습니다.\")\n",
        "    print(\"방문까지 겨우 기어가 손잡이를 돌렸더니 문이 열립니다.\")\n",
        "    print(\"밖으로 나가 봐도 모든 것이 낯설기만 합니다.\")\n",
        "    print(\"바깥 풍경은 척박하고 황량한 붉은 흙만이 흩날릴 뿐입니다.\")\n",
        "    print(\"우주복을 입은 자신을 발견하곤 모든 것이 궁금해집니다.\")\n",
        " \n",
        "# 장소: 출발점\n",
        "def doStart():\n",
        "    # 텍스트 출력하기\n",
        "    print(\"주위를 둘러봐도 붉은 사막과 바위 더미와 먼지뿐입니다.\")\n",
        "    print(\"여러분 앞에는 이상하게 생긴 팔각형 구조물이 있습니다.\")\n",
        "    print(\"가까이 가니 삐 소리가 들립니다. 그리곤 멈춥니다. 아니, 계속됩니다.\")\n",
        "    # 플레이어 행동 선택 프롬프트\n",
        "    choice = \" \"\n",
        "    while not choice in \"PSBR\":\n",
        "        print(\"여러분이 할 수 있는 일:\")\n",
        "        print(\"P = 바위 더미를 조사한다\")\n",
        "        print(\"S = 구조물에 접근한다\")\n",
        "        print(\"B = 삐 소리가 나는 곳으로 간다\")\n",
        "        print(\"R = 도망간다!\")\n",
        "        choice = input(\"무엇을 하고 싶으세요? [P/S/B/R]\").strip().upper()\n",
        "    # 행동 실행하기\n",
        "    if choice == 'P':\n",
        "        doBoulders()\n",
        "    elif choice == 'S':\n",
        "        doStructure()\n",
        "    elif choice == 'B':\n",
        "        doBeeping()\n",
        "    elif choice == 'R':\n",
        "        doRun()\n",
        "\n",
        "# 장소: 바위 더미\n",
        "# 인벤토리 시스템 구현용 개발자 메모 \n",
        "# 이곳이 열쇠가 숨겨진 장소가 됩니다.\n",
        "def doBoulders():\n",
        "    # 텍스트 출력하기\n",
        "    print(\"정말인가요? 그건 바위 더미입니다.\")\n",
        "    print(\"크고 무겁고 단순한 바위입니다.\")\n",
        "    # 시작 위치로 돌아가기\n",
        "    doStart()\n",
        "\n",
        "# 장소: 구조물\n",
        "def doStructure():\n",
        "    # 텍스트 출력하기\n",
        "    print(\"여러분은 이상한 구조물을 조사합니다.\")\n",
        "    print(\"안에서는 오싹하면서도 기이한 소리가 들립니다.\")\n",
        "    print(\"문도 없고 창문도 없습니다.\")\n",
        "    print(\"아니, 문처럼 보여서 한번 열어 보려고 합니다.\")\n",
        "    print(\"그리고 삐 소리가 들립니다. 어디서 나는 소리일까요?\")\n",
        "    # 플레이어 행동 선택 프롬프트\n",
        "    choice = \" \"\n",
        "    while not choice in \"SDBR\":\n",
        "        print(\"여러분이 할 수 있는 일:\")\n",
        "        print(\"S = 시작 지점으로 돌아간다\")\n",
        "        print(\"D = 문을 연다\")\n",
        "        print(\"B = 삐 소리가 나는 곳으로 간다\")\n",
        "        print(\"R = 도망간다!\")\n",
        "        choice = input(\"무엇을 하고 싶으세요? [S/D/B/R]\").strip().upper()\n",
        "    # 행동 실행하기\n",
        "    if choice == 'S':\n",
        "        doStart()\n",
        "    elif choice == 'D':\n",
        "        doStructureDoor()\n",
        "    elif choice == 'B':\n",
        "        doBeeping()\n",
        "    elif choice == 'R':\n",
        "        doRun()\n",
        " \n",
        "# 장소: 구조물 입구\n",
        "# 인벤토리 시스템 구현용 개발자 메모 \n",
        "# 열쇠가 있을 때만 열 수 있습니다.\n",
        "def doStructureDoor():\n",
        "    # 텍스트 출력하기\n",
        "    print(\"문은 잠긴 듯합니다.\")\n",
        "    print(\"둥근 구멍이 보입니다. 열쇠 구멍일까요?\")\n",
        "    print(\"그쪽으로 손을 내밀지만 파란빛이 번쩍이며 닫혀 버립니다!\")\n",
        "    print(\"계획한 대로는 잘 안 되는군요.\")\n",
        "    # 플레이어 행동 선택 프롬프트\n",
        "    choice = \" \"\n",
        "    while not choice in \"SR\":\n",
        "        print(\"여러분이 할 수 있는 일:\")\n",
        "        print(\"S = 구조물로 돌아간다\")\n",
        "        print(\"R = 도망간다!\")\n",
        "        choice = input(\"무엇을 하고 싶으세요? [S/R]\").strip().upper()\n",
        "    # 행동 실행하기\n",
        "    if choice == 'S':\n",
        "        doStructure()\n",
        "    elif choice == 'R':\n",
        "        doRun()\n",
        " \n",
        "# 장소: 삐 소리 탐색하기\n",
        "def doBeeping():\n",
        "    pass\n",
        " \n",
        "# 플레이어가 도망가기를 선택하기\n",
        "def doRun():\n",
        "    # 텍스트 출력하기\n",
        "    print(\"한동안 달립니다.\")\n",
        "    print(\"그리곤 허공에 뜬 자신을 발견합니다. 아래로, 아래로, 아래로.\")\n",
        "    print(\"아주 깊은 골짜기로 떨어지며 다시는 빛을 보지 못하리라는 생각이 듭니다.\")\n",
        "    print(\"그리 용감한 행동은 아니었네요. 그렇죠?\")\n",
        "    # 사망, 게임 끝내기\n",
        "    gameOver()\n",
        "\n",
        "# 게임 끝내기\n",
        "def gameOver():\n",
        "    print(\"게임 오버!\")\n",
        " \n",
        "# 실제 게임 시작은 이곳에서\n",
        "# 환영 메시지 출력하기\n",
        "doWelcome()\n",
        "# 게임 시작하기\n",
        "doStart()"
      ],
      "metadata": {
        "id": "w2Xe_sGQjiIh"
      },
      "execution_count": null,
      "outputs": []
    },
    {
      "cell_type": "code",
      "source": [],
      "metadata": {
        "id": "ErF3Jd9YjMx9"
      },
      "execution_count": null,
      "outputs": []
    },
    {
      "cell_type": "code",
      "source": [],
      "metadata": {
        "id": "mKgqzAaKikhr"
      },
      "execution_count": null,
      "outputs": []
    },
    {
      "cell_type": "code",
      "source": [],
      "metadata": {
        "id": "7cdArAwUg_nQ"
      },
      "execution_count": null,
      "outputs": []
    },
    {
      "cell_type": "code",
      "source": [],
      "metadata": {
        "id": "LZa44XOFfwHM"
      },
      "execution_count": null,
      "outputs": []
    },
    {
      "cell_type": "code",
      "source": [],
      "metadata": {
        "id": "NiUbedFKfu4Q"
      },
      "execution_count": null,
      "outputs": []
    },
    {
      "cell_type": "code",
      "source": [],
      "metadata": {
        "id": "VJSR2ga4aP68"
      },
      "execution_count": null,
      "outputs": []
    },
    {
      "cell_type": "code",
      "source": [],
      "metadata": {
        "id": "9w7apefwZpmY"
      },
      "execution_count": null,
      "outputs": []
    },
    {
      "cell_type": "code",
      "source": [],
      "metadata": {
        "id": "TwohOjqiUnHd"
      },
      "execution_count": null,
      "outputs": []
    },
    {
      "cell_type": "code",
      "source": [],
      "metadata": {
        "id": "U6bv_O0FUlw6"
      },
      "execution_count": null,
      "outputs": []
    },
    {
      "cell_type": "code",
      "source": [],
      "metadata": {
        "id": "TQD00SPBUYxi"
      },
      "execution_count": null,
      "outputs": []
    },
    {
      "cell_type": "code",
      "source": [],
      "metadata": {
        "id": "abpPRW-DUUVo"
      },
      "execution_count": null,
      "outputs": []
    },
    {
      "cell_type": "code",
      "source": [],
      "metadata": {
        "id": "jM0d-_yyRlGs"
      },
      "execution_count": null,
      "outputs": []
    },
    {
      "cell_type": "code",
      "source": [],
      "metadata": {
        "id": "GwiYhPacRZKf"
      },
      "execution_count": null,
      "outputs": []
    },
    {
      "cell_type": "code",
      "source": [],
      "metadata": {
        "id": "YqSGBGrBRS7u"
      },
      "execution_count": null,
      "outputs": []
    },
    {
      "cell_type": "code",
      "source": [],
      "metadata": {
        "id": "-XenSgfwRElW"
      },
      "execution_count": null,
      "outputs": []
    }
  ]
}